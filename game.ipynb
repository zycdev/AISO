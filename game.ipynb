{
 "cells": [
  {
   "cell_type": "markdown",
   "metadata": {
    "heading_collapsed": "true",
    "tags": []
   },
   "source": [
    "# Set seed and logger"
   ]
  },
  {
   "cell_type": "code",
   "execution_count": 1,
   "metadata": {},
   "outputs": [
    {
     "name": "stdout",
     "output_type": "stream",
     "text": [
      "env: CUDA_VISIBLE_DEVICES=0\n"
     ]
    }
   ],
   "source": [
    "%load_ext autoreload\n",
    "%autoreload 2\n",
    "%env CUDA_VISIBLE_DEVICES=0"
   ]
  },
  {
   "cell_type": "code",
   "execution_count": 2,
   "metadata": {},
   "outputs": [],
   "source": [
    "import logging\n",
    "import os\n",
    "import random\n",
    "import re\n",
    "import numpy as np\n",
    "import torch\n",
    "\n",
    "def set_seed(seed):\n",
    "    os.environ['PYTHONHASHSEED'] = str(seed)\n",
    "    \n",
    "    random.seed(seed)\n",
    "    \n",
    "    np.random.seed(seed)\n",
    "    \n",
    "    torch.manual_seed(seed)\n",
    "    torch.cuda.manual_seed(seed)\n",
    "    torch.cuda.manual_seed_all(seed) # if you are using multi-GPU.\n",
    "    torch.backends.cudnn.benchmark = False\n",
    "    torch.backends.cudnn.deterministic = True\n",
    "\n",
    "def set_global_logging_level(level=logging.ERROR, prefixes=(\"\",)):\n",
    "    \"\"\"\n",
    "    Override logging levels of different modules based on their name as a prefix.\n",
    "    It needs to be invoked after the modules have been loaded so that their loggers have been initialized.\n",
    "\n",
    "    Args:\n",
    "        level: desired level. Optional. Default is logging.ERROR\n",
    "        prefixes: list of one or more str prefixes to match (e.g. [\"transformers\", \"torch\"]). Optional.\n",
    "            Default is `[\"\"]` to match all active loggers.\n",
    "            The match is a case-sensitive `module_name.startswith(prefix)`\n",
    "    \"\"\"\n",
    "    prefix_re = re.compile(fr'^(?:{\"|\".join(prefixes)})')\n",
    "    for name in logging.root.manager.loggerDict:\n",
    "        if re.match(prefix_re, name):\n",
    "            logging.getLogger(name).setLevel(level)"
   ]
  },
  {
   "cell_type": "code",
   "execution_count": 3,
   "metadata": {},
   "outputs": [],
   "source": [
    "# logger = logging.getLogger()\n",
    "# logger.setLevel(logging.INFO)\n",
    "# if logger.hasHandlers():\n",
    "#     logger.handlers.clear()\n",
    "# console = logging.StreamHandler()\n",
    "# logger.addHandler(console)\n",
    "\n",
    "logging.basicConfig(\n",
    "    format='[%(asctime)s %(levelname)s %(name)s] %(message)s', datefmt='%m/%d %H:%M:%S',\n",
    "    level=logging.INFO\n",
    ")\n",
    "set_global_logging_level(logging.WARNING, [\"elasticsearch\"])\n",
    "\n",
    "set_seed(0)"
   ]
  },
  {
   "cell_type": "markdown",
   "metadata": {
    "heading_collapsed": "true",
    "tags": []
   },
   "source": [
    "# Load examples"
   ]
  },
  {
   "cell_type": "code",
   "execution_count": 4,
   "metadata": {},
   "outputs": [
    {
     "name": "stdout",
     "output_type": "stream",
     "text": [
      "7405\n"
     ]
    }
   ],
   "source": [
    "import json\n",
    "\n",
    "split = 'dev'\n",
    "samples = []\n",
    "with open(f\"data/hotpot-{split}.tsv\") as f:\n",
    "    for line in f:\n",
    "        if split == 'test':\n",
    "            q_id, question = line.strip().split('\\t')\n",
    "            samples.append((q_id, (question,)))\n",
    "        else:\n",
    "            q_id, question, answer, sp_facts = line.strip().split('\\t')\n",
    "            sp_facts = json.loads(sp_facts)\n",
    "            samples.append((q_id, (question, answer, sp_facts)))\n",
    "print(len(samples))"
   ]
  },
  {
   "cell_type": "code",
   "execution_count": 5,
   "metadata": {},
   "outputs": [
    {
     "name": "stdout",
     "output_type": "stream",
     "text": [
      "7405\n",
      "7405\n"
     ]
    }
   ],
   "source": [
    "if split == 'test':\n",
    "    gold_qas_map = None\n",
    "    gold_samples = None\n",
    "    gold_state2action = None\n",
    "else:\n",
    "    gold_qas_map = dict(samples)\n",
    "    with open('data/HotpotQA/hotpot_dev_fullwiki_v1.json') as f:\n",
    "        gold_samples = json.load(f)\n",
    "    print(len(gold_samples))\n",
    "    gold_state2action = dict()\n",
    "    with open('data/hotpot-step-dev.strict.refined.jsonl') as f:\n",
    "        for line in f:\n",
    "            example = json.loads(line)\n",
    "            gold_state2action[example['_id']] = example['state2action']\n",
    "    print(len(gold_state2action))"
   ]
  },
  {
   "cell_type": "markdown",
   "metadata": {
    "heading_collapsed": "true",
    "tags": []
   },
   "source": [
    "# Load sparse query generator"
   ]
  },
  {
   "cell_type": "code",
   "execution_count": 6,
   "metadata": {},
   "outputs": [
    {
     "name": "stderr",
     "output_type": "stream",
     "text": [
      "[06/11 00:45:32 INFO transformers.file_utils] PyTorch version 1.4.0 available.\n",
      "[06/11 00:45:33 INFO faiss.loader] Loading faiss with AVX2 support.\n",
      "[06/11 00:45:33 INFO faiss.loader] Loading faiss.\n"
     ]
    }
   ],
   "source": [
    "from retriever import SparseRetriever\n",
    "\n",
    "sparse_retriever = SparseRetriever('enwiki-20171001-paragraph-5', ['10.60.0.59:9200'], max_retries=3, timeout=30)"
   ]
  },
  {
   "cell_type": "code",
   "execution_count": 7,
   "metadata": {
    "scrolled": true
   },
   "outputs": [
    {
     "name": "stderr",
     "output_type": "stream",
     "text": [
      "[06/11 00:45:34 INFO drqa.reader.predictor] Initializing model...\n",
      "[06/11 00:45:34 INFO drqa.reader.model] Loading model ckpts/golden-retriever/hop1.mdl\n",
      "[06/11 00:45:34 INFO drqa.reader.predictor] Expanding dictionary...\n",
      "[06/11 00:46:22 INFO drqa.reader.model] Adding 2115762 new words to dictionary...\n",
      "[06/11 00:46:25 INFO drqa.reader.model] New vocab size: 2195963\n",
      "[06/11 00:46:35 INFO drqa.reader.model] Loading pre-trained embeddings for 2115762 words from data/glove.840B.300d.txt\n",
      "[06/11 00:46:45 WARNING root] WARN: Duplicate embedding found for ����������������������������������������������������������������������������������������������������������������������������������������������������������������������������������������������������������������������������������������������������������������������������������������������������������������������������������������������\n",
      "[06/11 00:46:51 WARNING root] WARN: Duplicate embedding found for Kṛṣṇa\n",
      "[06/11 00:47:26 WARNING root] WARN: Duplicate embedding found for Decisión\n",
      "[06/11 00:47:33 WARNING root] WARN: Duplicate embedding found for decisión\n",
      "[06/11 00:47:47 WARNING root] WARN: Duplicate embedding found for Viṣṇu\n",
      "[06/11 00:47:49 WARNING root] WARN: Duplicate embedding found for Justiça\n",
      "[06/11 00:47:49 WARNING root] WARN: Duplicate embedding found for Acórdão\n",
      "[06/11 00:47:54 WARNING root] WARN: Duplicate embedding found for ̲̅̅\n",
      "[06/11 00:48:00 WARNING root] WARN: Duplicate embedding found for Câmara\n",
      "[06/11 00:48:04 WARNING root] WARN: Duplicate embedding found for brāhmaṇa\n",
      "[06/11 00:48:13 WARNING root] WARN: Duplicate embedding found for Extensión\n",
      "[06/11 00:48:14 WARNING root] WARN: Duplicate embedding found for Cível\n",
      "[06/11 00:48:18 WARNING root] WARN: Duplicate embedding found for brāhmaṇas\n",
      "[06/11 00:48:19 WARNING root] WARN: Duplicate embedding found for Vṛndāvana\n",
      "[06/11 00:48:32 WARNING root] WARN: Duplicate embedding found for Cañon\n",
      "[06/11 00:48:38 WARNING root] WARN: Duplicate embedding found for Arrêté\n",
      "[06/11 00:48:51 WARNING root] WARN: Duplicate embedding found for kΩ\n",
      "[06/11 00:48:55 WARNING root] WARN: Duplicate embedding found for Córdova\n",
      "[06/11 00:48:55 WARNING root] WARN: Duplicate embedding found for justiça\n",
      "[06/11 00:48:58 WARNING root] WARN: Duplicate embedding found for acórdão\n",
      "[06/11 00:49:03 WARNING root] WARN: Duplicate embedding found for Ṭhākura\n",
      "[06/11 00:49:05 WARNING root] WARN: Duplicate embedding found for États\n",
      "[06/11 00:49:08 WARNING root] WARN: Duplicate embedding found for Nārāyaṇa\n",
      "[06/11 00:49:09 WARNING root] WARN: Duplicate embedding found for Resolución\n",
      "[06/11 00:49:10 WARNING root] WARN: Duplicate embedding found for extensión\n",
      "[06/11 00:49:13 WARNING root] WARN: Duplicate embedding found for ʹ\n",
      "[06/11 00:49:15 WARNING root] WARN: Duplicate embedding found for Vaiṣṇava\n",
      "[06/11 00:49:16 WARNING root] WARN: Duplicate embedding found for của\n",
      "[06/11 00:49:22 WARNING root] WARN: Duplicate embedding found for câmara\n",
      "[06/11 00:49:25 WARNING root] WARN: Duplicate embedding found for Região\n",
      "[06/11 00:49:25 WARNING root] WARN: Duplicate embedding found for siècle\n",
      "[06/11 00:49:27 WARNING root] WARN: Duplicate embedding found for Parīkṣit\n",
      "[06/11 00:49:36 WARNING root] WARN: Duplicate embedding found for Décima\n",
      "[06/11 00:49:47 WARNING root] WARN: Duplicate embedding found for mΩ\n",
      "[06/11 00:49:47 WARNING root] WARN: Duplicate embedding found for Protección\n",
      "[06/11 00:49:48 WARNING root] WARN: Duplicate embedding found for cível\n",
      "[06/11 00:49:53 WARNING root] WARN: Duplicate embedding found for Miró\n",
      "[06/11 00:50:05 WARNING root] WARN: Duplicate embedding found for MΩ\n",
      "[06/11 00:50:06 WARNING root] WARN: Duplicate embedding found for arrêté\n",
      "[06/11 00:50:11 WARNING root] WARN: Duplicate embedding found for Tháng\n",
      "[06/11 00:50:36 INFO drqa.reader.model] Loaded 2115762 embeddings (100.00%)\n",
      "[06/11 00:50:37 INFO drqa.reader.predictor] Initializing tokenizer...\n",
      "[06/11 00:50:50 INFO drqa.reader.predictor] Initializing model...\n",
      "[06/11 00:50:50 INFO drqa.reader.model] Loading model ckpts/golden-retriever/hop2.mdl\n",
      "[06/11 00:50:52 INFO drqa.reader.predictor] Expanding dictionary...\n",
      "[06/11 00:51:39 INFO drqa.reader.model] Adding 1892506 new words to dictionary...\n",
      "[06/11 00:51:41 INFO drqa.reader.model] New vocab size: 2195963\n",
      "[06/11 00:51:50 INFO drqa.reader.model] Loading pre-trained embeddings for 1892506 words from data/glove.840B.300d.txt\n",
      "[06/11 00:51:56 WARNING root] WARN: Duplicate embedding found for ����������������������������������������������������������������������������������������������������������������������������������������������������������������������������������������������������������������������������������������������������������������������������������������������������������������������������������������������\n",
      "[06/11 00:52:30 WARNING root] WARN: Duplicate embedding found for Decisión\n",
      "[06/11 00:52:36 WARNING root] WARN: Duplicate embedding found for decisión\n",
      "[06/11 00:52:51 WARNING root] WARN: Duplicate embedding found for Acórdão\n",
      "[06/11 00:52:56 WARNING root] WARN: Duplicate embedding found for ̲̅̅\n",
      "[06/11 00:53:05 WARNING root] WARN: Duplicate embedding found for brāhmaṇa\n",
      "[06/11 00:53:14 WARNING root] WARN: Duplicate embedding found for Extensión\n",
      "[06/11 00:53:15 WARNING root] WARN: Duplicate embedding found for Cível\n",
      "[06/11 00:53:19 WARNING root] WARN: Duplicate embedding found for brāhmaṇas\n",
      "[06/11 00:53:20 WARNING root] WARN: Duplicate embedding found for Vṛndāvana\n",
      "[06/11 00:53:51 WARNING root] WARN: Duplicate embedding found for kΩ\n",
      "[06/11 00:53:55 WARNING root] WARN: Duplicate embedding found for justiça\n",
      "[06/11 00:53:58 WARNING root] WARN: Duplicate embedding found for acórdão\n",
      "[06/11 00:54:04 WARNING root] WARN: Duplicate embedding found for Ṭhākura\n",
      "[06/11 00:54:09 WARNING root] WARN: Duplicate embedding found for Resolución\n",
      "[06/11 00:54:10 WARNING root] WARN: Duplicate embedding found for extensión\n",
      "[06/11 00:54:14 WARNING root] WARN: Duplicate embedding found for ʹ\n",
      "[06/11 00:54:28 WARNING root] WARN: Duplicate embedding found for Parīkṣit\n",
      "[06/11 00:54:47 WARNING root] WARN: Duplicate embedding found for mΩ\n",
      "[06/11 00:54:48 WARNING root] WARN: Duplicate embedding found for cível\n",
      "[06/11 00:55:05 WARNING root] WARN: Duplicate embedding found for MΩ\n",
      "[06/11 00:55:07 WARNING root] WARN: Duplicate embedding found for arrêté\n",
      "[06/11 00:55:11 WARNING root] WARN: Duplicate embedding found for Tháng\n",
      "[06/11 00:55:34 INFO drqa.reader.model] Loaded 1892506 embeddings (100.00%)\n",
      "[06/11 00:55:34 INFO drqa.reader.predictor] Initializing tokenizer...\n"
     ]
    },
    {
     "data": {
      "text/plain": [
       "RnnDocReader(\n",
       "  (embedding): Embedding(2195963, 300, padding_idx=0)\n",
       "  (qemb_match): SeqAttnMatch(\n",
       "    (linear): Linear(in_features=300, out_features=300, bias=True)\n",
       "  )\n",
       "  (doc_rnn): StackedBRNN(\n",
       "    (rnns): ModuleList(\n",
       "      (0): LSTM(662, 128, bidirectional=True)\n",
       "      (1): LSTM(256, 128, bidirectional=True)\n",
       "      (2): LSTM(256, 128, bidirectional=True)\n",
       "    )\n",
       "  )\n",
       "  (question_rnn): StackedBRNN(\n",
       "    (rnns): ModuleList(\n",
       "      (0): LSTM(300, 128, bidirectional=True)\n",
       "      (1): LSTM(256, 128, bidirectional=True)\n",
       "      (2): LSTM(256, 128, bidirectional=True)\n",
       "    )\n",
       "  )\n",
       "  (self_attn): LinearSeqAttn(\n",
       "    (linear): Linear(in_features=768, out_features=1, bias=True)\n",
       "  )\n",
       "  (start_attn): BilinearSeqAttn(\n",
       "    (linear): Linear(in_features=768, out_features=768, bias=True)\n",
       "  )\n",
       "  (end_attn): BilinearSeqAttn(\n",
       "    (linear): Linear(in_features=768, out_features=768, bias=True)\n",
       "  )\n",
       ")"
      ]
     },
     "execution_count": 7,
     "metadata": {},
     "output_type": "execute_result"
    }
   ],
   "source": [
    "# %env CLASSPATH=corenlp/*\n",
    "from drqa.reader import Predictor\n",
    "import warnings\n",
    "\n",
    "warnings.filterwarnings(\"ignore\")\n",
    "\n",
    "# import os\n",
    "# os.environ['CLASSPATH'] = 'corenlp/*'\n",
    "\n",
    "qg1 = Predictor(model='ckpts/golden-retriever/hop1.mdl', tokenizer=None, embedding_file='data/glove.840B.300d.txt', num_workers=-1)\n",
    "qg1.cuda()\n",
    "qg1.model.network.to(torch.device('cuda:0'))\n",
    "qg2 = Predictor(model='ckpts/golden-retriever/hop2.mdl', tokenizer=None, embedding_file='data/glove.840B.300d.txt', num_workers=-1)\n",
    "qg2.cuda()\n",
    "qg2.model.network.to(torch.device('cuda:0'))"
   ]
  },
  {
   "cell_type": "markdown",
   "metadata": {
    "heading_collapsed": "true",
    "tags": []
   },
   "source": [
    "# Load dense indexer and dense encoder"
   ]
  },
  {
   "cell_type": "code",
   "execution_count": 8,
   "metadata": {},
   "outputs": [],
   "source": [
    "import faiss\n",
    "faiss.omp_set_num_threads(16)"
   ]
  },
  {
   "cell_type": "code",
   "execution_count": 9,
   "metadata": {},
   "outputs": [],
   "source": [
    "from argparse import Namespace\n",
    "\n",
    "args = Namespace(**{\n",
    "    \"model_name\": \"roberta-base\",\n",
    "    \"model_path\": \"ckpts/mdr/q_encoder.pt\",\n",
    "    \"index_prefix_path\": \"data/index/mdr/hotpot-paragraph-q-strict\",  # .hnsw\n",
    "    \"index_buffer_size\": 50000,\n",
    "    \"max_q_len\": 70,\n",
    "    \"max_q_sp_len\": 350\n",
    "})"
   ]
  },
  {
   "cell_type": "code",
   "execution_count": 10,
   "metadata": {
    "scrolled": true
   },
   "outputs": [
    {
     "name": "stderr",
     "output_type": "stream",
     "text": [
      "[06/11 00:55:46 INFO transformers.configuration_utils] loading configuration file https://s3.amazonaws.com/models.huggingface.co/bert/roberta-base-config.json from cache at /home/shenhuawei/.cache/torch/transformers/e1a2a406b5a05063c31f4dfdee7608986ba7c6393f7f79db5e69dcd197208534.117c81977c5979de8c088352e74ec6e70f5c66096c28b61d3c50101609b39690\n",
      "[06/11 00:55:46 INFO transformers.configuration_utils] Model config RobertaConfig {\n",
      "  \"architectures\": [\n",
      "    \"RobertaForMaskedLM\"\n",
      "  ],\n",
      "  \"attention_probs_dropout_prob\": 0.1,\n",
      "  \"bos_token_id\": 0,\n",
      "  \"eos_token_id\": 2,\n",
      "  \"gradient_checkpointing\": false,\n",
      "  \"hidden_act\": \"gelu\",\n",
      "  \"hidden_dropout_prob\": 0.1,\n",
      "  \"hidden_size\": 768,\n",
      "  \"initializer_range\": 0.02,\n",
      "  \"intermediate_size\": 3072,\n",
      "  \"layer_norm_eps\": 1e-05,\n",
      "  \"max_position_embeddings\": 514,\n",
      "  \"model_type\": \"roberta\",\n",
      "  \"num_attention_heads\": 12,\n",
      "  \"num_hidden_layers\": 12,\n",
      "  \"pad_token_id\": 1,\n",
      "  \"type_vocab_size\": 1,\n",
      "  \"vocab_size\": 50265\n",
      "}\n",
      "\n",
      "[06/11 00:55:48 INFO transformers.configuration_utils] loading configuration file https://s3.amazonaws.com/models.huggingface.co/bert/roberta-base-config.json from cache at /home/shenhuawei/.cache/torch/transformers/e1a2a406b5a05063c31f4dfdee7608986ba7c6393f7f79db5e69dcd197208534.117c81977c5979de8c088352e74ec6e70f5c66096c28b61d3c50101609b39690\n",
      "[06/11 00:55:48 INFO transformers.configuration_utils] Model config RobertaConfig {\n",
      "  \"architectures\": [\n",
      "    \"RobertaForMaskedLM\"\n",
      "  ],\n",
      "  \"attention_probs_dropout_prob\": 0.1,\n",
      "  \"bos_token_id\": 0,\n",
      "  \"eos_token_id\": 2,\n",
      "  \"gradient_checkpointing\": false,\n",
      "  \"hidden_act\": \"gelu\",\n",
      "  \"hidden_dropout_prob\": 0.1,\n",
      "  \"hidden_size\": 768,\n",
      "  \"initializer_range\": 0.02,\n",
      "  \"intermediate_size\": 3072,\n",
      "  \"layer_norm_eps\": 1e-05,\n",
      "  \"max_position_embeddings\": 514,\n",
      "  \"model_type\": \"roberta\",\n",
      "  \"num_attention_heads\": 12,\n",
      "  \"num_hidden_layers\": 12,\n",
      "  \"pad_token_id\": 1,\n",
      "  \"type_vocab_size\": 1,\n",
      "  \"vocab_size\": 50265\n",
      "}\n",
      "\n",
      "[06/11 00:55:54 INFO transformers.tokenization_utils_base] loading file https://s3.amazonaws.com/models.huggingface.co/bert/roberta-base-vocab.json from cache at /home/shenhuawei/.cache/torch/transformers/d0c5776499adc1ded22493fae699da0971c1ee4c2587111707a4d177d20257a2.ef00af9e673c7160b4d41cfda1f48c5f4cba57d5142754525572a846a1ab1b9b\n",
      "[06/11 00:55:54 INFO transformers.tokenization_utils_base] loading file https://s3.amazonaws.com/models.huggingface.co/bert/roberta-base-merges.txt from cache at /home/shenhuawei/.cache/torch/transformers/b35e7cd126cd4229a746b5d5c29a749e8e84438b14bcdb575950584fe33207e8.70bec105b4158ed9a1747fea67a43f5dee97855c64d62b6ec3742f4cfdb5feda\n",
      "[06/11 00:55:57 INFO transformers.configuration_utils] loading configuration file https://s3.amazonaws.com/models.huggingface.co/bert/roberta-base-config.json from cache at /home/shenhuawei/.cache/torch/transformers/e1a2a406b5a05063c31f4dfdee7608986ba7c6393f7f79db5e69dcd197208534.117c81977c5979de8c088352e74ec6e70f5c66096c28b61d3c50101609b39690\n",
      "[06/11 00:55:57 INFO transformers.configuration_utils] Model config RobertaConfig {\n",
      "  \"architectures\": [\n",
      "    \"RobertaForMaskedLM\"\n",
      "  ],\n",
      "  \"attention_probs_dropout_prob\": 0.1,\n",
      "  \"bos_token_id\": 0,\n",
      "  \"eos_token_id\": 2,\n",
      "  \"gradient_checkpointing\": false,\n",
      "  \"hidden_act\": \"gelu\",\n",
      "  \"hidden_dropout_prob\": 0.1,\n",
      "  \"hidden_size\": 768,\n",
      "  \"initializer_range\": 0.02,\n",
      "  \"intermediate_size\": 3072,\n",
      "  \"layer_norm_eps\": 1e-05,\n",
      "  \"max_position_embeddings\": 514,\n",
      "  \"model_type\": \"roberta\",\n",
      "  \"num_attention_heads\": 12,\n",
      "  \"num_hidden_layers\": 12,\n",
      "  \"pad_token_id\": 1,\n",
      "  \"type_vocab_size\": 1,\n",
      "  \"vocab_size\": 50265\n",
      "}\n",
      "\n",
      "[06/11 00:56:00 INFO transformers.modeling_utils] loading weights file https://cdn.huggingface.co/roberta-base-pytorch_model.bin from cache at /home/shenhuawei/.cache/torch/transformers/80b4a484eddeb259bec2f06a6f2f05d90934111628e0e1c09a33bd4a121358e1.49b88ba7ec2c26a7558dda98ca3884c3b80fa31cf43a1b1f23aef3ff81ba344e\n",
      "[06/11 00:56:05 INFO transformers.modeling_utils] All model checkpoint weights were used when initializing RobertaModel.\n",
      "\n",
      "[06/11 00:56:05 INFO transformers.modeling_utils] All the weights of RobertaModel were initialized from the model checkpoint at roberta-base.\n",
      "If your task is similar to the task the model of the ckeckpoint was trained on, you can already use RobertaModel for predictions without further training.\n"
     ]
    },
    {
     "data": {
      "text/plain": [
       "RobertaCtxEncoder(\n",
       "  (encoder): RobertaModel(\n",
       "    (embeddings): RobertaEmbeddings(\n",
       "      (word_embeddings): Embedding(50265, 768, padding_idx=1)\n",
       "      (position_embeddings): Embedding(514, 768, padding_idx=1)\n",
       "      (token_type_embeddings): Embedding(1, 768)\n",
       "      (LayerNorm): LayerNorm((768,), eps=1e-05, elementwise_affine=True)\n",
       "      (dropout): Dropout(p=0.1, inplace=False)\n",
       "    )\n",
       "    (encoder): BertEncoder(\n",
       "      (layer): ModuleList(\n",
       "        (0): BertLayer(\n",
       "          (attention): BertAttention(\n",
       "            (self): BertSelfAttention(\n",
       "              (query): Linear(in_features=768, out_features=768, bias=True)\n",
       "              (key): Linear(in_features=768, out_features=768, bias=True)\n",
       "              (value): Linear(in_features=768, out_features=768, bias=True)\n",
       "              (dropout): Dropout(p=0.1, inplace=False)\n",
       "            )\n",
       "            (output): BertSelfOutput(\n",
       "              (dense): Linear(in_features=768, out_features=768, bias=True)\n",
       "              (LayerNorm): LayerNorm((768,), eps=1e-05, elementwise_affine=True)\n",
       "              (dropout): Dropout(p=0.1, inplace=False)\n",
       "            )\n",
       "          )\n",
       "          (intermediate): BertIntermediate(\n",
       "            (dense): Linear(in_features=768, out_features=3072, bias=True)\n",
       "          )\n",
       "          (output): BertOutput(\n",
       "            (dense): Linear(in_features=3072, out_features=768, bias=True)\n",
       "            (LayerNorm): LayerNorm((768,), eps=1e-05, elementwise_affine=True)\n",
       "            (dropout): Dropout(p=0.1, inplace=False)\n",
       "          )\n",
       "        )\n",
       "        (1): BertLayer(\n",
       "          (attention): BertAttention(\n",
       "            (self): BertSelfAttention(\n",
       "              (query): Linear(in_features=768, out_features=768, bias=True)\n",
       "              (key): Linear(in_features=768, out_features=768, bias=True)\n",
       "              (value): Linear(in_features=768, out_features=768, bias=True)\n",
       "              (dropout): Dropout(p=0.1, inplace=False)\n",
       "            )\n",
       "            (output): BertSelfOutput(\n",
       "              (dense): Linear(in_features=768, out_features=768, bias=True)\n",
       "              (LayerNorm): LayerNorm((768,), eps=1e-05, elementwise_affine=True)\n",
       "              (dropout): Dropout(p=0.1, inplace=False)\n",
       "            )\n",
       "          )\n",
       "          (intermediate): BertIntermediate(\n",
       "            (dense): Linear(in_features=768, out_features=3072, bias=True)\n",
       "          )\n",
       "          (output): BertOutput(\n",
       "            (dense): Linear(in_features=3072, out_features=768, bias=True)\n",
       "            (LayerNorm): LayerNorm((768,), eps=1e-05, elementwise_affine=True)\n",
       "            (dropout): Dropout(p=0.1, inplace=False)\n",
       "          )\n",
       "        )\n",
       "        (2): BertLayer(\n",
       "          (attention): BertAttention(\n",
       "            (self): BertSelfAttention(\n",
       "              (query): Linear(in_features=768, out_features=768, bias=True)\n",
       "              (key): Linear(in_features=768, out_features=768, bias=True)\n",
       "              (value): Linear(in_features=768, out_features=768, bias=True)\n",
       "              (dropout): Dropout(p=0.1, inplace=False)\n",
       "            )\n",
       "            (output): BertSelfOutput(\n",
       "              (dense): Linear(in_features=768, out_features=768, bias=True)\n",
       "              (LayerNorm): LayerNorm((768,), eps=1e-05, elementwise_affine=True)\n",
       "              (dropout): Dropout(p=0.1, inplace=False)\n",
       "            )\n",
       "          )\n",
       "          (intermediate): BertIntermediate(\n",
       "            (dense): Linear(in_features=768, out_features=3072, bias=True)\n",
       "          )\n",
       "          (output): BertOutput(\n",
       "            (dense): Linear(in_features=3072, out_features=768, bias=True)\n",
       "            (LayerNorm): LayerNorm((768,), eps=1e-05, elementwise_affine=True)\n",
       "            (dropout): Dropout(p=0.1, inplace=False)\n",
       "          )\n",
       "        )\n",
       "        (3): BertLayer(\n",
       "          (attention): BertAttention(\n",
       "            (self): BertSelfAttention(\n",
       "              (query): Linear(in_features=768, out_features=768, bias=True)\n",
       "              (key): Linear(in_features=768, out_features=768, bias=True)\n",
       "              (value): Linear(in_features=768, out_features=768, bias=True)\n",
       "              (dropout): Dropout(p=0.1, inplace=False)\n",
       "            )\n",
       "            (output): BertSelfOutput(\n",
       "              (dense): Linear(in_features=768, out_features=768, bias=True)\n",
       "              (LayerNorm): LayerNorm((768,), eps=1e-05, elementwise_affine=True)\n",
       "              (dropout): Dropout(p=0.1, inplace=False)\n",
       "            )\n",
       "          )\n",
       "          (intermediate): BertIntermediate(\n",
       "            (dense): Linear(in_features=768, out_features=3072, bias=True)\n",
       "          )\n",
       "          (output): BertOutput(\n",
       "            (dense): Linear(in_features=3072, out_features=768, bias=True)\n",
       "            (LayerNorm): LayerNorm((768,), eps=1e-05, elementwise_affine=True)\n",
       "            (dropout): Dropout(p=0.1, inplace=False)\n",
       "          )\n",
       "        )\n",
       "        (4): BertLayer(\n",
       "          (attention): BertAttention(\n",
       "            (self): BertSelfAttention(\n",
       "              (query): Linear(in_features=768, out_features=768, bias=True)\n",
       "              (key): Linear(in_features=768, out_features=768, bias=True)\n",
       "              (value): Linear(in_features=768, out_features=768, bias=True)\n",
       "              (dropout): Dropout(p=0.1, inplace=False)\n",
       "            )\n",
       "            (output): BertSelfOutput(\n",
       "              (dense): Linear(in_features=768, out_features=768, bias=True)\n",
       "              (LayerNorm): LayerNorm((768,), eps=1e-05, elementwise_affine=True)\n",
       "              (dropout): Dropout(p=0.1, inplace=False)\n",
       "            )\n",
       "          )\n",
       "          (intermediate): BertIntermediate(\n",
       "            (dense): Linear(in_features=768, out_features=3072, bias=True)\n",
       "          )\n",
       "          (output): BertOutput(\n",
       "            (dense): Linear(in_features=3072, out_features=768, bias=True)\n",
       "            (LayerNorm): LayerNorm((768,), eps=1e-05, elementwise_affine=True)\n",
       "            (dropout): Dropout(p=0.1, inplace=False)\n",
       "          )\n",
       "        )\n",
       "        (5): BertLayer(\n",
       "          (attention): BertAttention(\n",
       "            (self): BertSelfAttention(\n",
       "              (query): Linear(in_features=768, out_features=768, bias=True)\n",
       "              (key): Linear(in_features=768, out_features=768, bias=True)\n",
       "              (value): Linear(in_features=768, out_features=768, bias=True)\n",
       "              (dropout): Dropout(p=0.1, inplace=False)\n",
       "            )\n",
       "            (output): BertSelfOutput(\n",
       "              (dense): Linear(in_features=768, out_features=768, bias=True)\n",
       "              (LayerNorm): LayerNorm((768,), eps=1e-05, elementwise_affine=True)\n",
       "              (dropout): Dropout(p=0.1, inplace=False)\n",
       "            )\n",
       "          )\n",
       "          (intermediate): BertIntermediate(\n",
       "            (dense): Linear(in_features=768, out_features=3072, bias=True)\n",
       "          )\n",
       "          (output): BertOutput(\n",
       "            (dense): Linear(in_features=3072, out_features=768, bias=True)\n",
       "            (LayerNorm): LayerNorm((768,), eps=1e-05, elementwise_affine=True)\n",
       "            (dropout): Dropout(p=0.1, inplace=False)\n",
       "          )\n",
       "        )\n",
       "        (6): BertLayer(\n",
       "          (attention): BertAttention(\n",
       "            (self): BertSelfAttention(\n",
       "              (query): Linear(in_features=768, out_features=768, bias=True)\n",
       "              (key): Linear(in_features=768, out_features=768, bias=True)\n",
       "              (value): Linear(in_features=768, out_features=768, bias=True)\n",
       "              (dropout): Dropout(p=0.1, inplace=False)\n",
       "            )\n",
       "            (output): BertSelfOutput(\n",
       "              (dense): Linear(in_features=768, out_features=768, bias=True)\n",
       "              (LayerNorm): LayerNorm((768,), eps=1e-05, elementwise_affine=True)\n",
       "              (dropout): Dropout(p=0.1, inplace=False)\n",
       "            )\n",
       "          )\n",
       "          (intermediate): BertIntermediate(\n",
       "            (dense): Linear(in_features=768, out_features=3072, bias=True)\n",
       "          )\n",
       "          (output): BertOutput(\n",
       "            (dense): Linear(in_features=3072, out_features=768, bias=True)\n",
       "            (LayerNorm): LayerNorm((768,), eps=1e-05, elementwise_affine=True)\n",
       "            (dropout): Dropout(p=0.1, inplace=False)\n",
       "          )\n",
       "        )\n",
       "        (7): BertLayer(\n",
       "          (attention): BertAttention(\n",
       "            (self): BertSelfAttention(\n",
       "              (query): Linear(in_features=768, out_features=768, bias=True)\n",
       "              (key): Linear(in_features=768, out_features=768, bias=True)\n",
       "              (value): Linear(in_features=768, out_features=768, bias=True)\n",
       "              (dropout): Dropout(p=0.1, inplace=False)\n",
       "            )\n",
       "            (output): BertSelfOutput(\n",
       "              (dense): Linear(in_features=768, out_features=768, bias=True)\n",
       "              (LayerNorm): LayerNorm((768,), eps=1e-05, elementwise_affine=True)\n",
       "              (dropout): Dropout(p=0.1, inplace=False)\n",
       "            )\n",
       "          )\n",
       "          (intermediate): BertIntermediate(\n",
       "            (dense): Linear(in_features=768, out_features=3072, bias=True)\n",
       "          )\n",
       "          (output): BertOutput(\n",
       "            (dense): Linear(in_features=3072, out_features=768, bias=True)\n",
       "            (LayerNorm): LayerNorm((768,), eps=1e-05, elementwise_affine=True)\n",
       "            (dropout): Dropout(p=0.1, inplace=False)\n",
       "          )\n",
       "        )\n",
       "        (8): BertLayer(\n",
       "          (attention): BertAttention(\n",
       "            (self): BertSelfAttention(\n",
       "              (query): Linear(in_features=768, out_features=768, bias=True)\n",
       "              (key): Linear(in_features=768, out_features=768, bias=True)\n",
       "              (value): Linear(in_features=768, out_features=768, bias=True)\n",
       "              (dropout): Dropout(p=0.1, inplace=False)\n",
       "            )\n",
       "            (output): BertSelfOutput(\n",
       "              (dense): Linear(in_features=768, out_features=768, bias=True)\n",
       "              (LayerNorm): LayerNorm((768,), eps=1e-05, elementwise_affine=True)\n",
       "              (dropout): Dropout(p=0.1, inplace=False)\n",
       "            )\n",
       "          )\n",
       "          (intermediate): BertIntermediate(\n",
       "            (dense): Linear(in_features=768, out_features=3072, bias=True)\n",
       "          )\n",
       "          (output): BertOutput(\n",
       "            (dense): Linear(in_features=3072, out_features=768, bias=True)\n",
       "            (LayerNorm): LayerNorm((768,), eps=1e-05, elementwise_affine=True)\n",
       "            (dropout): Dropout(p=0.1, inplace=False)\n",
       "          )\n",
       "        )\n",
       "        (9): BertLayer(\n",
       "          (attention): BertAttention(\n",
       "            (self): BertSelfAttention(\n",
       "              (query): Linear(in_features=768, out_features=768, bias=True)\n",
       "              (key): Linear(in_features=768, out_features=768, bias=True)\n",
       "              (value): Linear(in_features=768, out_features=768, bias=True)\n",
       "              (dropout): Dropout(p=0.1, inplace=False)\n",
       "            )\n",
       "            (output): BertSelfOutput(\n",
       "              (dense): Linear(in_features=768, out_features=768, bias=True)\n",
       "              (LayerNorm): LayerNorm((768,), eps=1e-05, elementwise_affine=True)\n",
       "              (dropout): Dropout(p=0.1, inplace=False)\n",
       "            )\n",
       "          )\n",
       "          (intermediate): BertIntermediate(\n",
       "            (dense): Linear(in_features=768, out_features=3072, bias=True)\n",
       "          )\n",
       "          (output): BertOutput(\n",
       "            (dense): Linear(in_features=3072, out_features=768, bias=True)\n",
       "            (LayerNorm): LayerNorm((768,), eps=1e-05, elementwise_affine=True)\n",
       "            (dropout): Dropout(p=0.1, inplace=False)\n",
       "          )\n",
       "        )\n",
       "        (10): BertLayer(\n",
       "          (attention): BertAttention(\n",
       "            (self): BertSelfAttention(\n",
       "              (query): Linear(in_features=768, out_features=768, bias=True)\n",
       "              (key): Linear(in_features=768, out_features=768, bias=True)\n",
       "              (value): Linear(in_features=768, out_features=768, bias=True)\n",
       "              (dropout): Dropout(p=0.1, inplace=False)\n",
       "            )\n",
       "            (output): BertSelfOutput(\n",
       "              (dense): Linear(in_features=768, out_features=768, bias=True)\n",
       "              (LayerNorm): LayerNorm((768,), eps=1e-05, elementwise_affine=True)\n",
       "              (dropout): Dropout(p=0.1, inplace=False)\n",
       "            )\n",
       "          )\n",
       "          (intermediate): BertIntermediate(\n",
       "            (dense): Linear(in_features=768, out_features=3072, bias=True)\n",
       "          )\n",
       "          (output): BertOutput(\n",
       "            (dense): Linear(in_features=3072, out_features=768, bias=True)\n",
       "            (LayerNorm): LayerNorm((768,), eps=1e-05, elementwise_affine=True)\n",
       "            (dropout): Dropout(p=0.1, inplace=False)\n",
       "          )\n",
       "        )\n",
       "        (11): BertLayer(\n",
       "          (attention): BertAttention(\n",
       "            (self): BertSelfAttention(\n",
       "              (query): Linear(in_features=768, out_features=768, bias=True)\n",
       "              (key): Linear(in_features=768, out_features=768, bias=True)\n",
       "              (value): Linear(in_features=768, out_features=768, bias=True)\n",
       "              (dropout): Dropout(p=0.1, inplace=False)\n",
       "            )\n",
       "            (output): BertSelfOutput(\n",
       "              (dense): Linear(in_features=768, out_features=768, bias=True)\n",
       "              (LayerNorm): LayerNorm((768,), eps=1e-05, elementwise_affine=True)\n",
       "              (dropout): Dropout(p=0.1, inplace=False)\n",
       "            )\n",
       "          )\n",
       "          (intermediate): BertIntermediate(\n",
       "            (dense): Linear(in_features=768, out_features=3072, bias=True)\n",
       "          )\n",
       "          (output): BertOutput(\n",
       "            (dense): Linear(in_features=3072, out_features=768, bias=True)\n",
       "            (LayerNorm): LayerNorm((768,), eps=1e-05, elementwise_affine=True)\n",
       "            (dropout): Dropout(p=0.1, inplace=False)\n",
       "          )\n",
       "        )\n",
       "      )\n",
       "    )\n",
       "    (pooler): BertPooler(\n",
       "      (dense): Linear(in_features=768, out_features=768, bias=True)\n",
       "      (activation): Tanh()\n",
       "    )\n",
       "  )\n",
       "  (project): Sequential(\n",
       "    (0): Linear(in_features=768, out_features=768, bias=True)\n",
       "    (1): LayerNorm((768,), eps=1e-05, elementwise_affine=True)\n",
       "  )\n",
       ")"
      ]
     },
     "execution_count": 10,
     "metadata": {},
     "output_type": "execute_result"
    }
   ],
   "source": [
    "from transformers import AutoConfig, AutoTokenizer\n",
    "from mdr.retrieval.models.retriever import RobertaCtxEncoder\n",
    "from utils.model_utils import load_state\n",
    "\n",
    "bert_config = AutoConfig.from_pretrained(args.model_name)\n",
    "dense_tokenizer = AutoTokenizer.from_pretrained(args.model_name)\n",
    "dense_encoder = RobertaCtxEncoder(bert_config, args)\n",
    "dense_encoder = load_state(dense_encoder, args.model_path, exact=False)\n",
    "dense_encoder.to(torch.device('cuda:0'))\n",
    "dense_encoder.eval()"
   ]
  },
  {
   "cell_type": "code",
   "execution_count": 11,
   "metadata": {},
   "outputs": [
    {
     "name": "stderr",
     "output_type": "stream",
     "text": [
      "[06/11 00:56:06 INFO dense_indexers] Loading index from data/index/mdr/hotpot-paragraph-q-strict\n",
      "[06/11 00:56:40 INFO dense_indexers] Loaded index of type <class 'faiss.swigfaiss.IndexFlat'> and size 5232080\n"
     ]
    }
   ],
   "source": [
    "from dense_indexers import DenseHNSWFlatIndexer, DenseFlatIndexer\n",
    "\n",
    "vector_size = bert_config.hidden_size\n",
    "if args.index_prefix_path.endswith('hnsw'):\n",
    "    dense_indexer = DenseHNSWFlatIndexer(vector_size, args.index_buffer_size)\n",
    "else:\n",
    "    dense_indexer = DenseFlatIndexer(vector_size, args.index_buffer_size)\n",
    "dense_indexer.deserialize_from(args.index_prefix_path)"
   ]
  },
  {
   "cell_type": "code",
   "execution_count": 12,
   "metadata": {},
   "outputs": [],
   "source": [
    "from retriever import DenseRetriever\n",
    "\n",
    "dense_retriever = DenseRetriever(dense_indexer, dense_encoder, dense_tokenizer)"
   ]
  },
  {
   "cell_type": "markdown",
   "metadata": {
    "heading_collapsed": "true",
    "tags": []
   },
   "source": [
    "# Load corpus"
   ]
  },
  {
   "cell_type": "code",
   "execution_count": 13,
   "metadata": {},
   "outputs": [
    {
     "name": "stderr",
     "output_type": "stream",
     "text": [
      "[06/11 01:01:42 INFO utils.data_utils] Loaded 5232080 passages from data/corpus/hotpot-paragraph-5.tsv\n"
     ]
    },
    {
     "name": "stdout",
     "output_type": "stream",
     "text": [
      "5232080\n",
      "5232080\n"
     ]
    }
   ],
   "source": [
    "from utils.data_utils import load_corpus\n",
    "\n",
    "corpus, title2id = load_corpus('data/corpus/hotpot-paragraph-5.tsv', for_hotpot=True, require_hyperlinks=True)\n",
    "print(len(corpus))\n",
    "print(len(title2id))"
   ]
  },
  {
   "cell_type": "markdown",
   "metadata": {
    "heading_collapsed": "true",
    "tags": []
   },
   "source": [
    "# Load union model"
   ]
  },
  {
   "cell_type": "code",
   "execution_count": 14,
   "metadata": {
    "scrolled": true
   },
   "outputs": [
    {
     "name": "stderr",
     "output_type": "stream",
     "text": [
      "[06/11 01:01:43 INFO transformers.configuration_utils] loading configuration file https://s3.amazonaws.com/models.huggingface.co/bert/google/electra-base-discriminator/config.json from cache at /home/shenhuawei/.cache/torch/transformers/9236d197566a7f1be2b2151f5afcc5a8e17f31e1e23c52f3cdf2340019986e78.88ba6e8e7d5a7936e86d6f2551fe19c236dc57c24da163907cd0544e9933f6ee\n",
      "[06/11 01:01:43 INFO transformers.configuration_utils] Model config ElectraConfig {\n",
      "  \"architectures\": [\n",
      "    \"ElectraForPreTraining\"\n",
      "  ],\n",
      "  \"attention_probs_dropout_prob\": 0.1,\n",
      "  \"embedding_size\": 768,\n",
      "  \"hidden_act\": \"gelu\",\n",
      "  \"hidden_dropout_prob\": 0.1,\n",
      "  \"hidden_size\": 768,\n",
      "  \"initializer_range\": 0.02,\n",
      "  \"intermediate_size\": 3072,\n",
      "  \"layer_norm_eps\": 1e-12,\n",
      "  \"max_position_embeddings\": 512,\n",
      "  \"model_type\": \"electra\",\n",
      "  \"num_attention_heads\": 12,\n",
      "  \"num_hidden_layers\": 12,\n",
      "  \"pad_token_id\": 0,\n",
      "  \"summary_activation\": \"gelu\",\n",
      "  \"summary_last_dropout\": 0.1,\n",
      "  \"summary_type\": \"first\",\n",
      "  \"summary_use_proj\": true,\n",
      "  \"type_vocab_size\": 2,\n",
      "  \"vocab_size\": 30522\n",
      "}\n",
      "\n",
      "[06/11 01:01:45 INFO transformers.tokenization_utils_base] loading file https://s3.amazonaws.com/models.huggingface.co/bert/google/electra-base-discriminator/vocab.txt from cache at /home/shenhuawei/.cache/torch/transformers/ff085885d4c95651587af553adadd34a26de8a663f2cef709635b48b3bed2bbd.542ce4285a40d23a559526243235df47c5f75c197f04f37d1a0c124c32c9a084\n",
      "[06/11 01:01:49 INFO transformers.configuration_utils] loading configuration file https://s3.amazonaws.com/models.huggingface.co/bert/google/electra-base-discriminator/config.json from cache at /home/shenhuawei/.cache/torch/transformers/9236d197566a7f1be2b2151f5afcc5a8e17f31e1e23c52f3cdf2340019986e78.88ba6e8e7d5a7936e86d6f2551fe19c236dc57c24da163907cd0544e9933f6ee\n",
      "[06/11 01:01:49 INFO transformers.configuration_utils] Model config ElectraConfig {\n",
      "  \"architectures\": [\n",
      "    \"ElectraForPreTraining\"\n",
      "  ],\n",
      "  \"attention_probs_dropout_prob\": 0.1,\n",
      "  \"embedding_size\": 768,\n",
      "  \"hidden_act\": \"gelu\",\n",
      "  \"hidden_dropout_prob\": 0.1,\n",
      "  \"hidden_size\": 768,\n",
      "  \"initializer_range\": 0.02,\n",
      "  \"intermediate_size\": 3072,\n",
      "  \"layer_norm_eps\": 1e-12,\n",
      "  \"max_position_embeddings\": 512,\n",
      "  \"model_type\": \"electra\",\n",
      "  \"num_attention_heads\": 12,\n",
      "  \"num_hidden_layers\": 12,\n",
      "  \"pad_token_id\": 0,\n",
      "  \"summary_activation\": \"gelu\",\n",
      "  \"summary_last_dropout\": 0.1,\n",
      "  \"summary_type\": \"first\",\n",
      "  \"summary_use_proj\": true,\n",
      "  \"type_vocab_size\": 2,\n",
      "  \"vocab_size\": 30522\n",
      "}\n",
      "\n",
      "[06/11 01:01:51 INFO transformers.modeling_utils] loading weights file https://cdn.huggingface.co/google/electra-base-discriminator/pytorch_model.bin from cache at /home/shenhuawei/.cache/torch/transformers/1e208ba81f889d92ba15c70c4c400416d5ac7a2d017a6be053d69a5c41b9c6af.b7514d01ce5acfe02313470cce3175018852a5e8cbcb8784268ab87dc21daf4c\n",
      "[06/11 01:01:54 WARNING transformers.modeling_utils] Some weights of the model checkpoint at google/electra-base-discriminator were not used when initializing ElectraModel: ['electra.embeddings_project.weight', 'electra.embeddings_project.bias']\n",
      "- This IS expected if you are initializing ElectraModel from the checkpoint of a model trained on another task or with another architecture (e.g. initializing a BertForSequenceClassification model from a BertForPretraining model).\n",
      "- This IS NOT expected if you are initializing ElectraModel from the checkpoint of a model that you expect to be exactly identical (initializing a BertForSequenceClassification model from a BertForSequenceClassification model).\n",
      "[06/11 01:01:54 INFO transformers.modeling_utils] All the weights of ElectraModel were initialized from the model checkpoint at google/electra-base-discriminator.\n",
      "If your task is similar to the task the model of the ckeckpoint was trained on, you can already use ElectraModel for predictions without further training.\n"
     ]
    }
   ],
   "source": [
    "from models.union_model import UnionModel\n",
    "\n",
    "tokenizer = AutoTokenizer.from_pretrained('google/electra-base-discriminator', use_fast=True,\n",
    "                                           additional_special_tokens=['[unused0]', '[unused1]',\n",
    "                                                                      '[unused2]', '[unused3]'])\n",
    "union_model = UnionModel('google/electra-base-discriminator', max_ans_len=64)"
   ]
  },
  {
   "cell_type": "code",
   "execution_count": 15,
   "metadata": {
    "scrolled": true
   },
   "outputs": [
    {
     "data": {
      "text/plain": [
       "UnionModel(\n",
       "  (encoder): ElectraModel(\n",
       "    (embeddings): ElectraEmbeddings(\n",
       "      (word_embeddings): Embedding(30522, 768, padding_idx=0)\n",
       "      (position_embeddings): Embedding(512, 768)\n",
       "      (token_type_embeddings): Embedding(2, 768)\n",
       "      (LayerNorm): LayerNorm((768,), eps=1e-12, elementwise_affine=True)\n",
       "      (dropout): Dropout(p=0.1, inplace=False)\n",
       "    )\n",
       "    (encoder): BertEncoder(\n",
       "      (layer): ModuleList(\n",
       "        (0): BertLayer(\n",
       "          (attention): BertAttention(\n",
       "            (self): BertSelfAttention(\n",
       "              (query): Linear(in_features=768, out_features=768, bias=True)\n",
       "              (key): Linear(in_features=768, out_features=768, bias=True)\n",
       "              (value): Linear(in_features=768, out_features=768, bias=True)\n",
       "              (dropout): Dropout(p=0.1, inplace=False)\n",
       "            )\n",
       "            (output): BertSelfOutput(\n",
       "              (dense): Linear(in_features=768, out_features=768, bias=True)\n",
       "              (LayerNorm): LayerNorm((768,), eps=1e-12, elementwise_affine=True)\n",
       "              (dropout): Dropout(p=0.1, inplace=False)\n",
       "            )\n",
       "          )\n",
       "          (intermediate): BertIntermediate(\n",
       "            (dense): Linear(in_features=768, out_features=3072, bias=True)\n",
       "          )\n",
       "          (output): BertOutput(\n",
       "            (dense): Linear(in_features=3072, out_features=768, bias=True)\n",
       "            (LayerNorm): LayerNorm((768,), eps=1e-12, elementwise_affine=True)\n",
       "            (dropout): Dropout(p=0.1, inplace=False)\n",
       "          )\n",
       "        )\n",
       "        (1): BertLayer(\n",
       "          (attention): BertAttention(\n",
       "            (self): BertSelfAttention(\n",
       "              (query): Linear(in_features=768, out_features=768, bias=True)\n",
       "              (key): Linear(in_features=768, out_features=768, bias=True)\n",
       "              (value): Linear(in_features=768, out_features=768, bias=True)\n",
       "              (dropout): Dropout(p=0.1, inplace=False)\n",
       "            )\n",
       "            (output): BertSelfOutput(\n",
       "              (dense): Linear(in_features=768, out_features=768, bias=True)\n",
       "              (LayerNorm): LayerNorm((768,), eps=1e-12, elementwise_affine=True)\n",
       "              (dropout): Dropout(p=0.1, inplace=False)\n",
       "            )\n",
       "          )\n",
       "          (intermediate): BertIntermediate(\n",
       "            (dense): Linear(in_features=768, out_features=3072, bias=True)\n",
       "          )\n",
       "          (output): BertOutput(\n",
       "            (dense): Linear(in_features=3072, out_features=768, bias=True)\n",
       "            (LayerNorm): LayerNorm((768,), eps=1e-12, elementwise_affine=True)\n",
       "            (dropout): Dropout(p=0.1, inplace=False)\n",
       "          )\n",
       "        )\n",
       "        (2): BertLayer(\n",
       "          (attention): BertAttention(\n",
       "            (self): BertSelfAttention(\n",
       "              (query): Linear(in_features=768, out_features=768, bias=True)\n",
       "              (key): Linear(in_features=768, out_features=768, bias=True)\n",
       "              (value): Linear(in_features=768, out_features=768, bias=True)\n",
       "              (dropout): Dropout(p=0.1, inplace=False)\n",
       "            )\n",
       "            (output): BertSelfOutput(\n",
       "              (dense): Linear(in_features=768, out_features=768, bias=True)\n",
       "              (LayerNorm): LayerNorm((768,), eps=1e-12, elementwise_affine=True)\n",
       "              (dropout): Dropout(p=0.1, inplace=False)\n",
       "            )\n",
       "          )\n",
       "          (intermediate): BertIntermediate(\n",
       "            (dense): Linear(in_features=768, out_features=3072, bias=True)\n",
       "          )\n",
       "          (output): BertOutput(\n",
       "            (dense): Linear(in_features=3072, out_features=768, bias=True)\n",
       "            (LayerNorm): LayerNorm((768,), eps=1e-12, elementwise_affine=True)\n",
       "            (dropout): Dropout(p=0.1, inplace=False)\n",
       "          )\n",
       "        )\n",
       "        (3): BertLayer(\n",
       "          (attention): BertAttention(\n",
       "            (self): BertSelfAttention(\n",
       "              (query): Linear(in_features=768, out_features=768, bias=True)\n",
       "              (key): Linear(in_features=768, out_features=768, bias=True)\n",
       "              (value): Linear(in_features=768, out_features=768, bias=True)\n",
       "              (dropout): Dropout(p=0.1, inplace=False)\n",
       "            )\n",
       "            (output): BertSelfOutput(\n",
       "              (dense): Linear(in_features=768, out_features=768, bias=True)\n",
       "              (LayerNorm): LayerNorm((768,), eps=1e-12, elementwise_affine=True)\n",
       "              (dropout): Dropout(p=0.1, inplace=False)\n",
       "            )\n",
       "          )\n",
       "          (intermediate): BertIntermediate(\n",
       "            (dense): Linear(in_features=768, out_features=3072, bias=True)\n",
       "          )\n",
       "          (output): BertOutput(\n",
       "            (dense): Linear(in_features=3072, out_features=768, bias=True)\n",
       "            (LayerNorm): LayerNorm((768,), eps=1e-12, elementwise_affine=True)\n",
       "            (dropout): Dropout(p=0.1, inplace=False)\n",
       "          )\n",
       "        )\n",
       "        (4): BertLayer(\n",
       "          (attention): BertAttention(\n",
       "            (self): BertSelfAttention(\n",
       "              (query): Linear(in_features=768, out_features=768, bias=True)\n",
       "              (key): Linear(in_features=768, out_features=768, bias=True)\n",
       "              (value): Linear(in_features=768, out_features=768, bias=True)\n",
       "              (dropout): Dropout(p=0.1, inplace=False)\n",
       "            )\n",
       "            (output): BertSelfOutput(\n",
       "              (dense): Linear(in_features=768, out_features=768, bias=True)\n",
       "              (LayerNorm): LayerNorm((768,), eps=1e-12, elementwise_affine=True)\n",
       "              (dropout): Dropout(p=0.1, inplace=False)\n",
       "            )\n",
       "          )\n",
       "          (intermediate): BertIntermediate(\n",
       "            (dense): Linear(in_features=768, out_features=3072, bias=True)\n",
       "          )\n",
       "          (output): BertOutput(\n",
       "            (dense): Linear(in_features=3072, out_features=768, bias=True)\n",
       "            (LayerNorm): LayerNorm((768,), eps=1e-12, elementwise_affine=True)\n",
       "            (dropout): Dropout(p=0.1, inplace=False)\n",
       "          )\n",
       "        )\n",
       "        (5): BertLayer(\n",
       "          (attention): BertAttention(\n",
       "            (self): BertSelfAttention(\n",
       "              (query): Linear(in_features=768, out_features=768, bias=True)\n",
       "              (key): Linear(in_features=768, out_features=768, bias=True)\n",
       "              (value): Linear(in_features=768, out_features=768, bias=True)\n",
       "              (dropout): Dropout(p=0.1, inplace=False)\n",
       "            )\n",
       "            (output): BertSelfOutput(\n",
       "              (dense): Linear(in_features=768, out_features=768, bias=True)\n",
       "              (LayerNorm): LayerNorm((768,), eps=1e-12, elementwise_affine=True)\n",
       "              (dropout): Dropout(p=0.1, inplace=False)\n",
       "            )\n",
       "          )\n",
       "          (intermediate): BertIntermediate(\n",
       "            (dense): Linear(in_features=768, out_features=3072, bias=True)\n",
       "          )\n",
       "          (output): BertOutput(\n",
       "            (dense): Linear(in_features=3072, out_features=768, bias=True)\n",
       "            (LayerNorm): LayerNorm((768,), eps=1e-12, elementwise_affine=True)\n",
       "            (dropout): Dropout(p=0.1, inplace=False)\n",
       "          )\n",
       "        )\n",
       "        (6): BertLayer(\n",
       "          (attention): BertAttention(\n",
       "            (self): BertSelfAttention(\n",
       "              (query): Linear(in_features=768, out_features=768, bias=True)\n",
       "              (key): Linear(in_features=768, out_features=768, bias=True)\n",
       "              (value): Linear(in_features=768, out_features=768, bias=True)\n",
       "              (dropout): Dropout(p=0.1, inplace=False)\n",
       "            )\n",
       "            (output): BertSelfOutput(\n",
       "              (dense): Linear(in_features=768, out_features=768, bias=True)\n",
       "              (LayerNorm): LayerNorm((768,), eps=1e-12, elementwise_affine=True)\n",
       "              (dropout): Dropout(p=0.1, inplace=False)\n",
       "            )\n",
       "          )\n",
       "          (intermediate): BertIntermediate(\n",
       "            (dense): Linear(in_features=768, out_features=3072, bias=True)\n",
       "          )\n",
       "          (output): BertOutput(\n",
       "            (dense): Linear(in_features=3072, out_features=768, bias=True)\n",
       "            (LayerNorm): LayerNorm((768,), eps=1e-12, elementwise_affine=True)\n",
       "            (dropout): Dropout(p=0.1, inplace=False)\n",
       "          )\n",
       "        )\n",
       "        (7): BertLayer(\n",
       "          (attention): BertAttention(\n",
       "            (self): BertSelfAttention(\n",
       "              (query): Linear(in_features=768, out_features=768, bias=True)\n",
       "              (key): Linear(in_features=768, out_features=768, bias=True)\n",
       "              (value): Linear(in_features=768, out_features=768, bias=True)\n",
       "              (dropout): Dropout(p=0.1, inplace=False)\n",
       "            )\n",
       "            (output): BertSelfOutput(\n",
       "              (dense): Linear(in_features=768, out_features=768, bias=True)\n",
       "              (LayerNorm): LayerNorm((768,), eps=1e-12, elementwise_affine=True)\n",
       "              (dropout): Dropout(p=0.1, inplace=False)\n",
       "            )\n",
       "          )\n",
       "          (intermediate): BertIntermediate(\n",
       "            (dense): Linear(in_features=768, out_features=3072, bias=True)\n",
       "          )\n",
       "          (output): BertOutput(\n",
       "            (dense): Linear(in_features=3072, out_features=768, bias=True)\n",
       "            (LayerNorm): LayerNorm((768,), eps=1e-12, elementwise_affine=True)\n",
       "            (dropout): Dropout(p=0.1, inplace=False)\n",
       "          )\n",
       "        )\n",
       "        (8): BertLayer(\n",
       "          (attention): BertAttention(\n",
       "            (self): BertSelfAttention(\n",
       "              (query): Linear(in_features=768, out_features=768, bias=True)\n",
       "              (key): Linear(in_features=768, out_features=768, bias=True)\n",
       "              (value): Linear(in_features=768, out_features=768, bias=True)\n",
       "              (dropout): Dropout(p=0.1, inplace=False)\n",
       "            )\n",
       "            (output): BertSelfOutput(\n",
       "              (dense): Linear(in_features=768, out_features=768, bias=True)\n",
       "              (LayerNorm): LayerNorm((768,), eps=1e-12, elementwise_affine=True)\n",
       "              (dropout): Dropout(p=0.1, inplace=False)\n",
       "            )\n",
       "          )\n",
       "          (intermediate): BertIntermediate(\n",
       "            (dense): Linear(in_features=768, out_features=3072, bias=True)\n",
       "          )\n",
       "          (output): BertOutput(\n",
       "            (dense): Linear(in_features=3072, out_features=768, bias=True)\n",
       "            (LayerNorm): LayerNorm((768,), eps=1e-12, elementwise_affine=True)\n",
       "            (dropout): Dropout(p=0.1, inplace=False)\n",
       "          )\n",
       "        )\n",
       "        (9): BertLayer(\n",
       "          (attention): BertAttention(\n",
       "            (self): BertSelfAttention(\n",
       "              (query): Linear(in_features=768, out_features=768, bias=True)\n",
       "              (key): Linear(in_features=768, out_features=768, bias=True)\n",
       "              (value): Linear(in_features=768, out_features=768, bias=True)\n",
       "              (dropout): Dropout(p=0.1, inplace=False)\n",
       "            )\n",
       "            (output): BertSelfOutput(\n",
       "              (dense): Linear(in_features=768, out_features=768, bias=True)\n",
       "              (LayerNorm): LayerNorm((768,), eps=1e-12, elementwise_affine=True)\n",
       "              (dropout): Dropout(p=0.1, inplace=False)\n",
       "            )\n",
       "          )\n",
       "          (intermediate): BertIntermediate(\n",
       "            (dense): Linear(in_features=768, out_features=3072, bias=True)\n",
       "          )\n",
       "          (output): BertOutput(\n",
       "            (dense): Linear(in_features=3072, out_features=768, bias=True)\n",
       "            (LayerNorm): LayerNorm((768,), eps=1e-12, elementwise_affine=True)\n",
       "            (dropout): Dropout(p=0.1, inplace=False)\n",
       "          )\n",
       "        )\n",
       "        (10): BertLayer(\n",
       "          (attention): BertAttention(\n",
       "            (self): BertSelfAttention(\n",
       "              (query): Linear(in_features=768, out_features=768, bias=True)\n",
       "              (key): Linear(in_features=768, out_features=768, bias=True)\n",
       "              (value): Linear(in_features=768, out_features=768, bias=True)\n",
       "              (dropout): Dropout(p=0.1, inplace=False)\n",
       "            )\n",
       "            (output): BertSelfOutput(\n",
       "              (dense): Linear(in_features=768, out_features=768, bias=True)\n",
       "              (LayerNorm): LayerNorm((768,), eps=1e-12, elementwise_affine=True)\n",
       "              (dropout): Dropout(p=0.1, inplace=False)\n",
       "            )\n",
       "          )\n",
       "          (intermediate): BertIntermediate(\n",
       "            (dense): Linear(in_features=768, out_features=3072, bias=True)\n",
       "          )\n",
       "          (output): BertOutput(\n",
       "            (dense): Linear(in_features=3072, out_features=768, bias=True)\n",
       "            (LayerNorm): LayerNorm((768,), eps=1e-12, elementwise_affine=True)\n",
       "            (dropout): Dropout(p=0.1, inplace=False)\n",
       "          )\n",
       "        )\n",
       "        (11): BertLayer(\n",
       "          (attention): BertAttention(\n",
       "            (self): BertSelfAttention(\n",
       "              (query): Linear(in_features=768, out_features=768, bias=True)\n",
       "              (key): Linear(in_features=768, out_features=768, bias=True)\n",
       "              (value): Linear(in_features=768, out_features=768, bias=True)\n",
       "              (dropout): Dropout(p=0.1, inplace=False)\n",
       "            )\n",
       "            (output): BertSelfOutput(\n",
       "              (dense): Linear(in_features=768, out_features=768, bias=True)\n",
       "              (LayerNorm): LayerNorm((768,), eps=1e-12, elementwise_affine=True)\n",
       "              (dropout): Dropout(p=0.1, inplace=False)\n",
       "            )\n",
       "          )\n",
       "          (intermediate): BertIntermediate(\n",
       "            (dense): Linear(in_features=768, out_features=3072, bias=True)\n",
       "          )\n",
       "          (output): BertOutput(\n",
       "            (dense): Linear(in_features=3072, out_features=768, bias=True)\n",
       "            (LayerNorm): LayerNorm((768,), eps=1e-12, elementwise_affine=True)\n",
       "            (dropout): Dropout(p=0.1, inplace=False)\n",
       "          )\n",
       "        )\n",
       "      )\n",
       "    )\n",
       "  )\n",
       "  (reranker): Linear(in_features=768, out_features=1, bias=True)\n",
       "  (sp_cls): Linear(in_features=768, out_features=1, bias=True)\n",
       "  (answerer): Answerer(\n",
       "    (qa_outputs): Linear(in_features=768, out_features=2, bias=True)\n",
       "  )\n",
       "  (linker): Linker(\n",
       "    (scorer): Linear(in_features=768, out_features=1, bias=True)\n",
       "  )\n",
       "  (commander): Commander(\n",
       "    (ffn): FFN(\n",
       "      (dense1): Linear(in_features=2304, out_features=3072, bias=True)\n",
       "      (dense2): Linear(in_features=3072, out_features=768, bias=True)\n",
       "      (dropout): Dropout(p=0.1, inplace=False)\n",
       "    )\n",
       "    (act_scorer): Linear(in_features=768, out_features=1, bias=True)\n",
       "  )\n",
       "  (bce_loss): BCEWithLogitsLoss()\n",
       "  (ce_loss): CrossEntropyLoss()\n",
       ")"
      ]
     },
     "execution_count": 15,
     "metadata": {},
     "output_type": "execute_result"
    }
   ],
   "source": [
    "init_checkpoint = 'ckpts/td5-exp1-ila.4_electra-base-discriminator_DP0.5_HN2_M2_D2_adamW_SP0.5_B32_LR2.0e-05_WU0.1_E30_S42_04202303_pld-sb0-wo*-cmd10/checkpoint_68000.pt'\n",
    "device = torch.device(\"cuda:0\")\n",
    "\n",
    "union_model = load_state(union_model, init_checkpoint)\n",
    "union_model.to(device)\n",
    "union_model.eval()"
   ]
  },
  {
   "cell_type": "markdown",
   "metadata": {},
   "source": [
    "# Env: WikiWorld"
   ]
  },
  {
   "cell_type": "code",
   "execution_count": 16,
   "metadata": {},
   "outputs": [],
   "source": [
    "import redis\n",
    "from tqdm.auto import tqdm\n",
    "from env.core import Environment\n",
    "\n",
    "bm25_redis = redis.Redis(host='10.60.1.79', port=6379, db=3, password='redis4zyc', decode_responses=True)\n",
    "mdr_redis = redis.Redis(host='10.60.1.79', port=6379, db=4, password='redis4zyc', decode_responses=True)\n",
    "env = Environment(corpus, title2id, sparse_retriever, dense_retriever, bm25_redis, mdr_redis,\n",
    "                  for_hotpot=True, strict=True, max_ret_size=1000)"
   ]
  },
  {
   "cell_type": "markdown",
   "metadata": {},
   "source": [
    "# QA agent"
   ]
  },
  {
   "cell_type": "code",
   "execution_count": 25,
   "metadata": {},
   "outputs": [],
   "source": [
    "import copy\n",
    "from agent import Agent\n",
    "from hotpot_evaluate_plus import evaluate, pretty_metrics\n",
    "\n",
    "faiss.omp_set_num_threads(1)\n",
    "query_redis = redis.Redis(host='10.60.1.79', port=6379, db=2, password='redis4zyc', decode_responses=True)\n",
    "agent = Agent(tokenizer, union_model, qg1, qg2, device, env, query_redis,\n",
    "              actions=(\"ANSWER\", \"BM25\", \"MDR\", \"LINK\"), action_mask=(1, 1, 1, 1),\n",
    "              memory_size=2, max_seq_len=512, max_q_len=96, max_obs_len=256, strict=True,\n",
    "              gold_qas_map=gold_qas_map, oracle_belief=False, oracle_state2action=None)  # gold_state2action"
   ]
  },
  {
   "cell_type": "code",
   "execution_count": 26,
   "metadata": {},
   "outputs": [],
   "source": [
    "predictions = {\"answer\": dict(), \"norm_answer\": dict(), \"sp\": dict(), \"_sp\": dict(), \"spp\": dict()}\n",
    "n_observed = -1\n",
    "env.reset()\n",
    "agent.reset()\n",
    "agent.eval()\n",
    "q_ids = [sample[0] for sample in samples]\n",
    "questions = [sample[1][0] for sample in samples]\n",
    "observations = [None] * len(q_ids)"
   ]
  },
  {
   "cell_type": "code",
   "execution_count": 27,
   "metadata": {},
   "outputs": [],
   "source": [
    "def force_answer():\n",
    "    if split != 'test':\n",
    "        answers, _answers, sp_passages, sp_facts, _sp_facts = agent.force_answer(q_ids, questions)\n",
    "        tmp_predictions = copy.deepcopy(predictions)\n",
    "        tmp_predictions['answer'].update(answers)\n",
    "        tmp_predictions['norm_answer'].update(_answers)\n",
    "        tmp_predictions['sp'].update(sp_facts)\n",
    "        tmp_predictions['_sp'].update(_sp_facts)\n",
    "        tmp_predictions['spp'].update(sp_passages)\n",
    "        print(pretty_metrics(evaluate(tmp_predictions, gold_samples)))\n",
    "        del tmp_predictions"
   ]
  },
  {
   "cell_type": "code",
   "execution_count": 28,
   "metadata": {
    "scrolled": true
   },
   "outputs": [
    {
     "data": {
      "application/vnd.jupyter.widget-view+json": {
       "model_id": "aac72bd30fe7436aaa7c5752a9c4a280",
       "version_major": 2,
       "version_minor": 0
      },
      "text/plain": [
       "gen_sparse_query:   0%|          | 0/7405 [00:00<?, ?it/s]"
      ]
     },
     "metadata": {},
     "output_type": "display_data"
    },
    {
     "data": {
      "application/vnd.jupyter.widget-view+json": {
       "model_id": "fa831568258c4b57b9e495b15060bbac",
       "version_major": 2,
       "version_minor": 0
      },
      "text/plain": [
       "act:   0%|          | 0/232 [00:00<?, ?it/s]"
      ]
     },
     "metadata": {},
     "output_type": "display_data"
    },
    {
     "data": {
      "application/vnd.jupyter.widget-view+json": {
       "model_id": "b20856aee9334e5d9aa5bf322eaf6078",
       "version_major": 2,
       "version_minor": 0
      },
      "text/plain": [
       "exe:   0%|          | 0/7405 [00:00<?, ?it/s]"
      ]
     },
     "metadata": {},
     "output_type": "display_data"
    },
    {
     "name": "stdout",
     "output_type": "stream",
     "text": [
      "0: 7405 remained\n"
     ]
    },
    {
     "data": {
      "application/vnd.jupyter.widget-view+json": {
       "model_id": "c986df4d0c9b44f7acbd298d63fbe8d8",
       "version_major": 2,
       "version_minor": 0
      },
      "text/plain": [
       "gen_sparse_query:   0%|          | 0/7405 [00:00<?, ?it/s]"
      ]
     },
     "metadata": {},
     "output_type": "display_data"
    },
    {
     "data": {
      "application/vnd.jupyter.widget-view+json": {
       "model_id": "88edf022d22949728145b3cea7b6ef61",
       "version_major": 2,
       "version_minor": 0
      },
      "text/plain": [
       "act:   0%|          | 0/232 [00:00<?, ?it/s]"
      ]
     },
     "metadata": {},
     "output_type": "display_data"
    },
    {
     "name": "stderr",
     "output_type": "stream",
     "text": [
      "[06/11 01:05:59 INFO agent] 5a77152355429966f1a36c2e: miss SP0 2995506_0 (What Are Little Boys Made Of?) for 0.3236 <= 0.4820 when 232 tokens\n",
      "[06/11 01:06:00 INFO agent] 5ae305df5542992decbdcdc3: miss SP0 34639380_0 (2012 Louisville Cardinals football team) for 0.3529 <= 0.3849 when 345 tokens\n",
      "[06/11 01:06:01 INFO agent] 5ab28019554299722f9b4d51: miss SP0 30863419_0 (Son of al Qaeda) for 0.0113 <= 0.8037 when 250 tokens\n",
      "[06/11 01:06:01 INFO agent] 5a7b46e55542995eb53be8e5: miss SP0 44920366_0 (Spaceware Sky Vision II) for 0.0470 <= 0.4297 when 296 tokens\n",
      "[06/11 01:06:02 INFO agent] 5ae628f55542995703ce8b32: miss SP0 27362380_0 (Six Violin Sonatas, Op. 5 (Vivaldi)) for 0.1364 <= 0.4814 when 226 tokens\n",
      "[06/11 01:06:04 INFO agent] 5a7b374c5542995eb53be8cc: miss SP0 4491426_0 (Buttered cat paradox) for 0.0377 <= 0.6577 when 362 tokens\n",
      "[06/11 01:06:05 INFO agent] 5a8242c155429940e5e1a81d: miss SP0 6513540_0 (Thoughts on Machiavelli) for 0.2711 <= 0.3119 when 233 tokens\n",
      "[06/11 01:06:07 INFO agent] 5ab91f98554299753720f70d: miss SP0 14436323_0 (Fantastic Voyage: The Greatest Hits) for 0.1494 <= 0.4120 when 242 tokens\n",
      "[06/11 01:06:09 INFO agent] 5a7fd7305542992e7d278dc2: miss SP0 901191_0 (Peter Griffin) for 0.2644 <= 0.4868 when 408 tokens\n",
      "[06/11 01:06:10 INFO agent] 5a8c06bb5542995e66a47530: miss SP0 175028_0 (Hall &amp; Oates) for 0.1580 <= 0.4895 when 334 tokens\n",
      "[06/11 01:06:12 INFO agent] 5a71214d5542994082a3e5b9: miss SP0 57585_0 (Casablanca (film)) for 0.1001 <= 0.5528 when 290 tokens\n",
      "[06/11 01:06:13 INFO agent] 5a8077ca5542992bc0c4a729: miss SP0 6683912_0 (Abraham Løkin) for 0.0064 <= 0.8897 when 291 tokens\n",
      "[06/11 01:06:15 INFO agent] 5a7a36e65542990198eaf0ea: miss SP0 37054065_0 (Bully Boy) for 0.3526 <= 0.3543 when 237 tokens\n",
      "[06/11 01:06:15 INFO agent] 5a7da6cb5542990b8f5039ff: miss SP0 7867644_0 (Kevin Alejandro) for 0.0711 <= 0.5669 when 152 tokens\n",
      "[06/11 01:06:16 INFO agent] 5abb73425542996cc5e49ff5: miss SP0 294538_0 (Detroit Metropolitan Airport) for 0.0148 <= 0.6365 when 235 tokens\n",
      "[06/11 01:06:17 INFO agent] 5a7da3a95542990b8f5039e6: miss SP0 37537819_0 (Jim Kelch) for 0.1555 <= 0.3915 when 230 tokens\n",
      "[06/11 01:06:17 INFO agent] 5abcefc45542993a06baf9b4: miss SP0 43886646_0 (Gillows of Lancaster and London) for 0.2312 <= 0.4196 when 220 tokens\n",
      "[06/11 01:06:18 INFO agent] 5ab8c3c65542991b5579effd: miss SP0 1394553_0 (Tift Merritt) for 0.2972 <= 0.3349 when 229 tokens\n",
      "[06/11 01:06:18 INFO agent] 5ac559bd5542993e66e82328: miss SP0 3488963_0 (Horse the Band) for 0.0054 <= 0.6707 when 297 tokens\n",
      "[06/11 01:06:21 INFO agent] 5a74b55455429974ef308c39: miss SP0 12470581_0 (Cosmic Variance (blog)) for 0.0875 <= 0.3629 when 317 tokens\n",
      "[06/11 01:06:21 INFO agent] 5ab4147a5542996a3a969f1e: miss SP0 5608488_0 (Stephen Curry) for 0.1386 <= 0.5064 when 317 tokens\n",
      "[06/11 01:06:22 INFO agent] 5ab8338155429919ba4e2260: miss SP0 4540384_0 (Ian Brayshaw) for 0.0104 <= 0.6276 when 264 tokens\n",
      "[06/11 01:06:24 INFO agent] 5ab926bc554299131ca42285: miss SP0 80486_0 (Alexis Argüello) for 0.2404 <= 0.4071 when 255 tokens\n",
      "[06/11 01:06:27 INFO agent] 5a7f38e255429930675136b6: miss SP0 9169947_0 (Ronkonkoma (LIRR station)) for 0.0346 <= 0.6181 when 215 tokens\n",
      "[06/11 01:06:27 INFO agent] 5aba92da55429901930fa840: miss SP0 54318040_0 (Gemma Rovira Ortega) for 0.2558 <= 0.3338 when 215 tokens\n",
      "[06/11 01:06:28 INFO agent] 5a79abef5542994bb9457035: miss SP0 31311194_0 (Hoxne manor) for 0.1365 <= 0.4196 when 262 tokens\n",
      "[06/11 01:06:28 INFO agent] 5adc8b5a5542994d58a2f648: miss SP0 1748361_0 (Maurizio Lobina) for 0.1006 <= 0.1274 when 186 tokens\n",
      "[06/11 01:06:30 INFO agent] 5a88db445542993b751ca88a: miss SP0 48233724_0 (Picciola serenata) for 0.0252 <= 0.4764 when 229 tokens\n",
      "[06/11 01:06:30 INFO agent] 5a729fe55542991f9a20c53b: miss SP0 3015029_0 (Tribometer) for 0.2108 <= 0.3472 when 227 tokens\n",
      "[06/11 01:06:30 INFO agent] 5ab8f53355429916710eb0d1: miss SP0 40569908_0 (The Circle (Eggers novel)) for 0.0948 <= 0.5203 when 218 tokens\n",
      "[06/11 01:06:32 INFO agent] 5a78c235554299078472775d: miss SP0 45023134_0 (5 Magazine) for 0.2332 <= 0.4282 when 260 tokens\n",
      "[06/11 01:06:32 INFO agent] 5ae61dce5542992663a4f262: miss SP0 243685_0 (Julianne Moore) for 0.0913 <= 0.4669 when 332 tokens\n",
      "[06/11 01:06:36 INFO agent] 5a8a6b625542996c9b8d5ed9: miss SP0 3570185_0 (Pontins) for 0.0173 <= 0.7398 when 496 tokens\n",
      "[06/11 01:06:37 INFO agent] 5ae5fd395542996de7b71ab3: miss SP0 26218034_0 (Guilderland (hamlet), New York) for 0.1290 <= 0.4947 when 196 tokens\n",
      "[06/11 01:06:44 INFO agent] 5ab8420555429919ba4e2290: miss SP0 3335866_0 (Laurence Clarkson) for 0.0108 <= 0.4416 when 239 tokens\n",
      "[06/11 01:06:44 INFO agent] 5ae364285542991a06ce99b3: miss SP0 3124625_0 (Royler Gracie) for 0.3202 <= 0.3783 when 234 tokens\n",
      "[06/11 01:06:45 INFO agent] 5a8760e75542996e4f3087af: miss SP0 442343_0 (Whatever Happened to... Robot Jones?) for 0.2115 <= 0.3878 when 233 tokens\n",
      "[06/11 01:06:45 INFO agent] 5ac286c055429963665199f8: miss SP0 26738030_0 (Let Me Be the One (The Carpenters song)) for 0.2494 <= 0.4447 when 233 tokens\n",
      "[06/11 01:06:45 INFO agent] 5a79c8945542994bb945709e: miss SP0 5513877_0 (Hisashi Igawa) for 0.0560 <= 0.4960 when 235 tokens\n",
      "[06/11 01:06:46 INFO agent] 5abb729b5542993f40c73af4: miss SP0 888974_0 (U.S. Route 56) for 0.1630 <= 0.3656 when 262 tokens\n",
      "[06/11 01:06:47 INFO agent] 5a78d9c455429970f5fffda7: miss SP0 7599811_0 (1st Alabama Siege Artillery Regiment (Colored)) for 0.0349 <= 0.7525 when 234 tokens\n",
      "[06/11 01:06:47 INFO agent] 5ae30aa05542992decbdcdd7: miss SP0 44480493_0 (Black Crusade (role-playing game)) for 0.0390 <= 0.7040 when 234 tokens\n",
      "[06/11 01:06:47 INFO agent] 5a84b0705542991dd0999d86: miss SP0 43168_0 (The Color Purple) for 0.2703 <= 0.5317 when 261 tokens\n",
      "[06/11 01:06:48 INFO agent] 5ac471a5554299194317399a: miss SP0 323169_0 (Alois Brunner) for 0.0951 <= 0.4917 when 212 tokens\n",
      "[06/11 01:06:50 INFO agent] 5ade9c9355429975fa854f1b: miss SP0 19499_0 (Mariah Carey) for 0.2811 <= 0.4197 when 232 tokens\n",
      "[06/11 01:06:51 INFO agent] 5a89fc305542993b751ca9dc: miss SP0 9809395_0 (Southern Living) for 0.3401 <= 0.4417 when 302 tokens\n",
      "[06/11 01:06:52 INFO agent] 5a8284b555429954d2e2eb5f: miss SP0 53727137_0 (7th AVN Awards) for 0.0176 <= 0.5226 when 332 tokens\n",
      "[06/11 01:06:52 INFO agent] 5abd882f55429924427fd045: miss SP0 11261237_0 (Birstall Shopping Park) for 0.0267 <= 0.5176 when 332 tokens\n",
      "[06/11 01:06:55 INFO agent] 5a7b68525542997c3ec97151: miss SP0 599513_0 (Pendragon (band)) for 0.2888 <= 0.4038 when 205 tokens\n",
      "[06/11 01:06:55 INFO agent] 5adea2435542992fa25da7e4: miss SP0 3220091_0 (Rio Airways) for 0.3614 <= 0.4198 when 205 tokens\n",
      "[06/11 01:06:55 INFO agent] 5ade7feb5542992fa25da799: miss SP0 193362_0 (Minami-Tori-shima) for 0.3074 <= 0.3696 when 209 tokens\n",
      "[06/11 01:06:57 INFO agent] 5a8318955542990548d0b177: miss SP0 6572508_0 (Both Sides, Now) for 0.2540 <= 0.4336 when 239 tokens\n",
      "[06/11 01:06:58 INFO agent] 5a88dc5a5542993b751ca890: miss SP0 1943186_0 (Alexandria, New South Wales) for 0.4725 <= 0.4862 when 270 tokens\n",
      "[06/11 01:06:59 INFO agent] 5ae406f055429970de88d874: miss SP0 1029471_0 (Roy Lassiter) for 0.1128 <= 0.2239 when 307 tokens\n",
      "[06/11 01:06:59 INFO agent] 5a7bf0d75542996dd594b85c: miss SP0 2939386_0 (Max Hell Frog Warrior) for 0.0973 <= 0.5337 when 204 tokens\n",
      "[06/11 01:07:01 INFO agent] 5ac3caa15542995ef918c23a: miss SP0 14279_0 (Hugh Hefner) for 0.0100 <= 0.7558 when 227 tokens\n",
      "[06/11 01:07:03 INFO agent] 5ab2c0de5542992953946870: miss SP0 18179626_0 (Wisoon Wichaya) for 0.2114 <= 0.3190 when 293 tokens\n",
      "[06/11 01:07:04 INFO agent] 5a823fc055429940e5e1a810: miss SP0 3766171_0 (Norse–Gaels) for 0.3946 <= 0.4114 when 227 tokens\n",
      "[06/11 01:07:04 INFO agent] 5a7f96a95542995d8a8ddead: miss SP0 4054805_0 (Universidad de Oriente) for 0.5840 <= 0.6070 when 299 tokens\n",
      "[06/11 01:07:04 INFO agent] 5adf36c55542993344016c3e: miss SP0 16555113_0 (Quiara Alegría Hudes) for 0.1191 <= 0.5026 when 299 tokens\n",
      "[06/11 01:07:04 INFO agent] 5a89019a5542995153361259: miss SP0 614448_0 (Nissan Altima) for 0.2752 <= 0.4866 when 191 tokens\n",
      "[06/11 01:07:06 INFO agent] 5ac3b8b8554299741d48a301: miss SP0 3032135_0 (Little Big League) for 0.0600 <= 0.3121 when 218 tokens\n",
      "[06/11 01:07:09 INFO agent] 5ab2d3c5554299295394687a: miss SP0 101393_0 (Liev Schreiber) for 0.0095 <= 0.5642 when 224 tokens\n",
      "[06/11 01:07:10 INFO agent] 5a7776b955429967ab10519e: miss SP0 3245477_0 (The Merchant of Venice (2004 film)) for 0.0857 <= 0.5188 when 273 tokens\n",
      "[06/11 01:07:11 INFO agent] 5aba94e355429901930fa845: miss SP0 10798245_0 (Jonathan Groff) for 0.1642 <= 0.5512 when 189 tokens\n"
     ]
    },
    {
     "data": {
      "application/vnd.jupyter.widget-view+json": {
       "model_id": "e74614dea2024b9b9416a9ced79d2825",
       "version_major": 2,
       "version_minor": 0
      },
      "text/plain": [
       "exe:   0%|          | 0/7405 [00:00<?, ?it/s]"
      ]
     },
     "metadata": {},
     "output_type": "display_data"
    },
    {
     "name": "stdout",
     "output_type": "stream",
     "text": [
      "1: 7405 remained\n",
      "|                  |   EM |   F1 | Prec | Recall |\n",
      "|------------------|------|------|------|--------|\n",
      "|           Answer | 0.00 | 0.00 | 0.00 |   0.00 |\n",
      "|      Norm answer | 0.00 | 0.00 | 0.00 |   0.00 |\n",
      "| Support sentence | 0.00 | 0.00 | 0.00 |   0.00 |\n",
      "| Support sentence | 0.00 | 0.00 | 0.00 |   0.00 |\n",
      "|  Support passage | 0.00 | 0.00 | 0.00 |   0.00 |\n",
      "|            Joint | 0.00 | 0.00 | 0.00 |   0.00 |\n",
      "0.999594868332208\n"
     ]
    },
    {
     "data": {
      "application/vnd.jupyter.widget-view+json": {
       "model_id": "b29b9c64abf0427a94201b1af0951c1d",
       "version_major": 2,
       "version_minor": 0
      },
      "text/plain": [
       "gen_sparse_query:   0%|          | 0/7405 [00:00<?, ?it/s]"
      ]
     },
     "metadata": {},
     "output_type": "display_data"
    },
    {
     "data": {
      "application/vnd.jupyter.widget-view+json": {
       "model_id": "f88dd72ba0ff410b81afe74f14d9f214",
       "version_major": 2,
       "version_minor": 0
      },
      "text/plain": [
       "act:   0%|          | 0/232 [00:00<?, ?it/s]"
      ]
     },
     "metadata": {},
     "output_type": "display_data"
    },
    {
     "name": "stderr",
     "output_type": "stream",
     "text": [
      "[06/11 01:07:46 INFO agent] 5a75e05c55429976ec32bc5f: augment SP ['3434750_0'] into memory\n",
      "[06/11 01:07:46 WARNING agent] 5a75e05c55429976ec32bc5f: augment false SP 3434750_0 into memory {'10426459_0': 0.9922459721565247, '3434750_0': 1.0}\n",
      "[06/11 01:07:47 INFO agent] 5a713ea95542994082a3e6e4: miss SP1 23602935_0 (Indigenous peoples of Florida) for 0.0059 <= 0.5659 when 379 tokens\n",
      "[06/11 01:07:47 INFO agent] 5a80b3a9554299485f5986cc: miss SP1 137582_0 (McLean, Virginia) for 0.1781 <= 0.6269 when 379 tokens\n",
      "[06/11 01:07:47 INFO agent] 5a80b3a9554299485f5986cc: augment SP ['137582_0'] into memory\n",
      "[06/11 01:07:48 INFO agent] 5a8739a05542994775f607ab: miss SP0 32700345_0 (New York's 1st State Senate district) for 0.3087 <= 0.3827 when 439 tokens\n",
      "[06/11 01:07:49 INFO agent] 5ab28019554299722f9b4d51: miss SP0 30863419_0 (Son of al Qaeda) for 0.0113 <= 0.8037 when 419 tokens\n",
      "[06/11 01:07:49 INFO agent] 5a7ed2c655429930675135e5: miss SP1 39367266_0 (Brooklyn Nine-Nine) for 0.0264 <= 0.5958 when 419 tokens\n",
      "[06/11 01:07:49 INFO agent] 5a7a3a945542996a35c17147: miss SP1 4568_0 (Bank of China Tower (Hong Kong)) for 0.0439 <= 0.6429 when 381 tokens\n",
      "[06/11 01:07:49 INFO agent] 5a7a3a945542996a35c17147: augment SP ['4568_0'] into memory\n",
      "[06/11 01:07:49 INFO agent] 5a85cead5542991dd0999ea9: miss SP1 51392341_0 (Frank Thomas' Big Hurt) for 0.0036 <= 0.5756 when 381 tokens\n",
      "[06/11 01:07:49 INFO agent] 5a7b46e55542995eb53be8e5: miss SP0 44920366_0 (Spaceware Sky Vision II) for 0.0470 <= 0.4297 when 381 tokens\n",
      "[06/11 01:07:51 INFO agent] 5ab5b6c1554299637185c5e5: miss SP1 3139987_0 (Hellogoodbye) for 0.0624 <= 0.6184 when 390 tokens\n",
      "[06/11 01:07:51 INFO agent] 5a764c0b55429976ec32bd89: miss SP1 549109_0 (Eighth Wonder of the World) for 0.1322 <= 0.5101 when 344 tokens\n",
      "[06/11 01:07:51 INFO agent] 5a764c0b55429976ec32bd89: augment SP ['549109_0'] into memory\n",
      "[06/11 01:07:53 INFO agent] 5abc5951554299114383a116: remove SP0 36285901_0 (Graduados) from memory for 0.9925 -> 0.1262 <= 0.4233 when 323 tokens\n",
      "[06/11 01:07:53 INFO agent] 5adc8977554299438c868de2: augment SP ['69578_0'] into memory\n",
      "[06/11 01:07:53 WARNING agent] 5adc8977554299438c868de2: augment false SP 69578_0 into memory {'11353_0': 0.8201765418052673, '69578_0': 1.0}\n",
      "[06/11 01:07:54 INFO agent] 5ade9c9c5542997c77adee8c: augment SP ['609081_0'] into memory\n",
      "[06/11 01:07:54 WARNING agent] 5ade9c9c5542997c77adee8c: augment false SP 609081_0 into memory {'6053467_0': 0.9609499573707581, '609081_0': 1.0}\n",
      "[06/11 01:07:54 INFO agent] 5a901e5c55429933b8a2047c: miss SP1 494587_0 (Medea (play)) for 0.0184 <= 0.5006 when 453 tokens\n",
      "[06/11 01:07:54 INFO agent] 5a901e5c55429933b8a2047c: augment SP ['494587_0'] into memory\n",
      "[06/11 01:07:55 INFO agent] 5abbc58455429931dba14502: miss SP1 3226774_0 (The Grudge 2) for 0.1018 <= 0.6753 when 384 tokens\n",
      "[06/11 01:07:56 INFO agent] 5abc0bea554299658360040d: miss SP1 7431038_0 (Prince Hamlet) for 0.0090 <= 0.6479 when 326 tokens\n",
      "[06/11 01:07:56 INFO agent] 5abc0bea554299658360040d: augment SP ['7431038_0'] into memory\n",
      "[06/11 01:07:56 INFO agent] 5ab98608554299131ca42362: augment SP ['18497_0'] into memory\n",
      "[06/11 01:07:56 WARNING agent] 5ab98608554299131ca42362: augment false SP 18497_0 into memory {'5215498_0': 0.9443212747573853, '18497_0': 0.21163434982299806}\n",
      "[06/11 01:07:56 INFO agent] 5a7c9d2e55429935c91b5261: miss SP1 451642_0 (Wendigo) for 0.0232 <= 0.6201 when 422 tokens\n",
      "[06/11 01:07:56 INFO agent] 5a7c9d2e55429935c91b5261: augment SP ['451642_0'] into memory\n",
      "[06/11 01:07:57 INFO agent] 5ab6ddb655429953192ad39e: miss SP1 18667741_0 (Birks Group) for 0.0245 <= 0.5865 when 512 tokens\n",
      "[06/11 01:07:57 INFO agent] 5ab6ddb655429953192ad39e: augment SP ['18667741_0'] into memory\n",
      "[06/11 01:07:57 INFO agent] 5ab30d1155429976abd1bc3d: miss SP1 144415_0 (The Santa Clause) for 0.0927 <= 0.6480 when 512 tokens\n",
      "[06/11 01:07:57 INFO agent] 5abfa9745542997ec76fd426: augment SP ['7285190_0'] into memory\n",
      "[06/11 01:07:57 WARNING agent] 5abfa9745542997ec76fd426: augment false SP 7285190_0 into memory {'53475669_0': 0.979178786277771, '7285190_0': 0.055969643592834475}\n",
      "[06/11 01:07:58 INFO agent] 5a7af4cd55429931da12c9a6: miss SP1 909937_0 (Daily Jang) for 0.0036 <= 0.6177 when 379 tokens\n",
      "[06/11 01:07:58 INFO agent] 5a7e04b05542995f4f40238a: miss SP1 693153_0 (National League (division)) for 0.1744 <= 0.5590 when 379 tokens\n",
      "[06/11 01:07:58 INFO agent] 5a7e04b05542995f4f40238a: augment SP ['693153_0'] into memory\n",
      "[06/11 01:07:58 INFO agent] 5ae0a6ea5542993d6555ebe9: miss SP1 29578143_0 (Waste Land (film)) for 0.0018 <= 0.5182 when 379 tokens\n",
      "[06/11 01:07:58 INFO agent] 5a872e8e5542991e7718170c: augment SP ['9099_0'] into memory\n",
      "[06/11 01:07:58 WARNING agent] 5a872e8e5542991e7718170c: augment false SP 9099_0 into memory {'1825467_0': 0.9890903830528259, '9099_0': 0.35029688477516174}\n",
      "[06/11 01:07:59 INFO agent] 5a88bd1d554299206df2b357: miss SP1 27652115_0 (Jackson Avery) for 0.3634 <= 0.5829 when 418 tokens\n",
      "[06/11 01:07:59 INFO agent] 5ae10df355429920d52342ac: augment SP ['97561_0'] into memory\n",
      "[06/11 01:07:59 WARNING agent] 5ae10df355429920d52342ac: augment false SP 97561_0 into memory {'7203173_0': 0.9016788601875305, '97561_0': 1.0}\n",
      "[06/11 01:08:00 INFO agent] 5adcc3ed5542994d58a2f6c4: miss SP1 2297772_0 (Carlene LeFevre) for 0.1474 <= 0.4420 when 396 tokens\n",
      "[06/11 01:08:00 INFO agent] 5abe7f695542993f32c2a12d: miss SP1 27114550_0 (Young Justice (TV series)) for 0.0274 <= 0.5714 when 383 tokens\n",
      "[06/11 01:08:00 INFO agent] 5abe7f695542993f32c2a12d: augment SP ['27114550_0'] into memory\n",
      "[06/11 01:08:01 INFO agent] 5ae6b6065542991bbc976168: remove SP0 23636141_0 (Universal Soldier (franchise)) from memory for 0.9061 -> 0.2042 <= 0.3807 when 471 tokens\n",
      "[06/11 01:08:01 INFO agent] 5ab38cdd5542992ade7c6de2: augment SP ['15852_0'] into memory\n",
      "[06/11 01:08:01 WARNING agent] 5ab38cdd5542992ade7c6de2: augment false SP 15852_0 into memory {'5231097_0': 0.9860116839408875, '15852_0': 0.008264479786157608}\n",
      "[06/11 01:08:01 INFO agent] 5ae73d235542991e8301cc29: remove SP1 43738974_0 (Kevin Loader) from memory for 0.1983 -> 0.0911 <= 0.5405 when 471 tokens\n",
      "[06/11 01:08:01 INFO agent] 5ae528ed5542993aec5ec16e: miss SP1 2613965_0 (Diana Quick) for 0.0304 <= 0.5761 when 359 tokens\n",
      "[06/11 01:08:02 INFO agent] 5ac270025542990b17b15390: augment SP ['1445467_0'] into memory\n",
      "[06/11 01:08:02 WARNING agent] 5ac270025542990b17b15390: augment false SP 1445467_0 into memory {'5358331_0': 0.9978957176208496, '1445467_0': 0.0008327083662152291}\n",
      "[06/11 01:08:02 INFO agent] 5ae5305b5542990ba0bbb1f5: augment SP ['50697409_0'] into memory\n",
      "[06/11 01:08:02 WARNING agent] 5ae5305b5542990ba0bbb1f5: augment false SP 50697409_0 into memory {'1041577_0': 0.9777458906173706, '50697409_0': 1.0}\n",
      "[06/11 01:08:03 INFO agent] 5abbd7985542992ccd8e7fb8: miss SP1 100821_0 (SoHo, Manhattan) for 0.0059 <= 0.5740 when 408 tokens\n",
      "[06/11 01:08:03 INFO agent] 5a7b1d3b5542992d025e677a: miss SP1 968099_0 (Baseball field) for 0.1098 <= 0.5055 when 403 tokens\n",
      "[06/11 01:08:03 INFO agent] 5a7b1d3b5542992d025e677a: augment SP ['968099_0'] into memory\n",
      "[06/11 01:08:05 INFO agent] 5ab42b24554299753aec5a43: miss SP0 33397730_0 (Operation Lighthouse (1937)) for 0.0165 <= 0.5622 when 512 tokens\n",
      "[06/11 01:08:05 INFO agent] 5a8638945542994775f6072d: miss SP1 6816507_0 (Sutera) for 0.2661 <= 0.4954 when 512 tokens\n",
      "[06/11 01:08:05 INFO agent] 5a8638945542994775f6072d: augment SP ['6816507_0'] into memory\n",
      "[06/11 01:08:06 INFO agent] 5a79c7ac5542994bb9457097: miss SP1 19767582_0 (19 Kids and Counting) for 0.0360 <= 0.5946 when 394 tokens\n",
      "[06/11 01:08:06 INFO agent] 5a79c7ac5542994bb9457097: augment SP ['19767582_0'] into memory\n",
      "[06/11 01:08:07 INFO agent] 5ab5744e554299494045efdf: miss SP1 101943_0 (The Goodbye Girl) for 0.5252 <= 0.6179 when 376 tokens\n",
      "[06/11 01:08:07 INFO agent] 5ab5744e554299494045efdf: augment SP ['101943_0'] into memory\n",
      "[06/11 01:08:07 INFO agent] 5ae238375542994d89d5b39a: augment SP ['1181010_0'] into memory\n",
      "[06/11 01:08:07 WARNING agent] 5ae238375542994d89d5b39a: augment false SP 1181010_0 into memory {'14536033_0': 0.9875525236129761, '1181010_0': 1.0}\n",
      "[06/11 01:08:08 INFO agent] 5a8bb7f95542996e8ac889ff: miss SP1 35696452_0 (As One (film)) for 0.0390 <= 0.6282 when 390 tokens\n",
      "[06/11 01:08:08 INFO agent] 5a8bb7f95542996e8ac889ff: augment SP ['35696452_0'] into memory\n",
      "[06/11 01:08:08 INFO agent] 5a72a9ac5542991f9a20c55f: augment SP ['656307_0'] into memory\n",
      "[06/11 01:08:08 WARNING agent] 5a72a9ac5542991f9a20c55f: augment false SP 656307_0 into memory {'33264027_0': 0.9819308519363403, '656307_0': 1.0}\n",
      "[06/11 01:08:09 INFO agent] 5ab8903555429916710eb08e: miss SP1 2070321_0 (Creech Air Force Base) for 0.1245 <= 0.4620 when 386 tokens\n",
      "[06/11 01:08:10 INFO agent] 5a8986fd55429938390d4046: miss SP1 605939_0 (Akira (1988 film)) for 0.0247 <= 0.5630 when 498 tokens\n",
      "[06/11 01:08:10 INFO agent] 5a8986fd55429938390d4046: augment SP ['605939_0'] into memory\n",
      "[06/11 01:08:11 INFO agent] 5ac18b585542994ab5c67d76: augment SP ['711747_0'] into memory\n",
      "[06/11 01:08:11 WARNING agent] 5ac18b585542994ab5c67d76: augment false SP 711747_0 into memory {'4048011_0': 0.9721440672874451, '711747_0': 1.0}\n",
      "[06/11 01:08:13 INFO agent] 5abd0296554299114383a1d1: miss SP1 1218021_0 (Little Bighorn Battlefield National Monument) for 0.0144 <= 0.5922 when 395 tokens\n",
      "[06/11 01:08:13 INFO agent] 5a81c7d15542990a1d231ea9: miss SP1 15912607_0 (Rock (Nominees) Ltd v RCO Holdings Ltd) for 0.0774 <= 0.6603 when 395 tokens\n",
      "[06/11 01:08:13 INFO agent] 5adfa6c7554299025d62a326: miss SP1 62093_0 (Prince Philip, Duke of Edinburgh) for 0.3695 <= 0.5999 when 314 tokens\n",
      "[06/11 01:08:13 INFO agent] 5adfa6c7554299025d62a326: augment SP ['62093_0'] into memory\n",
      "[06/11 01:08:13 INFO agent] 5ae20cd25542997283cd2376: miss SP1 57539_0 (Ulysses (spacecraft)) for 0.0114 <= 0.5522 when 314 tokens\n",
      "[06/11 01:08:13 INFO agent] 5a7da3a95542990b8f5039e6: miss SP0 37537819_0 (Jim Kelch) for 0.1555 <= 0.3915 when 314 tokens\n",
      "[06/11 01:08:14 INFO agent] 5adf3e835542993a75d26442: augment SP ['528128_0'] into memory\n",
      "[06/11 01:08:14 WARNING agent] 5adf3e835542993a75d26442: augment false SP 528128_0 into memory {'867796_0': 0.9301589727401733, '528128_0': 1.0}\n",
      "[06/11 01:08:14 INFO agent] 5a84bc5b5542991dd0999dc3: miss SP1 3183089_0 (Ibrium) for 0.1104 <= 0.6025 when 467 tokens\n",
      "[06/11 01:08:14 INFO agent] 5a84bc5b5542991dd0999dc3: augment SP ['3183089_0'] into memory\n",
      "[06/11 01:08:17 INFO agent] 5a7cb94f554299683c1c6353: miss SP0 314508_0 (Afroman) for 0.3288 <= 0.4148 when 492 tokens\n",
      "[06/11 01:08:17 INFO agent] 5a7be1ab5542997c3ec972a9: miss SP1 44490_0 (Charles Fort) for 0.0777 <= 0.6019 when 394 tokens\n",
      "[06/11 01:08:17 INFO agent] 5a7be1ab5542997c3ec972a9: augment SP ['44490_0'] into memory\n",
      "[06/11 01:08:19 INFO agent] 5ae6a5d15542991bbc97615d: miss SP1 453286_0 (Inca road system) for 0.0015 <= 0.5740 when 401 tokens\n",
      "[06/11 01:08:20 INFO agent] 5a7f697c5542992097ad2f59: remove SP0 24255766_0 (Forbidden Archeology) from memory for 0.9664 -> 0.4160 <= 0.4499 when 495 tokens\n",
      "[06/11 01:08:20 INFO agent] 5ab950bd55429970cfb8ea4c: miss SP1 178962_0 (Knödel) for 0.0299 <= 0.6390 when 495 tokens\n",
      "[06/11 01:08:21 INFO agent] 5abe64bf55429976d4830b13: miss SP1 1375537_0 (SIS Building) for 0.0114 <= 0.5894 when 350 tokens\n",
      "[06/11 01:08:21 INFO agent] 5abe64bf55429976d4830b13: augment SP ['1375537_0'] into memory\n",
      "[06/11 01:08:21 INFO agent] 5abe9f7d5542997ec76fd331: miss SP1 1421152_0 (Claude Makélélé) for 0.1061 <= 0.5487 when 337 tokens\n",
      "[06/11 01:08:21 INFO agent] 5abe9f7d5542997ec76fd331: augment SP ['1421152_0'] into memory\n",
      "[06/11 01:08:22 INFO agent] 5a7c6fde55429907fabeef87: miss SP1 498890_0 (TD Garden) for 0.0100 <= 0.5744 when 349 tokens\n",
      "[06/11 01:08:22 INFO agent] 5a7c6fde55429907fabeef87: augment SP ['498890_0'] into memory\n",
      "[06/11 01:08:22 INFO agent] 5a7a0a2d5542990783324e06: augment SP ['1642427_0'] into memory\n",
      "[06/11 01:08:22 WARNING agent] 5a7a0a2d5542990783324e06: augment false SP 1642427_0 into memory {'53509862_0': 0.9604046940803528, '1642427_0': 1.0}\n",
      "[06/11 01:08:22 INFO agent] 5a89007355429938390d4026: miss SP0 142540_0 (Mos Def) for 0.0408 <= 0.3590 when 349 tokens\n",
      "[06/11 01:08:22 INFO agent] 5a7348555542994cef4bc503: augment SP ['44710_0'] into memory\n",
      "[06/11 01:08:22 WARNING agent] 5a7348555542994cef4bc503: augment false SP 44710_0 into memory {'2053979_0': 0.8193726539611816, '44710_0': 0.1401772975921631}\n",
      "[06/11 01:08:22 INFO agent] 5ab2123155429970612095b9: miss SP1 1329090_0 (Mustafa Kemal Atatürk) for 0.3848 <= 0.5729 when 399 tokens\n",
      "[06/11 01:08:22 INFO agent] 5ab2123155429970612095b9: augment SP ['1329090_0'] into memory\n",
      "[06/11 01:08:22 INFO agent] 5ac4e593554299076e296e37: augment SP ['577019_0'] into memory\n",
      "[06/11 01:08:22 WARNING agent] 5ac4e593554299076e296e37: augment false SP 577019_0 into memory {'1070315_0': 0.9843377470970154, '577019_0': 1.0}\n",
      "[06/11 01:08:23 INFO agent] 5ae705725542995703ce8bbc: miss SP1 19477935_0 (Don Williams discography) for 0.0123 <= 0.6096 when 310 tokens\n",
      "[06/11 01:08:23 INFO agent] 5abe369055429976d4830a8a: miss SP0 1340201_0 (Storegga Slide) for 0.0333 <= 0.5208 when 367 tokens\n",
      "[06/11 01:08:23 INFO agent] 5a7e1bae55429965cec5ea6f: miss SP0 25572395_0 (Fallen (Kate novel)) for 0.4129 <= 0.4312 when 367 tokens\n",
      "[06/11 01:08:23 INFO agent] 5ab797af5542995dae37e96c: miss SP1 3861698_0 (Marrying the Mafia II) for 0.1462 <= 0.6225 when 367 tokens\n",
      "[06/11 01:08:23 INFO agent] 5ab797af5542995dae37e96c: augment SP ['3861698_0'] into memory\n",
      "[06/11 01:08:24 INFO agent] 5a73b1855542992d56e7e388: miss SP1 7049811_0 (Colin Blakely) for 0.0318 <= 0.5950 when 405 tokens\n",
      "[06/11 01:08:24 INFO agent] 5ae0a2c75542993d6555ebcf: remove SP0 36709908_0 (Saadi Love Story) from memory for 0.5892 -> 0.2384 <= 0.4992 when 328 tokens\n",
      "[06/11 01:08:25 INFO agent] 5aba71b155429955dce3ee2a: miss SP1 43279_0 (Grace O'Malley) for 0.0230 <= 0.5099 when 355 tokens\n",
      "[06/11 01:08:25 INFO agent] 5aba71b155429955dce3ee2a: augment SP ['43279_0'] into memory\n",
      "[06/11 01:08:26 INFO agent] 5abfe1115542997d64295909: miss SP1 567065_0 (Thunderbird (cryptozoology)) for 0.1089 <= 0.5821 when 390 tokens\n",
      "[06/11 01:08:26 INFO agent] 5abfe1115542997d64295909: augment SP ['567065_0'] into memory\n",
      "[06/11 01:08:26 INFO agent] 5a832fdd55429954d2e2ec4f: miss SP1 1567992_0 (O, The Oprah Magazine) for 0.0244 <= 0.6481 when 390 tokens\n",
      "[06/11 01:08:26 INFO agent] 5a832fdd55429954d2e2ec4f: augment SP ['1567992_0'] into memory\n",
      "[06/11 01:08:26 INFO agent] 5ac46c83554299204fd21f45: augment SP ['6647514_0'] into memory\n",
      "[06/11 01:08:26 WARNING agent] 5ac46c83554299204fd21f45: augment false SP 6647514_0 into memory {'16862247_0': 0.8927257061004639, '6647514_0': 1.0}\n",
      "[06/11 01:08:26 INFO agent] 5ab45bcd5542991779162c80: augment SP ['23927371_0'] into memory\n",
      "[06/11 01:08:26 WARNING agent] 5ab45bcd5542991779162c80: augment false SP 23927371_0 into memory {'3008867_0': 0.9923160076141357, '23927371_0': 1.0}\n",
      "[06/11 01:08:26 INFO agent] 5a732aaa5542992359bc325a: miss SP1 1233733_0 (Property management) for 0.0119 <= 0.6302 when 512 tokens\n",
      "[06/11 01:08:26 INFO agent] 5a732aaa5542992359bc325a: augment SP ['1233733_0'] into memory\n",
      "[06/11 01:08:27 INFO agent] 5abbdf8055429931dba145bb: miss SP1 4247873_0 (Norman Reedus) for 0.0074 <= 0.5965 when 338 tokens\n",
      "[06/11 01:08:27 INFO agent] 5a81a2e25542990a1d231e32: miss SP1 93791_0 (Roseanne Barr) for 0.0136 <= 0.5763 when 338 tokens\n",
      "[06/11 01:08:27 INFO agent] 5ab56f4b554299637185c599: miss SP1 46441620_0 (Mike Huckabee presidential campaign, 2016) for 0.0955 <= 0.4793 when 338 tokens\n",
      "[06/11 01:08:27 INFO agent] 5a8f23555542997ba9cb31e3: augment SP ['3335680_0'] into memory\n",
      "[06/11 01:08:27 WARNING agent] 5a8f23555542997ba9cb31e3: augment false SP 3335680_0 into memory {'6809024_0': 0.9254176020622253, '3335680_0': 1.0}\n",
      "[06/11 01:08:28 INFO agent] 5a90719b5542995b442420b7: augment SP ['528553_0'] into memory\n",
      "[06/11 01:08:28 WARNING agent] 5a90719b5542995b442420b7: augment false SP 528553_0 into memory {'302839_0': 0.9542313814163208, '528553_0': 0.1898199796676636}\n",
      "[06/11 01:08:28 INFO agent] 5a72e28f5542992359bc31ba: miss SP1 4607950_0 (Magic formula investing) for 0.5093 <= 0.5145 when 363 tokens\n",
      "[06/11 01:08:29 INFO agent] 5a7ce0ce554299452d57ba92: augment SP ['15108852_0'] into memory\n",
      "[06/11 01:08:29 WARNING agent] 5a7ce0ce554299452d57ba92: augment false SP 15108852_0 into memory {'14157520_0': 0.9578967094421387, '15108852_0': 0.16335086822509767}\n",
      "[06/11 01:08:29 INFO agent] 5ae6d3345542996d980e7c85: remove SP1 6822637_0 (Leni Junker) from memory for 0.4317 -> 0.6172 <= 0.6338 when 376 tokens\n",
      "[06/11 01:08:29 INFO agent] 5ae6d3345542996d980e7c85: augment SP ['6822637_0'] into memory\n",
      "[06/11 01:08:30 INFO agent] 5abea6a05542993f32c2a18d: miss SP1 259592_0 (Henniker, New Hampshire) for 0.1377 <= 0.6054 when 373 tokens\n",
      "[06/11 01:08:30 INFO agent] 5abea6a05542993f32c2a18d: augment SP ['259592_0'] into memory\n",
      "[06/11 01:08:31 INFO agent] 5a7f341655429930675136a0: miss SP1 172104_0 (Linda McCartney) for 0.0632 <= 0.6492 when 429 tokens\n",
      "[06/11 01:08:31 INFO agent] 5a7f341655429930675136a0: augment SP ['172104_0'] into memory\n",
      "[06/11 01:08:32 INFO agent] 5a8b429f5542995d1e6f132c: augment SP ['22418985_0'] into memory\n",
      "[06/11 01:08:32 WARNING agent] 5a8b429f5542995d1e6f132c: augment false SP 22418985_0 into memory {'44447394_0': 0.9839969277381897, '22418985_0': 0.004125630855560303}\n",
      "[06/11 01:08:32 INFO agent] 5a74655b55429974ef308bf0: augment SP ['1060946_0'] into memory\n",
      "[06/11 01:08:32 WARNING agent] 5a74655b55429974ef308bf0: augment false SP 1060946_0 into memory {'11239055_0': 0.9923219084739685, '1060946_0': 0.00609189160168171}\n",
      "[06/11 01:08:33 INFO agent] 5a7c221f554299683c1c62d2: miss SP1 259552_0 (Marlborough, New Hampshire) for 0.3449 <= 0.5973 when 324 tokens\n",
      "[06/11 01:08:33 INFO agent] 5a7c221f554299683c1c62d2: augment SP ['259552_0'] into memory\n",
      "[06/11 01:08:34 INFO agent] 5a8089535542992bc0c4a762: augment SP ['6946582_0'] into memory\n",
      "[06/11 01:08:34 WARNING agent] 5a8089535542992bc0c4a762: augment false SP 6946582_0 into memory {'24558528_0': 0.9774726629257202, '6946582_0': 1.0}\n",
      "[06/11 01:08:34 INFO agent] 5a75140b5542996c70cfae87: remove SP0 8237_0 (Don Quixote) from memory for 0.7026 -> 0.5186 <= 0.5939 when 421 tokens\n",
      "[06/11 01:08:34 INFO agent] 5a88db445542993b751ca88a: miss SP0 48233724_0 (Picciola serenata) for 0.0252 <= 0.4764 when 373 tokens\n",
      "[06/11 01:08:35 INFO agent] 5ac10c5e554299294b219074: miss SP1 61194_0 (A Prairie Home Companion) for 0.1749 <= 0.5751 when 338 tokens\n",
      "[06/11 01:08:37 INFO agent] 5ab5d27a554299494045f073: miss SP1 472464_0 (Kill (body of water)) for 0.0051 <= 0.5729 when 348 tokens\n",
      "[06/11 01:08:37 INFO agent] 5ab5d27a554299494045f073: augment SP ['472464_0'] into memory\n",
      "[06/11 01:08:37 INFO agent] 5ab2ed62554299166977413a: remove SP1 255109_0 (Plymouth (automobile)) from memory for 0.6577 -> 0.2064 <= 0.6126 when 348 tokens\n",
      "[06/11 01:08:38 INFO agent] 5a78c235554299078472775d: miss SP0 7999675_0 (Juan Mata) for 0.0262 <= 0.5081 when 374 tokens\n",
      "[06/11 01:08:39 INFO agent] 5ae61dce5542992663a4f262: miss SP0 243685_0 (Julianne Moore) for 0.0913 <= 0.4669 when 408 tokens\n",
      "[06/11 01:08:39 INFO agent] 5abc553a554299700f9d7871: miss SP1 37769451_0 (Knowlton Hall) for 0.0351 <= 0.6000 when 408 tokens\n",
      "[06/11 01:08:39 INFO agent] 5abc553a554299700f9d7871: augment SP ['37769451_0'] into memory\n",
      "[06/11 01:08:39 INFO agent] 5a8bc1565542996e8ac88a0c: augment SP ['367785_0'] into memory\n",
      "[06/11 01:08:39 WARNING agent] 5a8bc1565542996e8ac88a0c: augment false SP 367785_0 into memory {'12882819_0': 0.8550994992256165, '367785_0': 0.22562522888183595}\n",
      "[06/11 01:08:39 INFO agent] 5ae5e852554299546bf82fb8: miss SP1 2495391_0 (Goldilocks and the Three Bears) for 0.3277 <= 0.6353 when 504 tokens\n",
      "[06/11 01:08:39 INFO agent] 5ae5e852554299546bf82fb8: augment SP ['2495391_0'] into memory\n",
      "[06/11 01:08:40 INFO agent] 5a7c4a6455429907fabeef53: augment SP ['239870_0'] into memory\n",
      "[06/11 01:08:40 WARNING agent] 5a7c4a6455429907fabeef53: augment false SP 239870_0 into memory {'43455736_0': 0.9586709141731262, '239870_0': 1.0}\n",
      "[06/11 01:08:40 INFO agent] 5a793d335542994bb9456fca: miss SP0 26146987_0 (The Sun (United Kingdom)) for 0.0500 <= 0.6225 when 356 tokens\n",
      "[06/11 01:08:40 INFO agent] 5a8e8d665542995085b3744e: augment SP ['324217_0'] into memory\n",
      "[06/11 01:08:40 WARNING agent] 5a8e8d665542995085b3744e: augment false SP 324217_0 into memory {'49650112_0': 0.9949032068252563, '324217_0': 1.0}\n",
      "[06/11 01:08:40 INFO agent] 5ac4f7e955429924173fb523: miss SP1 13062292_0 (Jane Fearnley-Whittingstall) for 0.5255 <= 0.6086 when 512 tokens\n",
      "[06/11 01:08:40 INFO agent] 5ac4f7e955429924173fb523: augment SP ['13062292_0'] into memory\n",
      "[06/11 01:08:41 INFO agent] 5ac4db1d554299076e296e1a: augment SP ['34741706_0'] into memory\n",
      "[06/11 01:08:41 WARNING agent] 5ac4db1d554299076e296e1a: augment false SP 34741706_0 into memory {'20557134_0': 0.9267743229866028, '34741706_0': 0.009842146933078767}\n",
      "[06/11 01:08:43 INFO agent] 5a8cefc155429941ae14df55: augment SP ['7548287_0'] into memory\n",
      "[06/11 01:08:43 WARNING agent] 5a8cefc155429941ae14df55: augment false SP 7548287_0 into memory {'4595718_0': 0.9266032576560974, '7548287_0': 0.32295672893524174}\n",
      "[06/11 01:08:45 INFO agent] 5ade1ddf55429939a52fe827: miss SP1 5856020_0 (Roslin Castle) for 0.0046 <= 0.6009 when 359 tokens\n",
      "[06/11 01:08:45 INFO agent] 5ade1ddf55429939a52fe827: augment SP ['5856020_0'] into memory\n",
      "[06/11 01:08:45 INFO agent] 5abafb6d5542992ccd8e7e92: miss SP0 33303392_0 (Starship Entertainment) for 0.3036 <= 0.4521 when 354 tokens\n",
      "[06/11 01:08:46 INFO agent] 5ae1d1995542997283cd226c: miss SP1 50695685_0 (Ishqbaaaz) for 0.2139 <= 0.6694 when 383 tokens\n",
      "[06/11 01:08:46 INFO agent] 5ae1d1995542997283cd226c: augment SP ['50695685_0'] into memory\n",
      "[06/11 01:08:47 INFO agent] 5a80c01855429938b61421b8: miss SP1 53938561_0 (1994 Georgia Tech Yellow Jackets football team) for 0.0512 <= 0.6029 when 357 tokens\n",
      "[06/11 01:08:48 INFO agent] 5abfce075542994516f454f7: miss SP1 359328_0 (Brighton hotel bombing) for 0.0310 <= 0.6232 when 434 tokens\n",
      "[06/11 01:08:48 INFO agent] 5abfce075542994516f454f7: augment SP ['359328_0'] into memory\n",
      "[06/11 01:08:49 INFO agent] 5ae368715542991a06ce99bd: miss SP1 5765638_0 (Lefevre Peninsula) for 0.1182 <= 0.5399 when 461 tokens\n",
      "[06/11 01:08:49 INFO agent] 5ade04d75542997dc7907125: augment SP ['316201_0'] into memory\n",
      "[06/11 01:08:49 WARNING agent] 5ade04d75542997dc7907125: augment false SP 316201_0 into memory {'51780570_0': 0.9607864022254944, '316201_0': 1.0}\n",
      "[06/11 01:08:50 INFO agent] 5a7143625542994082a3e71e: miss SP1 708892_0 (Jason Lee (actor)) for 0.0826 <= 0.5926 when 340 tokens\n",
      "[06/11 01:08:51 INFO agent] 5ae69e6d5542996d980e7c62: augment SP ['8007197_0'] into memory\n",
      "[06/11 01:08:51 WARNING agent] 5ae69e6d5542996d980e7c62: augment false SP 8007197_0 into memory {'16811276_0': 0.9956982135772705, '8007197_0': 0.0016400255262851715}\n",
      "[06/11 01:08:52 INFO agent] 5ae4ce835542990ba0bbb14d: miss SP1 15895358_0 (Calgary) for 0.6004 <= 0.6245 when 425 tokens\n",
      "[06/11 01:08:52 INFO agent] 5ae4ce835542990ba0bbb14d: augment SP ['15895358_0'] into memory\n",
      "[06/11 01:08:52 INFO agent] 5ab2a32f554299706120967b: miss SP0 48069113_0 (Eugene Rosenberg) for 0.0344 <= 0.3563 when 511 tokens\n",
      "[06/11 01:08:53 INFO agent] 5ab9530a55429970cfb8ea62: miss SP1 3011806_0 (Scratchcard) for 0.0024 <= 0.5795 when 380 tokens\n",
      "[06/11 01:08:54 INFO agent] 5a8740ee5542994846c1cd35: miss SP1 200145_0 (The Jungle Book) for 0.0172 <= 0.6378 when 458 tokens\n",
      "[06/11 01:08:54 INFO agent] 5ac273455542992f1f2b38d4: augment SP ['301899_0'] into memory\n",
      "[06/11 01:08:54 WARNING agent] 5ac273455542992f1f2b38d4: augment false SP 301899_0 into memory {'3152902_0': 0.9512553215026855, '301899_0': 0.13009908199310302}\n",
      "[06/11 01:08:54 INFO agent] 5ae56c875542990ba0bbb2a2: remove SP1 11010822_0 (Yesterday Once More (album)) from memory for 0.6881 -> 0.6140 <= 0.6552 when 347 tokens\n",
      "[06/11 01:08:54 INFO agent] 5ae56c875542990ba0bbb2a2: augment SP ['11010822_0'] into memory\n",
      "[06/11 01:08:55 INFO agent] 5ae618535542995703ce8af7: miss SP1 202009_0 (Listed building) for 0.3209 <= 0.5830 when 508 tokens\n",
      "[06/11 01:08:55 INFO agent] 5ae618535542995703ce8af7: augment SP ['202009_0'] into memory\n",
      "[06/11 01:08:55 INFO agent] 5a7e513a5542994959419996: remove SP0 41850402_0 (Tesano) from memory for 0.5009 -> 0.5351 <= 0.5545 when 508 tokens\n",
      "[06/11 01:08:55 INFO agent] 5a883c175542997e5c09a5ae: augment SP ['34399_0'] into memory\n",
      "[06/11 01:08:55 WARNING agent] 5a883c175542997e5c09a5ae: augment false SP 34399_0 into memory {'10594981_0': 0.9728670120239258, '34399_0': 1.0}\n",
      "[06/11 01:08:55 INFO agent] 5ab682dc55429954757d3318: remove SP1 643230_0 (Micro Instrumentation and Telemetry Systems) from memory for 0.9942 -> 0.0107 <= 0.6030 when 391 tokens\n",
      "[06/11 01:08:56 INFO agent] 5a8d0c74554299585d9e37a1: remove SP1 55130701_0 (I Drink My Coffee Alone) from memory for 0.5872 -> 0.1492 <= 0.5249 when 344 tokens\n",
      "[06/11 01:08:56 INFO agent] 5a88401c5542994846c1ce60: miss SP1 78024_0 (Big East Conference (1979–2013)) for 0.0043 <= 0.6325 when 313 tokens\n",
      "[06/11 01:08:56 INFO agent] 5a88401c5542994846c1ce60: augment SP ['78024_0'] into memory\n",
      "[06/11 01:08:57 INFO agent] 5ae4f8b755429960a22e0230: augment SP ['628665_0'] into memory\n",
      "[06/11 01:08:57 WARNING agent] 5ae4f8b755429960a22e0230: augment false SP 628665_0 into memory {'30124768_0': 0.9937962293624878, '628665_0': 1.0}\n",
      "[06/11 01:08:57 INFO agent] 5a87081755429960ec39b6fe: miss SP1 45083058_0 (The Defenders (miniseries)) for 0.0081 <= 0.6080 when 342 tokens\n",
      "[06/11 01:08:57 INFO agent] 5a87081755429960ec39b6fe: augment SP ['45083058_0'] into memory\n",
      "[06/11 01:08:57 INFO agent] 5a89e28f5542992e4fca843e: miss SP1 28390_0 (Seattle Seahawks) for 0.0614 <= 0.6055 when 342 tokens\n",
      "[06/11 01:08:57 INFO agent] 5a89e28f5542992e4fca843e: augment SP ['28390_0'] into memory\n",
      "[06/11 01:08:57 INFO agent] 5adfb10855429942ec259af9: miss SP1 23784230_0 (Raiffeisen Bankengruppe (Austria)) for 0.0060 <= 0.6052 when 342 tokens\n",
      "[06/11 01:08:58 INFO agent] 5a8e68b15542995085b3742d: remove SP0 4905151_0 (Battle of Happo) from memory for 0.8233 -> 0.1185 <= 0.4881 when 313 tokens\n",
      "[06/11 01:08:58 INFO agent] 5ae5b06e554299546bf82f2a: miss SP1 5695162_0 (Palacio de Deportes de la Comunidad de Madrid) for 0.0141 <= 0.5944 when 313 tokens\n",
      "[06/11 01:08:58 INFO agent] 5ae5b06e554299546bf82f2a: augment SP ['5695162_0'] into memory\n",
      "[06/11 01:08:58 INFO agent] 5ae48a2b55429913cc204494: augment SP ['695190_0'] into memory\n",
      "[06/11 01:08:58 WARNING agent] 5ae48a2b55429913cc204494: augment false SP 695190_0 into memory {'3940827_0': 0.9516726732254028, '695190_0': 0.2543905258178711}\n",
      "[06/11 01:08:59 INFO agent] 5a8760e75542996e4f3087af: miss SP0 442343_0 (Whatever Happened to... Robot Jones?) for 0.2115 <= 0.3878 when 408 tokens\n",
      "[06/11 01:08:59 INFO agent] 5a7be294554299294a54ab44: miss SP1 1296149_0 (Impeachment of Bill Clinton) for 0.0039 <= 0.5603 when 379 tokens\n",
      "[06/11 01:08:59 INFO agent] 5ab9b939554299743d22ebca: miss SP1 2165196_0 (Michigan gubernatorial election, 2006) for 0.0017 <= 0.5673 when 379 tokens\n",
      "[06/11 01:09:00 INFO agent] 5abb729b5542993f40c73af4: miss SP0 888974_0 (U.S. Route 56) for 0.1630 <= 0.3656 when 473 tokens\n",
      "[06/11 01:09:01 INFO agent] 5a8c7057554299653c1aa066: miss SP1 17401191_0 (2011 UEFA Champions League Final) for 0.0050 <= 0.6001 when 346 tokens\n",
      "[06/11 01:09:01 INFO agent] 5a737d3c55429908901be2c8: augment SP ['18839_0'] into memory\n",
      "[06/11 01:09:01 WARNING agent] 5a737d3c55429908901be2c8: augment false SP 18839_0 into memory {'46899865_0': 0.9955428242683411, '18839_0': 0.005078918114304543}\n",
      "[06/11 01:09:01 INFO agent] 5adcf8155542990d50227d6a: miss SP0 12321592_0 (Maria Brink) for 0.4007 <= 0.4364 when 346 tokens\n",
      "[06/11 01:09:01 INFO agent] 5ab71a6a5542991d3222377c: augment SP ['1572558_0'] into memory\n",
      "[06/11 01:09:01 WARNING agent] 5ab71a6a5542991d3222377c: augment false SP 1572558_0 into memory {'33839404_0': 0.9580771327018738, '1572558_0': 1.0}\n",
      "[06/11 01:09:01 INFO agent] 5ae7bdc05542993210983f29: miss SP1 9023823_0 (Tourism in Switzerland) for 0.0055 <= 0.5578 when 275 tokens\n",
      "[06/11 01:09:01 INFO agent] 5ae7bdc05542993210983f29: augment SP ['9023823_0'] into memory\n",
      "[06/11 01:09:01 INFO agent] 5ae30aa05542992decbdcdd7: miss SP0 44480493_0 (Black Crusade (role-playing game)) for 0.0390 <= 0.7040 when 275 tokens\n",
      "[06/11 01:09:02 INFO agent] 5a8901a2554299515336125a: miss SP1 451642_0 (Wendigo) for 0.0033 <= 0.5262 when 365 tokens\n",
      "[06/11 01:09:02 INFO agent] 5a7607b6554299109176e619: miss SP1 25808_0 (Robert Noyce) for 0.4557 <= 0.5845 when 437 tokens\n",
      "[06/11 01:09:02 INFO agent] 5a7607b6554299109176e619: augment SP ['25808_0'] into memory\n",
      "[06/11 01:09:03 INFO agent] 5abfe2a15542997d6429591c: miss SP1 2330138_0 (Agricultural cooperative) for 0.0693 <= 0.5992 when 375 tokens\n",
      "[06/11 01:09:03 INFO agent] 5a80ad205542992bc0c4a79d: miss SP1 2364715_0 (Robert Grosvenor, 1st Marquess of Westminster) for 0.0637 <= 0.5235 when 375 tokens\n",
      "[06/11 01:09:03 INFO agent] 5a80ad205542992bc0c4a79d: augment SP ['2364715_0'] into memory\n",
      "[06/11 01:09:03 INFO agent] 5a7af08655429931da12c989: miss SP1 3093327_0 (Caesium-137) for 0.0628 <= 0.7362 when 389 tokens\n",
      "[06/11 01:09:05 INFO agent] 5a80abec5542996402f6a5e1: augment SP ['124520_0'] into memory\n",
      "[06/11 01:09:05 WARNING agent] 5a80abec5542996402f6a5e1: augment false SP 124520_0 into memory {'42044624_0': 0.919600248336792, '124520_0': 1.0}\n",
      "[06/11 01:09:06 INFO agent] 5adc985e5542990d50227cb7: miss SP1 42051242_0 (Certificate of Primary Education) for 0.0017 <= 0.5508 when 441 tokens\n",
      "[06/11 01:09:06 INFO agent] 5abbd5a75542993f40c73bd3: augment SP ['293236_0'] into memory\n",
      "[06/11 01:09:06 WARNING agent] 5abbd5a75542993f40c73bd3: augment false SP 293236_0 into memory {'38157560_0': 0.9284648299217224, '293236_0': 1.0}\n",
      "[06/11 01:09:06 INFO agent] 5a8b97485542995d1e6f140f: remove SP1 7880254_0 (Michael Casey (poet)) from memory for 0.9917 -> 0.0277 <= 0.5726 when 362 tokens\n",
      "[06/11 01:09:07 INFO agent] 5a8911dd554299515336129d: miss SP1 690218_0 (Test (wrestler)) for 0.0037 <= 0.6276 when 437 tokens\n",
      "[06/11 01:09:08 INFO agent] 5a78d38455429970f5fffd94: augment SP ['1246843_0'] into memory\n",
      "[06/11 01:09:08 WARNING agent] 5a78d38455429970f5fffd94: augment false SP 1246843_0 into memory {'42612117_0': 0.997308611869812, '1246843_0': 0.0014991365373134614}\n",
      "[06/11 01:09:08 INFO agent] 5ac50bca55429924173fb57f: miss SP1 396721_0 (Sheldon Lee Glashow) for 0.0553 <= 0.5366 when 407 tokens\n",
      "[06/11 01:09:08 INFO agent] 5ac50bca55429924173fb57f: augment SP ['396721_0'] into memory\n",
      "[06/11 01:09:09 INFO agent] 5a78ae8b5542990784727730: augment SP ['107753_0'] into memory\n",
      "[06/11 01:09:09 WARNING agent] 5a78ae8b5542990784727730: augment false SP 107753_0 into memory {'4212522_0': 0.9572070837020874, '107753_0': 1.0}\n",
      "[06/11 01:09:10 INFO agent] 5a7337715542991f9a20c690: miss SP1 106337_0 (Coal Miner's Daughter (film)) for 0.2700 <= 0.5898 when 479 tokens\n",
      "[06/11 01:09:10 INFO agent] 5ab3d1b85542992ade7c6eba: miss SP1 1056349_0 (WorldNetDaily) for 0.4770 <= 0.6674 when 479 tokens\n",
      "[06/11 01:09:10 INFO agent] 5ab3d1b85542992ade7c6eba: augment SP ['1056349_0'] into memory\n",
      "[06/11 01:09:10 INFO agent] 5a7bea3d5542996dd594b847: miss SP0 48161460_0 (Robin Hood (Once Upon a Time)) for 0.0232 <= 0.5494 when 479 tokens\n",
      "[06/11 01:09:10 INFO agent] 5ab488bc5542990594ba9c55: miss SP1 32016370_0 (Sam Nazarian) for 0.0042 <= 0.6093 when 479 tokens\n",
      "[06/11 01:09:10 INFO agent] 5a9070dd5542995b442420b5: miss SP1 23300496_0 (Mansoor Ali Khan Pataudi) for 0.2081 <= 0.6141 when 509 tokens\n",
      "[06/11 01:09:10 INFO agent] 5a9070dd5542995b442420b5: remove SP0 2205153_0 (Iftikhar Ali Khan Pataudi) from memory for 0.9679 -> 0.1975 <= 0.6141 when 509 tokens\n",
      "[06/11 01:09:10 INFO agent] 5a9070dd5542995b442420b5: augment SP ['2205153_0', '23300496_0'] into memory\n",
      "[06/11 01:09:10 INFO agent] 5ae1e4095542997283cd22bf: miss SP1 51054_0 (American black bear) for 0.0213 <= 0.5411 when 509 tokens\n",
      "[06/11 01:09:10 INFO agent] 5ae1e4095542997283cd22bf: augment SP ['51054_0'] into memory\n",
      "[06/11 01:09:11 INFO agent] 5ae6638555429908198fa5ba: miss SP1 3694278_0 (Colorado Buffaloes) for 0.1001 <= 0.5110 when 389 tokens\n",
      "[06/11 01:09:12 INFO agent] 5a842f705542996488c2e4fc: augment SP ['4152843_0'] into memory\n",
      "[06/11 01:09:12 WARNING agent] 5a842f705542996488c2e4fc: augment false SP 4152843_0 into memory {'315548_0': 0.9670524001121521, '4152843_0': 1.0}\n",
      "[06/11 01:09:12 INFO agent] 5a89d36e554299515336132a: miss SP0 2863155_0 (5.15) for 0.4399 <= 0.4415 when 297 tokens\n",
      "[06/11 01:09:15 INFO agent] 5a7f97c05542995d8a8ddeb0: remove SP1 666817_0 (Orange County Choppers) from memory for 0.9502 -> 0.1544 <= 0.5957 when 311 tokens\n",
      "[06/11 01:09:15 INFO agent] 5a83972f5542996488c2e46d: augment SP ['6976299_0'] into memory\n",
      "[06/11 01:09:15 WARNING agent] 5a83972f5542996488c2e46d: augment false SP 6976299_0 into memory {'4544959_0': 0.9362660050392151, '6976299_0': 1.0}\n",
      "[06/11 01:09:15 INFO agent] 5ade636255429939a52fe896: remove SP0 340537_0 (Curzon Line) from memory for 0.8120 -> 0.0547 <= 0.6087 when 390 tokens\n",
      "[06/11 01:09:16 INFO agent] 5ae5a8435542992663a4f208: miss SP1 4120162_0 (Pieter van Musschenbroek) for 0.0025 <= 0.6798 when 352 tokens\n",
      "[06/11 01:09:16 INFO agent] 5ae5a8435542992663a4f208: augment SP ['4120162_0'] into memory\n",
      "[06/11 01:09:16 INFO agent] 5a8e82ff5542995a26add4e2: miss SP1 1458091_0 (Walther P38) for 0.0253 <= 0.6427 when 352 tokens\n",
      "[06/11 01:09:16 INFO agent] 5a8e82ff5542995a26add4e2: augment SP ['1458091_0'] into memory\n",
      "[06/11 01:09:16 INFO agent] 5ae47fe255429913cc204482: miss SP1 31579266_0 (Holden Commodore (VF)) for 0.0561 <= 0.6075 when 458 tokens\n",
      "[06/11 01:09:17 INFO agent] 5ade56ed5542997c77adee04: miss SP1 700723_0 (International Watch Company) for 0.0050 <= 0.5823 when 450 tokens\n",
      "[06/11 01:09:17 INFO agent] 5ade56ed5542997c77adee04: augment SP ['700723_0'] into memory\n",
      "[06/11 01:09:17 INFO agent] 5abee70a5542994516f45476: miss SP1 318064_0 (John Spencer-Churchill, 7th Duke of Marlborough) for 0.1511 <= 0.5672 when 450 tokens\n",
      "[06/11 01:09:17 INFO agent] 5ab9988b554299131ca4238e: miss SP0 40226212_0 (Innocence (2013 film)) for 0.0124 <= 0.6403 when 450 tokens\n",
      "[06/11 01:09:17 INFO agent] 5adcc5715542990d50227d0a: miss SP1 52788520_0 (Castle on the Hill (song)) for 0.1272 <= 0.5307 when 450 tokens\n",
      "[06/11 01:09:18 INFO agent] 5a846da0554299334474611e: miss SP1 295430_0 (Dizzy Dean) for 0.1087 <= 0.6200 when 411 tokens\n",
      "[06/11 01:09:18 INFO agent] 5a846da0554299334474611e: augment SP ['295430_0'] into memory\n",
      "[06/11 01:09:18 INFO agent] 5a8534305542997b5ce3ffc4: augment SP ['18639_0'] into memory\n",
      "[06/11 01:09:18 WARNING agent] 5a8534305542997b5ce3ffc4: augment false SP 18639_0 into memory {'1981066_0': 0.9699408411979675, '18639_0': 0.22276852130889893}\n",
      "[06/11 01:09:18 INFO agent] 5a7184675542994082a3e864: miss SP1 731608_0 (Mazda Capella) for 0.5689 <= 0.6486 when 367 tokens\n",
      "[06/11 01:09:18 INFO agent] 5a7184675542994082a3e864: augment SP ['731608_0'] into memory\n",
      "[06/11 01:09:19 INFO agent] 5a7f74975542992097ad2f77: augment SP ['21134_0'] into memory\n",
      "[06/11 01:09:19 WARNING agent] 5a7f74975542992097ad2f77: augment false SP 21134_0 into memory {'25839573_0': 0.9726452231407166, '21134_0': 1.0}\n",
      "[06/11 01:09:20 INFO agent] 5abc546b554299700f9d786c: miss SP1 210868_0 (Square Enix) for 0.0494 <= 0.6457 when 496 tokens\n",
      "[06/11 01:09:20 INFO agent] 5abc546b554299700f9d786c: augment SP ['210868_0'] into memory\n",
      "[06/11 01:09:20 INFO agent] 5ae6e0485542996d980e7ca6: miss SP1 50938529_0 (The Rap Game) for 0.0036 <= 0.4908 when 365 tokens\n",
      "[06/11 01:09:20 INFO agent] 5ae6e0485542996d980e7ca6: augment SP ['50938529_0'] into memory\n",
      "[06/11 01:09:21 INFO agent] 5a87aa135542996e4f3088b8: miss SP1 78747_0 (Cat Stevens) for 0.0017 <= 0.4945 when 376 tokens\n",
      "[06/11 01:09:21 INFO agent] 5a87aa135542996e4f3088b8: augment SP ['78747_0'] into memory\n",
      "[06/11 01:09:21 INFO agent] 5a73d33e5542992d56e7e3a9: augment SP ['155019_0'] into memory\n",
      "[06/11 01:09:21 WARNING agent] 5a73d33e5542992d56e7e3a9: augment false SP 155019_0 into memory {'27634465_0': 0.9606178402900696, '155019_0': 0.03664004504680634}\n",
      "[06/11 01:09:22 INFO agent] 5ac0e064554299012d1db64e: remove SP1 53201826_0 (Cathedral of Jesus Saviour of the World, Rrëshen) from memory for 0.4712 -> 0.3136 <= 0.5621 when 387 tokens\n",
      "[06/11 01:09:22 INFO agent] 5ac0e064554299012d1db64e: augment SP ['53201826_0'] into memory\n",
      "[06/11 01:09:22 INFO agent] 5a72df8d5542992359bc31b4: augment SP ['998623_0'] into memory\n",
      "[06/11 01:09:22 WARNING agent] 5a72df8d5542992359bc31b4: augment false SP 998623_0 into memory {'24155746_0': 0.9841954708099365, '998623_0': 1.0}\n",
      "[06/11 01:09:22 INFO agent] 5adf51e05542995534e8c78a: miss SP1 2352776_0 (Italian nationality law) for 0.0044 <= 0.6566 when 338 tokens\n",
      "[06/11 01:09:22 INFO agent] 5a7736ef55429972597f14a7: miss SP1 3761595_0 (Cheshire Association Football League) for 0.0979 <= 0.6304 when 338 tokens\n",
      "[06/11 01:09:22 INFO agent] 5a7736ef55429972597f14a7: augment SP ['3761595_0'] into memory\n",
      "[06/11 01:09:22 INFO agent] 5ab5c984554299488d4d9a21: augment SP ['3306368_0'] into memory\n",
      "[06/11 01:09:22 WARNING agent] 5ab5c984554299488d4d9a21: augment false SP 3306368_0 into memory {'1725532_0': 0.9737879633903503, '3306368_0': 0.3210626542568207}\n",
      "[06/11 01:09:22 INFO agent] 5a7b537555429927d897bf90: miss SP1 1309904_0 (Beer stein) for 0.0803 <= 0.5431 when 338 tokens\n",
      "[06/11 01:09:22 INFO agent] 5a7b537555429927d897bf90: augment SP ['1309904_0'] into memory\n",
      "[06/11 01:09:22 INFO agent] 5ab61798554299488d4d9aaa: miss SP0 275099_0 (Oxford Movement) for 0.0459 <= 0.7464 when 338 tokens\n",
      "[06/11 01:09:23 INFO agent] 5a8b64695542997f31a41d04: miss SP0 27515360_0 (Valdosta State Blazers) for 0.2161 <= 0.4151 when 351 tokens\n",
      "[06/11 01:09:23 INFO agent] 5ab6f39c554299110f219a79: augment SP ['101594_0'] into memory\n",
      "[06/11 01:09:23 WARNING agent] 5ab6f39c554299110f219a79: augment false SP 101594_0 into memory {'1141380_0': 0.9511610865592957, '101594_0': 0.09643472433090211}\n",
      "[06/11 01:09:24 INFO agent] 5a8fa89c55429918e830d29f: augment SP ['303103_0'] into memory\n",
      "[06/11 01:09:24 WARNING agent] 5a8fa89c55429918e830d29f: augment false SP 303103_0 into memory {'44478563_0': 0.9766196608543396, '303103_0': 1.0}\n",
      "[06/11 01:09:25 INFO agent] 5ae1fc24554299492dc91bbd: miss SP1 35588437_0 (DreamWorks Dragons) for 0.0061 <= 0.6228 when 374 tokens\n",
      "[06/11 01:09:25 INFO agent] 5a8abcab5542996c9b8d5f67: miss SP1 64965_0 (Sigourney Weaver) for 0.4614 <= 0.4958 when 374 tokens\n",
      "[06/11 01:09:25 INFO agent] 5ac3def75542997ea680c95f: augment SP ['41616651_0'] into memory\n",
      "[06/11 01:09:25 WARNING agent] 5ac3def75542997ea680c95f: augment false SP 41616651_0 into memory {'43783012_0': 0.9605101943016052, '41616651_0': 1.0}\n",
      "[06/11 01:09:26 INFO agent] 5a8bc29a5542995d1e6f1446: miss SP1 142806_0 (Faith No More) for 0.0182 <= 0.5174 when 327 tokens\n",
      "[06/11 01:09:26 INFO agent] 5ae3d5ec5542992f92d8238c: augment SP ['55593_0'] into memory\n",
      "[06/11 01:09:26 WARNING agent] 5ae3d5ec5542992f92d8238c: augment false SP 55593_0 into memory {'725770_0': 0.9904995560646057, '55593_0': 0.003376971557736397}\n",
      "[06/11 01:09:26 INFO agent] 5ab73eaf5542992aa3b8c7ef: augment SP ['41244_0'] into memory\n",
      "[06/11 01:09:26 WARNING agent] 5ab73eaf5542992aa3b8c7ef: augment false SP 41244_0 into memory {'1518773_0': 0.996660590171814, '41244_0': 0.002192728593945503}\n",
      "[06/11 01:09:27 INFO agent] 5a7b22f8554299042af8f6ff: miss SP1 66906_0 (Indonesian National Revolution) for 0.0032 <= 0.5320 when 356 tokens\n",
      "[06/11 01:09:27 INFO agent] 5a7782b95542995d8318117f: miss SP0 41507496_0 (2014 Travelers All-Star Curling Skins Game) for 0.1340 <= 0.4725 when 356 tokens\n",
      "[06/11 01:09:27 INFO agent] 5a82ffef55429954d2e2ebf2: augment SP ['225099_0'] into memory\n",
      "[06/11 01:09:27 WARNING agent] 5a82ffef55429954d2e2ebf2: augment false SP 225099_0 into memory {'12956498_0': 0.694988489151001, '225099_0': 1.0}\n",
      "[06/11 01:09:27 INFO agent] 5a863114554299211dda2aa5: augment SP ['318606_0'] into memory\n",
      "[06/11 01:09:27 WARNING agent] 5a863114554299211dda2aa5: augment false SP 318606_0 into memory {'845403_0': 0.9772497415542603, '318606_0': 0.3635866403579712}\n",
      "[06/11 01:09:27 INFO agent] 5ae6196d5542995703ce8afd: miss SP1 407551_0 (Mariinsky Ballet) for 0.0050 <= 0.5935 when 375 tokens\n",
      "[06/11 01:09:27 INFO agent] 5ae6196d5542995703ce8afd: augment SP ['407551_0'] into memory\n",
      "[06/11 01:09:28 INFO agent] 5a7da6c25542995ed0d16652: augment SP ['574796_0'] into memory\n",
      "[06/11 01:09:28 WARNING agent] 5a7da6c25542995ed0d16652: augment false SP 574796_0 into memory {'7782659_0': 0.988943338394165, '574796_0': 1.0}\n",
      "[06/11 01:09:28 INFO agent] 5adbd68155429947ff173842: augment SP ['959765_0'] into memory\n",
      "[06/11 01:09:28 WARNING agent] 5adbd68155429947ff173842: augment false SP 959765_0 into memory {'1114948_0': 0.9389265179634094, '959765_0': 1.0}\n",
      "[06/11 01:09:28 INFO agent] 5ae6c2285542995703ce8b9a: augment SP ['20603_0'] into memory\n",
      "[06/11 01:09:28 WARNING agent] 5ae6c2285542995703ce8b9a: augment false SP 20603_0 into memory {'37987774_0': 0.9520710706710815, '20603_0': 0.0730786681175232}\n",
      "[06/11 01:09:28 INFO agent] 5ac531ea5542994611c8b419: miss SP1 1277423_0 (50 Greatest Players in NBA History) for 0.0341 <= 0.5962 when 393 tokens\n",
      "[06/11 01:09:28 INFO agent] 5a8e942b5542995085b3745c: augment SP ['53562922_0'] into memory\n",
      "[06/11 01:09:28 WARNING agent] 5a8e942b5542995085b3745c: augment false SP 53562922_0 into memory {'39425909_0': 0.9637371301651001, '53562922_0': 1.0}\n",
      "[06/11 01:09:28 INFO agent] 5add352b5542990dbb2f7dc4: augment SP ['154956_0'] into memory\n",
      "[06/11 01:09:28 WARNING agent] 5add352b5542990dbb2f7dc4: augment false SP 154956_0 into memory {'1046470_0': 0.9716734886169434, '154956_0': 1.0}\n",
      "[06/11 01:09:29 INFO agent] 5a862da855429960ec39b640: miss SP1 301428_0 (Rawlings Gold Glove Award) for 0.2376 <= 0.5006 when 450 tokens\n",
      "[06/11 01:09:29 INFO agent] 5a862da855429960ec39b640: augment SP ['301428_0'] into memory\n",
      "[06/11 01:09:29 INFO agent] 5aded1595542995ec70e8f29: miss SP1 52103099_0 (Shani (TV series)) for 0.0323 <= 0.5464 when 424 tokens\n",
      "[06/11 01:09:29 INFO agent] 5aded1595542995ec70e8f29: augment SP ['52103099_0'] into memory\n",
      "[06/11 01:09:30 INFO agent] 5a77baac5542992a6e59dfa2: miss SP1 1307550_0 (Jason Gould) for 0.0919 <= 0.5914 when 360 tokens\n",
      "[06/11 01:09:30 INFO agent] 5a77baac5542992a6e59dfa2: augment SP ['1307550_0'] into memory\n",
      "[06/11 01:09:31 INFO agent] 5ade6fcd55429975fa854ecf: miss SP1 2070842_0 (Robin Roberts (newscaster)) for 0.0698 <= 0.6098 when 427 tokens\n",
      "[06/11 01:09:31 INFO agent] 5ade6fcd55429975fa854ecf: augment SP ['2070842_0'] into memory\n",
      "[06/11 01:09:31 INFO agent] 5a8f43555542992414482a21: miss SP0 1273586_0 (The Tales of Hoffmann (film)) for 0.2059 <= 0.4775 when 427 tokens\n",
      "[06/11 01:09:32 INFO agent] 5ae724ec5542995703ce8bd8: miss SP0 41312390_0 (Elsa (Disney)) for 0.1727 <= 0.4833 when 336 tokens\n",
      "[06/11 01:09:32 INFO agent] 5abd332e5542993062266bdd: augment SP ['22860589_0'] into memory\n",
      "[06/11 01:09:32 WARNING agent] 5abd332e5542993062266bdd: augment false SP 22860589_0 into memory {'43936011_0': 0.9577038884162903, '22860589_0': 0.08309049606323243}\n",
      "[06/11 01:09:33 INFO agent] 5ae358c05542990afbd1e10f: remove SP0 30051602_0 (1972 unrest in Lithuania) from memory for 0.9678 -> 0.2960 <= 0.4205 when 339 tokens\n",
      "[06/11 01:09:35 INFO agent] 5add24375542992c1e3a2542: miss SP1 22349_0 (Odyssey) for 0.4459 <= 0.5422 when 348 tokens\n",
      "[06/11 01:09:35 INFO agent] 5add24375542992c1e3a2542: augment SP ['22349_0'] into memory\n",
      "[06/11 01:09:36 INFO agent] 5ae5df84554299546bf82fa8: miss SP1 16597072_0 (Operation Sculpin) for 0.0843 <= 0.6646 when 359 tokens\n",
      "[06/11 01:09:36 INFO agent] 5a713b325542994082a3e6b5: augment SP ['356275_0'] into memory\n",
      "[06/11 01:09:36 WARNING agent] 5a713b325542994082a3e6b5: augment false SP 356275_0 into memory {'82976_0': 0.970550537109375, '356275_0': 1.0}\n",
      "[06/11 01:09:36 INFO agent] 5a90362f55429933b8a2049d: miss SP1 3583214_0 (Evgeny Schwartz) for 0.3236 <= 0.6208 when 359 tokens\n",
      "[06/11 01:09:36 INFO agent] 5a90362f55429933b8a2049d: augment SP ['3583214_0'] into memory\n",
      "[06/11 01:09:36 INFO agent] 5ac19ff35542991316484b61: miss SP1 6018749_0 (Phineas and Ferb) for 0.4061 <= 0.4917 when 359 tokens\n",
      "[06/11 01:09:36 INFO agent] 5ac19ff35542991316484b61: remove SP0 10876585_0 (The Graveyard Book) from memory for 0.4575 -> 0.0954 <= 0.4917 when 359 tokens\n",
      "[06/11 01:09:36 INFO agent] 5a870a8e55429960ec39b707: miss SP1 36637_0 (Yorkshire) for 0.0050 <= 0.5291 when 392 tokens\n",
      "[06/11 01:09:36 INFO agent] 5a828a7b55429954d2e2eb69: miss SP1 9721922_0 (Maryland Terrapins men's basketball) for 0.0423 <= 0.5670 when 392 tokens\n",
      "[06/11 01:09:36 INFO agent] 5a828a7b55429954d2e2eb69: augment SP ['9721922_0'] into memory\n",
      "[06/11 01:09:37 INFO agent] 5a727ca45542994cef4bc2d8: miss SP1 5670252_0 (River Oaks Center) for 0.5550 <= 0.5906 when 388 tokens\n",
      "[06/11 01:09:37 INFO agent] 5a727ca45542994cef4bc2d8: augment SP ['5670252_0'] into memory\n",
      "[06/11 01:09:37 INFO agent] 5abd4c6d5542993062266c47: miss SP1 9413800_0 (Guangzhou Evergrande Taobao F.C.) for 0.2249 <= 0.5623 when 388 tokens\n",
      "[06/11 01:09:37 INFO agent] 5abd4c6d5542993062266c47: augment SP ['9413800_0'] into memory\n",
      "[06/11 01:09:38 INFO agent] 5a7fb23f5542994857a767be: miss SP1 54536_0 (Citric acid) for 0.0479 <= 0.5725 when 324 tokens\n",
      "[06/11 01:09:38 INFO agent] 5a7fb23f5542994857a767be: augment SP ['54536_0'] into memory\n",
      "[06/11 01:09:39 INFO agent] 5ae72c7d5542991e8301cb91: miss SP1 466854_0 (FileVault) for 0.2066 <= 0.6324 when 335 tokens\n",
      "[06/11 01:09:39 INFO agent] 5ae72c7d5542991e8301cb91: augment SP ['466854_0'] into memory\n",
      "[06/11 01:09:39 INFO agent] 5a7fe0b55542994857a76818: miss SP1 4129942_0 (Black (Bangladeshi band)) for 0.0016 <= 0.5179 when 376 tokens\n",
      "[06/11 01:09:40 INFO agent] 5ab4071955429976abd1bd38: augment SP ['159618_0'] into memory\n",
      "[06/11 01:09:40 WARNING agent] 5ab4071955429976abd1bd38: augment false SP 159618_0 into memory {'7416129_0': 0.9681541919708252, '159618_0': 1.0}\n",
      "[06/11 01:09:40 INFO agent] 5aba94e355429901930fa845: miss SP0 10798245_0 (Jonathan Groff) for 0.1642 <= 0.5512 when 424 tokens\n",
      "[06/11 01:09:40 INFO agent] 5a8173fa554299260e20a28e: miss SP1 8114053_0 (Bosnian Coarse-haired Hound) for 0.0040 <= 0.4285 when 380 tokens\n",
      "[06/11 01:09:40 INFO agent] 5a8173fa554299260e20a28e: augment SP ['8114053_0'] into memory\n"
     ]
    },
    {
     "data": {
      "application/vnd.jupyter.widget-view+json": {
       "model_id": "e2e8f0a61cc646f69578b220f6b0af39",
       "version_major": 2,
       "version_minor": 0
      },
      "text/plain": [
       "exe:   0%|          | 0/7405 [00:00<?, ?it/s]"
      ]
     },
     "metadata": {},
     "output_type": "display_data"
    },
    {
     "name": "stdout",
     "output_type": "stream",
     "text": [
      "2: 2261 remained\n",
      "|                  |    EM |    F1 |  Prec | Recall |\n",
      "|------------------|-------|-------|-------|--------|\n",
      "|           Answer | 46.33 | 55.62 | 57.47 |  56.60 |\n",
      "|      Norm answer | 46.12 | 55.39 | 57.28 |  56.32 |\n",
      "| Support sentence | 43.32 | 60.34 | 62.01 |  60.04 |\n",
      "| Support sentence | 42.28 | 60.01 | 62.60 |  59.29 |\n",
      "|  Support passage | 64.32 | 66.58 | 66.58 |  66.58 |\n",
      "|            Joint | 31.55 | 49.95 | 52.92 |  50.49 |\n",
      "1.999594868332208\n"
     ]
    },
    {
     "data": {
      "application/vnd.jupyter.widget-view+json": {
       "model_id": "e3df6c98f88543df904af693b3b9b283",
       "version_major": 2,
       "version_minor": 0
      },
      "text/plain": [
       "gen_sparse_query:   0%|          | 0/2261 [00:00<?, ?it/s]"
      ]
     },
     "metadata": {},
     "output_type": "display_data"
    },
    {
     "data": {
      "application/vnd.jupyter.widget-view+json": {
       "model_id": "b51d4ee6f7dd4f46809ba4713f6240f7",
       "version_major": 2,
       "version_minor": 0
      },
      "text/plain": [
       "act:   0%|          | 0/71 [00:00<?, ?it/s]"
      ]
     },
     "metadata": {},
     "output_type": "display_data"
    },
    {
     "name": "stderr",
     "output_type": "stream",
     "text": [
      "[06/11 01:09:54 INFO agent] 5a83880e554299123d8c214e: remove SP1 3888242_0 (Suicide (1977 album)) from memory for 0.9925 -> 0.1992 <= 0.6130 when 334 tokens\n",
      "[06/11 01:09:54 INFO agent] 5a83880e554299123d8c214e: augment SP ['3888242_0'] into memory\n",
      "[06/11 01:09:54 INFO agent] 5a7a230e5542996a35c170ee: augment SP ['9056492_0'] into memory\n",
      "[06/11 01:09:54 WARNING agent] 5a7a230e5542996a35c170ee: augment false SP 9056492_0 into memory {'9157604_0': 0.9520876407623291, '9056492_0': 1.0}\n",
      "[06/11 01:09:55 INFO agent] 5a7d19d85542995ed0d165e8: remove SP0 79371_0 (Southeastern Conference) from memory for 0.5753 -> 0.4733 <= 0.5049 when 384 tokens\n",
      "[06/11 01:09:55 INFO agent] 5ae7edee554299540e5a56ad: remove SP2 269223_0 (Tenerife) from memory for 0.9413 -> 0.5695 <= 0.7304 when 372 tokens\n",
      "[06/11 01:09:55 INFO agent] 5ae7edee554299540e5a56ad: augment SP ['269223_0'] into memory\n",
      "[06/11 01:09:55 INFO agent] 5ab5b6c1554299637185c5e5: miss SP1 3139987_0 (Hellogoodbye) for 0.0624 <= 0.6184 when 372 tokens\n",
      "[06/11 01:09:56 INFO agent] 5a8b78775542997f31a41d3d: miss SP1 5004696_0 (Chimaji Appa) for 0.0085 <= 0.6596 when 383 tokens\n",
      "[06/11 01:09:56 INFO agent] 5ade99295542992fa25da7d8: miss SP1 31527614_0 (Authorship of Titus Andronicus) for 0.4734 <= 0.6026 when 381 tokens\n",
      "[06/11 01:09:57 INFO agent] 5a8209845542990a1d231f1f: miss SP1 30478036_0 (Hyatt Regency Orlando) for 0.4229 <= 0.5203 when 370 tokens\n",
      "[06/11 01:09:57 INFO agent] 5a8209845542990a1d231f1f: augment SP ['30478036_0'] into memory\n",
      "[06/11 01:09:57 INFO agent] 5ae0a6ea5542993d6555ebe9: miss SP1 29578143_0 (Waste Land (film)) for 0.0018 <= 0.5182 when 512 tokens\n",
      "[06/11 01:09:58 INFO agent] 5adc9b7a5542994d58a2f679: miss SP1 53888225_0 (Shani Gandhi) for 0.0038 <= 0.6478 when 396 tokens\n",
      "[06/11 01:09:58 INFO agent] 5a7f62405542992e7d278cf0: miss SP1 15600_0 (James Joyce) for 0.5270 <= 0.6309 when 396 tokens\n",
      "[06/11 01:09:58 INFO agent] 5a7fd7305542992e7d278dc2: miss SP0 901191_0 (Peter Griffin) for 0.2644 <= 0.4868 when 396 tokens\n",
      "[06/11 01:09:58 INFO agent] 5ae528ed5542993aec5ec16e: miss SP1 2613965_0 (Diana Quick) for 0.0304 <= 0.5761 when 396 tokens\n",
      "[06/11 01:09:59 INFO agent] 5a8f38fa55429924144829f5: miss SP1 17641915_0 (Javan leopard) for 0.0035 <= 0.6538 when 402 tokens\n",
      "[06/11 01:09:59 INFO agent] 5a82817555429954d2e2eb5a: remove SP1 5526916_0 (Naked Weapon) from memory for 0.6333 -> 0.4694 <= 0.5842 when 383 tokens\n",
      "[06/11 01:09:59 INFO agent] 5a82817555429954d2e2eb5a: augment SP ['5526916_0'] into memory\n",
      "[06/11 01:10:00 INFO agent] 5adcb4ae5542994734353774: miss SP0 20718432_0 (RuPaul's Drag Race) for 0.3735 <= 0.5036 when 351 tokens\n",
      "[06/11 01:10:00 INFO agent] 5a8e40f65542995a26add498: augment SP ['21024750_0'] into memory\n",
      "[06/11 01:10:00 WARNING agent] 5a8e40f65542995a26add498: augment false SP 21024750_0 into memory {'226211_0': 0.9823684096336365, '21024750_0': 0.457851767539978}\n",
      "[06/11 01:10:01 INFO agent] 5ab5e8935542997d4ad1f23b: miss SP1 31075073_0 (Taquini Plan) for 0.0870 <= 0.5660 when 352 tokens\n",
      "[06/11 01:10:01 INFO agent] 5a72125055429971e9dc9241: remove SP1 72317_0 (Creature from the Black Lagoon) from memory for 0.9259 -> 0.2746 <= 0.5436 when 352 tokens\n",
      "[06/11 01:10:01 INFO agent] 5ade9545554299728e26c741: miss SP1 10420402_0 (Swiss made) for 0.0031 <= 0.6142 when 352 tokens\n",
      "[06/11 01:10:01 INFO agent] 5ab3bcc55542992ade7c6e66: remove SP1 237833_0 (Norm Coleman) from memory for 0.5494 -> 0.2500 <= 0.4567 when 438 tokens\n",
      "[06/11 01:10:02 INFO agent] 5ab804305542995dae37ea14: augment SP ['149408_0'] into memory\n",
      "[06/11 01:10:02 WARNING agent] 5ab804305542995dae37ea14: augment false SP 149408_0 into memory {'50454390_0': 0.9681302905082703, '149408_0': 0.03778800666332245}\n",
      "[06/11 01:10:03 INFO agent] 5a7a749d5542994f819ef1e0: miss SP1 46498890_0 (The Journal of Computational Finance) for 0.3403 <= 0.6456 when 365 tokens\n",
      "[06/11 01:10:03 INFO agent] 5ac559bd5542993e66e82328: miss SP1 3488963_0 (Horse the Band) for 0.0013 <= 0.5418 when 393 tokens\n",
      "[06/11 01:10:03 INFO agent] 5ae375955542990afbd1e15d: remove SP1 39838771_0 (Live at the Electric) from memory for 0.9814 -> 0.4162 <= 0.6035 when 393 tokens\n",
      "[06/11 01:10:03 INFO agent] 5ae375955542990afbd1e15d: augment SP ['39838771_0'] into memory\n",
      "[06/11 01:10:03 INFO agent] 5ac2eaab5542990b17b154a4: miss SP1 172030_0 (Joe Cornish) for 0.3031 <= 0.6315 when 362 tokens\n",
      "[06/11 01:10:03 INFO agent] 5ac2eaab5542990b17b154a4: augment SP ['172030_0'] into memory\n",
      "[06/11 01:10:04 INFO agent] 5a74b55455429974ef308c39: miss SP1 12470581_0 (Cosmic Variance (blog)) for 0.1459 <= 0.5503 when 512 tokens\n",
      "[06/11 01:10:04 INFO agent] 5a74b55455429974ef308c39: augment SP ['12470581_0'] into memory\n",
      "[06/11 01:10:04 INFO agent] 5ac3b4cc554299741d48a2eb: miss SP1 773123_0 (TD Bank, N.A.) for 0.0484 <= 0.6059 when 512 tokens\n",
      "[06/11 01:10:04 INFO agent] 5ac3b4cc554299741d48a2eb: augment SP ['773123_0'] into memory\n",
      "[06/11 01:10:04 INFO agent] 5ab950bd55429970cfb8ea4c: augment SP ['178962_0'] into memory\n",
      "[06/11 01:10:04 INFO agent] 5a75428b55429916b01642c8: augment SP ['2708079_0'] into memory\n",
      "[06/11 01:10:04 WARNING agent] 5a75428b55429916b01642c8: augment false SP 2708079_0 into memory {'142056_0': 0.9959147572517395, '2708079_0': 1.0}\n",
      "[06/11 01:10:04 INFO agent] 5a762f4755429976ec32bd44: miss SP1 33442170_0 (FIU Panthers football) for 0.0020 <= 0.5834 when 350 tokens\n",
      "[06/11 01:10:04 INFO agent] 5ab8338155429919ba4e2260: miss SP0 4542403_0 (Mark Brayshaw) for 0.1216 <= 0.5094 when 350 tokens\n",
      "[06/11 01:10:05 INFO agent] 5abadc355542996606241644: miss SP0 22389647_0 (Florentius (consul 361)) for 0.4978 <= 0.5150 when 512 tokens\n",
      "[06/11 01:10:05 INFO agent] 5a7506f455429916b0164240: augment SP ['127255_0'] into memory\n",
      "[06/11 01:10:05 WARNING agent] 5a7506f455429916b0164240: augment false SP 127255_0 into memory {'14294892_0': 0.9533177614212036, '127255_0': 1.0}\n",
      "[06/11 01:10:06 INFO agent] 5adcdc6c5542992c1e3a2437: miss SP1 46415102_0 (European migrant crisis) for 0.1299 <= 0.5314 when 512 tokens\n",
      "[06/11 01:10:06 INFO agent] 5adcdc6c5542992c1e3a2437: augment SP ['46415102_0'] into memory\n",
      "[06/11 01:10:06 INFO agent] 5a81a2e25542990a1d231e32: miss SP1 93791_0 (Roseanne Barr) for 0.0136 <= 0.5763 when 512 tokens\n",
      "[06/11 01:10:06 INFO agent] 5ab56f4b554299637185c599: miss SP0 46441620_0 (Mike Huckabee presidential campaign, 2016) for 0.0586 <= 0.5363 when 512 tokens\n",
      "[06/11 01:10:06 INFO agent] 5a760dcd5542994ccc9186a1: remove SP0 37422341_0 (IPad (4th generation)) from memory for 0.9260 -> 0.1260 <= 0.4913 when 350 tokens\n",
      "[06/11 01:10:06 INFO agent] 5ab5035b5542996a3a969ff8: augment SP ['309248_0'] into memory\n",
      "[06/11 01:10:06 WARNING agent] 5ab5035b5542996a3a969ff8: augment false SP 309248_0 into memory {'2935674_0': 0.8406131267547607, '309248_0': 1.0}\n",
      "[06/11 01:10:06 INFO agent] 5adcc90c5542990d50227d1b: augment SP ['15950_0'] into memory\n",
      "[06/11 01:10:06 WARNING agent] 5adcc90c5542990d50227d1b: augment false SP 15950_0 into memory {'32080_0': 0.9171465039253235, '15950_0': 1.0}\n",
      "[06/11 01:10:06 INFO agent] 5ae74351554299572ea5479f: augment SP ['102698_0'] into memory\n",
      "[06/11 01:10:06 WARNING agent] 5ae74351554299572ea5479f: augment false SP 102698_0 into memory {'99931_0': 0.9846500754356384, '102698_0': 1.0}\n",
      "[06/11 01:10:07 INFO agent] 5a7331de5542994cef4bc4a8: remove SP1 1105754_0 (Charkhi Dadri mid-air collision) from memory for 0.8631 -> 0.0184 <= 0.7315 when 469 tokens\n",
      "[06/11 01:10:07 INFO agent] 5ae6808f5542995703ce8b6b: remove SP1 201088_0 (Woolsthorpe-by-Colsterworth) from memory for 0.9935 -> 0.4595 <= 0.6516 when 469 tokens\n",
      "[06/11 01:10:07 INFO agent] 5a79abef5542994bb9457035: miss SP1 31311194_0 (Hoxne manor) for 0.0615 <= 0.5866 when 469 tokens\n",
      "[06/11 01:10:07 INFO agent] 5adc8b5a5542994d58a2f648: remove SP0 2560084_0 (Blue (Da Ba Dee)) from memory for 0.6553 -> 0.3256 <= 0.5120 when 414 tokens\n",
      "[06/11 01:10:07 INFO agent] 5a77c09555429967ab105262: miss SP1 18952649_0 (Pronghorn) for 0.0665 <= 0.6113 when 414 tokens\n",
      "[06/11 01:10:07 INFO agent] 5ac4f8705542995c82c4ad8d: miss SP1 365088_0 (Mauthausen-Gusen concentration camp) for 0.0025 <= 0.6478 when 414 tokens\n",
      "[06/11 01:10:08 INFO agent] 5a750d315542996c70cfae84: remove SP0 1067305_0 (Ronald Ryan) from memory for 0.5130 -> 0.1193 <= 0.5042 when 396 tokens\n",
      "[06/11 01:10:08 INFO agent] 5a8d7f2b554299068b959d0c: remove SP1 33954_0 (William Ewart Gladstone) from memory for 0.8983 -> 0.0864 <= 0.5651 when 396 tokens\n",
      "[06/11 01:10:08 INFO agent] 5a8d7f2b554299068b959d0c: augment SP ['33954_0'] into memory\n",
      "[06/11 01:10:08 INFO agent] 5ae64ba755429929b0807b25: augment SP ['21048472_0'] into memory\n",
      "[06/11 01:10:08 WARNING agent] 5ae64ba755429929b0807b25: augment false SP 21048472_0 into memory {'25234906_0': 0.9648281931877136, '21048472_0': 0.057844644784927374}\n",
      "[06/11 01:10:08 INFO agent] 5a8cacce554299585d9e3718: miss SP1 13209751_0 (AFI discography) for 0.1014 <= 0.6012 when 335 tokens\n",
      "[06/11 01:10:08 INFO agent] 5ac04a265542997d642959f1: augment SP ['680520_0'] into memory\n",
      "[06/11 01:10:08 WARNING agent] 5ac04a265542997d642959f1: augment false SP 680520_0 into memory {'317461_0': 0.9316645860671997, '680520_0': 1.0}\n",
      "[06/11 01:10:09 INFO agent] 5abd8ee05542993062266cc8: miss SP1 5186327_0 (New York's 4th congressional district) for 0.0544 <= 0.5992 when 428 tokens\n",
      "[06/11 01:10:09 INFO agent] 5a7ea14655429930675135ab: augment SP ['245496_0'] into memory\n",
      "[06/11 01:10:09 WARNING agent] 5a7ea14655429930675135ab: augment false SP 245496_0 into memory {'27666513_0': 0.98206627368927, '42064_0': 0.9824151396751404, '245496_0': 1.0}\n",
      "[06/11 01:10:09 INFO agent] 5a78c235554299078472775d: miss SP0 45023134_0 (5 Magazine) for 0.2332 <= 0.4282 when 407 tokens\n",
      "[06/11 01:10:09 INFO agent] 5ae552bb55429908b63265d9: augment SP ['296565_0'] into memory\n",
      "[06/11 01:10:09 WARNING agent] 5ae552bb55429908b63265d9: augment false SP 296565_0 into memory {'36721702_0': 0.9363180994987488, '296565_0': 0.10803158283233644}\n",
      "[06/11 01:10:10 INFO agent] 5a824e0b554299676cceb254: augment SP ['2927_0'] into memory\n",
      "[06/11 01:10:10 WARNING agent] 5a824e0b554299676cceb254: augment false SP 2927_0 into memory {'270948_0': 0.9604076743125916, '2927_0': 0.14624999761581423}\n",
      "[06/11 01:10:10 INFO agent] 5a7c5de155429935c91b5179: miss SP0 29312041_0 (2004–05 Utah Jazz season) for 0.0615 <= 0.3993 when 379 tokens\n",
      "[06/11 01:10:10 INFO agent] 5a7b895c5542997c3ec97206: miss SP1 839728_0 (David X. Cohen) for 0.2341 <= 0.5723 when 379 tokens\n",
      "[06/11 01:10:10 INFO agent] 5a7b895c5542997c3ec97206: augment SP ['839728_0'] into memory\n",
      "[06/11 01:10:10 INFO agent] 5ac4f12d55429924173fb4f6: miss SP1 38443676_0 (Pravda) for 0.0019 <= 0.5283 when 338 tokens\n",
      "[06/11 01:10:10 INFO agent] 5a8b86645542997f31a41d62: remove SP0 46299779_0 (Legends of Tomorrow) from memory for 0.6111 -> 0.3155 <= 0.6140 when 338 tokens\n",
      "[06/11 01:10:11 INFO agent] 5ae17f1e5542990adbacf7a6: augment SP ['6083488_0'] into memory\n",
      "[06/11 01:10:11 WARNING agent] 5ae17f1e5542990adbacf7a6: augment false SP 6083488_0 into memory {'2675875_0': 0.9750276207923889, '6083488_0': 0.11496974229812623}\n",
      "[06/11 01:10:12 INFO agent] 5ade1f1c55429939a52fe82d: augment SP ['14805508_0'] into memory\n",
      "[06/11 01:10:12 WARNING agent] 5ade1f1c55429939a52fe82d: augment false SP 14805508_0 into memory {'891601_0': 0.960077702999115, '1752246_0': 0.9602962136268616, '14805508_0': 1.0}\n",
      "[06/11 01:10:12 INFO agent] 5a85018d5542997b5ce3ff98: miss SP1 38179470_0 (Barbara Niven) for 0.0340 <= 0.5659 when 512 tokens\n",
      "[06/11 01:10:12 INFO agent] 5adbf3fa554299438c868ce0: miss SP1 222374_0 (Tyagaraja) for 0.0219 <= 0.5536 when 413 tokens\n",
      "[06/11 01:10:12 INFO agent] 5adbf3fa554299438c868ce0: augment SP ['164188_0'] into memory\n",
      "[06/11 01:10:12 WARNING agent] 5adbf3fa554299438c868ce0: augment false SP 164188_0 into memory {'53243231_0': 0.9876784682273865, '164188_0': 0.021035470068454742}\n",
      "[06/11 01:10:12 INFO agent] 5abd93115542996e802b47e0: augment SP ['1399555_0'] into memory\n",
      "[06/11 01:10:12 WARNING agent] 5abd93115542996e802b47e0: augment false SP 1399555_0 into memory {'37267561_0': 0.8987558484077454, '1399555_0': 1.0}\n",
      "[06/11 01:10:13 INFO agent] 5add43335542995b365faae1: augment SP ['1234446_0'] into memory\n",
      "[06/11 01:10:13 WARNING agent] 5add43335542995b365faae1: augment false SP 1234446_0 into memory {'4726408_0': 0.9732428789138794, '1234446_0': 1.0}\n",
      "[06/11 01:10:14 INFO agent] 5ac3b62b554299741d48a2f6: augment SP ['19283361_0'] into memory\n",
      "[06/11 01:10:14 WARNING agent] 5ac3b62b554299741d48a2f6: augment false SP 19283361_0 into memory {'52681725_0': 0.9985488057136536, '19283361_0': 1.0}\n",
      "[06/11 01:10:14 INFO agent] 5a7613c15542994ccc9186bf: miss SP1 203344_0 (Gesellschaft mit beschränkter Haftung) for 0.3632 <= 0.5275 when 476 tokens\n",
      "[06/11 01:10:14 INFO agent] 5a7613c15542994ccc9186bf: augment SP ['203344_0'] into memory\n",
      "[06/11 01:10:14 INFO agent] 5ae5621655429908b63265fc: augment SP ['31142489_0'] into memory\n",
      "[06/11 01:10:14 WARNING agent] 5ae5621655429908b63265fc: augment false SP 31142489_0 into memory {'37924316_0': 0.9811639189720154, '6025794_0': 0.9641242623329163, '31142489_0': 1.0}\n",
      "[06/11 01:10:15 INFO agent] 5add5f395542990dbb2f7e50: augment SP ['179757_0'] into memory\n",
      "[06/11 01:10:15 WARNING agent] 5add5f395542990dbb2f7e50: augment false SP 179757_0 into memory {'46921823_0': 0.9114824533462524, '179757_0': 0.21720542907714846}\n",
      "[06/11 01:10:15 INFO agent] 5a736e0155429901807db04f: miss SP1 11715_0 (McDonnell Douglas F-15 Eagle) for 0.0303 <= 0.5878 when 395 tokens\n",
      "[06/11 01:10:15 INFO agent] 5a736e0155429901807db04f: augment SP ['11715_0'] into memory\n",
      "[06/11 01:10:16 INFO agent] 5ac286c055429963665199f8: augment SP ['7274344_0'] into memory\n",
      "[06/11 01:10:16 WARNING agent] 5ac286c055429963665199f8: augment false SP 7274344_0 into memory {'371868_0': 0.973874032497406, '7274344_0': 1.0}\n",
      "[06/11 01:10:16 INFO agent] 5a728f3c5542992359bc30f4: miss SP1 42031849_0 (2014–15 Premier League) for 0.4569 <= 0.6258 when 427 tokens\n",
      "[06/11 01:10:16 INFO agent] 5a728f3c5542992359bc30f4: augment SP ['42031849_0'] into memory\n",
      "[06/11 01:10:16 INFO agent] 5ab9b939554299743d22ebca: miss SP1 2165196_0 (Michigan gubernatorial election, 2006) for 0.0017 <= 0.5673 when 427 tokens\n",
      "[06/11 01:10:16 INFO agent] 5adf8a065542992d7e9f9392: remove SP1 9307584_0 (BBC Films) from memory for 0.9444 -> 0.1329 <= 0.6675 when 409 tokens\n",
      "[06/11 01:10:16 INFO agent] 5a8c7057554299653c1aa066: miss SP1 17401191_0 (2011 UEFA Champions League Final) for 0.0050 <= 0.6001 when 409 tokens\n",
      "[06/11 01:10:17 INFO agent] 5abfe2a15542997d6429591c: augment SP ['2330138_0'] into memory\n",
      "[06/11 01:10:17 INFO agent] 5ae3cd685542990afbd1e1de: augment SP ['40192504_0'] into memory\n",
      "[06/11 01:10:17 WARNING agent] 5ae3cd685542990afbd1e1de: augment false SP 40192504_0 into memory {'1709469_0': 0.9263628125190735, '40192504_0': 1.0}\n",
      "[06/11 01:10:18 INFO agent] 5ac4241e5542997ea680ca10: miss SP1 116175_0 (Canaan, Maine) for 0.0200 <= 0.5822 when 359 tokens\n",
      "[06/11 01:10:18 INFO agent] 5ac4241e5542997ea680ca10: augment SP ['116175_0'] into memory\n",
      "[06/11 01:10:18 INFO agent] 5a7b1bb5554299042af8f6d4: miss SP1 842940_0 (Jem Finer) for 0.0142 <= 0.6575 when 359 tokens\n",
      "[06/11 01:10:18 INFO agent] 5a7b1bb5554299042af8f6d4: augment SP ['842940_0'] into memory\n",
      "[06/11 01:10:18 INFO agent] 5a8bbb8c5542995d1e6f142e: miss SP0 48081181_0 (Iftikhar Ahmed (cricketer, born 1990)) for 0.0046 <= 0.6726 when 359 tokens\n",
      "[06/11 01:10:18 INFO agent] 5adc985e5542990d50227cb7: augment SP ['15755164_0'] into memory\n",
      "[06/11 01:10:18 WARNING agent] 5adc985e5542990d50227cb7: augment false SP 15755164_0 into memory {'34954203_0': 0.994749128818512, '15755164_0': 0.0025389140471816065}\n",
      "[06/11 01:10:18 INFO agent] 5a8b97485542995d1e6f140f: miss SP1 7880254_0 (Michael Casey (poet)) for 0.0868 <= 0.6069 when 392 tokens\n",
      "[06/11 01:10:18 INFO agent] 5a7130365542994082a3e645: augment SP ['149221_0'] into memory\n",
      "[06/11 01:10:18 WARNING agent] 5a7130365542994082a3e645: augment false SP 149221_0 into memory {'30809261_0': 0.9878425598144531, '149221_0': 0.006340185552835465}\n",
      "[06/11 01:10:18 INFO agent] 5ab2a292554299194fa93496: augment SP ['22416136_0'] into memory\n",
      "[06/11 01:10:18 WARNING agent] 5ab2a292554299194fa93496: augment false SP 22416136_0 into memory {'9803762_0': 0.9418503642082214, '22416136_0': 1.0}\n",
      "[06/11 01:10:18 INFO agent] 5ab661ac5542995eadeeffb1: miss SP1 43434381_0 (Boothbay Harbor, Maine) for 0.0421 <= 0.5141 when 326 tokens\n",
      "[06/11 01:10:18 INFO agent] 5ab661ac5542995eadeeffb1: augment SP ['9114829_0'] into memory\n",
      "[06/11 01:10:18 WARNING agent] 5ab661ac5542995eadeeffb1: augment false SP 9114829_0 into memory {'38256785_0': 0.9464775919914246, '9114829_0': 0.03723824918270111}\n",
      "[06/11 01:10:18 INFO agent] 5a738093554299623ed4abbb: augment SP ['96904_0'] into memory\n",
      "[06/11 01:10:18 WARNING agent] 5a738093554299623ed4abbb: augment false SP 96904_0 into memory {'951527_0': 0.9597899317741394, '96904_0': 0.07614302635192871}\n",
      "[06/11 01:10:19 INFO agent] 5abd882f55429924427fd045: miss SP0 11261237_0 (Birstall Shopping Park) for 0.0267 <= 0.5176 when 407 tokens\n",
      "[06/11 01:10:20 INFO agent] 5a7fa22b5542992097ad2fa6: remove SP2 383211_0 (Bert Kaempfert) from memory for 0.8067 -> 0.3998 <= 0.6378 when 478 tokens\n",
      "[06/11 01:10:20 INFO agent] 5a7fa22b5542992097ad2fa6: remove SP1 11102052_0 (A Swingin' Safari) from memory for 0.7499 -> 0.5066 <= 0.6378 when 478 tokens\n",
      "[06/11 01:10:20 INFO agent] 5a7fa22b5542992097ad2fa6: augment SP ['11102052_0'] into memory\n",
      "[06/11 01:10:20 INFO agent] 5adc995d5542994ed6169ba8: remove SP0 58695_0 (Semitic people) from memory for 0.6733 -> 0.1391 <= 0.3582 when 478 tokens\n",
      "[06/11 01:10:20 INFO agent] 5a81dbfc55429903bc27b9f2: augment SP ['1631497_0'] into memory\n",
      "[06/11 01:10:20 WARNING agent] 5a81dbfc55429903bc27b9f2: augment false SP 1631497_0 into memory {'89265_0': 0.9391313791275024, '1631497_0': 1.0}\n",
      "[06/11 01:10:20 INFO agent] 5a8b24f255429950cd6afc56: augment SP ['12513057_0'] into memory\n",
      "[06/11 01:10:20 WARNING agent] 5a8b24f255429950cd6afc56: augment false SP 12513057_0 into memory {'9118049_0': 0.9627350568771362, '12513057_0': 0.028072392940521242}\n",
      "[06/11 01:10:21 INFO agent] 5a8b128455429971feec463b: miss SP1 110505_0 (Haleiwa, Hawaii) for 0.0026 <= 0.6426 when 461 tokens\n",
      "[06/11 01:10:21 INFO agent] 5a8b128455429971feec463b: augment SP ['2159346_0'] into memory\n",
      "[06/11 01:10:21 WARNING agent] 5a8b128455429971feec463b: augment false SP 2159346_0 into memory {'2013390_0': 0.9971264004707336, '2159346_0': 0.0028481684625148774}\n",
      "[06/11 01:10:21 INFO agent] 5ab521175542996a3a96a02d: miss SP1 26748_0 (Switzerland) for 0.2067 <= 0.5599 when 461 tokens\n",
      "[06/11 01:10:21 INFO agent] 5ab521175542996a3a96a02d: augment SP ['26748_0'] into memory\n",
      "[06/11 01:10:21 INFO agent] 5adcc5715542990d50227d0a: miss SP1 52788520_0 (Castle on the Hill (song)) for 0.1272 <= 0.5307 when 461 tokens\n",
      "[06/11 01:10:21 INFO agent] 5adc3aff5542996e685252eb: miss SP1 168017_0 (Derek Jacobi) for 0.0112 <= 0.5542 when 426 tokens\n",
      "[06/11 01:10:22 INFO agent] 5a7147fd5542994082a3e758: miss SP1 176317_0 (John, King of Denmark) for 0.0086 <= 0.5425 when 372 tokens\n",
      "[06/11 01:10:22 INFO agent] 5a7147fd5542994082a3e758: augment SP ['176317_0'] into memory\n",
      "[06/11 01:10:22 INFO agent] 5a88dc5a5542993b751ca890: miss SP0 1943186_0 (Alexandria, New South Wales) for 0.4725 <= 0.4862 when 372 tokens\n",
      "[06/11 01:10:22 INFO agent] 5ae388ea5542994393b9e6f0: remove SP0 27763463_0 (The Periodic Table of Videos) from memory for 0.9806 -> 0.4443 <= 0.4709 when 341 tokens\n",
      "[06/11 01:10:22 INFO agent] 5adf3c155542993a75d2643a: remove SP1 396138_0 (Anne Perry) from memory for 0.7149 -> 0.0132 <= 0.6499 when 341 tokens\n",
      "[06/11 01:10:23 INFO agent] 5a7131565542994082a3e64f: augment SP ['13826091_0'] into memory\n",
      "[06/11 01:10:23 WARNING agent] 5a7131565542994082a3e64f: augment false SP 13826091_0 into memory {'3634471_0': 0.8963958024978638, '13826091_0': 0.25615450739860535}\n",
      "[06/11 01:10:23 INFO agent] 5ab989f755429970cfb8eb38: miss SP2 211855_0 (Dave Arneson) for 0.1174 <= 0.5975 when 418 tokens\n",
      "[06/11 01:10:23 INFO agent] 5ab989f755429970cfb8eb38: augment SP ['211855_0'] into memory\n",
      "[06/11 01:10:23 INFO agent] 5a7770f855429966f1a36d4e: remove SP0 2205153_0 (Iftikhar Ali Khan Pataudi) from memory for 0.4565 -> 0.1238 <= 0.4190 when 427 tokens\n",
      "[06/11 01:10:24 INFO agent] 5a8bc29a5542995d1e6f1446: miss SP1 142806_0 (Faith No More) for 0.0182 <= 0.5174 when 387 tokens\n",
      "[06/11 01:10:24 INFO agent] 5a7cdc54554299683c1c63a5: miss SP1 5189952_0 (The Golden Egg) for 0.4998 <= 0.5110 when 387 tokens\n",
      "[06/11 01:10:24 INFO agent] 5a7780e855429949eeb29e9f: miss SP1 11402229_0 (Aaron Taylor-Johnson) for 0.2797 <= 0.4541 when 387 tokens\n",
      "[06/11 01:10:24 INFO agent] 5abdb4a755429965af743df0: augment SP ['146894_0'] into memory\n",
      "[06/11 01:10:24 WARNING agent] 5abdb4a755429965af743df0: augment false SP 146894_0 into memory {'489930_0': 0.9864978194236755, '146894_0': 1.0}\n",
      "[06/11 01:10:24 INFO agent] 5a81d69055429903bc27b9de: augment SP ['5794648_0'] into memory\n",
      "[06/11 01:10:24 WARNING agent] 5a81d69055429903bc27b9de: augment false SP 5794648_0 into memory {'577390_0': 0.9666031002998352, '5794648_0': 0.18953436613082886}\n",
      "[06/11 01:10:25 INFO agent] 5a823fc055429940e5e1a810: miss SP0 3766171_0 (Norse–Gaels) for 0.3946 <= 0.4114 when 335 tokens\n",
      "[06/11 01:10:25 INFO agent] 5a7f96a95542995d8a8ddead: miss SP1 4054805_0 (Universidad de Oriente) for 0.0141 <= 0.5545 when 335 tokens\n",
      "[06/11 01:10:26 INFO agent] 5a7cb2ed5542990527d55505: miss SP0 43471495_0 (2014–15 Magyar Kupa) for 0.3911 <= 0.4344 when 336 tokens\n",
      "[06/11 01:10:26 INFO agent] 5abecdf45542997719eab5d4: miss SP1 109701_0 (Davenport, Florida) for 0.1785 <= 0.6829 when 323 tokens\n",
      "[06/11 01:10:26 INFO agent] 5abecdf45542997719eab5d4: augment SP ['109701_0'] into memory\n",
      "[06/11 01:10:27 INFO agent] 5a7a10755542996a35c170b1: augment SP ['326115_0'] into memory\n",
      "[06/11 01:10:27 WARNING agent] 5a7a10755542996a35c170b1: augment false SP 326115_0 into memory {'41099521_0': 0.9445477724075317, '326115_0': 0.016817766427993774}\n",
      "[06/11 01:10:27 INFO agent] 5ab2d3c5554299295394687a: miss SP1 101393_0 (Liev Schreiber) for 0.0016 <= 0.5588 when 512 tokens\n",
      "[06/11 01:10:27 INFO agent] 5a88f7855542993b751ca8da: miss SP1 21111_0 (Nicolas Cage) for 0.1415 <= 0.3306 when 512 tokens\n",
      "[06/11 01:10:27 INFO agent] 5a7a73e45542996c55b2ddb6: miss SP1 11364514_0 (Lord of the Rings (musical)) for 0.0156 <= 0.6759 when 344 tokens\n"
     ]
    },
    {
     "data": {
      "application/vnd.jupyter.widget-view+json": {
       "model_id": "b56bb57deb9c42348730c7e59220942c",
       "version_major": 2,
       "version_minor": 0
      },
      "text/plain": [
       "exe:   0%|          | 0/2261 [00:00<?, ?it/s]"
      ]
     },
     "metadata": {},
     "output_type": "display_data"
    },
    {
     "name": "stdout",
     "output_type": "stream",
     "text": [
      "3: 1462 remained\n",
      "|                  |    EM |    F1 |  Prec | Recall |\n",
      "|------------------|-------|-------|-------|--------|\n",
      "|           Answer | 53.30 | 64.03 | 66.19 |  65.19 |\n",
      "|      Norm answer | 52.91 | 63.60 | 65.81 |  64.70 |\n",
      "| Support sentence | 48.70 | 69.04 | 71.11 |  68.62 |\n",
      "| Support sentence | 47.32 | 68.62 | 71.81 |  67.72 |\n",
      "|  Support passage | 73.61 | 76.49 | 76.49 |  76.49 |\n",
      "|            Joint | 35.41 | 57.10 | 60.67 |  57.70 |\n",
      "2.3049291019581366\n"
     ]
    },
    {
     "data": {
      "application/vnd.jupyter.widget-view+json": {
       "model_id": "df0cf9a56321474c80c4d353c6e51dac",
       "version_major": 2,
       "version_minor": 0
      },
      "text/plain": [
       "gen_sparse_query:   0%|          | 0/1462 [00:00<?, ?it/s]"
      ]
     },
     "metadata": {},
     "output_type": "display_data"
    },
    {
     "data": {
      "application/vnd.jupyter.widget-view+json": {
       "model_id": "fe1ebc1f699c44eba9488a7837ef84c2",
       "version_major": 2,
       "version_minor": 0
      },
      "text/plain": [
       "act:   0%|          | 0/46 [00:00<?, ?it/s]"
      ]
     },
     "metadata": {},
     "output_type": "display_data"
    },
    {
     "name": "stderr",
     "output_type": "stream",
     "text": [
      "[06/11 01:10:38 INFO agent] 5a85fb085542994775f606de: augment SP ['142457_0'] into memory\n",
      "[06/11 01:10:38 WARNING agent] 5a85fb085542994775f606de: augment false SP 142457_0 into memory {'394493_0': 0.9022001028060913, '142457_0': 1.0}\n",
      "[06/11 01:10:38 INFO agent] 5a713ea95542994082a3e6e4: augment SP ['23602935_0'] into memory\n",
      "[06/11 01:10:39 INFO agent] 5ab31864554299233954ff06: miss SP1 17438452_0 (Apratim Majumdar) for 0.5462 <= 0.5699 when 512 tokens\n",
      "[06/11 01:10:40 INFO agent] 5abbc58455429931dba14502: miss SP1 3226774_0 (The Grudge 2) for 0.1018 <= 0.6753 when 512 tokens\n",
      "[06/11 01:10:40 INFO agent] 5abbc58455429931dba14502: augment SP ['3226774_0'] into memory\n",
      "[06/11 01:10:40 INFO agent] 5ab438395542990594ba9bb9: augment SP ['25857222_0'] into memory\n",
      "[06/11 01:10:40 WARNING agent] 5ab438395542990594ba9bb9: augment false SP 25857222_0 into memory {'49197852_0': 0.9716097116470337, '25857222_0': 0.02821921706199646}\n",
      "[06/11 01:10:41 INFO agent] 5a901f735542990a98493591: miss SP1 32569_0 (Vitellius) for 0.1505 <= 0.5339 when 452 tokens\n",
      "[06/11 01:10:41 INFO agent] 5adfcb5455429906c02daa48: remove SP1 33529086_0 (Death in Paradise (TV series)) from memory for 0.8310 -> 0.0630 <= 0.5293 when 452 tokens\n",
      "[06/11 01:10:41 INFO agent] 5a8347d65542996488c2e3f6: miss SP0 464883_0 (Miracle (2004 film)) for 0.4725 <= 0.4879 when 452 tokens\n",
      "[06/11 01:10:41 INFO agent] 5ae6b6065542991bbc976168: remove SP0 10082922_0 (Scott Adkins) from memory for 0.9500 -> 0.1981 <= 0.4346 when 479 tokens\n",
      "[06/11 01:10:41 INFO agent] 5ae73d235542991e8301cc29: miss SP1 43738974_0 (Kevin Loader) for 0.1092 <= 0.4801 when 479 tokens\n",
      "[06/11 01:10:41 INFO agent] 5ac38bf355429939154137ba: augment SP ['4468208_0'] into memory\n",
      "[06/11 01:10:41 WARNING agent] 5ac38bf355429939154137ba: augment false SP 4468208_0 into memory {'24882549_0': 0.9711676239967346, '4468208_0': 0.07507496476173402}\n",
      "[06/11 01:10:41 INFO agent] 5a8f38fa55429924144829f5: augment SP ['2170601_0'] into memory\n",
      "[06/11 01:10:41 WARNING agent] 5a8f38fa55429924144829f5: augment false SP 2170601_0 into memory {'47546672_0': 0.9561189413070679, '2170601_0': 1.0}\n",
      "[06/11 01:10:41 INFO agent] 5abbd7985542992ccd8e7fb8: miss SP1 100821_0 (SoHo, Manhattan) for 0.0059 <= 0.5740 when 479 tokens\n",
      "[06/11 01:10:41 INFO agent] 5abbd7985542992ccd8e7fb8: augment SP ['100821_0'] into memory\n",
      "[06/11 01:10:42 INFO agent] 5ae75a5a5542991bbc9761f3: remove SP0 38871163_0 (Kriti Sanon) from memory for 0.9082 -> 0.4860 <= 0.5105 when 454 tokens\n",
      "[06/11 01:10:43 INFO agent] 5a72125055429971e9dc9241: miss SP1 72317_0 (Creature from the Black Lagoon) for 0.2104 <= 0.5650 when 316 tokens\n",
      "[06/11 01:10:43 INFO agent] 5ab8903555429916710eb08e: miss SP1 2070321_0 (Creech Air Force Base) for 0.1245 <= 0.4620 when 316 tokens\n",
      "[06/11 01:10:43 INFO agent] 5a8b3f8a5542995d1e6f131f: miss SP1 3069079_0 (George Dayton) for 0.5457 <= 0.6026 when 316 tokens\n",
      "[06/11 01:10:43 INFO agent] 5a8b3f8a5542995d1e6f131f: augment SP ['3069079_0'] into memory\n",
      "[06/11 01:10:43 INFO agent] 5a7354d55542994cef4bc55a: augment SP ['560061_0'] into memory\n",
      "[06/11 01:10:43 WARNING agent] 5a7354d55542994cef4bc55a: augment false SP 560061_0 into memory {'38468_0': 0.960047721862793, '560061_0': 1.0}\n",
      "[06/11 01:10:44 INFO agent] 5ae22f4e5542996483e6492f: miss SP1 17279743_0 (Cartoon Network) for 0.0014 <= 0.5410 when 494 tokens\n",
      "[06/11 01:10:44 INFO agent] 5ac559bd5542993e66e82328: miss SP1 3488963_0 (Horse the Band) for 0.0013 <= 0.5418 when 494 tokens\n",
      "[06/11 01:10:44 INFO agent] 5ab4147a5542996a3a969f1e: miss SP0 5608488_0 (Stephen Curry) for 0.1386 <= 0.5064 when 422 tokens\n",
      "[06/11 01:10:45 INFO agent] 5a712c4b5542994082a3e622: remove SP1 48768921_0 (Cook's Landing Place, Town of Seventeen Seventy) from memory for 0.5929 -> 0.0510 <= 0.6185 when 346 tokens\n",
      "[06/11 01:10:45 INFO agent] 5a7e1bae55429965cec5ea6f: augment SP ['2306844_0'] into memory\n",
      "[06/11 01:10:45 WARNING agent] 5a7e1bae55429965cec5ea6f: augment false SP 2306844_0 into memory {'44179760_0': 0.9818416833877563, '2306844_0': 1.0}\n",
      "[06/11 01:10:45 INFO agent] 5abadc355542996606241644: miss SP0 25507_0 (Roman Empire) for 0.3254 <= 0.5303 when 346 tokens\n",
      "[06/11 01:10:46 INFO agent] 5abbdf8055429931dba145bb: miss SP1 4247873_0 (Norman Reedus) for 0.0074 <= 0.5965 when 447 tokens\n",
      "[06/11 01:10:46 INFO agent] 5abbdf8055429931dba145bb: augment SP ['4247873_0'] into memory\n",
      "[06/11 01:10:46 INFO agent] 5ab56f4b554299637185c599: miss SP0 37644013_0 (Republican Party presidential primaries, 2016) for 0.0068 <= 0.6057 when 447 tokens\n",
      "[06/11 01:10:46 INFO agent] 5ae3f2895542995ad6573cc9: miss SP2 423506_0 (Alemannic German) for 0.1746 <= 0.7579 when 447 tokens\n",
      "[06/11 01:10:46 INFO agent] 5ae3f2895542995ad6573cc9: augment SP ['423506_0'] into memory\n",
      "[06/11 01:10:46 INFO agent] 5a904f6355429916514e746e: miss SP1 44345_0 (Damnatio memoriae) for 0.0077 <= 0.6481 when 459 tokens\n",
      "[06/11 01:10:46 INFO agent] 5ae5be02554299546bf82f3e: miss SP1 1019154_0 (SpaceDev) for 0.1020 <= 0.5437 when 459 tokens\n",
      "[06/11 01:10:46 INFO agent] 5ae6808f5542995703ce8b6b: miss SP1 201088_0 (Woolsthorpe-by-Colsterworth) for 0.3060 <= 0.6725 when 459 tokens\n",
      "[06/11 01:10:47 INFO agent] 5ac4f8705542995c82c4ad8d: augment SP ['355852_0'] into memory\n",
      "[06/11 01:10:47 WARNING agent] 5ac4f8705542995c82c4ad8d: augment false SP 355852_0 into memory {'26848861_0': 0.9984466433525085, '355852_0': 0.0028829950839281086}\n",
      "[06/11 01:10:47 INFO agent] 5ac3c08a5542995ef918c217: augment SP ['35233738_0'] into memory\n",
      "[06/11 01:10:47 WARNING agent] 5ac3c08a5542995ef918c217: augment false SP 35233738_0 into memory {'1480699_0': 0.8345840573310852, '35233738_0': 0.1265541672706604}\n",
      "[06/11 01:10:47 INFO agent] 5ac10c5e554299294b219074: miss SP1 61194_0 (A Prairie Home Companion) for 0.1749 <= 0.5751 when 336 tokens\n",
      "[06/11 01:10:47 INFO agent] 5ab6b13b554299710c8d1f3f: miss SP0 8134208_0 (Aéroport Charles de Gaulle 2 TGV) for 0.1195 <= 0.4582 when 336 tokens\n",
      "[06/11 01:10:48 INFO agent] 5ab2ed62554299166977413a: miss SP1 255109_0 (Plymouth (automobile)) for 0.5935 <= 0.6301 when 357 tokens\n",
      "[06/11 01:10:48 INFO agent] 5ab2ed62554299166977413a: augment SP ['255109_0'] into memory\n",
      "[06/11 01:10:48 INFO agent] 5ae61dce5542992663a4f262: miss SP0 243685_0 (Julianne Moore) for 0.0913 <= 0.4669 when 357 tokens\n",
      "[06/11 01:10:48 INFO agent] 5ab6aa4c55429953192ad359: augment SP ['1967_0'] into memory\n",
      "[06/11 01:10:48 WARNING agent] 5ab6aa4c55429953192ad359: augment false SP 1967_0 into memory {'1260584_0': 0.9904611706733704, '1967_0': 0.1309564709663391}\n",
      "[06/11 01:10:48 INFO agent] 5abcce3355429965836004a5: miss SP2 1298541_0 (A Christmas Carol (1938 film)) for 0.1819 <= 0.6890 when 441 tokens\n",
      "[06/11 01:10:48 INFO agent] 5abcce3355429965836004a5: augment SP ['1298541_0'] into memory\n",
      "[06/11 01:10:49 INFO agent] 5ae471fa55429970de88d965: miss SP1 74167_0 (Poutine) for 0.1108 <= 0.5940 when 512 tokens\n",
      "[06/11 01:10:49 INFO agent] 5ae471fa55429970de88d965: augment SP ['74167_0'] into memory\n",
      "[06/11 01:10:49 INFO agent] 5a8a6b625542996c9b8d5ed9: miss SP0 2279024_0 (All Tomorrow's Parties (festival)) for 0.1056 <= 0.5036 when 512 tokens\n",
      "[06/11 01:10:49 INFO agent] 5abafb6d5542992ccd8e7e92: miss SP0 33303392_0 (Starship Entertainment) for 0.3036 <= 0.4521 when 352 tokens\n",
      "[06/11 01:10:49 INFO agent] 5ae0ee2c5542993d6555eca3: remove SP0 466636_0 (Travis McGee) from memory for 0.6216 -> 0.1158 <= 0.5811 when 352 tokens\n",
      "[06/11 01:10:49 INFO agent] 5a71224f5542994082a3e5c1: miss SP1 20670843_0 (Namibia: The Struggle for Liberation) for 0.0957 <= 0.6001 when 352 tokens\n",
      "[06/11 01:10:50 INFO agent] 5a80c01855429938b61421b8: miss SP1 53938561_0 (1994 Georgia Tech Yellow Jackets football team) for 0.0512 <= 0.6029 when 452 tokens\n",
      "[06/11 01:10:50 INFO agent] 5ac179bf5542994ab5c67d60: augment SP ['2211712_0'] into memory\n",
      "[06/11 01:10:50 WARNING agent] 5ac179bf5542994ab5c67d60: augment false SP 2211712_0 into memory {'8736383_0': 0.932594358921051, '2211712_0': 0.29285794496536255}\n",
      "[06/11 01:10:50 INFO agent] 5ab2a32f554299706120967b: miss SP1 48069113_0 (Eugene Rosenberg) for 0.0241 <= 0.4693 when 460 tokens\n",
      "[06/11 01:10:50 INFO agent] 5ab2a32f554299706120967b: augment SP ['48069113_0'] into memory\n",
      "[06/11 01:10:51 INFO agent] 5a7750a155429966f1a36cef: augment SP ['59064_0'] into memory\n",
      "[06/11 01:10:51 WARNING agent] 5a7750a155429966f1a36cef: augment false SP 59064_0 into memory {'788698_0': 0.9672042727470398, '59064_0': 0.11460386514663697}\n",
      "[06/11 01:10:51 INFO agent] 5ab9ba6e554299743d22ebcd: miss SP0 19385355_0 (Reassuringly Expensive) for 0.0810 <= 0.5950 when 388 tokens\n",
      "[06/11 01:10:51 INFO agent] 5a7502345542993748c89795: augment SP ['4706984_0'] into memory\n",
      "[06/11 01:10:51 WARNING agent] 5a7502345542993748c89795: augment false SP 4706984_0 into memory {'5488_0': 0.931000828742981, '4706984_0': 0.4333115220069885}\n",
      "[06/11 01:10:51 INFO agent] 5abdc18555429965af743e2b: miss SP0 40801165_0 (Firefly (car rental)) for 0.0843 <= 0.5749 when 355 tokens\n",
      "[06/11 01:10:51 INFO agent] 5adfb10855429942ec259af9: augment SP ['23784230_0'] into memory\n",
      "[06/11 01:10:51 INFO agent] 5ae364285542991a06ce99b3: miss SP0 3124625_0 (Royler Gracie) for 0.3202 <= 0.3783 when 355 tokens\n",
      "[06/11 01:10:52 INFO agent] 5a8760e75542996e4f3087af: miss SP0 442343_0 (Whatever Happened to... Robot Jones?) for 0.2115 <= 0.3878 when 399 tokens\n",
      "[06/11 01:10:52 INFO agent] 5ab6644655429954757d327d: remove SP1 50168344_0 (2016–17 FC Barcelona season) from memory for 0.9010 -> 0.5055 <= 0.6284 when 399 tokens\n",
      "[06/11 01:10:52 INFO agent] 5a8901a2554299515336125a: miss SP1 451642_0 (Wendigo) for 0.0033 <= 0.5262 when 432 tokens\n",
      "[06/11 01:10:53 INFO agent] 5a843de75542992ef85e23b4: miss SP1 697656_0 (Treasure Island Hotel and Casino) for 0.0507 <= 0.4698 when 512 tokens\n",
      "[06/11 01:10:53 INFO agent] 5a7d9d2b5542997cc2c47464: miss SP1 3002363_0 (University of Melbourne Faculty of VCA and MCM) for 0.0242 <= 0.6186 when 512 tokens\n",
      "[06/11 01:10:53 INFO agent] 5a7d9d2b5542997cc2c47464: augment SP ['3002363_0'] into memory\n",
      "[06/11 01:10:54 INFO agent] 5a7337715542991f9a20c690: miss SP1 106337_0 (Coal Miner's Daughter (film)) for 0.2700 <= 0.5898 when 421 tokens\n",
      "[06/11 01:10:54 INFO agent] 5ac4d314554299076e296e02: miss SP0 50784454_0 (William Novak) for 0.1409 <= 0.5068 when 421 tokens\n",
      "[06/11 01:10:54 INFO agent] 5a77a14655429949eeb29f13: miss SP1 29430101_0 (Prussian mythology) for 0.0471 <= 0.5765 when 487 tokens\n",
      "[06/11 01:10:54 INFO agent] 5a77a14655429949eeb29f13: augment SP ['29430101_0'] into memory\n",
      "[06/11 01:10:54 INFO agent] 5ab707d65542991d32223761: miss SP1 258043_0 (Wilkins Township, Allegheny County, Pennsylvania) for 0.4702 <= 0.6796 when 487 tokens\n",
      "[06/11 01:10:54 INFO agent] 5a89d36e554299515336132a: remove SP0 714358_0 (Quadrophenia (film)) from memory for 0.5290 -> 0.1812 <= 0.5028 when 487 tokens\n",
      "[06/11 01:10:55 INFO agent] 5ae47fe255429913cc204482: augment SP ['31579266_0'] into memory\n",
      "[06/11 01:10:56 INFO agent] 5a7787b655429949eeb29ed3: augment SP ['5699509_0'] into memory\n",
      "[06/11 01:10:56 WARNING agent] 5a7787b655429949eeb29ed3: augment false SP 5699509_0 into memory {'6530966_0': 0.8916324377059937, '5699509_0': 1.0}\n",
      "[06/11 01:10:56 INFO agent] 5adf3c155542993a75d2643a: augment SP ['176822_0'] into memory\n",
      "[06/11 01:10:56 WARNING agent] 5adf3c155542993a75d2643a: augment false SP 176822_0 into memory {'163894_0': 0.9397097826004028, '176822_0': 1.0}\n",
      "[06/11 01:10:56 INFO agent] 5a8587dd5542997b5ce40000: miss SP1 1656795_0 (The Basham Brothers) for 0.1880 <= 0.7093 when 336 tokens\n",
      "[06/11 01:10:56 INFO agent] 5a8b8b3a5542995d1e6f13e5: augment SP ['28601415_0'] into memory\n",
      "[06/11 01:10:56 WARNING agent] 5a8b8b3a5542995d1e6f13e5: augment false SP 28601415_0 into memory {'28623633_0': 0.9368872046470642, '28601415_0': 1.0}\n",
      "[06/11 01:10:57 INFO agent] 5a8ba60b554299240d9c205b: miss SP0 2083207_0 (Piano Sonata No. 16 (Beethoven)) for 0.2105 <= 0.4822 when 406 tokens\n",
      "[06/11 01:10:57 INFO agent] 5a7cdc54554299683c1c63a5: augment SP ['5189952_0'] into memory\n",
      "[06/11 01:10:57 INFO agent] 5a7780e855429949eeb29e9f: miss SP0 32832973_0 (Anna Karenina (2012 film)) for 0.2033 <= 0.3235 when 343 tokens\n",
      "[06/11 01:10:58 INFO agent] 5adfc06d55429906c02daa2a: remove SP0 1066561_0 (Boston Harbor) from memory for 0.9962 -> 0.0640 <= 0.4816 when 381 tokens\n",
      "[06/11 01:10:58 INFO agent] 5ac325495542995ef918c12e: miss SP1 12458720_0 (Akrofuom (Ghana parliament constituency)) for 0.1640 <= 0.5160 when 381 tokens\n",
      "[06/11 01:10:58 INFO agent] 5adf36c55542993344016c3e: miss SP0 16555113_0 (Quiara Alegría Hudes) for 0.1191 <= 0.5026 when 381 tokens\n",
      "[06/11 01:10:58 INFO agent] 5ac0c5805542992a796ded80: miss SP0 168290_0 (Homer's Odyssey (The Simpsons)) for 0.2529 <= 0.5876 when 438 tokens\n",
      "[06/11 01:10:59 INFO agent] 5abe49765542991f6610611f: augment SP ['322448_0'] into memory\n",
      "[06/11 01:10:59 WARNING agent] 5abe49765542991f6610611f: augment false SP 322448_0 into memory {'2739286_0': 0.9786995649337769, '322448_0': 1.0}\n",
      "[06/11 01:10:59 INFO agent] 5ab529005542996a3a96a045: miss SP1 52755457_0 (2017 National Camogie League) for 0.1023 <= 0.5279 when 314 tokens\n",
      "[06/11 01:10:59 INFO agent] 5a870a8e55429960ec39b707: miss SP1 36637_0 (Yorkshire) for 0.0050 <= 0.5291 when 314 tokens\n",
      "[06/11 01:10:59 INFO agent] 5a870a8e55429960ec39b707: augment SP ['36637_0'] into memory\n",
      "[06/11 01:10:59 INFO agent] 5a807ceb554299485f598616: miss SP1 266402_0 (Steve Coogan) for 0.0416 <= 0.6310 when 314 tokens\n",
      "[06/11 01:10:59 INFO agent] 5ab2d3c5554299295394687a: miss SP1 101393_0 (Liev Schreiber) for 0.0016 <= 0.5588 when 314 tokens\n",
      "[06/11 01:10:59 INFO agent] 5a84a5dc5542992a431d1a82: remove SP0 50759390_0 (2016–17 Dallas Stars season) from memory for 0.6280 -> 0.2014 <= 0.4660 when 314 tokens\n",
      "[06/11 01:11:00 INFO agent] 5a7776b955429967ab10519e: miss SP0 3245477_0 (The Merchant of Venice (2004 film)) for 0.0857 <= 0.5188 when 307 tokens\n",
      "[06/11 01:11:00 INFO agent] 5aba94e355429901930fa845: miss SP0 10798245_0 (Jonathan Groff) for 0.1642 <= 0.5512 when 307 tokens\n"
     ]
    },
    {
     "data": {
      "application/vnd.jupyter.widget-view+json": {
       "model_id": "c58a95f18708447e84582f3816733c57",
       "version_major": 2,
       "version_minor": 0
      },
      "text/plain": [
       "exe:   0%|          | 0/1462 [00:00<?, ?it/s]"
      ]
     },
     "metadata": {},
     "output_type": "display_data"
    },
    {
     "name": "stdout",
     "output_type": "stream",
     "text": [
      "4: 1158 remained\n",
      "|                  |    EM |    F1 |  Prec | Recall |\n",
      "|------------------|-------|-------|-------|--------|\n",
      "|           Answer | 55.96 | 67.14 | 69.41 |  68.32 |\n",
      "|      Norm answer | 55.53 | 66.66 | 68.98 |  67.78 |\n",
      "| Support sentence | 50.48 | 72.28 | 74.46 |  71.86 |\n",
      "| Support sentence | 48.97 | 71.84 | 75.21 |  70.92 |\n",
      "|  Support passage | 77.03 | 80.19 | 80.19 |  80.19 |\n",
      "|            Joint | 36.77 | 59.73 | 63.46 |  60.36 |\n",
      "2.5022282241728564\n"
     ]
    },
    {
     "data": {
      "application/vnd.jupyter.widget-view+json": {
       "model_id": "2ae501ee9d6e4ba0b6de0830e2fc8113",
       "version_major": 2,
       "version_minor": 0
      },
      "text/plain": [
       "gen_sparse_query:   0%|          | 0/1158 [00:00<?, ?it/s]"
      ]
     },
     "metadata": {},
     "output_type": "display_data"
    },
    {
     "data": {
      "application/vnd.jupyter.widget-view+json": {
       "model_id": "1c1767e5d1b64035b056af862eeffeac",
       "version_major": 2,
       "version_minor": 0
      },
      "text/plain": [
       "act:   0%|          | 0/37 [00:00<?, ?it/s]"
      ]
     },
     "metadata": {},
     "output_type": "display_data"
    },
    {
     "name": "stderr",
     "output_type": "stream",
     "text": [
      "[06/11 01:11:10 INFO agent] 5a7ed2c655429930675135e5: miss SP2 39367266_0 (Brooklyn Nine-Nine) for 0.1678 <= 0.7170 when 512 tokens\n",
      "[06/11 01:11:10 INFO agent] 5ab31864554299233954ff06: miss SP1 577443_0 (Sarod) for 0.1339 <= 0.5065 when 512 tokens\n",
      "[06/11 01:11:11 INFO agent] 5a7319e755429901807daf86: augment SP ['1447560_0', '25871295_0'] into memory\n",
      "[06/11 01:11:11 WARNING agent] 5a7319e755429901807daf86: augment false SP 1447560_0 into memory {'1447560_0': 1.0, '25871295_0': 0.33110830187797546}\n",
      "[06/11 01:11:11 WARNING agent] 5a7319e755429901807daf86: augment false SP 25871295_0 into memory {'1447560_0': 1.0, '25871295_0': 0.33110830187797546}\n",
      "[06/11 01:11:11 INFO agent] 5a901f735542990a98493591: miss SP1 32569_0 (Vitellius) for 0.1505 <= 0.5339 when 360 tokens\n",
      "[06/11 01:11:12 INFO agent] 5ae5d7b755429929b08079cd: miss SP1 21709_0 (Nation of Islam) for 0.2072 <= 0.5283 when 359 tokens\n",
      "[06/11 01:11:12 INFO agent] 5ac156d05542994ab5c67ce9: remove SP2 13072534_0 (Lin-Manuel Miranda) from memory for 0.8224 -> 0.1082 <= 0.6409 when 431 tokens\n",
      "[06/11 01:11:12 INFO agent] 5a84807d554299123d8c2278: remove SP0 593041_0 (Hugh Dancy) from memory for 0.8494 -> 0.4384 <= 0.5426 when 431 tokens\n",
      "[06/11 01:11:12 INFO agent] 5a7f85505542995d8a8dde95: miss SP1 11940266_0 (Heading Out to the Highway) for 0.0876 <= 0.5827 when 346 tokens\n",
      "[06/11 01:11:13 INFO agent] 5a84973e5542992a431d1a67: miss SP2 1206268_0 (Gracie Mansion) for 0.0091 <= 0.7096 when 315 tokens\n",
      "[06/11 01:11:13 INFO agent] 5a7a749d5542994f819ef1e0: remove SP0 338007_0 (Hedge (finance)) from memory for 0.9715 -> 0.3627 <= 0.4955 when 341 tokens\n",
      "[06/11 01:11:14 INFO agent] 5adddb415542992200553b61: augment SP ['5924273_0'] into memory\n",
      "[06/11 01:11:14 WARNING agent] 5adddb415542992200553b61: augment false SP 5924273_0 into memory {'2411539_0': 0.941338062286377, '5924273_0': 1.0}\n",
      "[06/11 01:11:14 INFO agent] 5a7f697c5542992097ad2f59: augment SP ['33395852_0'] into memory\n",
      "[06/11 01:11:14 WARNING agent] 5a7f697c5542992097ad2f59: augment false SP 33395852_0 into memory {'18905179_0': 0.9829459190368652, '33395852_0': 1.0}\n",
      "[06/11 01:11:15 INFO agent] 5abadc355542996606241644: miss SP0 22389647_0 (Florentius (consul 361)) for 0.4978 <= 0.5150 when 377 tokens\n",
      "[06/11 01:11:15 INFO agent] 5ab29e87554299194fa9346e: miss SP1 16156_0 (Jacksonville Jaguars) for 0.5403 <= 0.5523 when 377 tokens\n",
      "[06/11 01:11:15 INFO agent] 5ab29e87554299194fa9346e: augment SP ['16156_0'] into memory\n",
      "[06/11 01:11:15 INFO agent] 5ac31129554299741d48a1a2: augment SP ['120226_0'] into memory\n",
      "[06/11 01:11:15 WARNING agent] 5ac31129554299741d48a1a2: augment false SP 120226_0 into memory {'3781223_0': 0.9186230897903442, '120226_0': 0.09293416738510132}\n",
      "[06/11 01:11:15 INFO agent] 5a7f38e255429930675136b6: miss SP1 9169947_0 (Ronkonkoma (LIRR station)) for 0.1070 <= 0.5786 when 341 tokens\n",
      "[06/11 01:11:16 INFO agent] 5adc8b5a5542994d58a2f648: miss SP0 1748361_0 (Maurizio Lobina) for 0.1006 <= 0.1274 when 347 tokens\n",
      "[06/11 01:11:17 INFO agent] 5abd8ee05542993062266cc8: miss SP1 5186327_0 (New York's 4th congressional district) for 0.0544 <= 0.5992 when 317 tokens\n",
      "[06/11 01:11:17 INFO agent] 5a78c235554299078472775d: miss SP0 7999675_0 (Juan Mata) for 0.0262 <= 0.5081 when 317 tokens\n",
      "[06/11 01:11:17 INFO agent] 5add15d15542994ed6169c70: miss SP1 33024218_0 (Inter-Allied Socialist Conferences of World War I) for 0.0149 <= 0.6254 when 317 tokens\n",
      "[06/11 01:11:18 INFO agent] 5a84c01e5542991dd0999dd6: miss SP2 66148_0 (Haakon the Good) for 0.0706 <= 0.5829 when 512 tokens\n",
      "[06/11 01:11:18 INFO agent] 5a8a6b625542996c9b8d5ed9: miss SP0 2279024_0 (All Tomorrow's Parties (festival)) for 0.1056 <= 0.5036 when 512 tokens\n",
      "[06/11 01:11:18 INFO agent] 5abafb6d5542992ccd8e7e92: miss SP0 33303392_0 (Starship Entertainment) for 0.3036 <= 0.4521 when 512 tokens\n",
      "[06/11 01:11:18 INFO agent] 5abde7ba5542991f6610609e: augment SP ['1502463_0'] into memory\n",
      "[06/11 01:11:18 WARNING agent] 5abde7ba5542991f6610609e: augment false SP 1502463_0 into memory {'3114827_0': 0.9398486614227295, '1502463_0': 0.27537021040916443}\n",
      "[06/11 01:11:18 INFO agent] 5a7e513a5542994959419996: remove SP0 41850402_0 (Tesano) from memory for 0.5009 -> 0.2487 <= 0.5480 when 384 tokens\n",
      "[06/11 01:11:19 INFO agent] 5ae364285542991a06ce99b3: miss SP0 3124625_0 (Royler Gracie) for 0.3202 <= 0.3783 when 404 tokens\n",
      "[06/11 01:11:19 INFO agent] 5abb729b5542993f40c73af4: miss SP1 888974_0 (U.S. Route 56) for 0.5940 <= 0.5992 when 383 tokens\n",
      "[06/11 01:11:19 INFO agent] 5a82028a554299676cceb1d6: miss SP0 39364536_0 (The Curse of Downers Grove) for 0.3397 <= 0.3924 when 383 tokens\n",
      "[06/11 01:11:20 INFO agent] 5a8901a2554299515336125a: augment SP ['451642_0'] into memory\n",
      "[06/11 01:11:20 INFO agent] 5add889b5542997545bbbd68: augment SP ['49351454_0'] into memory\n",
      "[06/11 01:11:20 WARNING agent] 5add889b5542997545bbbd68: augment false SP 49351454_0 into memory {'14517645_0': 0.9189523458480835, '49351454_0': 1.0}\n",
      "[06/11 01:11:20 INFO agent] 5a8b97485542995d1e6f140f: miss SP1 7880254_0 (Michael Casey (poet)) for 0.0868 <= 0.6069 when 445 tokens\n",
      "[06/11 01:11:21 INFO agent] 5a728b1c5542992359bc30e0: remove SP1 50724551_0 (She Is) from memory for 0.9835 -> 0.2164 <= 0.5676 when 389 tokens\n",
      "[06/11 01:11:21 INFO agent] 5a728b1c5542992359bc30e0: augment SP ['50724551_0'] into memory\n",
      "[06/11 01:11:22 INFO agent] 5a81ad9855429903bc27b9a3: miss SP1 4681_0 (Boxing Day) for 0.5022 <= 0.5403 when 470 tokens\n",
      "[06/11 01:11:22 INFO agent] 5a81ad9855429903bc27b9a3: augment SP ['4681_0'] into memory\n",
      "[06/11 01:11:22 INFO agent] 5ae395d85542992f92d82313: miss SP1 2072659_0 (Queenston Delta) for 0.2277 <= 0.5323 when 416 tokens\n",
      "[06/11 01:11:23 INFO agent] 5ab7fd6b5542990e739ec7b5: augment SP ['7183616_0'] into memory\n",
      "[06/11 01:11:23 WARNING agent] 5ab7fd6b5542990e739ec7b5: augment false SP 7183616_0 into memory {'6999684_0': 0.6056928634643555, '7183616_0': 0.28504741191864014}\n",
      "[06/11 01:11:23 INFO agent] 5abce2fc5542993a06baf994: augment SP ['7410506_0'] into memory\n",
      "[06/11 01:11:23 WARNING agent] 5abce2fc5542993a06baf994: augment false SP 7410506_0 into memory {'4671675_0': 0.9797216653823853, '7410506_0': 0.014296875894069673}\n",
      "[06/11 01:11:24 INFO agent] 5a7b22f8554299042af8f6ff: miss SP1 66906_0 (Indonesian National Revolution) for 0.0032 <= 0.5320 when 379 tokens\n",
      "[06/11 01:11:24 INFO agent] 5a7cdd1c554299683c1c63a8: miss SP0 39146149_0 (The Smurfs: The Legend of Smurfy Hollow) for 0.0364 <= 0.5517 when 361 tokens\n",
      "[06/11 01:11:25 INFO agent] 5a8e00515542995a26add454: remove SP1 33884405_0 (Derek Branning) from memory for 0.4375 -> 0.0208 <= 0.6050 when 334 tokens\n"
     ]
    },
    {
     "data": {
      "application/vnd.jupyter.widget-view+json": {
       "model_id": "08a030b079dd46e18be6e30b522b7869",
       "version_major": 2,
       "version_minor": 0
      },
      "text/plain": [
       "exe:   0%|          | 0/1158 [00:00<?, ?it/s]"
      ]
     },
     "metadata": {},
     "output_type": "display_data"
    },
    {
     "name": "stdout",
     "output_type": "stream",
     "text": [
      "5: 1011 remained\n",
      "|                  |    EM |    F1 |  Prec | Recall |\n",
      "|------------------|-------|-------|-------|--------|\n",
      "|           Answer | 57.29 | 68.67 | 70.99 |  69.86 |\n",
      "|      Norm answer | 56.81 | 68.16 | 70.53 |  69.28 |\n",
      "| Support sentence | 51.24 | 73.73 | 76.01 |  73.27 |\n",
      "| Support sentence | 49.70 | 73.30 | 76.77 |  72.34 |\n",
      "|  Support passage | 78.56 | 81.89 | 81.89 |  81.89 |\n",
      "|            Joint | 37.37 | 60.97 | 64.83 |  61.58 |\n",
      "2.6584740040513166\n"
     ]
    },
    {
     "data": {
      "application/vnd.jupyter.widget-view+json": {
       "model_id": "5867ee1dac1e4764a0bb1ef370e04de1",
       "version_major": 2,
       "version_minor": 0
      },
      "text/plain": [
       "gen_sparse_query:   0%|          | 0/1011 [00:00<?, ?it/s]"
      ]
     },
     "metadata": {},
     "output_type": "display_data"
    },
    {
     "data": {
      "application/vnd.jupyter.widget-view+json": {
       "model_id": "e4dae8d2a2c14fdb94eee620be7ae970",
       "version_major": 2,
       "version_minor": 0
      },
      "text/plain": [
       "act:   0%|          | 0/32 [00:00<?, ?it/s]"
      ]
     },
     "metadata": {},
     "output_type": "display_data"
    },
    {
     "name": "stderr",
     "output_type": "stream",
     "text": [
      "[06/11 01:11:34 INFO agent] 5a85eed75542996432c5713b: augment SP ['31753716_0'] into memory\n",
      "[06/11 01:11:34 WARNING agent] 5a85eed75542996432c5713b: augment false SP 31753716_0 into memory {'2572036_0': 0.9714274406433105, '31753716_0': 1.0}\n",
      "[06/11 01:11:36 INFO agent] 5ab30d1155429976abd1bc3d: miss SP1 144415_0 (The Santa Clause) for 0.0927 <= 0.6480 when 512 tokens\n",
      "[06/11 01:11:36 INFO agent] 5ab30d1155429976abd1bc3d: augment SP ['144415_0'] into memory\n",
      "[06/11 01:11:36 INFO agent] 5ab1d983554299340b52540a: augment SP ['28348349_0'] into memory\n",
      "[06/11 01:11:36 WARNING agent] 5ab1d983554299340b52540a: augment false SP 28348349_0 into memory {'3012924_0': 0.8279609680175781, '28348349_0': 0.17476632595062258}\n",
      "[06/11 01:11:36 INFO agent] 5a88bd1d554299206df2b357: miss SP1 27652115_0 (Jackson Avery) for 0.3634 <= 0.5829 when 512 tokens\n",
      "[06/11 01:11:36 INFO agent] 5a88bd1d554299206df2b357: augment SP ['27652115_0'] into memory\n",
      "[06/11 01:11:37 INFO agent] 5ab8903555429916710eb08e: augment SP ['17739236_0'] into memory\n",
      "[06/11 01:11:37 WARNING agent] 5ab8903555429916710eb08e: augment false SP 17739236_0 into memory {'28687553_0': 0.9600860476493835, '17739236_0': 0.21000638008117678}\n",
      "[06/11 01:11:38 INFO agent] 5a7da6cb5542990b8f5039ff: miss SP1 7867644_0 (Kevin Alejandro) for 0.1530 <= 0.5368 when 369 tokens\n",
      "[06/11 01:11:38 INFO agent] 5a7da6cb5542990b8f5039ff: augment SP ['7867644_0'] into memory\n",
      "[06/11 01:11:38 INFO agent] 5a8d1f015542994ba4e3dc08: remove SP0 197745_0 (Pyrrhus of Epirus) from memory for 0.5683 -> 0.4478 <= 0.5063 when 375 tokens\n",
      "[06/11 01:11:38 INFO agent] 5a7cb94f554299683c1c6353: miss SP0 314508_0 (Afroman) for 0.3288 <= 0.4148 when 375 tokens\n",
      "[06/11 01:11:39 INFO agent] 5ae4843455429970de88d997: miss SP1 42877243_0 (Bob Johnson (footballer, born 1905)) for 0.2662 <= 0.6016 when 422 tokens\n",
      "[06/11 01:11:39 INFO agent] 5ab4147a5542996a3a969f1e: miss SP0 5608488_0 (Stephen Curry) for 0.1386 <= 0.5064 when 422 tokens\n",
      "[06/11 01:11:39 INFO agent] 5a712c4b5542994082a3e622: miss SP1 48768921_0 (Cook's Landing Place, Town of Seventeen Seventy) for 0.0818 <= 0.6295 when 422 tokens\n",
      "[06/11 01:11:39 INFO agent] 5a80ac53554299485f5986a0: miss SP1 18026889_0 (2000 PGA Championship) for 0.2133 <= 0.5608 when 385 tokens\n",
      "[06/11 01:11:39 INFO agent] 5abe369055429976d4830a8a: miss SP0 1340201_0 (Storegga Slide) for 0.0333 <= 0.5208 when 385 tokens\n",
      "[06/11 01:11:39 INFO agent] 5ab9c7c355429939ce03dc17: miss SP1 37414522_0 (R-26 (salon)) for 0.0406 <= 0.5493 when 385 tokens\n",
      "[06/11 01:11:40 INFO agent] 5a81a2e25542990a1d231e32: augment SP ['93791_0'] into memory\n",
      "[06/11 01:11:40 INFO agent] 5a77c09555429967ab105262: augment SP ['48517_0'] into memory\n",
      "[06/11 01:11:40 WARNING agent] 5a77c09555429967ab105262: augment false SP 48517_0 into memory {'27970526_0': 0.937763512134552, '48517_0': 1.0}\n",
      "[06/11 01:11:41 INFO agent] 5ae6537c5542991bbc9760c1: remove SP1 525314_0 (Shrek 2) from memory for 0.9945 -> 0.3795 <= 0.5882 when 473 tokens\n",
      "[06/11 01:11:41 INFO agent] 5add15d15542994ed6169c70: augment SP ['4881213_0'] into memory\n",
      "[06/11 01:11:41 WARNING agent] 5add15d15542994ed6169c70: augment false SP 4881213_0 into memory {'2198871_0': 0.9695407152175903, '4881213_0': 0.04267743825912476}\n",
      "[06/11 01:11:42 INFO agent] 5a80c01855429938b61421b8: augment SP ['19399476_0'] into memory\n",
      "[06/11 01:11:42 WARNING agent] 5a80c01855429938b61421b8: augment false SP 19399476_0 into memory {'54327219_0': 0.9806472063064575, '19399476_0': 0.027690333127975465}\n",
      "[06/11 01:11:42 INFO agent] 5a9094ba55429933b8a2056d: miss SP1 27492937_0 (Dick Purcell) for 0.1092 <= 0.5995 when 352 tokens\n",
      "[06/11 01:11:43 INFO agent] 5a7b74485542997c3ec97190: miss SP1 470678_0 (Military Frontier) for 0.0019 <= 0.5649 when 512 tokens\n",
      "[06/11 01:11:43 INFO agent] 5a7b74485542997c3ec97190: augment SP ['106190_0'] into memory\n",
      "[06/11 01:11:43 WARNING agent] 5a7b74485542997c3ec97190: augment false SP 106190_0 into memory {'47223199_0': 0.9987683892250061, '106190_0': 0.0007647565100342036}\n",
      "[06/11 01:11:43 INFO agent] 5abcd44655429959677d6af1: miss SP1 124910_0 (Newington, New Hampshire) for 0.5063 <= 0.6004 when 512 tokens\n",
      "[06/11 01:11:43 INFO agent] 5abcd44655429959677d6af1: augment SP ['124910_0'] into memory\n",
      "[06/11 01:11:43 INFO agent] 5ab9b939554299743d22ebca: miss SP1 2165196_0 (Michigan gubernatorial election, 2006) for 0.0017 <= 0.5673 when 368 tokens\n",
      "[06/11 01:11:44 INFO agent] 5a78d9c455429970f5fffda7: miss SP0 7599811_0 (1st Alabama Siege Artillery Regiment (Colored)) for 0.0349 <= 0.7525 when 512 tokens\n",
      "[06/11 01:11:45 INFO agent] 5a8bbb8c5542995d1e6f142e: miss SP1 48081181_0 (Iftikhar Ahmed (cricketer, born 1990)) for 0.0114 <= 0.5693 when 476 tokens\n",
      "[06/11 01:11:45 INFO agent] 5a8284b555429954d2e2eb5f: miss SP1 53727137_0 (7th AVN Awards) for 0.0801 <= 0.4117 when 488 tokens\n",
      "[06/11 01:11:45 INFO agent] 5a8284b555429954d2e2eb5f: remove SP0 705273_0 (Tropicana Las Vegas) from memory for 0.9345 -> 0.1345 <= 0.4117 when 488 tokens\n",
      "[06/11 01:11:45 INFO agent] 5abd882f55429924427fd045: miss SP0 11261237_0 (Birstall Shopping Park) for 0.0267 <= 0.5176 when 488 tokens\n",
      "[06/11 01:11:45 INFO agent] 5a8a573355429970aeb7029a: augment SP ['4792249_0'] into memory\n",
      "[06/11 01:11:45 WARNING agent] 5a8a573355429970aeb7029a: augment false SP 4792249_0 into memory {'40429_0': 0.9784707427024841, '4792249_0': 1.0}\n",
      "[06/11 01:11:46 INFO agent] 5ae406f055429970de88d874: miss SP0 1029471_0 (Roy Lassiter) for 0.1128 <= 0.2239 when 346 tokens\n",
      "[06/11 01:11:46 INFO agent] 5ade66f055429939a52fe8a0: miss SP0 1370613_0 (Eastern Airways) for 0.0077 <= 0.7853 when 346 tokens\n",
      "[06/11 01:11:47 INFO agent] 5a8de02b554299068b959e13: augment SP ['17634886_0'] into memory\n",
      "[06/11 01:11:47 WARNING agent] 5a8de02b554299068b959e13: augment false SP 17634886_0 into memory {'625371_0': 0.9583688378334045, '17634886_0': 0.16743760108947756}\n",
      "[06/11 01:11:47 INFO agent] 5a7780e855429949eeb29e9f: miss SP1 11402229_0 (Aaron Taylor-Johnson) for 0.2797 <= 0.4541 when 329 tokens\n",
      "[06/11 01:11:47 INFO agent] 5a776f8555429972597f1534: remove SP0 124891_0 (Polson, Montana) from memory for 0.5882 -> 0.2228 <= 0.4672 when 329 tokens\n",
      "[06/11 01:11:48 INFO agent] 5a7cb2ed5542990527d55505: miss SP1 43471495_0 (2014–15 Magyar Kupa) for 0.5772 <= 0.6528 when 450 tokens\n",
      "[06/11 01:11:48 INFO agent] 5a7cb2ed5542990527d55505: augment SP ['43471495_0'] into memory\n",
      "[06/11 01:11:48 INFO agent] 5adff34555429942ec259baa: miss SP0 31788031_0 (Bobby Noble (footballer, born 1949)) for 0.1057 <= 0.5939 when 450 tokens\n",
      "[06/11 01:11:49 INFO agent] 5a8e00515542995a26add454: remove SP0 16598925_0 (Terence Beesley) from memory for 0.9716 -> 0.0372 <= 0.7092 when 376 tokens\n"
     ]
    },
    {
     "data": {
      "application/vnd.jupyter.widget-view+json": {
       "model_id": "2623932f8e254a18afb22f5524f7df3e",
       "version_major": 2,
       "version_minor": 0
      },
      "text/plain": [
       "exe:   0%|          | 0/1011 [00:00<?, ?it/s]"
      ]
     },
     "metadata": {},
     "output_type": "display_data"
    },
    {
     "name": "stdout",
     "output_type": "stream",
     "text": [
      "6: 906 remained\n",
      "|                  |    EM |    F1 |  Prec | Recall |\n",
      "|------------------|-------|-------|-------|--------|\n",
      "|           Answer | 58.11 | 69.67 | 72.03 |  70.87 |\n",
      "|      Norm answer | 57.60 | 69.12 | 71.52 |  70.25 |\n",
      "| Support sentence | 51.84 | 74.79 | 77.15 |  74.30 |\n",
      "| Support sentence | 50.26 | 74.34 | 77.93 |  73.34 |\n",
      "|  Support passage | 79.66 | 83.11 | 83.11 |  83.11 |\n",
      "|            Joint | 37.84 | 61.81 | 65.77 |  62.40 |\n",
      "2.7950033760972315\n"
     ]
    },
    {
     "data": {
      "application/vnd.jupyter.widget-view+json": {
       "model_id": "32e859f709d440e9aa39b3af88d46cd6",
       "version_major": 2,
       "version_minor": 0
      },
      "text/plain": [
       "gen_sparse_query:   0%|          | 0/906 [00:00<?, ?it/s]"
      ]
     },
     "metadata": {},
     "output_type": "display_data"
    },
    {
     "data": {
      "application/vnd.jupyter.widget-view+json": {
       "model_id": "df0f745a8ad74223874e5f6c9fdaa8c2",
       "version_major": 2,
       "version_minor": 0
      },
      "text/plain": [
       "act:   0%|          | 0/29 [00:00<?, ?it/s]"
      ]
     },
     "metadata": {},
     "output_type": "display_data"
    },
    {
     "name": "stderr",
     "output_type": "stream",
     "text": [
      "[06/11 01:11:59 INFO agent] 5abb11c15542992ccd8e7ef8: augment SP ['69795_0'] into memory\n",
      "[06/11 01:11:59 WARNING agent] 5abb11c15542992ccd8e7ef8: augment false SP 69795_0 into memory {'204835_0': 0.9811643958091736, '69795_0': 0.33980209827423097}\n",
      "[06/11 01:11:59 INFO agent] 5ab42b24554299753aec5a43: miss SP0 33397730_0 (Operation Lighthouse (1937)) for 0.0165 <= 0.5622 when 384 tokens\n",
      "[06/11 01:11:59 INFO agent] 5ae75a5a5542991bbc9761f3: remove SP1 38871163_0 (Kriti Sanon) from memory for 0.8602 -> 0.6024 <= 0.6694 when 384 tokens\n",
      "[06/11 01:12:01 INFO agent] 5ae22f4e5542996483e6492f: augment SP ['3381857_0'] into memory\n",
      "[06/11 01:12:01 WARNING agent] 5ae22f4e5542996483e6492f: augment false SP 3381857_0 into memory {'19852425_0': 0.9990171194076538, '3381857_0': 0.0005722514819353819}\n",
      "[06/11 01:12:01 INFO agent] 5ab8c3c65542991b5579effd: miss SP0 1394553_0 (Tift Merritt) for 0.2972 <= 0.3349 when 443 tokens\n",
      "[06/11 01:12:01 INFO agent] 5ac559bd5542993e66e82328: miss SP1 3488963_0 (Horse the Band) for 0.0013 <= 0.5418 when 443 tokens\n",
      "[06/11 01:12:01 INFO agent] 5a712c4b5542994082a3e622: miss SP1 48768921_0 (Cook's Landing Place, Town of Seventeen Seventy) for 0.0818 <= 0.6295 when 424 tokens\n",
      "[06/11 01:12:01 INFO agent] 5ab8338155429919ba4e2260: miss SP0 4540384_0 (Ian Brayshaw) for 0.0104 <= 0.6276 when 424 tokens\n",
      "[06/11 01:12:01 INFO agent] 5a8ec55f5542995a26add50c: augment SP ['24018221_0'] into memory\n",
      "[06/11 01:12:01 WARNING agent] 5a8ec55f5542995a26add50c: augment false SP 24018221_0 into memory {'801736_0': 0.9884006977081299, '24018221_0': 0.12315165996551514}\n",
      "[06/11 01:12:02 INFO agent] 5ab29ec6554299194fa93473: miss SP0 10304105_0 (Machete (2010 film)) for 0.1041 <= 0.4812 when 332 tokens\n",
      "[06/11 01:12:02 INFO agent] 5a75140b5542996c70cfae87: remove SP0 8237_0 (Don Quixote) from memory for 0.7026 -> 0.1557 <= 0.5985 when 385 tokens\n",
      "[06/11 01:12:03 INFO agent] 5a84afdc5542991dd0999d81: augment SP ['31525692_0'] into memory\n",
      "[06/11 01:12:03 WARNING agent] 5a84afdc5542991dd0999d81: augment false SP 31525692_0 into memory {'30501916_0': 0.9974554181098938, '31525692_0': 0.3676697969436646}\n",
      "[06/11 01:12:04 INFO agent] 5a84c01e5542991dd0999dd6: miss SP2 66148_0 (Haakon the Good) for 0.0706 <= 0.5829 when 512 tokens\n",
      "[06/11 01:12:04 INFO agent] 5aba6d0f55429955dce3ee19: miss SP1 13595_0 (Heathrow Airport) for 0.4155 <= 0.5818 when 402 tokens\n",
      "[06/11 01:12:04 INFO agent] 5ab5d6155542997d4ad1f1fa: augment SP ['1518504_0'] into memory\n",
      "[06/11 01:12:04 WARNING agent] 5ab5d6155542997d4ad1f1fa: augment false SP 1518504_0 into memory {'1518630_0': 0.9790563583374023, '1518504_0': 1.0}\n",
      "[06/11 01:12:05 INFO agent] 5a8a77fd55429930ff3c0de3: augment SP ['12108114_0'] into memory\n",
      "[06/11 01:12:05 WARNING agent] 5a8a77fd55429930ff3c0de3: augment false SP 12108114_0 into memory {'19961_0': 0.8710741400718689, '12108114_0': 0.27420657873153687}\n",
      "[06/11 01:12:05 INFO agent] 5ab9530a55429970cfb8ea62: augment SP ['5753102_0'] into memory\n",
      "[06/11 01:12:05 WARNING agent] 5ab9530a55429970cfb8ea62: augment false SP 5753102_0 into memory {'5393990_0': 0.9566225409507751, '5753102_0': 1.0}\n",
      "[06/11 01:12:05 INFO agent] 5a8760e75542996e4f3087af: miss SP0 442343_0 (Whatever Happened to... Robot Jones?) for 0.2115 <= 0.3878 when 446 tokens\n",
      "[06/11 01:12:05 INFO agent] 5adc914d5542994ed6169b90: augment SP ['14199779_0'] into memory\n",
      "[06/11 01:12:05 WARNING agent] 5adc914d5542994ed6169b90: augment false SP 14199779_0 into memory {'15178017_0': 0.953416109085083, '14199779_0': 1.0}\n",
      "[06/11 01:12:06 INFO agent] 5ae47dd95542995ad6573d57: miss SP1 555824_0 (Jim Nabors) for 0.1521 <= 0.6584 when 502 tokens\n",
      "[06/11 01:12:06 INFO agent] 5ae47dd95542995ad6573d57: augment SP ['555824_0'] into memory\n",
      "[06/11 01:12:06 INFO agent] 5a7e30b255429934daa2fbeb: miss SP1 593162_0 (Katharine Ross) for 0.0113 <= 0.5997 when 312 tokens\n",
      "[06/11 01:12:07 INFO agent] 5a8284b555429954d2e2eb5f: miss SP0 53727137_0 (7th AVN Awards) for 0.0176 <= 0.5226 when 435 tokens\n",
      "[06/11 01:12:07 INFO agent] 5adea2435542992fa25da7e4: miss SP1 3220091_0 (Rio Airways) for 0.5242 <= 0.6469 when 420 tokens\n",
      "[06/11 01:12:07 INFO agent] 5adf400a5542993a75d2644e: miss SP0 6906713_0 (German submarine U-32 (S182)) for 0.1919 <= 0.4442 when 420 tokens\n",
      "[06/11 01:12:08 INFO agent] 5ae406f055429970de88d874: miss SP0 241880_0 (LA Galaxy) for 0.0417 <= 0.6251 when 393 tokens\n",
      "[06/11 01:12:08 INFO agent] 5ae1fc24554299492dc91bbd: augment SP ['35588437_0'] into memory\n",
      "[06/11 01:12:08 INFO agent] 5a8abcab5542996c9b8d5f67: augment SP ['213251_0'] into memory\n",
      "[06/11 01:12:08 WARNING agent] 5a8abcab5542996c9b8d5f67: augment false SP 213251_0 into memory {'64965_0': 0.6615240573883057, '213251_0': 1.0}\n",
      "[06/11 01:12:08 INFO agent] 5ae0f4645542997b2ef7d0aa: augment SP ['48755148_0'] into memory\n",
      "[06/11 01:12:08 WARNING agent] 5ae0f4645542997b2ef7d0aa: augment false SP 48755148_0 into memory {'41804699_0': 0.976287305355072, '48755148_0': 1.0}\n",
      "[06/11 01:12:09 INFO agent] 5a7cdd1c554299683c1c63a8: miss SP1 39146149_0 (The Smurfs: The Legend of Smurfy Hollow) for 0.0547 <= 0.6598 when 328 tokens\n",
      "[06/11 01:12:09 INFO agent] 5ab529005542996a3a96a045: miss SP1 1034668_0 (Shop Direct) for 0.2602 <= 0.6161 when 297 tokens\n",
      "[06/11 01:12:09 INFO agent] 5a88f7855542993b751ca8da: miss SP0 21111_0 (Nicolas Cage) for 0.1052 <= 0.1423 when 297 tokens\n",
      "[06/11 01:12:10 INFO agent] 5aba94e355429901930fa845: miss SP0 10798245_0 (Jonathan Groff) for 0.1642 <= 0.5512 when 331 tokens\n"
     ]
    },
    {
     "data": {
      "application/vnd.jupyter.widget-view+json": {
       "model_id": "fd008f8bf64a42e79ad8f988894b5b08",
       "version_major": 2,
       "version_minor": 0
      },
      "text/plain": [
       "exe:   0%|          | 0/906 [00:00<?, ?it/s]"
      ]
     },
     "metadata": {},
     "output_type": "display_data"
    },
    {
     "name": "stdout",
     "output_type": "stream",
     "text": [
      "7: 832 remained\n",
      "|                  |    EM |    F1 |  Prec | Recall |\n",
      "|------------------|-------|-------|-------|--------|\n",
      "|           Answer | 58.62 | 70.35 | 72.75 |  71.54 |\n",
      "|      Norm answer | 58.11 | 69.80 | 72.25 |  70.93 |\n",
      "| Support sentence | 52.17 | 75.45 | 77.86 |  74.93 |\n",
      "| Support sentence | 50.55 | 74.99 | 78.65 |  73.96 |\n",
      "|  Support passage | 80.31 | 83.89 | 83.89 |  83.89 |\n",
      "|            Joint | 38.07 | 62.33 | 66.38 |  62.89 |\n",
      "2.9173531397704253\n"
     ]
    },
    {
     "data": {
      "application/vnd.jupyter.widget-view+json": {
       "model_id": "3b410afdff604f15931c82530906e9a6",
       "version_major": 2,
       "version_minor": 0
      },
      "text/plain": [
       "gen_sparse_query:   0%|          | 0/832 [00:00<?, ?it/s]"
      ]
     },
     "metadata": {},
     "output_type": "display_data"
    },
    {
     "data": {
      "application/vnd.jupyter.widget-view+json": {
       "model_id": "0fbfe6b6d1fd4310bfa470efe8f41dfb",
       "version_major": 2,
       "version_minor": 0
      },
      "text/plain": [
       "act:   0%|          | 0/26 [00:00<?, ?it/s]"
      ]
     },
     "metadata": {},
     "output_type": "display_data"
    },
    {
     "name": "stderr",
     "output_type": "stream",
     "text": [
      "[06/11 01:12:18 INFO agent] 5a84f7255542991dd0999e33: augment SP ['27423_0'] into memory\n",
      "[06/11 01:12:18 WARNING agent] 5a84f7255542991dd0999e33: augment false SP 27423_0 into memory {'5488_0': 0.9605047106742859, '27423_0': 0.08231828808784486}\n",
      "[06/11 01:12:18 INFO agent] 5adfcb5455429906c02daa48: miss SP1 33529086_0 (Death in Paradise (TV series)) for 0.5296 <= 0.7263 when 348 tokens\n",
      "[06/11 01:12:19 INFO agent] 5ac5275755429924173fb617: miss SP0 46340990_0 (Marc Schiller) for 0.0165 <= 0.7458 when 349 tokens\n",
      "[06/11 01:12:19 INFO agent] 5abb73425542996cc5e49ff5: miss SP1 294538_0 (Detroit Metropolitan Airport) for 0.0107 <= 0.5931 when 345 tokens\n",
      "[06/11 01:12:19 INFO agent] 5ae20cd25542997283cd2376: miss SP1 57539_0 (Ulysses (spacecraft)) for 0.0114 <= 0.5522 when 304 tokens\n",
      "[06/11 01:12:19 INFO agent] 5ae20cd25542997283cd2376: augment SP ['57539_0'] into memory\n",
      "[06/11 01:12:21 INFO agent] 5ab56f4b554299637185c599: miss SP1 37644013_0 (Republican Party presidential primaries, 2016) for 0.0143 <= 0.5704 when 391 tokens\n",
      "[06/11 01:12:21 INFO agent] 5ac508205542994611c8b32e: remove SP0 30863956_0 (M1919 Browning machine gun) from memory for 0.9316 -> 0.2566 <= 0.4944 when 391 tokens\n",
      "[06/11 01:12:21 INFO agent] 5ab259b25542993be8fa98de: remove SP0 54920_0 (Cockfight) from memory for 0.8225 -> 0.3725 <= 0.5663 when 344 tokens\n",
      "[06/11 01:12:22 INFO agent] 5a78c235554299078472775d: miss SP0 45023134_0 (5 Magazine) for 0.2332 <= 0.4282 when 355 tokens\n",
      "[06/11 01:12:23 INFO agent] 5ab7c6995542993667794005: augment SP ['2195146_0'] into memory\n",
      "[06/11 01:12:23 WARNING agent] 5ab7c6995542993667794005: augment false SP 2195146_0 into memory {'884570_0': 0.9888255000114441, '2195146_0': 1.0}\n",
      "[06/11 01:12:23 INFO agent] 5a8ae0ae55429950cd6afbc2: augment SP ['35114260_0'] into memory\n",
      "[06/11 01:12:23 WARNING agent] 5a8ae0ae55429950cd6afbc2: augment false SP 35114260_0 into memory {'89659_0': 0.9446690082550049, '35114260_0': 0.23170242309570313}\n",
      "[06/11 01:12:23 INFO agent] 5a721a7655429971e9dc9271: miss SP1 1641473_0 (Christopher Rich (actor)) for 0.2499 <= 0.4808 when 400 tokens\n",
      "[06/11 01:12:25 INFO agent] 5a7e30b255429934daa2fbeb: miss SP1 593162_0 (Katharine Ross) for 0.0113 <= 0.5997 when 472 tokens\n",
      "[06/11 01:12:26 INFO agent] 5adf400a5542993a75d2644e: miss SP0 195728_0 (Type 212 submarine) for 0.3197 <= 0.4573 when 449 tokens\n",
      "[06/11 01:12:26 INFO agent] 5ae4885e55429970de88d99d: augment SP ['423882_0'] into memory\n",
      "[06/11 01:12:26 WARNING agent] 5ae4885e55429970de88d99d: augment false SP 423882_0 into memory {'8606516_0': 0.9878993630409241, '423882_0': 1.0}\n",
      "[06/11 01:12:27 INFO agent] 5a73cf5e55429978a71e909f: augment SP ['7008886_0'] into memory\n",
      "[06/11 01:12:27 WARNING agent] 5a73cf5e55429978a71e909f: augment false SP 7008886_0 into memory {'2967156_0': 0.8970717787742615, '7008886_0': 0.15161808729171755}\n",
      "[06/11 01:12:27 INFO agent] 5a7cdd1c554299683c1c63a8: remove SP0 84791_0 (The Legend of Sleepy Hollow) from memory for 0.9692 -> 0.5719 <= 0.6028 when 342 tokens\n",
      "[06/11 01:12:27 INFO agent] 5adf36c55542993344016c3e: miss SP0 16555113_0 (Quiara Alegría Hudes) for 0.1191 <= 0.5026 when 462 tokens\n",
      "[06/11 01:12:28 INFO agent] 5a80a25d5542995d8a8ddfb7: augment SP ['368204_0'] into memory\n",
      "[06/11 01:12:28 WARNING agent] 5a80a25d5542995d8a8ddfb7: augment false SP 368204_0 into memory {'1623735_0': 0.9845575094223022, '368204_0': 1.0}\n",
      "[06/11 01:12:28 INFO agent] 5ae2b794554299495565db10: remove SP0 8083_0 (Dr. Dre) from memory for 0.5581 -> 0.3578 <= 0.4972 when 287 tokens\n",
      "[06/11 01:12:28 INFO agent] 5aba94e355429901930fa845: miss SP0 49755182_0 (You'll Be Back) for 0.0479 <= 0.5403 when 287 tokens\n"
     ]
    },
    {
     "data": {
      "application/vnd.jupyter.widget-view+json": {
       "model_id": "8a5835b5c8464e6cb8ad5a93106a230d",
       "version_major": 2,
       "version_minor": 0
      },
      "text/plain": [
       "exe:   0%|          | 0/832 [00:00<?, ?it/s]"
      ]
     },
     "metadata": {},
     "output_type": "display_data"
    },
    {
     "name": "stdout",
     "output_type": "stream",
     "text": [
      "8: 788 remained\n",
      "|                  |    EM |    F1 |  Prec | Recall |\n",
      "|------------------|-------|-------|-------|--------|\n",
      "|           Answer | 58.89 | 70.71 | 73.13 |  71.91 |\n",
      "|      Norm answer | 58.37 | 70.15 | 72.62 |  71.28 |\n",
      "| Support sentence | 52.40 | 75.89 | 78.31 |  75.37 |\n",
      "| Support sentence | 50.74 | 75.42 | 79.12 |  74.38 |\n",
      "|  Support passage | 80.72 | 84.38 | 84.38 |  84.38 |\n",
      "|            Joint | 38.22 | 62.62 | 66.69 |  63.20 |\n",
      "3.0297096556380825\n"
     ]
    },
    {
     "data": {
      "application/vnd.jupyter.widget-view+json": {
       "model_id": "190fc43ea6a04f64878fc85396b70c10",
       "version_major": 2,
       "version_minor": 0
      },
      "text/plain": [
       "gen_sparse_query:   0%|          | 0/788 [00:00<?, ?it/s]"
      ]
     },
     "metadata": {},
     "output_type": "display_data"
    },
    {
     "data": {
      "application/vnd.jupyter.widget-view+json": {
       "model_id": "4272660747a0423c8ee47b5678ab82f0",
       "version_major": 2,
       "version_minor": 0
      },
      "text/plain": [
       "act:   0%|          | 0/25 [00:00<?, ?it/s]"
      ]
     },
     "metadata": {},
     "output_type": "display_data"
    },
    {
     "name": "stderr",
     "output_type": "stream",
     "text": [
      "[06/11 01:12:36 INFO agent] 5ae1f596554299234fd04372: augment SP ['24942471_0'] into memory\n",
      "[06/11 01:12:36 WARNING agent] 5ae1f596554299234fd04372: augment false SP 24942471_0 into memory {'2246220_0': 0.9069764614105225, '24942471_0': 0.12845591306686402}\n",
      "[06/11 01:12:36 INFO agent] 5ae6b6065542991bbc976168: remove SP0 23636141_0 (Universal Soldier (franchise)) from memory for 0.9061 -> 0.2042 <= 0.3807 when 295 tokens\n",
      "[06/11 01:12:36 INFO agent] 5ac00f795542996f0d89cb16: miss SP0 230839_0 (Mickey's Christmas Carol) for 0.3208 <= 0.4180 when 295 tokens\n",
      "[06/11 01:12:36 INFO agent] 5a8a9bc15542996c9b8d5f36: miss SP1 529355_0 (A Chorus Line) for 0.0063 <= 0.6348 when 295 tokens\n",
      "[06/11 01:12:37 INFO agent] 5ae75a5a5542991bbc9761f3: remove SP1 38871163_0 (Kriti Sanon) from memory for 0.7051 -> 0.1247 <= 0.6918 when 333 tokens\n",
      "[06/11 01:12:38 INFO agent] 5adfa451554299025d62a319: miss SP1 39793552_0 (Alleyne v. United States) for 0.0060 <= 0.5705 when 391 tokens\n",
      "[06/11 01:12:38 INFO agent] 5ab4147a5542996a3a969f1e: miss SP0 5608488_0 (Stephen Curry) for 0.1386 <= 0.5064 when 391 tokens\n",
      "[06/11 01:12:38 INFO agent] 5ab8338155429919ba4e2260: miss SP0 4540384_0 (Ian Brayshaw) for 0.0104 <= 0.6276 when 391 tokens\n",
      "[06/11 01:12:38 INFO agent] 5a8545ba5542997b5ce3ffdd: miss SP1 30448_0 (Taylor series) for 0.0033 <= 0.6826 when 391 tokens\n",
      "[06/11 01:12:38 INFO agent] 5a8545ba5542997b5ce3ffdd: augment SP ['212250_0'] into memory\n",
      "[06/11 01:12:38 WARNING agent] 5a8545ba5542997b5ce3ffdd: augment false SP 212250_0 into memory {'22844401_0': 0.9969833493232727, '212250_0': 0.027420100569725037}\n",
      "[06/11 01:12:39 INFO agent] 5abbfb5e554299114383a0d0: miss SP0 4772143_0 (Cartoon Network Too) for 0.0909 <= 0.3205 when 257 tokens\n",
      "[06/11 01:12:39 INFO agent] 5ae5be02554299546bf82f3e: miss SP0 1019154_0 (SpaceDev) for 0.0139 <= 0.6891 when 298 tokens\n",
      "[06/11 01:12:40 INFO agent] 5abd8ee05542993062266cc8: miss SP1 5186327_0 (New York's 4th congressional district) for 0.0544 <= 0.5992 when 254 tokens\n",
      "[06/11 01:12:40 INFO agent] 5a78c235554299078472775d: miss SP0 45023134_0 (5 Magazine) for 0.2332 <= 0.4282 when 254 tokens\n",
      "[06/11 01:12:40 INFO agent] 5a8a6b625542996c9b8d5ed9: miss SP0 2279024_0 (All Tomorrow's Parties (festival)) for 0.1056 <= 0.5036 when 512 tokens\n",
      "[06/11 01:12:41 INFO agent] 5a8740ee5542994846c1cd35: augment SP ['200145_0'] into memory\n",
      "[06/11 01:12:42 INFO agent] 5a8bbb8c5542995d1e6f142e: miss SP1 48081181_0 (Iftikhar Ahmed (cricketer, born 1990)) for 0.0114 <= 0.5693 when 512 tokens\n",
      "[06/11 01:12:43 INFO agent] 5a810d5255429926c1cdacd8: augment SP ['1644295_0'] into memory\n",
      "[06/11 01:12:43 WARNING agent] 5a810d5255429926c1cdacd8: augment false SP 1644295_0 into memory {'10853062_0': 0.976330578327179, '1644295_0': 0.021852390468120576}\n",
      "[06/11 01:12:43 INFO agent] 5a83172455429954d2e2ec14: remove SP0 2686808_0 (Sexred) from memory for 0.6625 -> 0.2704 <= 0.4589 when 455 tokens\n",
      "[06/11 01:12:43 INFO agent] 5addcfd65542997dc790703e: remove SP0 703986_0 (Snake Plissken) from memory for 0.8776 -> 0.4795 <= 0.5085 when 434 tokens\n",
      "[06/11 01:12:43 INFO agent] 5a8b40b055429949d91db50c: miss SP1 14896207_0 (What I Do the Best) for 0.6465 <= 0.6983 when 434 tokens\n",
      "[06/11 01:12:43 INFO agent] 5a8b40b055429949d91db50c: augment SP ['14896207_0'] into memory\n",
      "[06/11 01:12:43 INFO agent] 5ab9988b554299131ca4238e: miss SP1 40226212_0 (Innocence (2013 film)) for 0.0023 <= 0.5806 when 297 tokens\n",
      "[06/11 01:12:43 INFO agent] 5adc3aff5542996e685252eb: miss SP1 168017_0 (Derek Jacobi) for 0.0112 <= 0.5542 when 297 tokens\n",
      "[06/11 01:12:43 INFO agent] 5adc3aff5542996e685252eb: augment SP ['168017_0'] into memory\n",
      "[06/11 01:12:43 INFO agent] 5ab9788155429970cfb8eb1a: augment SP ['52855378_0'] into memory\n",
      "[06/11 01:12:43 WARNING agent] 5ab9788155429970cfb8eb1a: augment false SP 52855378_0 into memory {'24554975_0': 0.9024562835693359, '52855378_0': 0.11881396770477295}\n",
      "[06/11 01:12:43 INFO agent] 5a77e96c5542995d8318132d: remove SP1 362322_0 (Hard Rock Stadium) from memory for 0.8526 -> 0.0705 <= 0.6059 when 297 tokens\n",
      "[06/11 01:12:44 INFO agent] 5ae1b44c554299234fd042cd: miss SP0 39229756_0 (Adam McKenzie) for 0.0121 <= 0.7375 when 332 tokens\n",
      "[06/11 01:12:44 INFO agent] 5a76db3555429972597f13e7: augment SP ['1630037_0'] into memory\n",
      "[06/11 01:12:44 WARNING agent] 5a76db3555429972597f13e7: augment false SP 1630037_0 into memory {'21449954_0': 0.981891930103302, '1630037_0': 1.0}\n",
      "[06/11 01:12:45 INFO agent] 5ae0aaf35542993d6555ec02: augment SP ['29874962_0'] into memory\n",
      "[06/11 01:12:45 WARNING agent] 5ae0aaf35542993d6555ec02: augment false SP 29874962_0 into memory {'635025_0': 0.9115131497383118, '29874962_0': 0.2064527750015259}\n"
     ]
    },
    {
     "data": {
      "application/vnd.jupyter.widget-view+json": {
       "model_id": "bb46428dfa9d48ae9088f2dab997a41f",
       "version_major": 2,
       "version_minor": 0
      },
      "text/plain": [
       "exe:   0%|          | 0/788 [00:00<?, ?it/s]"
      ]
     },
     "metadata": {},
     "output_type": "display_data"
    },
    {
     "name": "stdout",
     "output_type": "stream",
     "text": [
      "9: 748 remained\n",
      "|                  |    EM |    F1 |  Prec | Recall |\n",
      "|------------------|-------|-------|-------|--------|\n",
      "|           Answer | 59.20 | 71.07 | 73.49 |  72.27 |\n",
      "|      Norm answer | 58.68 | 70.51 | 72.99 |  71.65 |\n",
      "| Support sentence | 52.59 | 76.29 | 78.73 |  75.77 |\n",
      "| Support sentence | 50.90 | 75.82 | 79.54 |  74.77 |\n",
      "|  Support passage | 81.11 | 84.83 | 84.83 |  84.83 |\n",
      "|            Joint | 38.34 | 62.91 | 66.99 |  63.48 |\n",
      "3.135989196488859\n"
     ]
    },
    {
     "data": {
      "application/vnd.jupyter.widget-view+json": {
       "model_id": "95e00fff0c9844498d24d265ba934ff9",
       "version_major": 2,
       "version_minor": 0
      },
      "text/plain": [
       "gen_sparse_query:   0%|          | 0/748 [00:00<?, ?it/s]"
      ]
     },
     "metadata": {},
     "output_type": "display_data"
    },
    {
     "data": {
      "application/vnd.jupyter.widget-view+json": {
       "model_id": "30a250ea3aec4082beb7a61e6f8d3afb",
       "version_major": 2,
       "version_minor": 0
      },
      "text/plain": [
       "act:   0%|          | 0/24 [00:00<?, ?it/s]"
      ]
     },
     "metadata": {},
     "output_type": "display_data"
    },
    {
     "name": "stderr",
     "output_type": "stream",
     "text": [
      "[06/11 01:12:52 INFO agent] 5a7d19d85542995ed0d165e8: augment SP ['35001974_0'] into memory\n",
      "[06/11 01:12:52 WARNING agent] 5a7d19d85542995ed0d165e8: augment false SP 35001974_0 into memory {'79371_0': 0.8471337556838989, '35001974_0': 0.29022565484046936}\n",
      "[06/11 01:12:53 INFO agent] 5a7363ec5542991f29ee2dd7: miss SP1 109495_0 (Key West, Florida) for 0.0404 <= 0.5634 when 381 tokens\n",
      "[06/11 01:12:54 INFO agent] 5ae75a5a5542991bbc9761f3: miss SP1 35121149_0 (Raabta (song)) for 0.2161 <= 0.6567 when 366 tokens\n",
      "[06/11 01:12:55 INFO agent] 5ae5e762554299546bf82faf: miss SP1 2110323_0 (Rihanna) for 0.4111 <= 0.6750 when 309 tokens\n",
      "[06/11 01:12:55 INFO agent] 5ae5e762554299546bf82faf: augment SP ['2110323_0'] into memory\n",
      "[06/11 01:12:56 INFO agent] 5ac17b485542994ab5c67d65: miss SP0 23786794_0 (St Wilfrid's Church, Alford) for 0.0555 <= 0.6298 when 302 tokens\n",
      "[06/11 01:12:57 INFO agent] 5a80b9ae5542992bc0c4a7eb: augment SP ['14900848_0'] into memory\n",
      "[06/11 01:12:57 WARNING agent] 5a80b9ae5542992bc0c4a7eb: augment false SP 14900848_0 into memory {'958921_0': 0.9982609152793884, '14900848_0': 1.0}\n",
      "[06/11 01:12:58 INFO agent] 5a8760e75542996e4f3087af: miss SP0 442343_0 (Whatever Happened to... Robot Jones?) for 0.2115 <= 0.3878 when 384 tokens\n",
      "[06/11 01:12:59 INFO agent] 5a78d9c455429970f5fffda7: miss SP0 7599811_0 (1st Alabama Siege Artillery Regiment (Colored)) for 0.0349 <= 0.7525 when 426 tokens\n",
      "[06/11 01:12:59 INFO agent] 5a8b3de95542997f31a41cc3: remove SP1 12674813_0 (Buddhism in Hong Kong) from memory for 0.4843 -> 0.1943 <= 0.6016 when 426 tokens\n",
      "[06/11 01:12:59 INFO agent] 5a83172455429954d2e2ec14: miss SP0 2686818_0 (Sæward of Essex) for 0.3207 <= 0.3690 when 416 tokens\n",
      "[06/11 01:12:59 INFO agent] 5abd882f55429924427fd045: miss SP0 11261237_0 (Birstall Shopping Park) for 0.0267 <= 0.5176 when 416 tokens\n",
      "[06/11 01:13:00 INFO agent] 5a77e96c5542995d8318132d: miss SP1 362322_0 (Hard Rock Stadium) for 0.0851 <= 0.5973 when 333 tokens\n",
      "[06/11 01:13:01 INFO agent] 5a823fc055429940e5e1a810: miss SP0 3766171_0 (Norse–Gaels) for 0.3946 <= 0.4114 when 332 tokens\n"
     ]
    },
    {
     "data": {
      "application/vnd.jupyter.widget-view+json": {
       "model_id": "3f864e6eb66345b9b374f015d0e30f51",
       "version_major": 2,
       "version_minor": 0
      },
      "text/plain": [
       "exe:   0%|          | 0/748 [00:00<?, ?it/s]"
      ]
     },
     "metadata": {},
     "output_type": "display_data"
    },
    {
     "name": "stdout",
     "output_type": "stream",
     "text": [
      "10: 721 remained\n",
      "|                  |    EM |    F1 |  Prec | Recall |\n",
      "|------------------|-------|-------|-------|--------|\n",
      "|           Answer | 59.43 | 71.34 | 73.77 |  72.54 |\n",
      "|      Norm answer | 58.87 | 70.75 | 73.24 |  71.89 |\n",
      "| Support sentence | 52.69 | 76.55 | 79.01 |  76.03 |\n",
      "| Support sentence | 50.99 | 76.08 | 79.81 |  75.03 |\n",
      "|  Support passage | 81.36 | 85.13 | 85.13 |  85.13 |\n",
      "|            Joint | 38.43 | 63.13 | 67.24 |  63.70 |\n",
      "3.236866981769075\n",
      "|                  |    EM |    F1 |  Prec | Recall |\n",
      "|------------------|-------|-------|-------|--------|\n",
      "|           Answer | 60.90 | 73.44 | 75.94 |  74.74 |\n",
      "|      Norm answer | 60.34 | 72.87 | 75.45 |  74.09 |\n",
      "| Support sentence | 53.10 | 79.06 | 81.74 |  78.43 |\n",
      "| Support sentence | 51.21 | 78.80 | 83.72 |  77.25 |\n",
      "|  Support passage | 82.16 | 88.05 | 88.05 |  88.05 |\n",
      "|            Joint | 38.65 | 64.17 | 68.38 |  64.74 |\n"
     ]
    }
   ],
   "source": [
    "MAX_OBS = 10\n",
    "set_global_logging_level(logging.WARNING, [\"elasticsearch\", \"dpr\"])\n",
    "\n",
    "while len(observations) > 0 and n_observed < MAX_OBS:\n",
    "    commands = agent.act(q_ids, questions, observations, review=(n_observed + 1) % 100 == 0)\n",
    "    _q_ids, _questions, _observations = [], [], []\n",
    "    for q_id, question in tqdm(zip(q_ids, questions), desc='exe', total=len(q_ids)):\n",
    "        cmd = commands[q_id]\n",
    "        if cmd[0] == 'ANSWER':\n",
    "            predictions['answer'][q_id] = agent.answer[q_id]\n",
    "            predictions['norm_answer'][q_id] = max(agent.all_answer[q_id].keys(), key=lambda k: agent.all_answer[q_id][k]) if len(agent.all_answer[q_id]) > 0 else 'noanswer'\n",
    "            predictions['sp'][q_id] = list(agent.sp_facts[q_id].keys())\n",
    "            predictions['_sp'][q_id] = list(agent.all_sp_facts[q_id].keys())\n",
    "            predictions['spp'][q_id] = agent.sp_passages[q_id]\n",
    "            continue\n",
    "        else:\n",
    "            obs = env.step(cmd, q_id, exclusion=agent.memory[q_id])  # xxx observed memory\n",
    "            _q_ids.append(q_id)\n",
    "            _questions.append(question)\n",
    "            _observations.append(obs)\n",
    "    q_ids, questions, observations = _q_ids, _questions, _observations\n",
    "    n_observed += 1\n",
    "    print(f\"{n_observed}: {len(observations)} remained\")\n",
    "    if n_observed > 0 and split != 'test':\n",
    "        print(pretty_metrics(evaluate(predictions, gold_samples)))\n",
    "        print(sum([len(x) for x in agent.observed.values()]) / len(agent.observed))\n",
    "force_answer()"
   ]
  },
  {
   "cell_type": "code",
   "execution_count": null,
   "metadata": {},
   "outputs": [],
   "source": [
    "assert False"
   ]
  },
  {
   "cell_type": "code",
   "execution_count": null,
   "metadata": {
    "scrolled": true
   },
   "outputs": [],
   "source": [
    "MAX_OBS = 20\n",
    "set_global_logging_level(logging.WARNING, [\"elasticsearch\", \"dpr\"])\n",
    "\n",
    "while len(observations) > 0 and n_observed < MAX_OBS:\n",
    "    commands = agent.act(q_ids, questions, observations, review=(n_observed + 1) % 100 == 0)\n",
    "    _q_ids, _questions, _observations = [], [], []\n",
    "    for q_id, question in tqdm(zip(q_ids, questions), desc='exe', total=len(q_ids)):\n",
    "        cmd = commands[q_id]\n",
    "        if cmd[0] == 'ANSWER':\n",
    "            predictions['answer'][q_id] = agent.answer[q_id]\n",
    "            predictions['norm_answer'][q_id] = max(agent.all_answer[q_id].keys(), key=lambda k: agent.all_answer[q_id][k]) if len(agent.all_answer[q_id]) > 0 else 'noanswer'\n",
    "            predictions['sp'][q_id] = list(agent.sp_facts[q_id].keys())\n",
    "            predictions['_sp'][q_id] = list(agent.all_sp_facts[q_id].keys())\n",
    "            predictions['spp'][q_id] = agent.sp_passages[q_id]\n",
    "            continue\n",
    "        else:\n",
    "            obs = env.step(cmd, q_id, exclusion=agent.memory[q_id])  # xxx agent.observed[q_id]\n",
    "            _q_ids.append(q_id)\n",
    "            _questions.append(question)\n",
    "            _observations.append(obs)\n",
    "    q_ids, questions, observations = _q_ids, _questions, _observations\n",
    "    n_observed += 1\n",
    "    print(f\"{n_observed}: {len(observations)} remained\")\n",
    "    if n_observed % 5 == 0 and split != 'test':\n",
    "        print(pretty_metrics(evaluate(predictions, gold_samples)))\n",
    "        print(sum([len(x) for x in agent.observed.values()]) / len(agent.observed))\n",
    "force_answer()"
   ]
  },
  {
   "cell_type": "code",
   "execution_count": null,
   "metadata": {
    "scrolled": true
   },
   "outputs": [],
   "source": [
    "MAX_OBS = 30\n",
    "set_global_logging_level(logging.WARNING, [\"elasticsearch\", \"dpr\"])\n",
    "\n",
    "while len(observations) > 0 and n_observed < MAX_OBS:\n",
    "    commands = agent.act(q_ids, questions, observations, review=(n_observed + 1) % 100 == 0)\n",
    "    _q_ids, _questions, _observations = [], [], []\n",
    "    for q_id, question in tqdm(zip(q_ids, questions), desc='exe', total=len(q_ids)):\n",
    "        cmd = commands[q_id]\n",
    "        if cmd[0] == 'ANSWER':\n",
    "            predictions['answer'][q_id] = agent.answer[q_id]\n",
    "            predictions['norm_answer'][q_id] = max(agent.all_answer[q_id].keys(), key=lambda k: agent.all_answer[q_id][k]) if len(agent.all_answer[q_id]) > 0 else 'noanswer'\n",
    "            predictions['sp'][q_id] = list(agent.sp_facts[q_id].keys())\n",
    "            predictions['_sp'][q_id] = list(agent.all_sp_facts[q_id].keys())\n",
    "            predictions['spp'][q_id] = agent.sp_passages[q_id]\n",
    "            continue\n",
    "        else:\n",
    "            obs = env.step(cmd, q_id, exclusion=agent.memory[q_id])  # xxx agent.observed[q_id]\n",
    "            _q_ids.append(q_id)\n",
    "            _questions.append(question)\n",
    "            _observations.append(obs)\n",
    "    q_ids, questions, observations = _q_ids, _questions, _observations\n",
    "    n_observed += 1\n",
    "    print(f\"{n_observed}: {len(observations)} remained\")\n",
    "    if n_observed % 5 == 0  and split != 'test':\n",
    "        print(pretty_metrics(evaluate(predictions, gold_samples)))\n",
    "        print(sum([len(x) for x in agent.observed.values()]) / len(agent.observed))\n",
    "force_answer()"
   ]
  },
  {
   "cell_type": "raw",
   "metadata": {},
   "source": [
    "30: 526 remained\n",
    "|                  |    EM |    F1 |  Prec | Recall |\n",
    "|------------------|-------|-------|-------|--------|\n",
    "|           Answer | 60.69 | 72.86 | 75.38 |  74.06 |\n",
    "|      Norm answer | 59.66 | 71.73 | 74.38 |  72.75 |\n",
    "| Support sentence | 53.68 | 78.43 | 81.07 |  77.82 |\n",
    "| Support sentence | 51.74 | 77.95 | 81.85 |  76.90 |\n",
    "|  Support passage | 83.30 | 87.31 | 87.31 |  87.31 |\n",
    "|            Joint | 38.97 | 64.35 | 68.64 |  64.84 |\n",
    "5.293720459149223\n",
    "|                  |    EM |    F1 |  Prec | Recall |\n",
    "|------------------|-------|-------|-------|--------|\n",
    "|           Answer | 62.13 | 74.78 | 77.35 |  76.06 |\n",
    "|      Norm answer | 61.07 | 73.63 | 76.34 |  74.71 |\n",
    "| Support sentence | 54.11 | 80.60 | 83.41 |  79.91 |\n",
    "| Support sentence | 51.94 | 80.23 | 85.18 |  78.77 |\n",
    "|  Support passage | 84.09 | 89.84 | 89.84 |  89.84 |\n",
    "|            Joint | 39.24 | 65.33 | 69.72 |  65.83 |"
   ]
  },
  {
   "cell_type": "code",
   "execution_count": null,
   "metadata": {
    "scrolled": true
   },
   "outputs": [],
   "source": [
    "MAX_OBS = 50\n",
    "set_global_logging_level(logging.WARNING, [\"elasticsearch\", \"dpr\"])\n",
    "\n",
    "while len(observations) > 0 and n_observed < MAX_OBS:\n",
    "    commands = agent.act(q_ids, questions, observations, review=(n_observed + 1) % 100 == 0)\n",
    "    _q_ids, _questions, _observations = [], [], []\n",
    "    for q_id, question in tqdm(zip(q_ids, questions), desc='exe', total=len(q_ids)):\n",
    "        cmd = commands[q_id]\n",
    "        if cmd[0] == 'ANSWER':\n",
    "            predictions['answer'][q_id] = agent.answer[q_id]\n",
    "            predictions['norm_answer'][q_id] = max(agent.all_answer[q_id].keys(), key=lambda k: agent.all_answer[q_id][k]) if len(agent.all_answer[q_id]) > 0 else 'noanswer'\n",
    "            predictions['sp'][q_id] = list(agent.sp_facts[q_id].keys())\n",
    "            predictions['_sp'][q_id] = list(agent.all_sp_facts[q_id].keys())\n",
    "            predictions['spp'][q_id] = agent.sp_passages[q_id]\n",
    "            continue\n",
    "        else:\n",
    "            obs = env.step(cmd, q_id, exclusion=agent.memory[q_id])  # xxx agent.observed[q_id]\n",
    "            _q_ids.append(q_id)\n",
    "            _questions.append(question)\n",
    "            _observations.append(obs)\n",
    "    q_ids, questions, observations = _q_ids, _questions, _observations\n",
    "    n_observed += 1\n",
    "    print(f\"{n_observed}: {len(observations)} remained\")\n",
    "    if n_observed % 10 == 0  and split != 'test':\n",
    "        print(pretty_metrics(evaluate(predictions, gold_samples)))\n",
    "        print(sum([len(x) for x in agent.observed.values()]) / len(agent.observed))\n",
    "force_answer()"
   ]
  },
  {
   "cell_type": "code",
   "execution_count": null,
   "metadata": {
    "scrolled": true
   },
   "outputs": [],
   "source": [
    "MAX_OBS = 100\n",
    "set_global_logging_level(logging.WARNING, [\"elasticsearch\", \"dpr\"])\n",
    "\n",
    "while len(observations) > 0 and n_observed < MAX_OBS:\n",
    "    commands = agent.act(q_ids, questions, observations, review=(n_observed + 1) % 100 == 0)\n",
    "    _q_ids, _questions, _observations = [], [], []\n",
    "    for q_id, question in tqdm(zip(q_ids, questions), desc='exe', total=len(q_ids)):\n",
    "        cmd = commands[q_id]\n",
    "        if cmd[0] == 'ANSWER':\n",
    "            predictions['answer'][q_id] = agent.answer[q_id]\n",
    "            predictions['norm_answer'][q_id] = max(agent.all_answer[q_id].keys(), key=lambda k: agent.all_answer[q_id][k]) if len(agent.all_answer[q_id]) > 0 else 'noanswer'\n",
    "            predictions['sp'][q_id] = list(agent.sp_facts[q_id].keys())\n",
    "            predictions['_sp'][q_id] = list(agent.all_sp_facts[q_id].keys())\n",
    "            predictions['spp'][q_id] = agent.sp_passages[q_id]\n",
    "            continue\n",
    "        else:\n",
    "            obs = env.step(cmd, q_id, exclusion=agent.memory[q_id])  # xxx agent.observed[q_id]\n",
    "            _q_ids.append(q_id)\n",
    "            _questions.append(question)\n",
    "            _observations.append(obs)\n",
    "    q_ids, questions, observations = _q_ids, _questions, _observations\n",
    "    n_observed += 1\n",
    "    print(f\"{n_observed}: {len(observations)} remained\")\n",
    "    if n_observed % 10 == 0 and split != 'test':\n",
    "        print(pretty_metrics(evaluate(predictions, gold_samples)))\n",
    "        print(sum([len(x) for x in agent.observed.values()]) / len(agent.observed))\n",
    "force_answer()"
   ]
  },
  {
   "cell_type": "code",
   "execution_count": null,
   "metadata": {
    "scrolled": true
   },
   "outputs": [],
   "source": [
    "MAX_OBS = 300\n",
    "set_global_logging_level(logging.WARNING, [\"elasticsearch\", \"dpr\"])\n",
    "\n",
    "pbar = tqdm(total=MAX_OBS - n_observed)\n",
    "while len(observations) > 0 and n_observed < MAX_OBS:\n",
    "    pbar.set_description(f\"act - {len(observations)}\")\n",
    "    commands = agent.act(q_ids, questions, observations, review=(n_observed + 1) % 100 == 0, disable_tqdm=True)\n",
    "    pbar.set_description(f\"exe - {len(observations)}\")\n",
    "    _q_ids, _questions, _observations = [], [], []\n",
    "    for q_id, question in zip(q_ids, questions):\n",
    "        cmd = commands[q_id]\n",
    "        if cmd[0] == 'ANSWER':\n",
    "            predictions['answer'][q_id] = agent.answer[q_id]\n",
    "            predictions['norm_answer'][q_id] = max(agent.all_answer[q_id].keys(), key=lambda k: agent.all_answer[q_id][k]) if len(agent.all_answer[q_id]) > 0 else 'noanswer'\n",
    "            predictions['sp'][q_id] = list(agent.sp_facts[q_id].keys())\n",
    "            predictions['_sp'][q_id] = list(agent.all_sp_facts[q_id].keys())\n",
    "            predictions['spp'][q_id] = agent.sp_passages[q_id]\n",
    "            continue\n",
    "        else:\n",
    "            obs = env.step(cmd, q_id, exclusion=agent.memory[q_id])  # xxx agent.observed[q_id]\n",
    "            _q_ids.append(q_id)\n",
    "            _questions.append(question)\n",
    "            _observations.append(obs)\n",
    "    q_ids, questions, observations = _q_ids, _questions, _observations\n",
    "    n_observed += 1\n",
    "    pbar.update(1)\n",
    "    if n_observed % 50 == 0 and split != 'test':\n",
    "        print(f\"{n_observed}: {len(observations)} remained\")\n",
    "        print(pretty_metrics(evaluate(predictions, gold_samples)))\n",
    "        print(sum([len(x) for x in agent.observed.values()]) / len(agent.observed))\n",
    "force_answer()\n",
    "pbar.close()"
   ]
  },
  {
   "cell_type": "code",
   "execution_count": null,
   "metadata": {
    "scrolled": true
   },
   "outputs": [],
   "source": [
    "MAX_OBS = 500\n",
    "set_global_logging_level(logging.WARNING, [\"elasticsearch\", \"dpr\"])\n",
    "\n",
    "pbar = tqdm(total=MAX_OBS - n_observed)\n",
    "while len(observations) > 0 and n_observed < MAX_OBS:\n",
    "    pbar.set_description(f\"act - {len(observations)}\")\n",
    "    commands = agent.act(q_ids, questions, observations, review=(n_observed + 1) % 100 == 0, disable_tqdm=True)\n",
    "    pbar.set_description(f\"exe - {len(observations)}\")\n",
    "    _q_ids, _questions, _observations = [], [], []\n",
    "    for q_id, question in zip(q_ids, questions):\n",
    "        cmd = commands[q_id]\n",
    "        if cmd[0] == 'ANSWER':\n",
    "            predictions['answer'][q_id] = agent.answer[q_id]\n",
    "            predictions['norm_answer'][q_id] = max(agent.all_answer[q_id].keys(), key=lambda k: agent.all_answer[q_id][k]) if len(agent.all_answer[q_id]) > 0 else 'noanswer'\n",
    "            predictions['sp'][q_id] = list(agent.sp_facts[q_id].keys())\n",
    "            predictions['_sp'][q_id] = list(agent.all_sp_facts[q_id].keys())\n",
    "            predictions['spp'][q_id] = agent.sp_passages[q_id]\n",
    "            continue\n",
    "        else:\n",
    "            obs = env.step(cmd, q_id, exclusion=agent.memory[q_id])  # xxx agent.observed[q_id]\n",
    "            _q_ids.append(q_id)\n",
    "            _questions.append(question)\n",
    "            _observations.append(obs)\n",
    "    q_ids, questions, observations = _q_ids, _questions, _observations\n",
    "    n_observed += 1\n",
    "    pbar.update(1)\n",
    "    if n_observed % 50 == 0 and split != 'test':\n",
    "        print(f\"{n_observed}: {len(observations)} remained\")\n",
    "        print(pretty_metrics(evaluate(predictions, gold_samples)))\n",
    "        print(sum([len(x) for x in agent.observed.values()]) / len(agent.observed))\n",
    "force_answer()\n",
    "pbar.close()"
   ]
  },
  {
   "cell_type": "code",
   "execution_count": null,
   "metadata": {
    "scrolled": true
   },
   "outputs": [],
   "source": [
    "MAX_OBS = 700\n",
    "set_global_logging_level(logging.WARNING, [\"elasticsearch\", \"dpr\"])\n",
    "\n",
    "pbar = tqdm(total=MAX_OBS - n_observed)\n",
    "while len(observations) > 0 and n_observed < MAX_OBS:\n",
    "    pbar.set_description(f\"act - {len(observations)}\")\n",
    "    commands = agent.act(q_ids, questions, observations, review=(n_observed + 1) % 100 == 0, disable_tqdm=True)\n",
    "    pbar.set_description(f\"exe - {len(observations)}\")\n",
    "    _q_ids, _questions, _observations = [], [], []\n",
    "    for q_id, question in zip(q_ids, questions):\n",
    "        cmd = commands[q_id]\n",
    "        if cmd[0] == 'ANSWER':\n",
    "            predictions['answer'][q_id] = agent.answer[q_id]\n",
    "            predictions['norm_answer'][q_id] = max(agent.all_answer[q_id].keys(), key=lambda k: agent.all_answer[q_id][k]) if len(agent.all_answer[q_id]) > 0 else 'noanswer'\n",
    "            predictions['sp'][q_id] = list(agent.sp_facts[q_id].keys())\n",
    "            predictions['_sp'][q_id] = list(agent.all_sp_facts[q_id].keys())\n",
    "            predictions['spp'][q_id] = agent.sp_passages[q_id]\n",
    "            continue\n",
    "        else:\n",
    "            obs = env.step(cmd, q_id, exclusion=agent.memory[q_id])  # xxx agent.observed[q_id]\n",
    "            _q_ids.append(q_id)\n",
    "            _questions.append(question)\n",
    "            _observations.append(obs)\n",
    "    q_ids, questions, observations = _q_ids, _questions, _observations\n",
    "    n_observed += 1\n",
    "    pbar.update(1)\n",
    "    if n_observed % 50 == 0 and split != 'test':\n",
    "        print(f\"{n_observed}: {len(observations)} remained\")\n",
    "        print(pretty_metrics(evaluate(predictions, gold_samples)))\n",
    "        print(sum([len(x) for x in agent.observed.values()]) / len(agent.observed))\n",
    "force_answer()\n",
    "pbar.close()"
   ]
  },
  {
   "cell_type": "code",
   "execution_count": null,
   "metadata": {
    "scrolled": true
   },
   "outputs": [],
   "source": [
    "MAX_OBS = 1000\n",
    "set_global_logging_level(logging.WARNING, [\"elasticsearch\", \"dpr\"])\n",
    "\n",
    "pbar = tqdm(total=MAX_OBS - n_observed)\n",
    "while len(observations) > 0 and n_observed < MAX_OBS:\n",
    "    pbar.set_description(f\"act - {len(observations)}\")\n",
    "    commands = agent.act(q_ids, questions, observations, review=(n_observed + 1) % 100 == 0, disable_tqdm=True)\n",
    "    pbar.set_description(f\"exe - {len(observations)}\")\n",
    "    _q_ids, _questions, _observations = [], [], []\n",
    "    for q_id, question in zip(q_ids, questions):\n",
    "        cmd = commands[q_id]\n",
    "        if cmd[0] == 'ANSWER':\n",
    "            predictions['answer'][q_id] = agent.answer[q_id]\n",
    "            predictions['norm_answer'][q_id] = max(agent.all_answer[q_id].keys(), key=lambda k: agent.all_answer[q_id][k]) if len(agent.all_answer[q_id]) > 0 else 'noanswer'\n",
    "            predictions['sp'][q_id] = list(agent.sp_facts[q_id].keys())\n",
    "            predictions['_sp'][q_id] = list(agent.all_sp_facts[q_id].keys())\n",
    "            predictions['spp'][q_id] = agent.sp_passages[q_id]\n",
    "            continue\n",
    "        else:\n",
    "            obs = env.step(cmd, q_id, exclusion=agent.memory[q_id])  # xxx agent.observed[q_id]\n",
    "            _q_ids.append(q_id)\n",
    "            _questions.append(question)\n",
    "            _observations.append(obs)\n",
    "    q_ids, questions, observations = _q_ids, _questions, _observations\n",
    "    n_observed += 1\n",
    "    pbar.update(1)\n",
    "    if n_observed % 50 == 0 and split != 'test':\n",
    "        print(f\"{n_observed}: {len(observations)} remained\")\n",
    "        print(pretty_metrics(evaluate(predictions, gold_samples)))\n",
    "        print(sum([len(x) for x in agent.observed.values()]) / len(agent.observed))\n",
    "force_answer()\n",
    "pbar.close()"
   ]
  },
  {
   "cell_type": "code",
   "execution_count": null,
   "metadata": {},
   "outputs": [],
   "source": [
    "assert False"
   ]
  },
  {
   "cell_type": "code",
   "execution_count": null,
   "metadata": {
    "scrolled": true
   },
   "outputs": [],
   "source": [
    "MAX_OBS = 1500\n",
    "set_global_logging_level(logging.WARNING, [\"elasticsearch\", \"dpr\"])\n",
    "\n",
    "pbar = tqdm(total=MAX_OBS - n_observed)\n",
    "while len(observations) > 0 and n_observed < MAX_OBS:\n",
    "    pbar.set_description(f\"act - {len(observations)}\")\n",
    "    commands = agent.act(q_ids, questions, observations, review=(n_observed + 1) % 100 == 0)\n",
    "    pbar.set_description(f\"exe - {len(observations)}\")\n",
    "    _q_ids, _questions, _observations = [], [], []\n",
    "    for q_id, question in zip(q_ids, questions):\n",
    "        cmd = commands[q_id]\n",
    "        if cmd[0] == 'ANSWER':\n",
    "            predictions['answer'][q_id] = agent.answer[q_id]\n",
    "            predictions['norm_answer'][q_id] = max(agent.all_answer[q_id].keys(), key=lambda k: agent.all_answer[q_id][k]) if len(agent.all_answer[q_id]) > 0 else 'noanswer'\n",
    "            predictions['sp'][q_id] = list(agent.sp_facts[q_id].keys())\n",
    "            predictions['_sp'][q_id] = list(agent.all_sp_facts[q_id].keys())\n",
    "            predictions['spp'][q_id] = agent.sp_passages[q_id]\n",
    "            continue\n",
    "        else:\n",
    "            obs = env.step(cmd, q_id, exclusion=agent.memory[q_id])  # xxx agent.observed[q_id]\n",
    "            _q_ids.append(q_id)\n",
    "            _questions.append(question)\n",
    "            _observations.append(obs)\n",
    "    q_ids, questions, observations = _q_ids, _questions, _observations\n",
    "    n_observed += 1\n",
    "    pbar.update(1)\n",
    "    if n_observed % 100 == 0 and split != 'test':\n",
    "        print(f\"{n_observed}: {len(observations)} remained\")\n",
    "        print(pretty_metrics(evaluate(predictions, gold_samples)))\n",
    "        print(sum([len(x) for x in agent.observed.values()]) / len(agent.observed))\n",
    "force_answer()\n",
    "pbar.close()"
   ]
  },
  {
   "cell_type": "code",
   "execution_count": null,
   "metadata": {
    "scrolled": true
   },
   "outputs": [],
   "source": [
    "MAX_OBS = 2000\n",
    "set_global_logging_level(logging.WARNING, [\"elasticsearch\", \"dpr\"])\n",
    "\n",
    "pbar = tqdm(total=MAX_OBS - n_observed)\n",
    "while len(observations) > 0 and n_observed < MAX_OBS:\n",
    "    pbar.set_description(f\"act - {len(observations)}\")\n",
    "    commands = agent.act(q_ids, questions, observations, review=(n_observed + 1) % 100 == 0)\n",
    "    pbar.set_description(f\"exe - {len(observations)}\")\n",
    "    _q_ids, _questions, _observations = [], [], []\n",
    "    for q_id, question in zip(q_ids, questions):\n",
    "        cmd = commands[q_id]\n",
    "        if cmd[0] == 'ANSWER':\n",
    "            predictions['answer'][q_id] = agent.answer[q_id]\n",
    "            predictions['norm_answer'][q_id] = max(agent.all_answer[q_id].keys(), key=lambda k: agent.all_answer[q_id][k]) if len(agent.all_answer[q_id]) > 0 else 'noanswer'\n",
    "            predictions['sp'][q_id] = list(agent.sp_facts[q_id].keys())\n",
    "            predictions['_sp'][q_id] = list(agent.all_sp_facts[q_id].keys())\n",
    "            predictions['spp'][q_id] = agent.sp_passages[q_id]\n",
    "            continue\n",
    "        else:\n",
    "            obs = env.step(cmd, q_id, exclusion=agent.memory[q_id])  # xxx agent.observed[q_id]\n",
    "            _q_ids.append(q_id)\n",
    "            _questions.append(question)\n",
    "            _observations.append(obs)\n",
    "    q_ids, questions, observations = _q_ids, _questions, _observations\n",
    "    n_observed += 1\n",
    "    pbar.update(1)\n",
    "    if n_observed % 100 == 0 and split != 'test':\n",
    "        print(f\"{n_observed}: {len(observations)} remained\")\n",
    "        print(pretty_metrics(evaluate(predictions, gold_samples)))\n",
    "        print(sum([len(x) for x in agent.observed.values()]) / len(agent.observed))\n",
    "force_answer()\n",
    "pbar.close()"
   ]
  },
  {
   "cell_type": "markdown",
   "metadata": {},
   "source": [
    "# Analyze"
   ]
  },
  {
   "cell_type": "raw",
   "metadata": {},
   "source": [
    "_q_ids[:5]"
   ]
  },
  {
   "cell_type": "raw",
   "metadata": {},
   "source": [
    "predictions['answer']"
   ]
  },
  {
   "cell_type": "markdown",
   "metadata": {
    "heading_collapsed": "true"
   },
   "source": [
    "## Error types"
   ]
  },
  {
   "cell_type": "code",
   "execution_count": null,
   "metadata": {},
   "outputs": [],
   "source": [
    "print({k: len(v) for k, v in agent.cases.items()})"
   ]
  },
  {
   "cell_type": "raw",
   "metadata": {},
   "source": [
    "{'miss_ans': 1260, 'add_dis': 981, 'miss_sp': 386, 'false_expansion': 411, 'ans_none': 88, 'early_ans': 40, 'good_ans': 5334, 'bad_ans': 1955, 'bad_sp': 2151, 'rm_sp': 111, 'bad_spp': 800, 'miss_sp2': 129, 'aug_false_spp': 163, 'link_none': 15}"
   ]
  },
  {
   "cell_type": "markdown",
   "metadata": {},
   "source": [
    "### **ans none and early ans**"
   ]
  },
  {
   "cell_type": "code",
   "execution_count": null,
   "metadata": {},
   "outputs": [],
   "source": [
    "print(len(agent.cases['ans_none']), len(agent.cases['ans_none'] & agent.cases['early_ans']), len(agent.cases['early_ans']))"
   ]
  },
  {
   "cell_type": "code",
   "execution_count": null,
   "metadata": {},
   "outputs": [],
   "source": [
    "print(len(agent.cases['ans_none'] - agent.cases['good_spp']), len(agent.cases['ans_none'] & agent.cases['good_spp']), len(agent.cases['ans_none']))\n",
    "print(len(agent.cases['ans_none'] - agent.cases['good_ans']), len(agent.cases['ans_none'] & agent.cases['good_ans']), len(agent.cases['ans_none']))"
   ]
  },
  {
   "cell_type": "code",
   "execution_count": null,
   "metadata": {},
   "outputs": [],
   "source": [
    "print(len(agent.cases['early_ans'] - agent.cases['good_spp']), len(agent.cases['early_ans'] & agent.cases['good_spp']), len(agent.cases['early_ans']))\n",
    "print(len(agent.cases['early_ans'] - agent.cases['good_ans']), len(agent.cases['early_ans'] & agent.cases['good_ans']), len(agent.cases['early_ans']))"
   ]
  },
  {
   "cell_type": "markdown",
   "metadata": {},
   "source": [
    "### false final sp sentences"
   ]
  },
  {
   "cell_type": "code",
   "execution_count": null,
   "metadata": {},
   "outputs": [],
   "source": [
    "print(len(agent.cases['bad_sp'] - agent.cases['good_spp']), len(agent.cases['bad_sp'] & agent.cases['good_spp']), len(agent.cases['bad_sp']))\n",
    "print(len(agent.cases['bad_sp'] - agent.cases['good_ans']), len(agent.cases['bad_sp'] & agent.cases['good_ans']), len(agent.cases['bad_sp']))"
   ]
  },
  {
   "cell_type": "markdown",
   "metadata": {},
   "source": [
    "### **false final sp passages**"
   ]
  },
  {
   "cell_type": "code",
   "execution_count": null,
   "metadata": {},
   "outputs": [],
   "source": [
    "bad_spp_cases = set(agent.observed.keys()) - agent.cases['good_spp']"
   ]
  },
  {
   "cell_type": "code",
   "execution_count": null,
   "metadata": {},
   "outputs": [],
   "source": [
    "print(len(bad_spp_cases - agent.cases['good_ans']), len(bad_spp_cases & agent.cases['good_ans']), len(bad_spp_cases))"
   ]
  },
  {
   "cell_type": "code",
   "execution_count": null,
   "metadata": {},
   "outputs": [],
   "source": [
    "from collections import Counter\n",
    "\n",
    "rec_spp_nums = [len(set(agent.pretty_memory(q_id).keys()) & set(gold_qas_map[q_id][2].keys())) for q_id in bad_spp_cases]\n",
    "\n",
    "print(Counter(rec_spp_nums))"
   ]
  },
  {
   "cell_type": "markdown",
   "metadata": {},
   "source": [
    "### **add distractor into memory**"
   ]
  },
  {
   "cell_type": "code",
   "execution_count": null,
   "metadata": {},
   "outputs": [],
   "source": [
    "print(len(agent.cases['add_dis'] - agent.cases['good_spp']), len(agent.cases['add_dis'] & agent.cases['good_spp']), len(agent.cases['add_dis']))\n",
    "print(len(agent.cases['add_dis'] - agent.cases['good_ans']), len(agent.cases['add_dis'] & agent.cases['good_ans']), len(agent.cases['add_dis']))"
   ]
  },
  {
   "cell_type": "markdown",
   "metadata": {},
   "source": [
    "### **miss sp passage**"
   ]
  },
  {
   "cell_type": "code",
   "execution_count": null,
   "metadata": {},
   "outputs": [],
   "source": [
    "print(len(agent.cases['miss_sp'] - agent.cases['good_spp']), len(agent.cases['miss_sp'] & agent.cases['good_spp']), len(agent.cases['miss_sp']))\n",
    "print(len(agent.cases['miss_sp'] - agent.cases['good_ans']), len(agent.cases['miss_sp'] & agent.cases['good_ans']), len(agent.cases['miss_sp']))"
   ]
  },
  {
   "cell_type": "markdown",
   "metadata": {},
   "source": [
    "### miss 2nd sp passage"
   ]
  },
  {
   "cell_type": "code",
   "execution_count": null,
   "metadata": {},
   "outputs": [],
   "source": [
    "print(len(agent.cases['miss_sp2'] - agent.cases['good_spp']), len(agent.cases['miss_sp2'] & agent.cases['good_spp']), len(agent.cases['miss_sp2']))\n",
    "print(len(agent.cases['miss_sp2'] - agent.cases['good_ans']), len(agent.cases['miss_sp2'] & agent.cases['good_ans']), len(agent.cases['miss_sp2']))"
   ]
  },
  {
   "cell_type": "markdown",
   "metadata": {},
   "source": [
    "### remove sp"
   ]
  },
  {
   "cell_type": "code",
   "execution_count": null,
   "metadata": {},
   "outputs": [],
   "source": [
    "print(len(agent.cases['rm_sp'] - agent.cases['good_spp']), len(agent.cases['rm_sp'] & agent.cases['good_spp']), len(agent.cases['rm_sp']))\n",
    "print(len(agent.cases['rm_sp'] - agent.cases['good_ans']), len(agent.cases['rm_sp'] & agent.cases['good_ans']), len(agent.cases['rm_sp']))"
   ]
  },
  {
   "cell_type": "code",
   "execution_count": null,
   "metadata": {},
   "outputs": [],
   "source": [
    "print(len(agent.cases['rm_sp'] & agent.cases['add_dis']), len(agent.cases['rm_sp'] - agent.cases['add_dis']), len(agent.cases['rm_sp']))\n",
    "print(len(agent.cases['rm_sp'] & agent.cases['add_dis'] & agent.cases['good_spp']), len(agent.cases['rm_sp'] & agent.cases['add_dis'] - agent.cases['good_spp']))\n",
    "print(len(agent.cases['rm_sp'] - agent.cases['add_dis'] & agent.cases['good_spp']), len(agent.cases['rm_sp'] - agent.cases['add_dis'] - agent.cases['good_spp']))"
   ]
  },
  {
   "cell_type": "markdown",
   "metadata": {},
   "source": [
    "### **false dense query expansion**"
   ]
  },
  {
   "cell_type": "code",
   "execution_count": null,
   "metadata": {},
   "outputs": [],
   "source": [
    "print(len(agent.cases['false_expansion'] - agent.cases['good_spp']), len(agent.cases['false_expansion'] & agent.cases['good_spp']), len(agent.cases['false_expansion']))\n",
    "print(len(agent.cases['false_expansion'] - agent.cases['good_ans']), len(agent.cases['false_expansion'] & agent.cases['good_ans']), len(agent.cases['false_expansion']))"
   ]
  },
  {
   "cell_type": "code",
   "execution_count": null,
   "metadata": {},
   "outputs": [],
   "source": [
    "print(len(agent.cases['false_expansion'] - agent.cases['add_dis']), len(agent.cases['false_expansion']), len(agent.cases['false_expansion'] & agent.cases['add_dis']), len(agent.cases['add_dis']), len(agent.cases['add_dis'] - agent.cases['false_expansion']))"
   ]
  },
  {
   "cell_type": "markdown",
   "metadata": {
    "heading_collapsed": "true",
    "tags": []
   },
   "source": [
    "## final evidence set size"
   ]
  },
  {
   "cell_type": "code",
   "execution_count": null,
   "metadata": {},
   "outputs": [],
   "source": [
    "from collections import defaultdict\n",
    "\n",
    "msz2cases = defaultdict(set)\n",
    "for q_id, mem in agent.memory.items():\n",
    "    msz2cases[len(mem)].add(q_id)\n",
    "\n",
    "for msz in sorted(msz2cases.keys()):\n",
    "    cases = msz2cases[msz]\n",
    "    print(f\"{msz}: {len(cases)}\")\n",
    "    print(len(cases - agent.cases['good_spp']), len(cases & agent.cases['good_spp']), len(cases - agent.cases['good_ans']), len(cases & agent.cases['good_ans']))\n",
    "    print()"
   ]
  },
  {
   "cell_type": "markdown",
   "metadata": {
    "tags": []
   },
   "source": [
    "## case studty"
   ]
  },
  {
   "cell_type": "code",
   "execution_count": null,
   "metadata": {},
   "outputs": [],
   "source": [
    "for x in agent.exhausted_cmds.values():\n",
    "    if len(x) > 0:\n",
    "        print(x)"
   ]
  },
  {
   "cell_type": "code",
   "execution_count": null,
   "metadata": {},
   "outputs": [],
   "source": [
    "cnt = 0\n",
    "for k, v in agent.memory.items():\n",
    "    if len(v) >= 3 and k in predictions['answer']:\n",
    "        if cnt == 0:\n",
    "            print(k, v)\n",
    "        cnt += 1\n",
    "print(cnt)"
   ]
  },
  {
   "cell_type": "code",
   "execution_count": null,
   "metadata": {},
   "outputs": [],
   "source": [
    "q_id = '5a7149595542994082a3e76f'  # 5ab3abe9554299753aec597e 5a7363ec5542991f29ee2dd7 5ae54bbd5542990ba0bbb262 5adf29f05542993344016c09 5a764c0b55429976ec32bd89\n",
    "if q_id in predictions['answer']:\n",
    "    print(predictions['answer'][q_id])\n",
    "print(agent.all_answer[q_id])\n",
    "if q_id in predictions['sp']:\n",
    "    print(predictions['sp'][q_id])\n",
    "print(agent.all_sp_facts[q_id])\n",
    "if q_id in predictions['spp']:\n",
    "    print(predictions['spp'][q_id])\n",
    "print(agent.pretty_memory(q_id))"
   ]
  },
  {
   "cell_type": "code",
   "execution_count": null,
   "metadata": {},
   "outputs": [],
   "source": [
    "gold_qas_map[q_id]"
   ]
  },
  {
   "cell_type": "code",
   "execution_count": null,
   "metadata": {},
   "outputs": [],
   "source": [
    "print(agent.pretty_behavior(q_id))"
   ]
  },
  {
   "cell_type": "code",
   "execution_count": null,
   "metadata": {
    "scrolled": true
   },
   "outputs": [],
   "source": [
    "print(f\"*{0:<3d} Q\\t{agent.pretty_cmd(agent.commands[q_id][0])}\")\n",
    "for i, (obs, obs_score, cmd, proposals) in enumerate(zip(agent.ids2titles(agent.observed[q_id]), agent.obs_scores[q_id], agent.commands[q_id][1:], agent.proposals[q_id][1:])):\n",
    "    print(f\"*{i + 1:<3d} {obs_score:.3f} {obs}\\t{agent.pretty_cmd(cmd)}\")"
   ]
  },
  {
   "cell_type": "code",
   "execution_count": null,
   "metadata": {
    "scrolled": true
   },
   "outputs": [],
   "source": [
    "print(f\"*{0:<3d} Q    {agent.pretty_cmd(agent.commands[q_id][0])}\")\n",
    "for cmd, conf, prob in agent.proposals[q_id][0]:\n",
    "    print(f\"{prob:.3f}  {conf:.2f}  {agent.pretty_cmd(cmd)}\")\n",
    "for i, (obs, obs_score, cmd, proposals) in enumerate(zip(agent.ids2titles(agent.observed[q_id]), agent.obs_scores[q_id], agent.commands[q_id][1:], agent.proposals[q_id][1:])):\n",
    "    print(f\"*{i + 1:<3d} {obs_score:.3f} -- {obs}    {agent.pretty_cmd(cmd)}\")\n",
    "    for cmd, conf, prob in proposals:\n",
    "        print(f\"{prob:.3f}  {conf:.2f} {agent.pretty_cmd(cmd)}\")"
   ]
  },
  {
   "cell_type": "code",
   "execution_count": null,
   "metadata": {
    "scrolled": true
   },
   "outputs": [],
   "source": [
    "agent.clicked[q_id]"
   ]
  },
  {
   "cell_type": "code",
   "execution_count": null,
   "metadata": {
    "scrolled": true
   },
   "outputs": [],
   "source": [
    "agent.observed[q_id]"
   ]
  },
  {
   "cell_type": "code",
   "execution_count": null,
   "metadata": {},
   "outputs": [],
   "source": [
    "agent.obs_scores[q_id]"
   ]
  }
 ],
 "metadata": {
  "kernelspec": {
   "display_name": "Python 3",
   "language": "python",
   "name": "python3"
  },
  "language_info": {
   "codemirror_mode": {
    "name": "ipython",
    "version": 3
   },
   "file_extension": ".py",
   "mimetype": "text/x-python",
   "name": "python",
   "nbconvert_exporter": "python",
   "pygments_lexer": "ipython3",
   "version": "3.6.12"
  },
  "widgets": {
   "application/vnd.jupyter.widget-state+json": {
    "state": {
     "002c54432358470fb390568beef5e481": {
      "model_module": "@jupyter-widgets/controls",
      "model_module_version": "1.5.0",
      "model_name": "DescriptionStyleModel",
      "state": {
       "description_width": ""
      }
     },
     "00fe54da63a343e9924043d0aecea276": {
      "model_module": "@jupyter-widgets/controls",
      "model_module_version": "1.5.0",
      "model_name": "FloatProgressModel",
      "state": {
       "bar_style": "success",
       "layout": "IPY_MODEL_4716ad6d9ef6474c9e60c93fec8aa6f5",
       "max": 71,
       "style": "IPY_MODEL_22f9e188ea0a4fd9a4b1c10c4790278a",
       "value": 71
      }
     },
     "0152a586f50f41f2a64e751614c139b1": {
      "model_module": "@jupyter-widgets/controls",
      "model_module_version": "1.5.0",
      "model_name": "HTMLModel",
      "state": {
       "layout": "IPY_MODEL_1451b121dea3430298e478357c469505",
       "style": "IPY_MODEL_e2ccdf098e254c86a2b1f566de398dcb",
       "value": "exe: 100%"
      }
     },
     "0303ec2c01d940f8bf7e53498d22dcd4": {
      "model_module": "@jupyter-widgets/controls",
      "model_module_version": "1.5.0",
      "model_name": "ProgressStyleModel",
      "state": {
       "description_width": ""
      }
     },
     "046376b1595847389a8a26e8733229e5": {
      "model_module": "@jupyter-widgets/base",
      "model_module_version": "1.2.0",
      "model_name": "LayoutModel",
      "state": {}
     },
     "04f8787bec4e4027be4bbb81c48720ac": {
      "model_module": "@jupyter-widgets/controls",
      "model_module_version": "1.5.0",
      "model_name": "HTMLModel",
      "state": {
       "layout": "IPY_MODEL_74ad4d56bb0c4ba192b6a8dd3a534c77",
       "style": "IPY_MODEL_4f1d9ccff96741f489447740bf8ceda6",
       "value": "act: 100%"
      }
     },
     "04f967e26edb43e98777fd5aced3f6ea": {
      "model_module": "@jupyter-widgets/controls",
      "model_module_version": "1.5.0",
      "model_name": "DescriptionStyleModel",
      "state": {
       "description_width": ""
      }
     },
     "069b19f252714a11b05b6dae2c5976ce": {
      "model_module": "@jupyter-widgets/base",
      "model_module_version": "1.2.0",
      "model_name": "LayoutModel",
      "state": {}
     },
     "0724daaa29da41639d98c1da86a8f3f7": {
      "model_module": "@jupyter-widgets/base",
      "model_module_version": "1.2.0",
      "model_name": "LayoutModel",
      "state": {}
     },
     "079cb5a08468478692039fe710c2ce21": {
      "model_module": "@jupyter-widgets/base",
      "model_module_version": "1.2.0",
      "model_name": "LayoutModel",
      "state": {}
     },
     "07b0e6a3af104340947e91c869a29904": {
      "model_module": "@jupyter-widgets/controls",
      "model_module_version": "1.5.0",
      "model_name": "DescriptionStyleModel",
      "state": {
       "description_width": ""
      }
     },
     "08a030b079dd46e18be6e30b522b7869": {
      "model_module": "@jupyter-widgets/controls",
      "model_module_version": "1.5.0",
      "model_name": "HBoxModel",
      "state": {
       "children": [
        "IPY_MODEL_f4cc1348bccd4bd1a01124413446b56f",
        "IPY_MODEL_cdb78da515e9496c8ed2a435a228aa87",
        "IPY_MODEL_a84da0bf0b104bb5bdd53202a26c2337"
       ],
       "layout": "IPY_MODEL_331889bbae6449e28576b7203a230309"
      }
     },
     "09533ccf109946bd89800f9c788cbffe": {
      "model_module": "@jupyter-widgets/controls",
      "model_module_version": "1.5.0",
      "model_name": "HTMLModel",
      "state": {
       "layout": "IPY_MODEL_c99410eb1f35440cad10ead4fa1248e1",
       "style": "IPY_MODEL_7e8af95dc341407dad97bd15dd6d5a45",
       "value": " 25/25 [00:10&lt;00:00,  2.73it/s]"
      }
     },
     "09aa10414aab4ac7bab4c7a3ffc8faaa": {
      "model_module": "@jupyter-widgets/controls",
      "model_module_version": "1.5.0",
      "model_name": "DescriptionStyleModel",
      "state": {
       "description_width": ""
      }
     },
     "09fb0f0c78714cbc8f58d80b8de6a79d": {
      "model_module": "@jupyter-widgets/controls",
      "model_module_version": "1.5.0",
      "model_name": "DescriptionStyleModel",
      "state": {
       "description_width": ""
      }
     },
     "0a50a819a1c54dd893263fb75d805749": {
      "model_module": "@jupyter-widgets/controls",
      "model_module_version": "1.5.0",
      "model_name": "HTMLModel",
      "state": {
       "layout": "IPY_MODEL_2c2d0b19f2314ba8abaf1a632ef7805e",
       "style": "IPY_MODEL_25b6b1f7df5e47839f13f7cd992ea2a1",
       "value": "gen_sparse_query: 100%"
      }
     },
     "0ad5a015fa50486ea7ffa11e49cc5587": {
      "model_module": "@jupyter-widgets/controls",
      "model_module_version": "1.5.0",
      "model_name": "HTMLModel",
      "state": {
       "layout": "IPY_MODEL_de68ade56f714b58b53eef536aa72067",
       "style": "IPY_MODEL_69ed1e36bb574007b4175e852c59d921",
       "value": "act: 100%"
      }
     },
     "0b804143dffc42859d2b8df3dbc0249f": {
      "model_module": "@jupyter-widgets/controls",
      "model_module_version": "1.5.0",
      "model_name": "ProgressStyleModel",
      "state": {
       "description_width": ""
      }
     },
     "0c48626cc83f4f88b9130058f0243add": {
      "model_module": "@jupyter-widgets/base",
      "model_module_version": "1.2.0",
      "model_name": "LayoutModel",
      "state": {}
     },
     "0f84cf3d530c40be9fed076be87d1db5": {
      "model_module": "@jupyter-widgets/controls",
      "model_module_version": "1.5.0",
      "model_name": "DescriptionStyleModel",
      "state": {
       "description_width": ""
      }
     },
     "0fb7f15d80f84c2c85d38c011b0ad831": {
      "model_module": "@jupyter-widgets/controls",
      "model_module_version": "1.5.0",
      "model_name": "HTMLModel",
      "state": {
       "layout": "IPY_MODEL_ded459ce1b1a4cfdb7afaea7de9abf13",
       "style": "IPY_MODEL_15b3db7709f94da79ad1c536e93cee8a",
       "value": "act: 100%"
      }
     },
     "0fbfe6b6d1fd4310bfa470efe8f41dfb": {
      "model_module": "@jupyter-widgets/controls",
      "model_module_version": "1.5.0",
      "model_name": "HBoxModel",
      "state": {
       "children": [
        "IPY_MODEL_7e4f4b89cc534679a70598ff76277734",
        "IPY_MODEL_a282f90dbfe2420db65675b49b29f022",
        "IPY_MODEL_841173c920ab4a4e9f0ca0f2cffdd7e3"
       ],
       "layout": "IPY_MODEL_eb3cf1d1e9c34202820173d60720ef1a"
      }
     },
     "1101869bd7614a40997020ec2071d780": {
      "model_module": "@jupyter-widgets/controls",
      "model_module_version": "1.5.0",
      "model_name": "HTMLModel",
      "state": {
       "layout": "IPY_MODEL_e52b87a35d464d0eaec032f72f80bdba",
       "style": "IPY_MODEL_d9196b6130be497891749f28715ae454",
       "value": "exe: 100%"
      }
     },
     "11b497335ab24242b75ffb6011ac408b": {
      "model_module": "@jupyter-widgets/controls",
      "model_module_version": "1.5.0",
      "model_name": "ProgressStyleModel",
      "state": {
       "description_width": ""
      }
     },
     "11deddc7099448c490a126679ffe8b2f": {
      "model_module": "@jupyter-widgets/base",
      "model_module_version": "1.2.0",
      "model_name": "LayoutModel",
      "state": {}
     },
     "125f20afaa6d4aabb29270a38e4f1ae4": {
      "model_module": "@jupyter-widgets/base",
      "model_module_version": "1.2.0",
      "model_name": "LayoutModel",
      "state": {}
     },
     "1437036796874ac3bfc4abf396f9150f": {
      "model_module": "@jupyter-widgets/controls",
      "model_module_version": "1.5.0",
      "model_name": "ProgressStyleModel",
      "state": {
       "description_width": ""
      }
     },
     "1451b121dea3430298e478357c469505": {
      "model_module": "@jupyter-widgets/base",
      "model_module_version": "1.2.0",
      "model_name": "LayoutModel",
      "state": {}
     },
     "146c703e05e6424bb864109251ea72aa": {
      "model_module": "@jupyter-widgets/controls",
      "model_module_version": "1.5.0",
      "model_name": "HTMLModel",
      "state": {
       "layout": "IPY_MODEL_59ec16ca9e694914a034675dbccb32cf",
       "style": "IPY_MODEL_66307a6c36d947f5be89a11a4fc9c42e",
       "value": " 0/7405 [00:00&lt;?, ?it/s]"
      }
     },
     "15b3db7709f94da79ad1c536e93cee8a": {
      "model_module": "@jupyter-widgets/controls",
      "model_module_version": "1.5.0",
      "model_name": "DescriptionStyleModel",
      "state": {
       "description_width": ""
      }
     },
     "1602ac218ea54f0f89f7b1f35f422beb": {
      "model_module": "@jupyter-widgets/base",
      "model_module_version": "1.2.0",
      "model_name": "LayoutModel",
      "state": {}
     },
     "16056aeaf8b6455eb84581ab9be0a55e": {
      "model_module": "@jupyter-widgets/base",
      "model_module_version": "1.2.0",
      "model_name": "LayoutModel",
      "state": {}
     },
     "17bd7b063494435abc077a1e893d8515": {
      "model_module": "@jupyter-widgets/controls",
      "model_module_version": "1.5.0",
      "model_name": "ProgressStyleModel",
      "state": {
       "description_width": ""
      }
     },
     "190fc43ea6a04f64878fc85396b70c10": {
      "model_module": "@jupyter-widgets/controls",
      "model_module_version": "1.5.0",
      "model_name": "HBoxModel",
      "state": {
       "children": [
        "IPY_MODEL_475a8db0ad064796ac64c489273bdc87",
        "IPY_MODEL_d8a2bbcf730f448db1678337b7ff3b15",
        "IPY_MODEL_a0299359a9ba46dda7c95417419ce007"
       ],
       "layout": "IPY_MODEL_27821e53471d4b0ba10acb38416ff192"
      }
     },
     "1943766de3f642b68c8c02dd8d460b11": {
      "model_module": "@jupyter-widgets/controls",
      "model_module_version": "1.5.0",
      "model_name": "DescriptionStyleModel",
      "state": {
       "description_width": ""
      }
     },
     "1996f406e1554eab9eed816979cdd77c": {
      "model_module": "@jupyter-widgets/controls",
      "model_module_version": "1.5.0",
      "model_name": "HTMLModel",
      "state": {
       "layout": "IPY_MODEL_db196baebc664c0f8da42854ad69167c",
       "style": "IPY_MODEL_ad2b25f928a54cec8bf867989897cb85",
       "value": " 1462/1462 [00:06&lt;00:00, 222.37it/s]"
      }
     },
     "1bbf34fa95784c32bef6c1ee7b9a8ccf": {
      "model_module": "@jupyter-widgets/base",
      "model_module_version": "1.2.0",
      "model_name": "LayoutModel",
      "state": {}
     },
     "1c1767e5d1b64035b056af862eeffeac": {
      "model_module": "@jupyter-widgets/controls",
      "model_module_version": "1.5.0",
      "model_name": "HBoxModel",
      "state": {
       "children": [
        "IPY_MODEL_0fb7f15d80f84c2c85d38c011b0ad831",
        "IPY_MODEL_29266ce207e74d68a985d329129b7006",
        "IPY_MODEL_befe4e75f3e1484b98b9b9ae434ebead"
       ],
       "layout": "IPY_MODEL_27feb07bca6741408d0307386eac54ec"
      }
     },
     "1c383fcd3f7847e59130dbc61cb26eb3": {
      "model_module": "@jupyter-widgets/controls",
      "model_module_version": "1.5.0",
      "model_name": "DescriptionStyleModel",
      "state": {
       "description_width": ""
      }
     },
     "1dd88a4e799b4ed3b53d0df83aa903df": {
      "model_module": "@jupyter-widgets/controls",
      "model_module_version": "1.5.0",
      "model_name": "HTMLModel",
      "state": {
       "layout": "IPY_MODEL_f3087c893fa149faa453b24295be5d36",
       "style": "IPY_MODEL_e707dc356e084de1976da16f107b6c28",
       "value": "gen_sparse_query: 100%"
      }
     },
     "1def769a033d4094b9bb9a204d1560f9": {
      "model_module": "@jupyter-widgets/controls",
      "model_module_version": "1.5.0",
      "model_name": "ProgressStyleModel",
      "state": {
       "description_width": ""
      }
     },
     "1e097104d4904c969bacdd5a57cd7259": {
      "model_module": "@jupyter-widgets/controls",
      "model_module_version": "1.5.0",
      "model_name": "DescriptionStyleModel",
      "state": {
       "description_width": ""
      }
     },
     "1eacdf69be5f498aa146437413c2f787": {
      "model_module": "@jupyter-widgets/base",
      "model_module_version": "1.2.0",
      "model_name": "LayoutModel",
      "state": {}
     },
     "1eb8eb6aacba4183b343cb8cbd005f2a": {
      "model_module": "@jupyter-widgets/controls",
      "model_module_version": "1.5.0",
      "model_name": "HBoxModel",
      "state": {
       "children": [
        "IPY_MODEL_35c522c8f87c4c26a179d627f82fd0f6",
        "IPY_MODEL_4a7824a31331453db618b4bd885e6b58",
        "IPY_MODEL_c7c1a5d9f09143f4a6588383ab8de414"
       ],
       "layout": "IPY_MODEL_bf3eaba3b1b74f53bbfdf79a094b1b70"
      }
     },
     "1ed04e7024dd4069858ea8f9202bfc48": {
      "model_module": "@jupyter-widgets/controls",
      "model_module_version": "1.5.0",
      "model_name": "FloatProgressModel",
      "state": {
       "bar_style": "success",
       "layout": "IPY_MODEL_a8724efba9a74eb5b697099ad0a2f1a5",
       "max": 7405,
       "style": "IPY_MODEL_bbe9947922694e6aa26ee218859cb547",
       "value": 7405
      }
     },
     "1f4d280ff2024a9da15a95ceac11b59d": {
      "model_module": "@jupyter-widgets/base",
      "model_module_version": "1.2.0",
      "model_name": "LayoutModel",
      "state": {}
     },
     "20395c165c5d46f9a4ead55981d1b176": {
      "model_module": "@jupyter-widgets/base",
      "model_module_version": "1.2.0",
      "model_name": "LayoutModel",
      "state": {}
     },
     "225c71c02ad14f65afcec4f5471f2592": {
      "model_module": "@jupyter-widgets/base",
      "model_module_version": "1.2.0",
      "model_name": "LayoutModel",
      "state": {}
     },
     "2274ff992cf348a7a85e200faf2a05ca": {
      "model_module": "@jupyter-widgets/base",
      "model_module_version": "1.2.0",
      "model_name": "LayoutModel",
      "state": {}
     },
     "22f9e188ea0a4fd9a4b1c10c4790278a": {
      "model_module": "@jupyter-widgets/controls",
      "model_module_version": "1.5.0",
      "model_name": "ProgressStyleModel",
      "state": {
       "description_width": ""
      }
     },
     "23f1cc8413c14a03893bf0e34e7ebed8": {
      "model_module": "@jupyter-widgets/controls",
      "model_module_version": "1.5.0",
      "model_name": "HTMLModel",
      "state": {
       "layout": "IPY_MODEL_1eacdf69be5f498aa146437413c2f787",
       "style": "IPY_MODEL_f6ec228c1fc848d6bba73631101f18e3",
       "value": " 748/748 [00:01&lt;00:00, 723.34it/s]"
      }
     },
     "23fad4388ee743308dad60843a9ea9a0": {
      "model_module": "@jupyter-widgets/controls",
      "model_module_version": "1.5.0",
      "model_name": "DescriptionStyleModel",
      "state": {
       "description_width": ""
      }
     },
     "24a02e189fc547bdb9a502fdf4ffd4ce": {
      "model_module": "@jupyter-widgets/controls",
      "model_module_version": "1.5.0",
      "model_name": "FloatProgressModel",
      "state": {
       "bar_style": "success",
       "layout": "IPY_MODEL_527cd3d815294cbc885c7737a65ba7b0",
       "max": 46,
       "style": "IPY_MODEL_c0e718b5840a4d46b57dd251fe14fc84",
       "value": 46
      }
     },
     "24c63216df684b68a2f4702fe141e10b": {
      "model_module": "@jupyter-widgets/controls",
      "model_module_version": "1.5.0",
      "model_name": "HTMLModel",
      "state": {
       "layout": "IPY_MODEL_4e959046726c4c3e815dc5824ab90cc8",
       "style": "IPY_MODEL_2d4aa10436554980a59067641f241949",
       "value": " 232/232 [00:21&lt;00:00, 12.12it/s]"
      }
     },
     "252440739e5b4e028142f46815b27493": {
      "model_module": "@jupyter-widgets/controls",
      "model_module_version": "1.5.0",
      "model_name": "DescriptionStyleModel",
      "state": {
       "description_width": ""
      }
     },
     "25b6b1f7df5e47839f13f7cd992ea2a1": {
      "model_module": "@jupyter-widgets/controls",
      "model_module_version": "1.5.0",
      "model_name": "DescriptionStyleModel",
      "state": {
       "description_width": ""
      }
     },
     "2623932f8e254a18afb22f5524f7df3e": {
      "model_module": "@jupyter-widgets/controls",
      "model_module_version": "1.5.0",
      "model_name": "HBoxModel",
      "state": {
       "children": [
        "IPY_MODEL_fda95b4f5be8470b827ca44e81fe7dc4",
        "IPY_MODEL_fb2c3890e60b42b6a3bb63ad70c86016",
        "IPY_MODEL_e82152aa4ff84a1998e0ac217399f4ed"
       ],
       "layout": "IPY_MODEL_4bd04c2e649e4398b924b3c4c006b22f"
      }
     },
     "2755d8823fc44423bf66fe84870dcd10": {
      "model_module": "@jupyter-widgets/base",
      "model_module_version": "1.2.0",
      "model_name": "LayoutModel",
      "state": {}
     },
     "27821e53471d4b0ba10acb38416ff192": {
      "model_module": "@jupyter-widgets/base",
      "model_module_version": "1.2.0",
      "model_name": "LayoutModel",
      "state": {}
     },
     "27a99d19232d46de994d0ee3065a5e32": {
      "model_module": "@jupyter-widgets/base",
      "model_module_version": "1.2.0",
      "model_name": "LayoutModel",
      "state": {}
     },
     "27feb07bca6741408d0307386eac54ec": {
      "model_module": "@jupyter-widgets/base",
      "model_module_version": "1.2.0",
      "model_name": "LayoutModel",
      "state": {}
     },
     "28396a4242fc43ea992ddb453e5d7545": {
      "model_module": "@jupyter-widgets/controls",
      "model_module_version": "1.5.0",
      "model_name": "HTMLModel",
      "state": {
       "layout": "IPY_MODEL_aec0ec99f84c4ac4a1d12d035009dd87",
       "style": "IPY_MODEL_0f84cf3d530c40be9fed076be87d1db5",
       "value": " 7405/7405 [00:09&lt;00:00, 827.25it/s]"
      }
     },
     "28f443d9382d4fa5a831051cd9c4afd9": {
      "model_module": "@jupyter-widgets/controls",
      "model_module_version": "1.5.0",
      "model_name": "FloatProgressModel",
      "state": {
       "bar_style": "success",
       "layout": "IPY_MODEL_2f22c478439d487fb621930040490160",
       "max": 29,
       "style": "IPY_MODEL_2dc981b04b52446cbd6a99ed918cf52e",
       "value": 29
      }
     },
     "29266ce207e74d68a985d329129b7006": {
      "model_module": "@jupyter-widgets/controls",
      "model_module_version": "1.5.0",
      "model_name": "FloatProgressModel",
      "state": {
       "bar_style": "success",
       "layout": "IPY_MODEL_882e9a5a629b4634b597802e27f6e9bd",
       "max": 37,
       "style": "IPY_MODEL_bd33fdbef7b74bf4a0e64a46fa5d8a11",
       "value": 37
      }
     },
     "29a9c540dd124dacb88a9367bbcda2a1": {
      "model_module": "@jupyter-widgets/controls",
      "model_module_version": "1.5.0",
      "model_name": "DescriptionStyleModel",
      "state": {
       "description_width": ""
      }
     },
     "29bb8b6128fa4756b5d2b93669dd6487": {
      "model_module": "@jupyter-widgets/controls",
      "model_module_version": "1.5.0",
      "model_name": "HTMLModel",
      "state": {
       "layout": "IPY_MODEL_ae7c14a15fe34415a25785ba5e711543",
       "style": "IPY_MODEL_9d01a36a0ba34c5da7a601c1574d2973",
       "value": "gen_sparse_query: 100%"
      }
     },
     "2ae501ee9d6e4ba0b6de0830e2fc8113": {
      "model_module": "@jupyter-widgets/controls",
      "model_module_version": "1.5.0",
      "model_name": "HBoxModel",
      "state": {
       "children": [
        "IPY_MODEL_1dd88a4e799b4ed3b53d0df83aa903df",
        "IPY_MODEL_cf3e4470d6234c75b6e47910c150ba63",
        "IPY_MODEL_941e56a3c70449e5a409d216a70b6b41"
       ],
       "layout": "IPY_MODEL_9b369e9ce3bb44cead6bf05bffb8b81f"
      }
     },
     "2b8b0181b06046b0bfd89cd76046a86b": {
      "model_module": "@jupyter-widgets/controls",
      "model_module_version": "1.5.0",
      "model_name": "DescriptionStyleModel",
      "state": {
       "description_width": ""
      }
     },
     "2bd0b56499f2446997481ac95e045ce9": {
      "model_module": "@jupyter-widgets/base",
      "model_module_version": "1.2.0",
      "model_name": "LayoutModel",
      "state": {}
     },
     "2c2d0b19f2314ba8abaf1a632ef7805e": {
      "model_module": "@jupyter-widgets/base",
      "model_module_version": "1.2.0",
      "model_name": "LayoutModel",
      "state": {}
     },
     "2c6d22984678408d9427dfa6f6ea6314": {
      "model_module": "@jupyter-widgets/base",
      "model_module_version": "1.2.0",
      "model_name": "LayoutModel",
      "state": {}
     },
     "2d1d72315a1b49c3872ec9c57ac53d67": {
      "model_module": "@jupyter-widgets/controls",
      "model_module_version": "1.5.0",
      "model_name": "DescriptionStyleModel",
      "state": {
       "description_width": ""
      }
     },
     "2d4aa10436554980a59067641f241949": {
      "model_module": "@jupyter-widgets/controls",
      "model_module_version": "1.5.0",
      "model_name": "DescriptionStyleModel",
      "state": {
       "description_width": ""
      }
     },
     "2d51b82820af494f9828f4439665feba": {
      "model_module": "@jupyter-widgets/base",
      "model_module_version": "1.2.0",
      "model_name": "LayoutModel",
      "state": {}
     },
     "2dc981b04b52446cbd6a99ed918cf52e": {
      "model_module": "@jupyter-widgets/controls",
      "model_module_version": "1.5.0",
      "model_name": "ProgressStyleModel",
      "state": {
       "description_width": ""
      }
     },
     "2f22c478439d487fb621930040490160": {
      "model_module": "@jupyter-widgets/base",
      "model_module_version": "1.2.0",
      "model_name": "LayoutModel",
      "state": {}
     },
     "2f48929337de4b78926c944332f2e13f": {
      "model_module": "@jupyter-widgets/controls",
      "model_module_version": "1.5.0",
      "model_name": "DescriptionStyleModel",
      "state": {
       "description_width": ""
      }
     },
     "2fa74e43d8524dc89ece2e0deaa9871a": {
      "model_module": "@jupyter-widgets/base",
      "model_module_version": "1.2.0",
      "model_name": "LayoutModel",
      "state": {}
     },
     "30a250ea3aec4082beb7a61e6f8d3afb": {
      "model_module": "@jupyter-widgets/controls",
      "model_module_version": "1.5.0",
      "model_name": "HBoxModel",
      "state": {
       "children": [
        "IPY_MODEL_db4fa084ff5d48cd9694f6dda862278d",
        "IPY_MODEL_fa6c5b258e6f423bb2d82876354f03be",
        "IPY_MODEL_8d79e22c687b4dea84d88978e36ec0e5"
       ],
       "layout": "IPY_MODEL_5625992b06324a459ea7c629996c934f"
      }
     },
     "30e03de1386340e5bdaa7ae4ac6dd282": {
      "model_module": "@jupyter-widgets/base",
      "model_module_version": "1.2.0",
      "model_name": "LayoutModel",
      "state": {}
     },
     "32e859f709d440e9aa39b3af88d46cd6": {
      "model_module": "@jupyter-widgets/controls",
      "model_module_version": "1.5.0",
      "model_name": "HBoxModel",
      "state": {
       "children": [
        "IPY_MODEL_5ec16621425542af92d0682b7dff4171",
        "IPY_MODEL_985f13b960cd456a83a241eb8f5470dd",
        "IPY_MODEL_3c7f469324df42d5ae8944fb006fe346"
       ],
       "layout": "IPY_MODEL_9d80b49d27b045ea81a3f375ded71bfb"
      }
     },
     "331889bbae6449e28576b7203a230309": {
      "model_module": "@jupyter-widgets/base",
      "model_module_version": "1.2.0",
      "model_name": "LayoutModel",
      "state": {}
     },
     "3341de606a2f4cafa10da0cee0deaf20": {
      "model_module": "@jupyter-widgets/base",
      "model_module_version": "1.2.0",
      "model_name": "LayoutModel",
      "state": {}
     },
     "335b060fffb643bf99dde329b65a21d3": {
      "model_module": "@jupyter-widgets/controls",
      "model_module_version": "1.5.0",
      "model_name": "DescriptionStyleModel",
      "state": {
       "description_width": ""
      }
     },
     "336c60d25f024133ab0728a2035f1ffb": {
      "model_module": "@jupyter-widgets/base",
      "model_module_version": "1.2.0",
      "model_name": "LayoutModel",
      "state": {}
     },
     "343d7f14f3704461a721111b9875356a": {
      "model_module": "@jupyter-widgets/base",
      "model_module_version": "1.2.0",
      "model_name": "LayoutModel",
      "state": {}
     },
     "35c522c8f87c4c26a179d627f82fd0f6": {
      "model_module": "@jupyter-widgets/controls",
      "model_module_version": "1.5.0",
      "model_name": "HTMLModel",
      "state": {
       "layout": "IPY_MODEL_c0a1a07488b84b8ab840392e41fd7759",
       "style": "IPY_MODEL_dcdac5c0c5f345b0b087dee947fbffd4",
       "value": "gen_sparse_query: 100%"
      }
     },
     "367bb82f28e1446e93ac4cf81b6a3bdd": {
      "model_module": "@jupyter-widgets/base",
      "model_module_version": "1.2.0",
      "model_name": "LayoutModel",
      "state": {}
     },
     "383cdec830e742718e2f610deb8e6a94": {
      "model_module": "@jupyter-widgets/base",
      "model_module_version": "1.2.0",
      "model_name": "LayoutModel",
      "state": {}
     },
     "384cd6e9d3d341e9b24242ef06bf2a71": {
      "model_module": "@jupyter-widgets/base",
      "model_module_version": "1.2.0",
      "model_name": "LayoutModel",
      "state": {}
     },
     "38afa1156e9e4468b3eaf1dcb05c895d": {
      "model_module": "@jupyter-widgets/base",
      "model_module_version": "1.2.0",
      "model_name": "LayoutModel",
      "state": {}
     },
     "39b9e15f3eb84e4288f55e4505a8411b": {
      "model_module": "@jupyter-widgets/controls",
      "model_module_version": "1.5.0",
      "model_name": "HTMLModel",
      "state": {
       "layout": "IPY_MODEL_6f171d9c7bb042d59623fadf3cf51dcd",
       "style": "IPY_MODEL_9daff99b3dc74aea96c33a2de2027c0f",
       "value": " 906/906 [00:05&lt;00:00, 193.71it/s]"
      }
     },
     "39c8dac82f764695a5ad911d76d55b30": {
      "model_module": "@jupyter-widgets/controls",
      "model_module_version": "1.5.0",
      "model_name": "DescriptionStyleModel",
      "state": {
       "description_width": ""
      }
     },
     "39e1c85746f2402bb0bdd340c05157a4": {
      "model_module": "@jupyter-widgets/controls",
      "model_module_version": "1.5.0",
      "model_name": "DescriptionStyleModel",
      "state": {
       "description_width": ""
      }
     },
     "3a3d1861c8cd4ab88e9b1f975f3991f8": {
      "model_module": "@jupyter-widgets/controls",
      "model_module_version": "1.5.0",
      "model_name": "DescriptionStyleModel",
      "state": {
       "description_width": ""
      }
     },
     "3b410afdff604f15931c82530906e9a6": {
      "model_module": "@jupyter-widgets/controls",
      "model_module_version": "1.5.0",
      "model_name": "HBoxModel",
      "state": {
       "children": [
        "IPY_MODEL_9a166d44a1e1427d96f640995c52f79d",
        "IPY_MODEL_d0c7c3a7f72d4ca5ba726e33b0a5775a",
        "IPY_MODEL_d1ef03b8cb09456b9ecddf8e6c797006"
       ],
       "layout": "IPY_MODEL_d83fd815368f4bfd8e2573ed27f537b4"
      }
     },
     "3b9425e810c24644b906883f80e561a2": {
      "model_module": "@jupyter-widgets/controls",
      "model_module_version": "1.5.0",
      "model_name": "ProgressStyleModel",
      "state": {
       "description_width": ""
      }
     },
     "3c7f469324df42d5ae8944fb006fe346": {
      "model_module": "@jupyter-widgets/controls",
      "model_module_version": "1.5.0",
      "model_name": "HTMLModel",
      "state": {
       "layout": "IPY_MODEL_bf9ac169e9774a25a065c4b480a7737c",
       "style": "IPY_MODEL_2d1d72315a1b49c3872ec9c57ac53d67",
       "value": " 906/906 [00:01&lt;00:00, 737.62it/s]"
      }
     },
     "3c96c53fafad4c82a9407770c88b92d9": {
      "model_module": "@jupyter-widgets/base",
      "model_module_version": "1.2.0",
      "model_name": "LayoutModel",
      "state": {}
     },
     "3d745efe5849414fb3ab65c4138ce391": {
      "model_module": "@jupyter-widgets/base",
      "model_module_version": "1.2.0",
      "model_name": "LayoutModel",
      "state": {}
     },
     "3d873285aaa545198fb80a4bca15f05a": {
      "model_module": "@jupyter-widgets/controls",
      "model_module_version": "1.5.0",
      "model_name": "DescriptionStyleModel",
      "state": {
       "description_width": ""
      }
     },
     "3d87ca37e85c4a91a47ac84012dffae5": {
      "model_module": "@jupyter-widgets/controls",
      "model_module_version": "1.5.0",
      "model_name": "FloatProgressModel",
      "state": {
       "bar_style": "success",
       "layout": "IPY_MODEL_2fa74e43d8524dc89ece2e0deaa9871a",
       "max": 7405,
       "style": "IPY_MODEL_9dbd951ef1474c5c8bd3db427d537c53",
       "value": 7405
      }
     },
     "3daf6a7cd02d4fffba2f8add654718d4": {
      "model_module": "@jupyter-widgets/base",
      "model_module_version": "1.2.0",
      "model_name": "LayoutModel",
      "state": {}
     },
     "3dcb40353b7246e98b588879ac73b34b": {
      "model_module": "@jupyter-widgets/controls",
      "model_module_version": "1.5.0",
      "model_name": "FloatProgressModel",
      "state": {
       "bar_style": "success",
       "layout": "IPY_MODEL_0724daaa29da41639d98c1da86a8f3f7",
       "max": 2261,
       "style": "IPY_MODEL_fdecb1f900a74031b8ed62a1f1b6f264",
       "value": 2261
      }
     },
     "3f864e6eb66345b9b374f015d0e30f51": {
      "model_module": "@jupyter-widgets/controls",
      "model_module_version": "1.5.0",
      "model_name": "HBoxModel",
      "state": {
       "children": [
        "IPY_MODEL_1101869bd7614a40997020ec2071d780",
        "IPY_MODEL_bad6c890e9594591af679c2da78d9d64",
        "IPY_MODEL_a79b8cb6fcb9465f93f7f58a12aa3978"
       ],
       "layout": "IPY_MODEL_38afa1156e9e4468b3eaf1dcb05c895d"
      }
     },
     "3f9c5f384b5d4cff981a6d913f7bad9e": {
      "model_module": "@jupyter-widgets/base",
      "model_module_version": "1.2.0",
      "model_name": "LayoutModel",
      "state": {}
     },
     "40493ec4822d46a4a442a447681a3895": {
      "model_module": "@jupyter-widgets/controls",
      "model_module_version": "1.5.0",
      "model_name": "FloatProgressModel",
      "state": {
       "bar_style": "success",
       "layout": "IPY_MODEL_922147fc43644c77a7552c1787869d94",
       "max": 1462,
       "style": "IPY_MODEL_bcdf5957e4484cadaa0c66119f626bfe",
       "value": 1462
      }
     },
     "41c0f5ccd5b5478184cf1a5849173544": {
      "model_module": "@jupyter-widgets/base",
      "model_module_version": "1.2.0",
      "model_name": "LayoutModel",
      "state": {}
     },
     "4272660747a0423c8ee47b5678ab82f0": {
      "model_module": "@jupyter-widgets/controls",
      "model_module_version": "1.5.0",
      "model_name": "HBoxModel",
      "state": {
       "children": [
        "IPY_MODEL_0ad5a015fa50486ea7ffa11e49cc5587",
        "IPY_MODEL_8c745ea11aa3488e9759ddd0ba6d5f8a",
        "IPY_MODEL_09533ccf109946bd89800f9c788cbffe"
       ],
       "layout": "IPY_MODEL_c77ef3b5e840420dbc3add4b2fadc822"
      }
     },
     "4280bbd4495b46b38f7c6e974171dd41": {
      "model_module": "@jupyter-widgets/base",
      "model_module_version": "1.2.0",
      "model_name": "LayoutModel",
      "state": {}
     },
     "42833fa71fb049699e3365b73eb0778f": {
      "model_module": "@jupyter-widgets/controls",
      "model_module_version": "1.5.0",
      "model_name": "DescriptionStyleModel",
      "state": {
       "description_width": ""
      }
     },
     "43564b6cf3094069bbf30c4af2867ea4": {
      "model_module": "@jupyter-widgets/base",
      "model_module_version": "1.2.0",
      "model_name": "LayoutModel",
      "state": {}
     },
     "435cf39bf4c346e08fff432c07926272": {
      "model_module": "@jupyter-widgets/base",
      "model_module_version": "1.2.0",
      "model_name": "LayoutModel",
      "state": {}
     },
     "43dff914441a4046b3a172ab04058097": {
      "model_module": "@jupyter-widgets/base",
      "model_module_version": "1.2.0",
      "model_name": "LayoutModel",
      "state": {}
     },
     "446d8bfe764942bfb391a88b57497197": {
      "model_module": "@jupyter-widgets/controls",
      "model_module_version": "1.5.0",
      "model_name": "HTMLModel",
      "state": {
       "layout": "IPY_MODEL_fb73d21d092f41f5b0f0d547f5510ef3",
       "style": "IPY_MODEL_39c8dac82f764695a5ad911d76d55b30",
       "value": "exe: 100%"
      }
     },
     "44de1d7029364facbd46ededae4ea933": {
      "model_module": "@jupyter-widgets/base",
      "model_module_version": "1.2.0",
      "model_name": "LayoutModel",
      "state": {}
     },
     "450c876abfce4e7c8c1208b3f040b266": {
      "model_module": "@jupyter-widgets/controls",
      "model_module_version": "1.5.0",
      "model_name": "HTMLModel",
      "state": {
       "layout": "IPY_MODEL_1bbf34fa95784c32bef6c1ee7b9a8ccf",
       "style": "IPY_MODEL_46d7467eb08241189f00d172baea3fad",
       "value": " 46/46 [00:21&lt;00:00,  2.64it/s]"
      }
     },
     "459b5b437deb4617a72508af372501fe": {
      "model_module": "@jupyter-widgets/controls",
      "model_module_version": "1.5.0",
      "model_name": "HTMLModel",
      "state": {
       "layout": "IPY_MODEL_125f20afaa6d4aabb29270a38e4f1ae4",
       "style": "IPY_MODEL_7c94f03ad34146cabd0966fbed7abaea",
       "value": "exe:   0%"
      }
     },
     "45a200ecb8cc4b7e896a1f1a01c3c3a8": {
      "model_module": "@jupyter-widgets/controls",
      "model_module_version": "1.5.0",
      "model_name": "ProgressStyleModel",
      "state": {
       "description_width": ""
      }
     },
     "45e1fb592b5049e3a04952d4444d4e10": {
      "model_module": "@jupyter-widgets/controls",
      "model_module_version": "1.5.0",
      "model_name": "DescriptionStyleModel",
      "state": {
       "description_width": ""
      }
     },
     "4657c10f727a4419862f1e8e3a5437b8": {
      "model_module": "@jupyter-widgets/base",
      "model_module_version": "1.2.0",
      "model_name": "LayoutModel",
      "state": {}
     },
     "46bb83bc811e41028270cab0c85c3238": {
      "model_module": "@jupyter-widgets/controls",
      "model_module_version": "1.5.0",
      "model_name": "DescriptionStyleModel",
      "state": {
       "description_width": ""
      }
     },
     "46d7467eb08241189f00d172baea3fad": {
      "model_module": "@jupyter-widgets/controls",
      "model_module_version": "1.5.0",
      "model_name": "DescriptionStyleModel",
      "state": {
       "description_width": ""
      }
     },
     "4716ad6d9ef6474c9e60c93fec8aa6f5": {
      "model_module": "@jupyter-widgets/base",
      "model_module_version": "1.2.0",
      "model_name": "LayoutModel",
      "state": {}
     },
     "4719ef645d7f4e21a2488af13f0089ab": {
      "model_module": "@jupyter-widgets/base",
      "model_module_version": "1.2.0",
      "model_name": "LayoutModel",
      "state": {}
     },
     "475a8db0ad064796ac64c489273bdc87": {
      "model_module": "@jupyter-widgets/controls",
      "model_module_version": "1.5.0",
      "model_name": "HTMLModel",
      "state": {
       "layout": "IPY_MODEL_20395c165c5d46f9a4ead55981d1b176",
       "style": "IPY_MODEL_97244783e2ed4ee3ada4b2e6876f65e0",
       "value": "gen_sparse_query: 100%"
      }
     },
     "478d79f147be46cc978741067db3510e": {
      "model_module": "@jupyter-widgets/controls",
      "model_module_version": "1.5.0",
      "model_name": "HTMLModel",
      "state": {
       "layout": "IPY_MODEL_829d2139f3fc4a3fa69661f316e21a05",
       "style": "IPY_MODEL_09fb0f0c78714cbc8f58d80b8de6a79d",
       "value": " 0/7405 [00:00&lt;?, ?it/s]"
      }
     },
     "47d2db9a7b8d4d29b03b2b4b661fea07": {
      "model_module": "@jupyter-widgets/base",
      "model_module_version": "1.2.0",
      "model_name": "LayoutModel",
      "state": {}
     },
     "47fb3e7564db457a81da581804ff5b87": {
      "model_module": "@jupyter-widgets/base",
      "model_module_version": "1.2.0",
      "model_name": "LayoutModel",
      "state": {}
     },
     "48d47811d489469faeedc146942f3a89": {
      "model_module": "@jupyter-widgets/base",
      "model_module_version": "1.2.0",
      "model_name": "LayoutModel",
      "state": {}
     },
     "49c5d5a949414137a4c32b48b4977c59": {
      "model_module": "@jupyter-widgets/base",
      "model_module_version": "1.2.0",
      "model_name": "LayoutModel",
      "state": {}
     },
     "4a7824a31331453db618b4bd885e6b58": {
      "model_module": "@jupyter-widgets/controls",
      "model_module_version": "1.5.0",
      "model_name": "FloatProgressModel",
      "state": {
       "bar_style": "success",
       "layout": "IPY_MODEL_874d9e1c2e754fb491a13d844cb3804c",
       "max": 7405,
       "style": "IPY_MODEL_0303ec2c01d940f8bf7e53498d22dcd4",
       "value": 7405
      }
     },
     "4ab2f00c205c4494a4730e06c9fdaef5": {
      "model_module": "@jupyter-widgets/controls",
      "model_module_version": "1.5.0",
      "model_name": "DescriptionStyleModel",
      "state": {
       "description_width": ""
      }
     },
     "4b41c02fe5ae49af8e770a935ca6bbae": {
      "model_module": "@jupyter-widgets/base",
      "model_module_version": "1.2.0",
      "model_name": "LayoutModel",
      "state": {}
     },
     "4bd04c2e649e4398b924b3c4c006b22f": {
      "model_module": "@jupyter-widgets/base",
      "model_module_version": "1.2.0",
      "model_name": "LayoutModel",
      "state": {}
     },
     "4cccbd225f0144239f83964ce505a2e3": {
      "model_module": "@jupyter-widgets/controls",
      "model_module_version": "1.5.0",
      "model_name": "DescriptionStyleModel",
      "state": {
       "description_width": ""
      }
     },
     "4d031ab24e2a4d43bb6d2aa7c137b8d5": {
      "model_module": "@jupyter-widgets/base",
      "model_module_version": "1.2.0",
      "model_name": "LayoutModel",
      "state": {}
     },
     "4e452faf529444fc95a743f41fe540a4": {
      "model_module": "@jupyter-widgets/base",
      "model_module_version": "1.2.0",
      "model_name": "LayoutModel",
      "state": {}
     },
     "4e747738406e499086290bde1d4a0178": {
      "model_module": "@jupyter-widgets/base",
      "model_module_version": "1.2.0",
      "model_name": "LayoutModel",
      "state": {}
     },
     "4e959046726c4c3e815dc5824ab90cc8": {
      "model_module": "@jupyter-widgets/base",
      "model_module_version": "1.2.0",
      "model_name": "LayoutModel",
      "state": {}
     },
     "4f1d9ccff96741f489447740bf8ceda6": {
      "model_module": "@jupyter-widgets/controls",
      "model_module_version": "1.5.0",
      "model_name": "DescriptionStyleModel",
      "state": {
       "description_width": ""
      }
     },
     "4f3ee62c32c24cb0902272d0e0f76b3c": {
      "model_module": "@jupyter-widgets/base",
      "model_module_version": "1.2.0",
      "model_name": "LayoutModel",
      "state": {}
     },
     "4f93072123aa4520b23c78ca00274bd1": {
      "model_module": "@jupyter-widgets/controls",
      "model_module_version": "1.5.0",
      "model_name": "HTMLModel",
      "state": {
       "layout": "IPY_MODEL_7b1c2df060f2465da728bdfef43143ce",
       "style": "IPY_MODEL_837cab4cdb394e7e83d6bcdbc602586a",
       "value": " 832/832 [00:04&lt;00:00, 154.64it/s]"
      }
     },
     "4fc58c868bdf4c4aa11903f9b5144884": {
      "model_module": "@jupyter-widgets/base",
      "model_module_version": "1.2.0",
      "model_name": "LayoutModel",
      "state": {}
     },
     "50bc1a61223a4c03b8bdf39f0363ac2d": {
      "model_module": "@jupyter-widgets/controls",
      "model_module_version": "1.5.0",
      "model_name": "HTMLModel",
      "state": {
       "layout": "IPY_MODEL_50e78cda26d84081acdce752432e3782",
       "style": "IPY_MODEL_820ce24fc4e84e9fb63e64307ad92341",
       "value": " 788/788 [00:04&lt;00:00, 148.06it/s]"
      }
     },
     "50e78cda26d84081acdce752432e3782": {
      "model_module": "@jupyter-widgets/base",
      "model_module_version": "1.2.0",
      "model_name": "LayoutModel",
      "state": {}
     },
     "51bc84f30059414296335284de061a79": {
      "model_module": "@jupyter-widgets/controls",
      "model_module_version": "1.5.0",
      "model_name": "DescriptionStyleModel",
      "state": {
       "description_width": ""
      }
     },
     "527cd3d815294cbc885c7737a65ba7b0": {
      "model_module": "@jupyter-widgets/base",
      "model_module_version": "1.2.0",
      "model_name": "LayoutModel",
      "state": {}
     },
     "5304c3c3368b463fb5de18a68949a811": {
      "model_module": "@jupyter-widgets/controls",
      "model_module_version": "1.5.0",
      "model_name": "FloatProgressModel",
      "state": {
       "bar_style": "success",
       "layout": "IPY_MODEL_47fb3e7564db457a81da581804ff5b87",
       "max": 788,
       "style": "IPY_MODEL_11b497335ab24242b75ffb6011ac408b",
       "value": 788
      }
     },
     "543eede1f41049d299c6c63f355b4b0f": {
      "model_module": "@jupyter-widgets/controls",
      "model_module_version": "1.5.0",
      "model_name": "ProgressStyleModel",
      "state": {
       "description_width": ""
      }
     },
     "552d8c23b3e549d6aa5afbec11beda4c": {
      "model_module": "@jupyter-widgets/controls",
      "model_module_version": "1.5.0",
      "model_name": "ProgressStyleModel",
      "state": {
       "description_width": ""
      }
     },
     "56174af4d9bc49a18b69fb47cf7eabcc": {
      "model_module": "@jupyter-widgets/base",
      "model_module_version": "1.2.0",
      "model_name": "LayoutModel",
      "state": {}
     },
     "5625992b06324a459ea7c629996c934f": {
      "model_module": "@jupyter-widgets/base",
      "model_module_version": "1.2.0",
      "model_name": "LayoutModel",
      "state": {}
     },
     "5710f533d96d42b5a6f7d5498131f38b": {
      "model_module": "@jupyter-widgets/controls",
      "model_module_version": "1.5.0",
      "model_name": "ProgressStyleModel",
      "state": {
       "description_width": ""
      }
     },
     "582fa19b99b444958907a38b8ff72141": {
      "model_module": "@jupyter-widgets/controls",
      "model_module_version": "1.5.0",
      "model_name": "DescriptionStyleModel",
      "state": {
       "description_width": ""
      }
     },
     "5867ee1dac1e4764a0bb1ef370e04de1": {
      "model_module": "@jupyter-widgets/controls",
      "model_module_version": "1.5.0",
      "model_name": "HBoxModel",
      "state": {
       "children": [
        "IPY_MODEL_29bb8b6128fa4756b5d2b93669dd6487",
        "IPY_MODEL_b9c266aa2c5d4cf481164878b5c26359",
        "IPY_MODEL_c2ccb994a95343d68d91c250ceaa4312"
       ],
       "layout": "IPY_MODEL_9d7e5f7587df4e1e83a516d1efda1987"
      }
     },
     "586b5b5549594a4e9af55870a24f4da3": {
      "model_module": "@jupyter-widgets/controls",
      "model_module_version": "1.5.0",
      "model_name": "DescriptionStyleModel",
      "state": {
       "description_width": ""
      }
     },
     "5907b875dda6454f8ea45e1bf2e3329a": {
      "model_module": "@jupyter-widgets/controls",
      "model_module_version": "1.5.0",
      "model_name": "DescriptionStyleModel",
      "state": {
       "description_width": ""
      }
     },
     "5913e4d5634a4cde93be059754a9ef46": {
      "model_module": "@jupyter-widgets/controls",
      "model_module_version": "1.5.0",
      "model_name": "HTMLModel",
      "state": {
       "layout": "IPY_MODEL_4e452faf529444fc95a743f41fe540a4",
       "style": "IPY_MODEL_39e1c85746f2402bb0bdd340c05157a4",
       "value": " 7405/7405 [00:09&lt;00:00, 714.19it/s]"
      }
     },
     "59ec16ca9e694914a034675dbccb32cf": {
      "model_module": "@jupyter-widgets/base",
      "model_module_version": "1.2.0",
      "model_name": "LayoutModel",
      "state": {}
     },
     "5bddbffec5a64f2ea1e9e927dc4ca6bf": {
      "model_module": "@jupyter-widgets/controls",
      "model_module_version": "1.5.0",
      "model_name": "HBoxModel",
      "state": {
       "children": [
        "IPY_MODEL_a5decd3c6ffa43b5bfd654fcbb8d7263",
        "IPY_MODEL_8c086ebd685a4aae9546093d744763cf",
        "IPY_MODEL_6d46f3d89d284e1a9fd90b879af2e309"
       ],
       "layout": "IPY_MODEL_e757770fc36f4f50a332bd7d62b54ebb"
      }
     },
     "5c57b5d2b53a44d493ffbc8e0e3d09ee": {
      "model_module": "@jupyter-widgets/base",
      "model_module_version": "1.2.0",
      "model_name": "LayoutModel",
      "state": {}
     },
     "5e0670e231f349e3b9376d05c35eb9a4": {
      "model_module": "@jupyter-widgets/controls",
      "model_module_version": "1.5.0",
      "model_name": "ProgressStyleModel",
      "state": {
       "description_width": ""
      }
     },
     "5ec16621425542af92d0682b7dff4171": {
      "model_module": "@jupyter-widgets/controls",
      "model_module_version": "1.5.0",
      "model_name": "HTMLModel",
      "state": {
       "layout": "IPY_MODEL_5fe377bd7fc0432d9e9bdd753c21e2c8",
       "style": "IPY_MODEL_335b060fffb643bf99dde329b65a21d3",
       "value": "gen_sparse_query: 100%"
      }
     },
     "5f88ed07041f444eaec2ae3016aef9d8": {
      "model_module": "@jupyter-widgets/base",
      "model_module_version": "1.2.0",
      "model_name": "LayoutModel",
      "state": {}
     },
     "5fe377bd7fc0432d9e9bdd753c21e2c8": {
      "model_module": "@jupyter-widgets/base",
      "model_module_version": "1.2.0",
      "model_name": "LayoutModel",
      "state": {}
     },
     "5feca607fe5c41e5afba0f0bab3c0ab9": {
      "model_module": "@jupyter-widgets/controls",
      "model_module_version": "1.5.0",
      "model_name": "FloatProgressModel",
      "state": {
       "bar_style": "success",
       "layout": "IPY_MODEL_046376b1595847389a8a26e8733229e5",
       "max": 7405,
       "style": "IPY_MODEL_aea0d138fa5b4aa686fcbdbed47b1ef0",
       "value": 7405
      }
     },
     "61a60ce3ec5f4734af0c5d9d15b9f402": {
      "model_module": "@jupyter-widgets/base",
      "model_module_version": "1.2.0",
      "model_name": "LayoutModel",
      "state": {}
     },
     "632a66f9f44e4bd4b17c987b08803596": {
      "model_module": "@jupyter-widgets/controls",
      "model_module_version": "1.5.0",
      "model_name": "HTMLModel",
      "state": {
       "layout": "IPY_MODEL_4280bbd4495b46b38f7c6e974171dd41",
       "style": "IPY_MODEL_9489d9b137d04b16b29df5f5ebcce914",
       "value": "exe: 100%"
      }
     },
     "632d4f86f80b427c8deff6cdde39d1d3": {
      "model_module": "@jupyter-widgets/controls",
      "model_module_version": "1.5.0",
      "model_name": "ProgressStyleModel",
      "state": {
       "description_width": ""
      }
     },
     "66307a6c36d947f5be89a11a4fc9c42e": {
      "model_module": "@jupyter-widgets/controls",
      "model_module_version": "1.5.0",
      "model_name": "DescriptionStyleModel",
      "state": {
       "description_width": ""
      }
     },
     "6948d07e5cfe4bba98f4cf5af19e712d": {
      "model_module": "@jupyter-widgets/base",
      "model_module_version": "1.2.0",
      "model_name": "LayoutModel",
      "state": {}
     },
     "69ed1e36bb574007b4175e852c59d921": {
      "model_module": "@jupyter-widgets/controls",
      "model_module_version": "1.5.0",
      "model_name": "DescriptionStyleModel",
      "state": {
       "description_width": ""
      }
     },
     "6aabca57f0384cdd9505dcbdd496dae2": {
      "model_module": "@jupyter-widgets/base",
      "model_module_version": "1.2.0",
      "model_name": "LayoutModel",
      "state": {}
     },
     "6b2190f9d4354342babd800cc876c645": {
      "model_module": "@jupyter-widgets/controls",
      "model_module_version": "1.5.0",
      "model_name": "HTMLModel",
      "state": {
       "layout": "IPY_MODEL_3f9c5f384b5d4cff981a6d913f7bad9e",
       "style": "IPY_MODEL_a8d1bef9f4c14026baaed6ab292d68b8",
       "value": " 7405/7405 [00:09&lt;00:00, 833.33it/s]"
      }
     },
     "6b27ad699ac141e6a10b8fff8a4a3e00": {
      "model_module": "@jupyter-widgets/controls",
      "model_module_version": "1.5.0",
      "model_name": "ProgressStyleModel",
      "state": {
       "description_width": ""
      }
     },
     "6d46f3d89d284e1a9fd90b879af2e309": {
      "model_module": "@jupyter-widgets/controls",
      "model_module_version": "1.5.0",
      "model_name": "HTMLModel",
      "state": {
       "layout": "IPY_MODEL_4719ef645d7f4e21a2488af13f0089ab",
       "style": "IPY_MODEL_51bc84f30059414296335284de061a79",
       "value": " 232/232 [00:20&lt;00:00, 11.77it/s]"
      }
     },
     "6e88c05b49434520a5526d50c75edf82": {
      "model_module": "@jupyter-widgets/controls",
      "model_module_version": "1.5.0",
      "model_name": "DescriptionStyleModel",
      "state": {
       "description_width": ""
      }
     },
     "6f171d9c7bb042d59623fadf3cf51dcd": {
      "model_module": "@jupyter-widgets/base",
      "model_module_version": "1.2.0",
      "model_name": "LayoutModel",
      "state": {}
     },
     "72e4b95b9cca4ad48640a40846d3f6d0": {
      "model_module": "@jupyter-widgets/controls",
      "model_module_version": "1.5.0",
      "model_name": "HTMLModel",
      "state": {
       "layout": "IPY_MODEL_bc710d2e90d8406f8aada5eb4232741c",
       "style": "IPY_MODEL_cdfe0f7cd5e04dba963c4aff86df2081",
       "value": "exe: 100%"
      }
     },
     "72ebff0e8a3b48bca05ad42603b40752": {
      "model_module": "@jupyter-widgets/controls",
      "model_module_version": "1.5.0",
      "model_name": "DescriptionStyleModel",
      "state": {
       "description_width": ""
      }
     },
     "741ddd7960e2427fa6e04e011fe873d3": {
      "model_module": "@jupyter-widgets/base",
      "model_module_version": "1.2.0",
      "model_name": "LayoutModel",
      "state": {}
     },
     "74ad4d56bb0c4ba192b6a8dd3a534c77": {
      "model_module": "@jupyter-widgets/base",
      "model_module_version": "1.2.0",
      "model_name": "LayoutModel",
      "state": {}
     },
     "758a7c5cff4446d69313f2aa5ae10056": {
      "model_module": "@jupyter-widgets/controls",
      "model_module_version": "1.5.0",
      "model_name": "HTMLModel",
      "state": {
       "layout": "IPY_MODEL_2755d8823fc44423bf66fe84870dcd10",
       "style": "IPY_MODEL_b505d59b33194275b778212637a9447e",
       "value": "act: 100%"
      }
     },
     "75faff5bbf9045ec9693f7d7f5dcb04d": {
      "model_module": "@jupyter-widgets/base",
      "model_module_version": "1.2.0",
      "model_name": "LayoutModel",
      "state": {}
     },
     "7643c0e2c2cd4d52aa9f0d7775c5bcdc": {
      "model_module": "@jupyter-widgets/controls",
      "model_module_version": "1.5.0",
      "model_name": "DescriptionStyleModel",
      "state": {
       "description_width": ""
      }
     },
     "7757334a6b6f4a21a8a7d3a6ed766efb": {
      "model_module": "@jupyter-widgets/base",
      "model_module_version": "1.2.0",
      "model_name": "LayoutModel",
      "state": {}
     },
     "7760a0ae007943618eb8829b76ea46fe": {
      "model_module": "@jupyter-widgets/base",
      "model_module_version": "1.2.0",
      "model_name": "LayoutModel",
      "state": {}
     },
     "786c4605d631444999fb9085c624035e": {
      "model_module": "@jupyter-widgets/base",
      "model_module_version": "1.2.0",
      "model_name": "LayoutModel",
      "state": {}
     },
     "79bd3885c3af49a6b1657ec6929a78e1": {
      "model_module": "@jupyter-widgets/base",
      "model_module_version": "1.2.0",
      "model_name": "LayoutModel",
      "state": {}
     },
     "7ad320714dc44eafb5132d0cd8396f1a": {
      "model_module": "@jupyter-widgets/base",
      "model_module_version": "1.2.0",
      "model_name": "LayoutModel",
      "state": {}
     },
     "7add88237abd487eb1265b24267163ae": {
      "model_module": "@jupyter-widgets/controls",
      "model_module_version": "1.5.0",
      "model_name": "FloatProgressModel",
      "state": {
       "bar_style": "danger",
       "layout": "IPY_MODEL_48d47811d489469faeedc146942f3a89",
       "max": 7405,
       "style": "IPY_MODEL_b7c922959bfd415f8de91c553fa42357"
      }
     },
     "7b1c2df060f2465da728bdfef43143ce": {
      "model_module": "@jupyter-widgets/base",
      "model_module_version": "1.2.0",
      "model_name": "LayoutModel",
      "state": {}
     },
     "7bdebef1599c4cbeaad2219cbf51307d": {
      "model_module": "@jupyter-widgets/controls",
      "model_module_version": "1.5.0",
      "model_name": "DescriptionStyleModel",
      "state": {
       "description_width": ""
      }
     },
     "7c623d070a9e401ba9131d9d8553f5f2": {
      "model_module": "@jupyter-widgets/controls",
      "model_module_version": "1.5.0",
      "model_name": "FloatProgressModel",
      "state": {
       "bar_style": "success",
       "layout": "IPY_MODEL_8625d6540a2f4e7c881d810ed03499dd",
       "max": 1462,
       "style": "IPY_MODEL_dceae020fca6444387d0bef677554645",
       "value": 1462
      }
     },
     "7c94f03ad34146cabd0966fbed7abaea": {
      "model_module": "@jupyter-widgets/controls",
      "model_module_version": "1.5.0",
      "model_name": "DescriptionStyleModel",
      "state": {
       "description_width": ""
      }
     },
     "7ce628d278874907a77cd980c2b7d52f": {
      "model_module": "@jupyter-widgets/base",
      "model_module_version": "1.2.0",
      "model_name": "LayoutModel",
      "state": {}
     },
     "7dc06d06af18412ab5133b62e8daa4ad": {
      "model_module": "@jupyter-widgets/controls",
      "model_module_version": "1.5.0",
      "model_name": "HTMLModel",
      "state": {
       "layout": "IPY_MODEL_f3fe304aa7cb42259e5fc950295efd5d",
       "style": "IPY_MODEL_9285de44f82048d3b084ab3c60dc86df",
       "value": " 7405/7405 [00:23&lt;00:00, 294.02it/s]"
      }
     },
     "7e43ef5331954bae8a705e52e7c7814b": {
      "model_module": "@jupyter-widgets/base",
      "model_module_version": "1.2.0",
      "model_name": "LayoutModel",
      "state": {}
     },
     "7e4f4b89cc534679a70598ff76277734": {
      "model_module": "@jupyter-widgets/controls",
      "model_module_version": "1.5.0",
      "model_name": "HTMLModel",
      "state": {
       "layout": "IPY_MODEL_0c48626cc83f4f88b9130058f0243add",
       "style": "IPY_MODEL_a7923ff0ad3748ce831bf3d7822ebb04",
       "value": "act: 100%"
      }
     },
     "7e8af95dc341407dad97bd15dd6d5a45": {
      "model_module": "@jupyter-widgets/controls",
      "model_module_version": "1.5.0",
      "model_name": "DescriptionStyleModel",
      "state": {
       "description_width": ""
      }
     },
     "7f84eaf9294d4fa087c20fff1e40d9ce": {
      "model_module": "@jupyter-widgets/controls",
      "model_module_version": "1.5.0",
      "model_name": "HTMLModel",
      "state": {
       "layout": "IPY_MODEL_27a99d19232d46de994d0ee3065a5e32",
       "style": "IPY_MODEL_2b8b0181b06046b0bfd89cd76046a86b",
       "value": "act: 100%"
      }
     },
     "81295e0ff90d44618f9c0e9f27e0e497": {
      "model_module": "@jupyter-widgets/controls",
      "model_module_version": "1.5.0",
      "model_name": "HTMLModel",
      "state": {
       "layout": "IPY_MODEL_dee1b52c23954291b26de599d100da41",
       "style": "IPY_MODEL_09aa10414aab4ac7bab4c7a3ffc8faaa",
       "value": " 232/232 [01:12&lt;00:00,  4.06it/s]"
      }
     },
     "81fa1e73d7524ee585b30ccdeb255260": {
      "model_module": "@jupyter-widgets/controls",
      "model_module_version": "1.5.0",
      "model_name": "FloatProgressModel",
      "state": {
       "bar_style": "success",
       "layout": "IPY_MODEL_225c71c02ad14f65afcec4f5471f2592",
       "max": 32,
       "style": "IPY_MODEL_fdbf3ee979374a1590e6ab160d2e6e6f",
       "value": 32
      }
     },
     "820ce24fc4e84e9fb63e64307ad92341": {
      "model_module": "@jupyter-widgets/controls",
      "model_module_version": "1.5.0",
      "model_name": "DescriptionStyleModel",
      "state": {
       "description_width": ""
      }
     },
     "829d2139f3fc4a3fa69661f316e21a05": {
      "model_module": "@jupyter-widgets/base",
      "model_module_version": "1.2.0",
      "model_name": "LayoutModel",
      "state": {}
     },
     "82a6bb0180964f628f94673ebbdfc02a": {
      "model_module": "@jupyter-widgets/base",
      "model_module_version": "1.2.0",
      "model_name": "LayoutModel",
      "state": {}
     },
     "837cab4cdb394e7e83d6bcdbc602586a": {
      "model_module": "@jupyter-widgets/controls",
      "model_module_version": "1.5.0",
      "model_name": "DescriptionStyleModel",
      "state": {
       "description_width": ""
      }
     },
     "841173c920ab4a4e9f0ca0f2cffdd7e3": {
      "model_module": "@jupyter-widgets/controls",
      "model_module_version": "1.5.0",
      "model_name": "HTMLModel",
      "state": {
       "layout": "IPY_MODEL_b76880b69f55492ab37e4975114b7f7e",
       "style": "IPY_MODEL_586b5b5549594a4e9af55870a24f4da3",
       "value": " 26/26 [00:11&lt;00:00,  2.30it/s]"
      }
     },
     "853656b229ea49deb2a32cdad0b3e67c": {
      "model_module": "@jupyter-widgets/controls",
      "model_module_version": "1.5.0",
      "model_name": "HTMLModel",
      "state": {
       "layout": "IPY_MODEL_75faff5bbf9045ec9693f7d7f5dcb04d",
       "style": "IPY_MODEL_7643c0e2c2cd4d52aa9f0d7775c5bcdc",
       "value": "exe: 100%"
      }
     },
     "856e6a4f8fcc45e5b95678dfa21f0267": {
      "model_module": "@jupyter-widgets/controls",
      "model_module_version": "1.5.0",
      "model_name": "ProgressStyleModel",
      "state": {
       "description_width": ""
      }
     },
     "86113ddab83e4c04a07a2d05c79c9273": {
      "model_module": "@jupyter-widgets/controls",
      "model_module_version": "1.5.0",
      "model_name": "DescriptionStyleModel",
      "state": {
       "description_width": ""
      }
     },
     "8625d6540a2f4e7c881d810ed03499dd": {
      "model_module": "@jupyter-widgets/base",
      "model_module_version": "1.2.0",
      "model_name": "LayoutModel",
      "state": {}
     },
     "8628696af087461ba31080594d6804d0": {
      "model_module": "@jupyter-widgets/controls",
      "model_module_version": "1.5.0",
      "model_name": "FloatProgressModel",
      "state": {
       "bar_style": "success",
       "layout": "IPY_MODEL_7e43ef5331954bae8a705e52e7c7814b",
       "max": 7405,
       "style": "IPY_MODEL_17bd7b063494435abc077a1e893d8515",
       "value": 7405
      }
     },
     "86f15619b6b948d4b69bd0c4f0299251": {
      "model_module": "@jupyter-widgets/base",
      "model_module_version": "1.2.0",
      "model_name": "LayoutModel",
      "state": {}
     },
     "872f548190c0485ab5d90a719fcde450": {
      "model_module": "@jupyter-widgets/base",
      "model_module_version": "1.2.0",
      "model_name": "LayoutModel",
      "state": {}
     },
     "874d9e1c2e754fb491a13d844cb3804c": {
      "model_module": "@jupyter-widgets/base",
      "model_module_version": "1.2.0",
      "model_name": "LayoutModel",
      "state": {}
     },
     "8780b8e28c224a799ecc931ff302984c": {
      "model_module": "@jupyter-widgets/controls",
      "model_module_version": "1.5.0",
      "model_name": "DescriptionStyleModel",
      "state": {
       "description_width": ""
      }
     },
     "88057a125eab482f8cadb9c310a70004": {
      "model_module": "@jupyter-widgets/controls",
      "model_module_version": "1.5.0",
      "model_name": "DescriptionStyleModel",
      "state": {
       "description_width": ""
      }
     },
     "882e9a5a629b4634b597802e27f6e9bd": {
      "model_module": "@jupyter-widgets/base",
      "model_module_version": "1.2.0",
      "model_name": "LayoutModel",
      "state": {}
     },
     "88edf022d22949728145b3cea7b6ef61": {
      "model_module": "@jupyter-widgets/controls",
      "model_module_version": "1.5.0",
      "model_name": "HBoxModel",
      "state": {
       "children": [
        "IPY_MODEL_758a7c5cff4446d69313f2aa5ae10056",
        "IPY_MODEL_f3ff3205cc03403f94b1a916dcf2f647",
        "IPY_MODEL_81295e0ff90d44618f9c0e9f27e0e497"
       ],
       "layout": "IPY_MODEL_82a6bb0180964f628f94673ebbdfc02a"
      }
     },
     "890e794acd1c4f749ed66eeb2b8a8390": {
      "model_module": "@jupyter-widgets/controls",
      "model_module_version": "1.5.0",
      "model_name": "FloatProgressModel",
      "state": {
       "bar_style": "success",
       "layout": "IPY_MODEL_2d51b82820af494f9828f4439665feba",
       "max": 232,
       "style": "IPY_MODEL_1def769a033d4094b9bb9a204d1560f9",
       "value": 232
      }
     },
     "891a8136cbd14e7881b3def93568d6cf": {
      "model_module": "@jupyter-widgets/controls",
      "model_module_version": "1.5.0",
      "model_name": "FloatProgressModel",
      "state": {
       "bar_style": "success",
       "layout": "IPY_MODEL_336c60d25f024133ab0728a2035f1ffb",
       "max": 7405,
       "style": "IPY_MODEL_9effd6fbef2e4d26b4dd1f0aee1d0e28",
       "value": 7405
      }
     },
     "8a5835b5c8464e6cb8ad5a93106a230d": {
      "model_module": "@jupyter-widgets/controls",
      "model_module_version": "1.5.0",
      "model_name": "HBoxModel",
      "state": {
       "children": [
        "IPY_MODEL_faf055ca12c44003acfb1b59ff6b6905",
        "IPY_MODEL_9076227ac13f4392979d4504319efbba",
        "IPY_MODEL_4f93072123aa4520b23c78ca00274bd1"
       ],
       "layout": "IPY_MODEL_41c0f5ccd5b5478184cf1a5849173544"
      }
     },
     "8b0480730291438db7167bd7503be676": {
      "model_module": "@jupyter-widgets/base",
      "model_module_version": "1.2.0",
      "model_name": "LayoutModel",
      "state": {}
     },
     "8c086ebd685a4aae9546093d744763cf": {
      "model_module": "@jupyter-widgets/controls",
      "model_module_version": "1.5.0",
      "model_name": "FloatProgressModel",
      "state": {
       "bar_style": "success",
       "layout": "IPY_MODEL_9b0ff3fc2bd14a6380d07740b73b0d80",
       "max": 232,
       "style": "IPY_MODEL_632d4f86f80b427c8deff6cdde39d1d3",
       "value": 232
      }
     },
     "8c745ea11aa3488e9759ddd0ba6d5f8a": {
      "model_module": "@jupyter-widgets/controls",
      "model_module_version": "1.5.0",
      "model_name": "FloatProgressModel",
      "state": {
       "bar_style": "success",
       "layout": "IPY_MODEL_f6ede080edf84995968dcb98fdf69768",
       "max": 25,
       "style": "IPY_MODEL_3b9425e810c24644b906883f80e561a2",
       "value": 25
      }
     },
     "8cf717ef41c74dffa0e3b223f31ea764": {
      "model_module": "@jupyter-widgets/controls",
      "model_module_version": "1.5.0",
      "model_name": "FloatProgressModel",
      "state": {
       "bar_style": "success",
       "layout": "IPY_MODEL_bd56452d8ed7455f97708c13b2c380ba",
       "max": 232,
       "style": "IPY_MODEL_b5f683d690b4453695bc203921b58915",
       "value": 232
      }
     },
     "8d6cfe4b679b4f4187323c0e99e464fb": {
      "model_module": "@jupyter-widgets/base",
      "model_module_version": "1.2.0",
      "model_name": "LayoutModel",
      "state": {}
     },
     "8d79e22c687b4dea84d88978e36ec0e5": {
      "model_module": "@jupyter-widgets/controls",
      "model_module_version": "1.5.0",
      "model_name": "HTMLModel",
      "state": {
       "layout": "IPY_MODEL_11deddc7099448c490a126679ffe8b2f",
       "style": "IPY_MODEL_9b2dcbd855ab4f449febeb02afd4a244",
       "value": " 24/24 [00:09&lt;00:00,  3.13it/s]"
      }
     },
     "8dd991bcb16f42f09c759c1ce3f1be5c": {
      "model_module": "@jupyter-widgets/controls",
      "model_module_version": "1.5.0",
      "model_name": "HTMLModel",
      "state": {
       "layout": "IPY_MODEL_56174af4d9bc49a18b69fb47cf7eabcc",
       "style": "IPY_MODEL_45e1fb592b5049e3a04952d4444d4e10",
       "value": " 71/71 [00:34&lt;00:00,  2.30it/s]"
      }
     },
     "8eca6a6948484aafacf5ff95b8f656eb": {
      "model_module": "@jupyter-widgets/controls",
      "model_module_version": "1.5.0",
      "model_name": "DescriptionStyleModel",
      "state": {
       "description_width": ""
      }
     },
     "8edc9c0c94124797ba2373d48eb35b0f": {
      "model_module": "@jupyter-widgets/controls",
      "model_module_version": "1.5.0",
      "model_name": "FloatProgressModel",
      "state": {
       "bar_style": "success",
       "layout": "IPY_MODEL_c2accc13d8ef4acbaf7030a03f20d540",
       "max": 232,
       "style": "IPY_MODEL_6b27ad699ac141e6a10b8fff8a4a3e00",
       "value": 232
      }
     },
     "9008b1d43ed0406fb51163454e1c04b0": {
      "model_module": "@jupyter-widgets/base",
      "model_module_version": "1.2.0",
      "model_name": "LayoutModel",
      "state": {}
     },
     "9076227ac13f4392979d4504319efbba": {
      "model_module": "@jupyter-widgets/controls",
      "model_module_version": "1.5.0",
      "model_name": "FloatProgressModel",
      "state": {
       "bar_style": "success",
       "layout": "IPY_MODEL_2c6d22984678408d9427dfa6f6ea6314",
       "max": 832,
       "style": "IPY_MODEL_f8a1391206d74dc995b1692ca99c608a",
       "value": 832
      }
     },
     "90c43c6a11d14211bc2f2fd83e0f336f": {
      "model_module": "@jupyter-widgets/controls",
      "model_module_version": "1.5.0",
      "model_name": "HTMLModel",
      "state": {
       "layout": "IPY_MODEL_bdbc2fd921414dafa2e1e8697d049caa",
       "style": "IPY_MODEL_2f48929337de4b78926c944332f2e13f",
       "value": " 2261/2261 [00:03&lt;00:00, 746.28it/s]"
      }
     },
     "922147fc43644c77a7552c1787869d94": {
      "model_module": "@jupyter-widgets/base",
      "model_module_version": "1.2.0",
      "model_name": "LayoutModel",
      "state": {}
     },
     "9285de44f82048d3b084ab3c60dc86df": {
      "model_module": "@jupyter-widgets/controls",
      "model_module_version": "1.5.0",
      "model_name": "DescriptionStyleModel",
      "state": {
       "description_width": ""
      }
     },
     "92867147801f4ec986a49fea14c2ebe5": {
      "model_module": "@jupyter-widgets/base",
      "model_module_version": "1.2.0",
      "model_name": "LayoutModel",
      "state": {}
     },
     "928ee57d440444f6907046855dd3e849": {
      "model_module": "@jupyter-widgets/controls",
      "model_module_version": "1.5.0",
      "model_name": "HTMLModel",
      "state": {
       "layout": "IPY_MODEL_61a60ce3ec5f4734af0c5d9d15b9f402",
       "style": "IPY_MODEL_7bdebef1599c4cbeaad2219cbf51307d",
       "value": "gen_sparse_query: 100%"
      }
     },
     "929d759667f44fd68daca2049e4a3bd2": {
      "model_module": "@jupyter-widgets/controls",
      "model_module_version": "1.5.0",
      "model_name": "HTMLModel",
      "state": {
       "layout": "IPY_MODEL_959e66f3dfe641aa8ce816fb8e085401",
       "style": "IPY_MODEL_252440739e5b4e028142f46815b27493",
       "value": " 7405/7405 [00:55&lt;00:00, 163.62it/s]"
      }
     },
     "941e56a3c70449e5a409d216a70b6b41": {
      "model_module": "@jupyter-widgets/controls",
      "model_module_version": "1.5.0",
      "model_name": "HTMLModel",
      "state": {
       "layout": "IPY_MODEL_5f88ed07041f444eaec2ae3016aef9d8",
       "style": "IPY_MODEL_b9b59c031a6044e7a4e5b9f61e035a8d",
       "value": " 1158/1158 [00:01&lt;00:00, 733.62it/s]"
      }
     },
     "9489d9b137d04b16b29df5f5ebcce914": {
      "model_module": "@jupyter-widgets/controls",
      "model_module_version": "1.5.0",
      "model_name": "DescriptionStyleModel",
      "state": {
       "description_width": ""
      }
     },
     "959e66f3dfe641aa8ce816fb8e085401": {
      "model_module": "@jupyter-widgets/base",
      "model_module_version": "1.2.0",
      "model_name": "LayoutModel",
      "state": {}
     },
     "95e00fff0c9844498d24d265ba934ff9": {
      "model_module": "@jupyter-widgets/controls",
      "model_module_version": "1.5.0",
      "model_name": "HBoxModel",
      "state": {
       "children": [
        "IPY_MODEL_fd2e709066734e06b88e3faff353704d",
        "IPY_MODEL_f492402b4449402fbc01171f0040f280",
        "IPY_MODEL_23f1cc8413c14a03893bf0e34e7ebed8"
       ],
       "layout": "IPY_MODEL_43dff914441a4046b3a172ab04058097"
      }
     },
     "969aef4e8fa04f2ba4911fcebd34a0fd": {
      "model_module": "@jupyter-widgets/base",
      "model_module_version": "1.2.0",
      "model_name": "LayoutModel",
      "state": {}
     },
     "97244783e2ed4ee3ada4b2e6876f65e0": {
      "model_module": "@jupyter-widgets/controls",
      "model_module_version": "1.5.0",
      "model_name": "DescriptionStyleModel",
      "state": {
       "description_width": ""
      }
     },
     "978b42444d5248bbbbfd4387c12020f9": {
      "model_module": "@jupyter-widgets/base",
      "model_module_version": "1.2.0",
      "model_name": "LayoutModel",
      "state": {}
     },
     "985f13b960cd456a83a241eb8f5470dd": {
      "model_module": "@jupyter-widgets/controls",
      "model_module_version": "1.5.0",
      "model_name": "FloatProgressModel",
      "state": {
       "bar_style": "success",
       "layout": "IPY_MODEL_3341de606a2f4cafa10da0cee0deaf20",
       "max": 906,
       "style": "IPY_MODEL_0b804143dffc42859d2b8df3dbc0249f",
       "value": 906
      }
     },
     "9a166d44a1e1427d96f640995c52f79d": {
      "model_module": "@jupyter-widgets/controls",
      "model_module_version": "1.5.0",
      "model_name": "HTMLModel",
      "state": {
       "layout": "IPY_MODEL_a0f0a4a2ce83403f8171c4a43447821f",
       "style": "IPY_MODEL_04f967e26edb43e98777fd5aced3f6ea",
       "value": "gen_sparse_query: 100%"
      }
     },
     "9b0ff3fc2bd14a6380d07740b73b0d80": {
      "model_module": "@jupyter-widgets/base",
      "model_module_version": "1.2.0",
      "model_name": "LayoutModel",
      "state": {}
     },
     "9b1e933d124c4242a86beff2379a3827": {
      "model_module": "@jupyter-widgets/controls",
      "model_module_version": "1.5.0",
      "model_name": "ProgressStyleModel",
      "state": {
       "description_width": ""
      }
     },
     "9b2dcbd855ab4f449febeb02afd4a244": {
      "model_module": "@jupyter-widgets/controls",
      "model_module_version": "1.5.0",
      "model_name": "DescriptionStyleModel",
      "state": {
       "description_width": ""
      }
     },
     "9b369e9ce3bb44cead6bf05bffb8b81f": {
      "model_module": "@jupyter-widgets/base",
      "model_module_version": "1.2.0",
      "model_name": "LayoutModel",
      "state": {}
     },
     "9b5210a5f4db453d9e3bf89a71ff9f34": {
      "model_module": "@jupyter-widgets/base",
      "model_module_version": "1.2.0",
      "model_name": "LayoutModel",
      "state": {}
     },
     "9d01a36a0ba34c5da7a601c1574d2973": {
      "model_module": "@jupyter-widgets/controls",
      "model_module_version": "1.5.0",
      "model_name": "DescriptionStyleModel",
      "state": {
       "description_width": ""
      }
     },
     "9d7e5f7587df4e1e83a516d1efda1987": {
      "model_module": "@jupyter-widgets/base",
      "model_module_version": "1.2.0",
      "model_name": "LayoutModel",
      "state": {}
     },
     "9d80b49d27b045ea81a3f375ded71bfb": {
      "model_module": "@jupyter-widgets/base",
      "model_module_version": "1.2.0",
      "model_name": "LayoutModel",
      "state": {}
     },
     "9daff99b3dc74aea96c33a2de2027c0f": {
      "model_module": "@jupyter-widgets/controls",
      "model_module_version": "1.5.0",
      "model_name": "DescriptionStyleModel",
      "state": {
       "description_width": ""
      }
     },
     "9dbd951ef1474c5c8bd3db427d537c53": {
      "model_module": "@jupyter-widgets/controls",
      "model_module_version": "1.5.0",
      "model_name": "ProgressStyleModel",
      "state": {
       "description_width": ""
      }
     },
     "9effd6fbef2e4d26b4dd1f0aee1d0e28": {
      "model_module": "@jupyter-widgets/controls",
      "model_module_version": "1.5.0",
      "model_name": "ProgressStyleModel",
      "state": {
       "description_width": ""
      }
     },
     "a0299359a9ba46dda7c95417419ce007": {
      "model_module": "@jupyter-widgets/controls",
      "model_module_version": "1.5.0",
      "model_name": "HTMLModel",
      "state": {
       "layout": "IPY_MODEL_786c4605d631444999fb9085c624035e",
       "style": "IPY_MODEL_23fad4388ee743308dad60843a9ea9a0",
       "value": " 788/788 [00:01&lt;00:00, 730.59it/s]"
      }
     },
     "a0a3486bde874691a054d319a104f03b": {
      "model_module": "@jupyter-widgets/controls",
      "model_module_version": "1.5.0",
      "model_name": "HTMLModel",
      "state": {
       "layout": "IPY_MODEL_2bd0b56499f2446997481ac95e045ce9",
       "style": "IPY_MODEL_29a9c540dd124dacb88a9367bbcda2a1",
       "value": "gen_sparse_query: 100%"
      }
     },
     "a0ac1107801c450897ae0ce9a12b3e05": {
      "model_module": "@jupyter-widgets/controls",
      "model_module_version": "1.5.0",
      "model_name": "DescriptionStyleModel",
      "state": {
       "description_width": ""
      }
     },
     "a0f0a4a2ce83403f8171c4a43447821f": {
      "model_module": "@jupyter-widgets/base",
      "model_module_version": "1.2.0",
      "model_name": "LayoutModel",
      "state": {}
     },
     "a1b697ddc7e449ca9d593b8e92b52903": {
      "model_module": "@jupyter-widgets/controls",
      "model_module_version": "1.5.0",
      "model_name": "HTMLModel",
      "state": {
       "layout": "IPY_MODEL_6aabca57f0384cdd9505dcbdd496dae2",
       "style": "IPY_MODEL_fee7d18c75624704b0484bb7a930b357",
       "value": " 1462/1462 [00:02&lt;00:00, 727.10it/s]"
      }
     },
     "a272eda4b7a84fc59bc50836a9d035c9": {
      "model_module": "@jupyter-widgets/controls",
      "model_module_version": "1.5.0",
      "model_name": "DescriptionStyleModel",
      "state": {
       "description_width": ""
      }
     },
     "a282f90dbfe2420db65675b49b29f022": {
      "model_module": "@jupyter-widgets/controls",
      "model_module_version": "1.5.0",
      "model_name": "FloatProgressModel",
      "state": {
       "bar_style": "success",
       "layout": "IPY_MODEL_4f3ee62c32c24cb0902272d0e0f76b3c",
       "max": 26,
       "style": "IPY_MODEL_b1123bad31364418b71d98578fb4c649",
       "value": 26
      }
     },
     "a34e5b4bb21943bb94aaefd9f047cafe": {
      "model_module": "@jupyter-widgets/controls",
      "model_module_version": "1.5.0",
      "model_name": "DescriptionStyleModel",
      "state": {
       "description_width": ""
      }
     },
     "a3a0ac7564b1450cbbeb5b660655ead7": {
      "model_module": "@jupyter-widgets/controls",
      "model_module_version": "1.5.0",
      "model_name": "DescriptionStyleModel",
      "state": {
       "description_width": ""
      }
     },
     "a53f2b16c7e84228b8a5a7c1a473dc6e": {
      "model_module": "@jupyter-widgets/controls",
      "model_module_version": "1.5.0",
      "model_name": "ProgressStyleModel",
      "state": {
       "description_width": ""
      }
     },
     "a5cbe76ccfb9437dbc31edf37d3d8707": {
      "model_module": "@jupyter-widgets/controls",
      "model_module_version": "1.5.0",
      "model_name": "HTMLModel",
      "state": {
       "layout": "IPY_MODEL_47d2db9a7b8d4d29b03b2b4b661fea07",
       "style": "IPY_MODEL_c4b3217f80dc45a095db3422b9aab610",
       "value": " 7405/7405 [00:08&lt;00:00, 819.35it/s]"
      }
     },
     "a5decd3c6ffa43b5bfd654fcbb8d7263": {
      "model_module": "@jupyter-widgets/controls",
      "model_module_version": "1.5.0",
      "model_name": "HTMLModel",
      "state": {
       "layout": "IPY_MODEL_9b5210a5f4db453d9e3bf89a71ff9f34",
       "style": "IPY_MODEL_bd9779fa816241a7a9a15437b13376e5",
       "value": "act: 100%"
      }
     },
     "a68b6382682148909950a0c1e3382dcd": {
      "model_module": "@jupyter-widgets/base",
      "model_module_version": "1.2.0",
      "model_name": "LayoutModel",
      "state": {}
     },
     "a6d0631f05824f8b864d4ba5d424592f": {
      "model_module": "@jupyter-widgets/controls",
      "model_module_version": "1.5.0",
      "model_name": "DescriptionStyleModel",
      "state": {
       "description_width": ""
      }
     },
     "a7923ff0ad3748ce831bf3d7822ebb04": {
      "model_module": "@jupyter-widgets/controls",
      "model_module_version": "1.5.0",
      "model_name": "DescriptionStyleModel",
      "state": {
       "description_width": ""
      }
     },
     "a79b8cb6fcb9465f93f7f58a12aa3978": {
      "model_module": "@jupyter-widgets/controls",
      "model_module_version": "1.5.0",
      "model_name": "HTMLModel",
      "state": {
       "layout": "IPY_MODEL_a9074ffb39034a1db2a6cf57d99b75ae",
       "style": "IPY_MODEL_3d873285aaa545198fb80a4bca15f05a",
       "value": " 748/748 [00:04&lt;00:00, 159.32it/s]"
      }
     },
     "a7c4608a90d64ad89a328c02562e8ff1": {
      "model_module": "@jupyter-widgets/controls",
      "model_module_version": "1.5.0",
      "model_name": "HTMLModel",
      "state": {
       "layout": "IPY_MODEL_069b19f252714a11b05b6dae2c5976ce",
       "style": "IPY_MODEL_8eca6a6948484aafacf5ff95b8f656eb",
       "value": "gen_sparse_query: 100%"
      }
     },
     "a823070b7089485eac07a30092ddeba9": {
      "model_module": "@jupyter-widgets/controls",
      "model_module_version": "1.5.0",
      "model_name": "HTMLModel",
      "state": {
       "layout": "IPY_MODEL_4d031ab24e2a4d43bb6d2aa7c137b8d5",
       "style": "IPY_MODEL_a961aef12ed54803a0abe998b2eef968",
       "value": "act: 100%"
      }
     },
     "a84da0bf0b104bb5bdd53202a26c2337": {
      "model_module": "@jupyter-widgets/controls",
      "model_module_version": "1.5.0",
      "model_name": "HTMLModel",
      "state": {
       "layout": "IPY_MODEL_43564b6cf3094069bbf30c4af2867ea4",
       "style": "IPY_MODEL_88057a125eab482f8cadb9c310a70004",
       "value": " 1158/1158 [00:06&lt;00:00, 144.43it/s]"
      }
     },
     "a8724efba9a74eb5b697099ad0a2f1a5": {
      "model_module": "@jupyter-widgets/base",
      "model_module_version": "1.2.0",
      "model_name": "LayoutModel",
      "state": {}
     },
     "a8d1bef9f4c14026baaed6ab292d68b8": {
      "model_module": "@jupyter-widgets/controls",
      "model_module_version": "1.5.0",
      "model_name": "DescriptionStyleModel",
      "state": {
       "description_width": ""
      }
     },
     "a8dc8e022aad4975ac6a9fa929e8ee8c": {
      "model_module": "@jupyter-widgets/controls",
      "model_module_version": "1.5.0",
      "model_name": "HBoxModel",
      "state": {
       "children": [
        "IPY_MODEL_459b5b437deb4617a72508af372501fe",
        "IPY_MODEL_7add88237abd487eb1265b24267163ae",
        "IPY_MODEL_478d79f147be46cc978741067db3510e"
       ],
       "layout": "IPY_MODEL_3c96c53fafad4c82a9407770c88b92d9"
      }
     },
     "a9074ffb39034a1db2a6cf57d99b75ae": {
      "model_module": "@jupyter-widgets/base",
      "model_module_version": "1.2.0",
      "model_name": "LayoutModel",
      "state": {}
     },
     "a961aef12ed54803a0abe998b2eef968": {
      "model_module": "@jupyter-widgets/controls",
      "model_module_version": "1.5.0",
      "model_name": "DescriptionStyleModel",
      "state": {
       "description_width": ""
      }
     },
     "aa1800f563ba4d58a01b30de7fe11bee": {
      "model_module": "@jupyter-widgets/base",
      "model_module_version": "1.2.0",
      "model_name": "LayoutModel",
      "state": {}
     },
     "aac72bd30fe7436aaa7c5752a9c4a280": {
      "model_module": "@jupyter-widgets/controls",
      "model_module_version": "1.5.0",
      "model_name": "HBoxModel",
      "state": {
       "children": [
        "IPY_MODEL_a7c4608a90d64ad89a328c02562e8ff1",
        "IPY_MODEL_5feca607fe5c41e5afba0f0bab3c0ab9",
        "IPY_MODEL_6b2190f9d4354342babd800cc876c645"
       ],
       "layout": "IPY_MODEL_b4a12a30145d4325b96d1a0ebb50bba8"
      }
     },
     "ad087680be394ebf9b92bc19ebb909b5": {
      "model_module": "@jupyter-widgets/controls",
      "model_module_version": "1.5.0",
      "model_name": "HBoxModel",
      "state": {
       "children": [
        "IPY_MODEL_e37057bccb68402a871f5dd3e10227ef",
        "IPY_MODEL_ddd84050b01944e0856541add32a1c19",
        "IPY_MODEL_a5cbe76ccfb9437dbc31edf37d3d8707"
       ],
       "layout": "IPY_MODEL_435cf39bf4c346e08fff432c07926272"
      }
     },
     "ad2b25f928a54cec8bf867989897cb85": {
      "model_module": "@jupyter-widgets/controls",
      "model_module_version": "1.5.0",
      "model_name": "DescriptionStyleModel",
      "state": {
       "description_width": ""
      }
     },
     "ae5ea84f9ee8493a99915fc589551e5d": {
      "model_module": "@jupyter-widgets/controls",
      "model_module_version": "1.5.0",
      "model_name": "DescriptionStyleModel",
      "state": {
       "description_width": ""
      }
     },
     "ae7c14a15fe34415a25785ba5e711543": {
      "model_module": "@jupyter-widgets/base",
      "model_module_version": "1.2.0",
      "model_name": "LayoutModel",
      "state": {}
     },
     "aea0d138fa5b4aa686fcbdbed47b1ef0": {
      "model_module": "@jupyter-widgets/controls",
      "model_module_version": "1.5.0",
      "model_name": "ProgressStyleModel",
      "state": {
       "description_width": ""
      }
     },
     "aec0ec99f84c4ac4a1d12d035009dd87": {
      "model_module": "@jupyter-widgets/base",
      "model_module_version": "1.2.0",
      "model_name": "LayoutModel",
      "state": {}
     },
     "aed52181581945e59ad197280d83e2af": {
      "model_module": "@jupyter-widgets/controls",
      "model_module_version": "1.5.0",
      "model_name": "FloatProgressModel",
      "state": {
       "bar_style": "success",
       "layout": "IPY_MODEL_4657c10f727a4419862f1e8e3a5437b8",
       "max": 7405,
       "style": "IPY_MODEL_543eede1f41049d299c6c63f355b4b0f",
       "value": 7405
      }
     },
     "b06ca64a413d494595bfc74550ab21d6": {
      "model_module": "@jupyter-widgets/base",
      "model_module_version": "1.2.0",
      "model_name": "LayoutModel",
      "state": {}
     },
     "b1123bad31364418b71d98578fb4c649": {
      "model_module": "@jupyter-widgets/controls",
      "model_module_version": "1.5.0",
      "model_name": "ProgressStyleModel",
      "state": {
       "description_width": ""
      }
     },
     "b1dba835f63e46569bba4c834213554b": {
      "model_module": "@jupyter-widgets/base",
      "model_module_version": "1.2.0",
      "model_name": "LayoutModel",
      "state": {}
     },
     "b1dc3b3e1086471cafe7726d37a42f94": {
      "model_module": "@jupyter-widgets/base",
      "model_module_version": "1.2.0",
      "model_name": "LayoutModel",
      "state": {}
     },
     "b20856aee9334e5d9aa5bf322eaf6078": {
      "model_module": "@jupyter-widgets/controls",
      "model_module_version": "1.5.0",
      "model_name": "HBoxModel",
      "state": {
       "children": [
        "IPY_MODEL_853656b229ea49deb2a32cdad0b3e67c",
        "IPY_MODEL_891a8136cbd14e7881b3def93568d6cf",
        "IPY_MODEL_929d759667f44fd68daca2049e4a3bd2"
       ],
       "layout": "IPY_MODEL_978b42444d5248bbbbfd4387c12020f9"
      }
     },
     "b2928dfa05864e31a16c186c604c3a71": {
      "model_module": "@jupyter-widgets/base",
      "model_module_version": "1.2.0",
      "model_name": "LayoutModel",
      "state": {}
     },
     "b29b9c64abf0427a94201b1af0951c1d": {
      "model_module": "@jupyter-widgets/controls",
      "model_module_version": "1.5.0",
      "model_name": "HBoxModel",
      "state": {
       "children": [
        "IPY_MODEL_a0a3486bde874691a054d319a104f03b",
        "IPY_MODEL_3d87ca37e85c4a91a47ac84012dffae5",
        "IPY_MODEL_f7376f436a7140c5a204767b872d6067"
       ],
       "layout": "IPY_MODEL_dcdda2ca2e3e43f9b9370c68d0e44772"
      }
     },
     "b4a12a30145d4325b96d1a0ebb50bba8": {
      "model_module": "@jupyter-widgets/base",
      "model_module_version": "1.2.0",
      "model_name": "LayoutModel",
      "state": {}
     },
     "b505d59b33194275b778212637a9447e": {
      "model_module": "@jupyter-widgets/controls",
      "model_module_version": "1.5.0",
      "model_name": "DescriptionStyleModel",
      "state": {
       "description_width": ""
      }
     },
     "b51d4ee6f7dd4f46809ba4713f6240f7": {
      "model_module": "@jupyter-widgets/controls",
      "model_module_version": "1.5.0",
      "model_name": "HBoxModel",
      "state": {
       "children": [
        "IPY_MODEL_a823070b7089485eac07a30092ddeba9",
        "IPY_MODEL_00fe54da63a343e9924043d0aecea276",
        "IPY_MODEL_8dd991bcb16f42f09c759c1ce3f1be5c"
       ],
       "layout": "IPY_MODEL_343d7f14f3704461a721111b9875356a"
      }
     },
     "b56bb57deb9c42348730c7e59220942c": {
      "model_module": "@jupyter-widgets/controls",
      "model_module_version": "1.5.0",
      "model_name": "HBoxModel",
      "state": {
       "children": [
        "IPY_MODEL_d4a18ff2c50740d1b17d89064bbee4e8",
        "IPY_MODEL_bedcc62c68a749c9b04fed1800c9d23e",
        "IPY_MODEL_b714d8a473464e2589c1b658a54ef1b4"
       ],
       "layout": "IPY_MODEL_4fc58c868bdf4c4aa11903f9b5144884"
      }
     },
     "b5f683d690b4453695bc203921b58915": {
      "model_module": "@jupyter-widgets/controls",
      "model_module_version": "1.5.0",
      "model_name": "ProgressStyleModel",
      "state": {
       "description_width": ""
      }
     },
     "b714d8a473464e2589c1b658a54ef1b4": {
      "model_module": "@jupyter-widgets/controls",
      "model_module_version": "1.5.0",
      "model_name": "HTMLModel",
      "state": {
       "layout": "IPY_MODEL_7ce628d278874907a77cd980c2b7d52f",
       "style": "IPY_MODEL_3a3d1861c8cd4ab88e9b1f975f3991f8",
       "value": " 2261/2261 [00:07&lt;00:00, 335.61it/s]"
      }
     },
     "b76880b69f55492ab37e4975114b7f7e": {
      "model_module": "@jupyter-widgets/base",
      "model_module_version": "1.2.0",
      "model_name": "LayoutModel",
      "state": {}
     },
     "b7c922959bfd415f8de91c553fa42357": {
      "model_module": "@jupyter-widgets/controls",
      "model_module_version": "1.5.0",
      "model_name": "ProgressStyleModel",
      "state": {
       "description_width": ""
      }
     },
     "b8b5358eb1324318b8dbf2befe7d2ac3": {
      "model_module": "@jupyter-widgets/controls",
      "model_module_version": "1.5.0",
      "model_name": "HTMLModel",
      "state": {
       "layout": "IPY_MODEL_c7511e57d3bd4c2db28d3c17b89e04b0",
       "style": "IPY_MODEL_582fa19b99b444958907a38b8ff72141",
       "value": " 29/29 [00:12&lt;00:00,  3.12it/s]"
      }
     },
     "b9b59c031a6044e7a4e5b9f61e035a8d": {
      "model_module": "@jupyter-widgets/controls",
      "model_module_version": "1.5.0",
      "model_name": "DescriptionStyleModel",
      "state": {
       "description_width": ""
      }
     },
     "b9c266aa2c5d4cf481164878b5c26359": {
      "model_module": "@jupyter-widgets/controls",
      "model_module_version": "1.5.0",
      "model_name": "FloatProgressModel",
      "state": {
       "bar_style": "success",
       "layout": "IPY_MODEL_872f548190c0485ab5d90a719fcde450",
       "max": 1011,
       "style": "IPY_MODEL_552d8c23b3e549d6aa5afbec11beda4c",
       "value": 1011
      }
     },
     "bad6c890e9594591af679c2da78d9d64": {
      "model_module": "@jupyter-widgets/controls",
      "model_module_version": "1.5.0",
      "model_name": "FloatProgressModel",
      "state": {
       "bar_style": "success",
       "layout": "IPY_MODEL_bbdc1d9c5c3a4cb2972ff6ffcc3bc278",
       "max": 748,
       "style": "IPY_MODEL_d1d09df74d4143df8a49252682901858",
       "value": 748
      }
     },
     "bb46428dfa9d48ae9088f2dab997a41f": {
      "model_module": "@jupyter-widgets/controls",
      "model_module_version": "1.5.0",
      "model_name": "HBoxModel",
      "state": {
       "children": [
        "IPY_MODEL_632a66f9f44e4bd4b17c987b08803596",
        "IPY_MODEL_5304c3c3368b463fb5de18a68949a811",
        "IPY_MODEL_50bc1a61223a4c03b8bdf39f0363ac2d"
       ],
       "layout": "IPY_MODEL_fa2814b2024140b28a5189a42d2f0494"
      }
     },
     "bbdc1d9c5c3a4cb2972ff6ffcc3bc278": {
      "model_module": "@jupyter-widgets/base",
      "model_module_version": "1.2.0",
      "model_name": "LayoutModel",
      "state": {}
     },
     "bbe9947922694e6aa26ee218859cb547": {
      "model_module": "@jupyter-widgets/controls",
      "model_module_version": "1.5.0",
      "model_name": "ProgressStyleModel",
      "state": {
       "description_width": ""
      }
     },
     "bc710d2e90d8406f8aada5eb4232741c": {
      "model_module": "@jupyter-widgets/base",
      "model_module_version": "1.2.0",
      "model_name": "LayoutModel",
      "state": {}
     },
     "bcdf5957e4484cadaa0c66119f626bfe": {
      "model_module": "@jupyter-widgets/controls",
      "model_module_version": "1.5.0",
      "model_name": "ProgressStyleModel",
      "state": {
       "description_width": ""
      }
     },
     "bd33fdbef7b74bf4a0e64a46fa5d8a11": {
      "model_module": "@jupyter-widgets/controls",
      "model_module_version": "1.5.0",
      "model_name": "ProgressStyleModel",
      "state": {
       "description_width": ""
      }
     },
     "bd56452d8ed7455f97708c13b2c380ba": {
      "model_module": "@jupyter-widgets/base",
      "model_module_version": "1.2.0",
      "model_name": "LayoutModel",
      "state": {}
     },
     "bd9779fa816241a7a9a15437b13376e5": {
      "model_module": "@jupyter-widgets/controls",
      "model_module_version": "1.5.0",
      "model_name": "DescriptionStyleModel",
      "state": {
       "description_width": ""
      }
     },
     "bdb10df1f1424857a8cdbf6a3cf8a732": {
      "model_module": "@jupyter-widgets/base",
      "model_module_version": "1.2.0",
      "model_name": "LayoutModel",
      "state": {}
     },
     "bdbc2fd921414dafa2e1e8697d049caa": {
      "model_module": "@jupyter-widgets/base",
      "model_module_version": "1.2.0",
      "model_name": "LayoutModel",
      "state": {}
     },
     "bedcc62c68a749c9b04fed1800c9d23e": {
      "model_module": "@jupyter-widgets/controls",
      "model_module_version": "1.5.0",
      "model_name": "FloatProgressModel",
      "state": {
       "bar_style": "success",
       "layout": "IPY_MODEL_e4c2f4b37aaf4a9d8f78928a3a28faa1",
       "max": 2261,
       "style": "IPY_MODEL_ccbed6d56b664b67aaf903708aea394b",
       "value": 2261
      }
     },
     "befe4e75f3e1484b98b9b9ae434ebead": {
      "model_module": "@jupyter-widgets/controls",
      "model_module_version": "1.5.0",
      "model_name": "HTMLModel",
      "state": {
       "layout": "IPY_MODEL_367bb82f28e1446e93ac4cf81b6a3bdd",
       "style": "IPY_MODEL_42833fa71fb049699e3365b73eb0778f",
       "value": " 37/37 [00:16&lt;00:00,  2.41it/s]"
      }
     },
     "bf2978b246d9431abce1d67d18faac68": {
      "model_module": "@jupyter-widgets/base",
      "model_module_version": "1.2.0",
      "model_name": "LayoutModel",
      "state": {}
     },
     "bf3eaba3b1b74f53bbfdf79a094b1b70": {
      "model_module": "@jupyter-widgets/base",
      "model_module_version": "1.2.0",
      "model_name": "LayoutModel",
      "state": {}
     },
     "bf7e27c05dab47aeb802aba06600fc5d": {
      "model_module": "@jupyter-widgets/base",
      "model_module_version": "1.2.0",
      "model_name": "LayoutModel",
      "state": {}
     },
     "bf9ac169e9774a25a065c4b480a7737c": {
      "model_module": "@jupyter-widgets/base",
      "model_module_version": "1.2.0",
      "model_name": "LayoutModel",
      "state": {}
     },
     "bfc7af863e944903bbdaf61c90278881": {
      "model_module": "@jupyter-widgets/base",
      "model_module_version": "1.2.0",
      "model_name": "LayoutModel",
      "state": {}
     },
     "c0a1a07488b84b8ab840392e41fd7759": {
      "model_module": "@jupyter-widgets/base",
      "model_module_version": "1.2.0",
      "model_name": "LayoutModel",
      "state": {}
     },
     "c0e718b5840a4d46b57dd251fe14fc84": {
      "model_module": "@jupyter-widgets/controls",
      "model_module_version": "1.5.0",
      "model_name": "ProgressStyleModel",
      "state": {
       "description_width": ""
      }
     },
     "c1c7b273a5554115961473c728728bef": {
      "model_module": "@jupyter-widgets/base",
      "model_module_version": "1.2.0",
      "model_name": "LayoutModel",
      "state": {}
     },
     "c2accc13d8ef4acbaf7030a03f20d540": {
      "model_module": "@jupyter-widgets/base",
      "model_module_version": "1.2.0",
      "model_name": "LayoutModel",
      "state": {}
     },
     "c2ccb994a95343d68d91c250ceaa4312": {
      "model_module": "@jupyter-widgets/controls",
      "model_module_version": "1.5.0",
      "model_name": "HTMLModel",
      "state": {
       "layout": "IPY_MODEL_44de1d7029364facbd46ededae4ea933",
       "style": "IPY_MODEL_1c383fcd3f7847e59130dbc61cb26eb3",
       "value": " 1011/1011 [00:01&lt;00:00, 733.78it/s]"
      }
     },
     "c4482a18f0904dbc979d408c10824c5f": {
      "model_module": "@jupyter-widgets/base",
      "model_module_version": "1.2.0",
      "model_name": "LayoutModel",
      "state": {}
     },
     "c4b3217f80dc45a095db3422b9aab610": {
      "model_module": "@jupyter-widgets/controls",
      "model_module_version": "1.5.0",
      "model_name": "DescriptionStyleModel",
      "state": {
       "description_width": ""
      }
     },
     "c4ddf5b6ed5f4976b24efb3d40d31ee9": {
      "model_module": "@jupyter-widgets/controls",
      "model_module_version": "1.5.0",
      "model_name": "ProgressStyleModel",
      "state": {
       "description_width": ""
      }
     },
     "c58a95f18708447e84582f3816733c57": {
      "model_module": "@jupyter-widgets/controls",
      "model_module_version": "1.5.0",
      "model_name": "HBoxModel",
      "state": {
       "children": [
        "IPY_MODEL_0152a586f50f41f2a64e751614c139b1",
        "IPY_MODEL_40493ec4822d46a4a442a447681a3895",
        "IPY_MODEL_1996f406e1554eab9eed816979cdd77c"
       ],
       "layout": "IPY_MODEL_b06ca64a413d494595bfc74550ab21d6"
      }
     },
     "c621d5d1248a4e4bbde17f4c15524ac6": {
      "model_module": "@jupyter-widgets/controls",
      "model_module_version": "1.5.0",
      "model_name": "HTMLModel",
      "state": {
       "layout": "IPY_MODEL_969aef4e8fa04f2ba4911fcebd34a0fd",
       "style": "IPY_MODEL_8780b8e28c224a799ecc931ff302984c",
       "value": " 232/232 [00:20&lt;00:00, 11.55it/s]"
      }
     },
     "c640dc006dc945d8b15665b52bce0a9c": {
      "model_module": "@jupyter-widgets/controls",
      "model_module_version": "1.5.0",
      "model_name": "DescriptionStyleModel",
      "state": {
       "description_width": ""
      }
     },
     "c7511e57d3bd4c2db28d3c17b89e04b0": {
      "model_module": "@jupyter-widgets/base",
      "model_module_version": "1.2.0",
      "model_name": "LayoutModel",
      "state": {}
     },
     "c77ef3b5e840420dbc3add4b2fadc822": {
      "model_module": "@jupyter-widgets/base",
      "model_module_version": "1.2.0",
      "model_name": "LayoutModel",
      "state": {}
     },
     "c7c1a5d9f09143f4a6588383ab8de414": {
      "model_module": "@jupyter-widgets/controls",
      "model_module_version": "1.5.0",
      "model_name": "HTMLModel",
      "state": {
       "layout": "IPY_MODEL_4e747738406e499086290bde1d4a0178",
       "style": "IPY_MODEL_46bb83bc811e41028270cab0c85c3238",
       "value": " 7405/7405 [00:09&lt;00:00, 760.19it/s]"
      }
     },
     "c8033cd12bf644d5a2d7d841728a4b9e": {
      "model_module": "@jupyter-widgets/controls",
      "model_module_version": "1.5.0",
      "model_name": "HBoxModel",
      "state": {
       "children": [
        "IPY_MODEL_cadf6e4e84184fb696ea2b1ac8e89a3e",
        "IPY_MODEL_f1d0bc9120c6490580d616b43bdb3bb3",
        "IPY_MODEL_146c703e05e6424bb864109251ea72aa"
       ],
       "layout": "IPY_MODEL_bdb10df1f1424857a8cdbf6a3cf8a732"
      }
     },
     "c986df4d0c9b44f7acbd298d63fbe8d8": {
      "model_module": "@jupyter-widgets/controls",
      "model_module_version": "1.5.0",
      "model_name": "HBoxModel",
      "state": {
       "children": [
        "IPY_MODEL_cba5deec306f49f4b0ef6f971964307e",
        "IPY_MODEL_1ed04e7024dd4069858ea8f9202bfc48",
        "IPY_MODEL_5913e4d5634a4cde93be059754a9ef46"
       ],
       "layout": "IPY_MODEL_aa1800f563ba4d58a01b30de7fe11bee"
      }
     },
     "c99410eb1f35440cad10ead4fa1248e1": {
      "model_module": "@jupyter-widgets/base",
      "model_module_version": "1.2.0",
      "model_name": "LayoutModel",
      "state": {}
     },
     "ca056158567646dda82d99ecbc3075f8": {
      "model_module": "@jupyter-widgets/base",
      "model_module_version": "1.2.0",
      "model_name": "LayoutModel",
      "state": {}
     },
     "cadf6e4e84184fb696ea2b1ac8e89a3e": {
      "model_module": "@jupyter-widgets/controls",
      "model_module_version": "1.5.0",
      "model_name": "HTMLModel",
      "state": {
       "layout": "IPY_MODEL_b1dba835f63e46569bba4c834213554b",
       "style": "IPY_MODEL_4ab2f00c205c4494a4730e06c9fdaef5",
       "value": "exe:   0%"
      }
     },
     "cba5deec306f49f4b0ef6f971964307e": {
      "model_module": "@jupyter-widgets/controls",
      "model_module_version": "1.5.0",
      "model_name": "HTMLModel",
      "state": {
       "layout": "IPY_MODEL_8d6cfe4b679b4f4187323c0e99e464fb",
       "style": "IPY_MODEL_6e88c05b49434520a5526d50c75edf82",
       "value": "gen_sparse_query: 100%"
      }
     },
     "ccbed6d56b664b67aaf903708aea394b": {
      "model_module": "@jupyter-widgets/controls",
      "model_module_version": "1.5.0",
      "model_name": "ProgressStyleModel",
      "state": {
       "description_width": ""
      }
     },
     "cd326a9eca294911956019d6f6bb5ef7": {
      "model_module": "@jupyter-widgets/base",
      "model_module_version": "1.2.0",
      "model_name": "LayoutModel",
      "state": {}
     },
     "cdb78da515e9496c8ed2a435a228aa87": {
      "model_module": "@jupyter-widgets/controls",
      "model_module_version": "1.5.0",
      "model_name": "FloatProgressModel",
      "state": {
       "bar_style": "success",
       "layout": "IPY_MODEL_d1beadc5e319444d8cad8bb2dd9a132e",
       "max": 1158,
       "style": "IPY_MODEL_e9aa0f6e69234a29950bd0dc41db2c1c",
       "value": 1158
      }
     },
     "cdc6bd711a4a4c3b9dfba719b782cbd5": {
      "model_module": "@jupyter-widgets/controls",
      "model_module_version": "1.5.0",
      "model_name": "HTMLModel",
      "state": {
       "layout": "IPY_MODEL_1f4d280ff2024a9da15a95ceac11b59d",
       "style": "IPY_MODEL_a272eda4b7a84fc59bc50836a9d035c9",
       "value": "act: 100%"
      }
     },
     "cdfe0f7cd5e04dba963c4aff86df2081": {
      "model_module": "@jupyter-widgets/controls",
      "model_module_version": "1.5.0",
      "model_name": "DescriptionStyleModel",
      "state": {
       "description_width": ""
      }
     },
     "cf3e4470d6234c75b6e47910c150ba63": {
      "model_module": "@jupyter-widgets/controls",
      "model_module_version": "1.5.0",
      "model_name": "FloatProgressModel",
      "state": {
       "bar_style": "success",
       "layout": "IPY_MODEL_a68b6382682148909950a0c1e3382dcd",
       "max": 1158,
       "style": "IPY_MODEL_856e6a4f8fcc45e5b95678dfa21f0267",
       "value": 1158
      }
     },
     "d0c7c3a7f72d4ca5ba726e33b0a5775a": {
      "model_module": "@jupyter-widgets/controls",
      "model_module_version": "1.5.0",
      "model_name": "FloatProgressModel",
      "state": {
       "bar_style": "success",
       "layout": "IPY_MODEL_7757334a6b6f4a21a8a7d3a6ed766efb",
       "max": 832,
       "style": "IPY_MODEL_5e0670e231f349e3b9376d05c35eb9a4",
       "value": 832
      }
     },
     "d1beadc5e319444d8cad8bb2dd9a132e": {
      "model_module": "@jupyter-widgets/base",
      "model_module_version": "1.2.0",
      "model_name": "LayoutModel",
      "state": {}
     },
     "d1d09df74d4143df8a49252682901858": {
      "model_module": "@jupyter-widgets/controls",
      "model_module_version": "1.5.0",
      "model_name": "ProgressStyleModel",
      "state": {
       "description_width": ""
      }
     },
     "d1ef03b8cb09456b9ecddf8e6c797006": {
      "model_module": "@jupyter-widgets/controls",
      "model_module_version": "1.5.0",
      "model_name": "HTMLModel",
      "state": {
       "layout": "IPY_MODEL_79bd3885c3af49a6b1657ec6929a78e1",
       "style": "IPY_MODEL_07b0e6a3af104340947e91c869a29904",
       "value": " 832/832 [00:01&lt;00:00, 735.08it/s]"
      }
     },
     "d26ea86b0d7c42bcaa9647b7fd64e81b": {
      "model_module": "@jupyter-widgets/controls",
      "model_module_version": "1.5.0",
      "model_name": "FloatProgressModel",
      "state": {
       "bar_style": "success",
       "layout": "IPY_MODEL_8b0480730291438db7167bd7503be676",
       "max": 906,
       "style": "IPY_MODEL_5710f533d96d42b5a6f7d5498131f38b",
       "value": 906
      }
     },
     "d4a18ff2c50740d1b17d89064bbee4e8": {
      "model_module": "@jupyter-widgets/controls",
      "model_module_version": "1.5.0",
      "model_name": "HTMLModel",
      "state": {
       "layout": "IPY_MODEL_b2928dfa05864e31a16c186c604c3a71",
       "style": "IPY_MODEL_f01ad4e57984406fb8a0b39257987326",
       "value": "exe: 100%"
      }
     },
     "d83fd815368f4bfd8e2573ed27f537b4": {
      "model_module": "@jupyter-widgets/base",
      "model_module_version": "1.2.0",
      "model_name": "LayoutModel",
      "state": {}
     },
     "d8a2bbcf730f448db1678337b7ff3b15": {
      "model_module": "@jupyter-widgets/controls",
      "model_module_version": "1.5.0",
      "model_name": "FloatProgressModel",
      "state": {
       "bar_style": "success",
       "layout": "IPY_MODEL_30e03de1386340e5bdaa7ae4ac6dd282",
       "max": 788,
       "style": "IPY_MODEL_f098d487992d406286da8524a750b5ee",
       "value": 788
      }
     },
     "d9196b6130be497891749f28715ae454": {
      "model_module": "@jupyter-widgets/controls",
      "model_module_version": "1.5.0",
      "model_name": "DescriptionStyleModel",
      "state": {
       "description_width": ""
      }
     },
     "d9f55ebd710c43ddb643e2411ee4e72f": {
      "model_module": "@jupyter-widgets/controls",
      "model_module_version": "1.5.0",
      "model_name": "HTMLModel",
      "state": {
       "layout": "IPY_MODEL_bf7e27c05dab47aeb802aba06600fc5d",
       "style": "IPY_MODEL_a0ac1107801c450897ae0ce9a12b3e05",
       "value": "act: 100%"
      }
     },
     "db196baebc664c0f8da42854ad69167c": {
      "model_module": "@jupyter-widgets/base",
      "model_module_version": "1.2.0",
      "model_name": "LayoutModel",
      "state": {}
     },
     "db4fa084ff5d48cd9694f6dda862278d": {
      "model_module": "@jupyter-widgets/controls",
      "model_module_version": "1.5.0",
      "model_name": "HTMLModel",
      "state": {
       "layout": "IPY_MODEL_9008b1d43ed0406fb51163454e1c04b0",
       "style": "IPY_MODEL_5907b875dda6454f8ea45e1bf2e3329a",
       "value": "act: 100%"
      }
     },
     "dcdac5c0c5f345b0b087dee947fbffd4": {
      "model_module": "@jupyter-widgets/controls",
      "model_module_version": "1.5.0",
      "model_name": "DescriptionStyleModel",
      "state": {
       "description_width": ""
      }
     },
     "dcdda2ca2e3e43f9b9370c68d0e44772": {
      "model_module": "@jupyter-widgets/base",
      "model_module_version": "1.2.0",
      "model_name": "LayoutModel",
      "state": {}
     },
     "dceae020fca6444387d0bef677554645": {
      "model_module": "@jupyter-widgets/controls",
      "model_module_version": "1.5.0",
      "model_name": "ProgressStyleModel",
      "state": {
       "description_width": ""
      }
     },
     "ddd84050b01944e0856541add32a1c19": {
      "model_module": "@jupyter-widgets/controls",
      "model_module_version": "1.5.0",
      "model_name": "FloatProgressModel",
      "state": {
       "bar_style": "success",
       "layout": "IPY_MODEL_741ddd7960e2427fa6e04e011fe873d3",
       "max": 7405,
       "style": "IPY_MODEL_c4ddf5b6ed5f4976b24efb3d40d31ee9",
       "value": 7405
      }
     },
     "de68ade56f714b58b53eef536aa72067": {
      "model_module": "@jupyter-widgets/base",
      "model_module_version": "1.2.0",
      "model_name": "LayoutModel",
      "state": {}
     },
     "ded459ce1b1a4cfdb7afaea7de9abf13": {
      "model_module": "@jupyter-widgets/base",
      "model_module_version": "1.2.0",
      "model_name": "LayoutModel",
      "state": {}
     },
     "dee1b52c23954291b26de599d100da41": {
      "model_module": "@jupyter-widgets/base",
      "model_module_version": "1.2.0",
      "model_name": "LayoutModel",
      "state": {}
     },
     "df0cf9a56321474c80c4d353c6e51dac": {
      "model_module": "@jupyter-widgets/controls",
      "model_module_version": "1.5.0",
      "model_name": "HBoxModel",
      "state": {
       "children": [
        "IPY_MODEL_0a50a819a1c54dd893263fb75d805749",
        "IPY_MODEL_7c623d070a9e401ba9131d9d8553f5f2",
        "IPY_MODEL_a1b697ddc7e449ca9d593b8e92b52903"
       ],
       "layout": "IPY_MODEL_f8a26bcf1f3944ec81278658dc470428"
      }
     },
     "df0f745a8ad74223874e5f6c9fdaa8c2": {
      "model_module": "@jupyter-widgets/controls",
      "model_module_version": "1.5.0",
      "model_name": "HBoxModel",
      "state": {
       "children": [
        "IPY_MODEL_7f84eaf9294d4fa087c20fff1e40d9ce",
        "IPY_MODEL_28f443d9382d4fa5a831051cd9c4afd9",
        "IPY_MODEL_b8b5358eb1324318b8dbf2befe7d2ac3"
       ],
       "layout": "IPY_MODEL_cd326a9eca294911956019d6f6bb5ef7"
      }
     },
     "e263ae6450ce4d5f95ceeed5af103c7b": {
      "model_module": "@jupyter-widgets/controls",
      "model_module_version": "1.5.0",
      "model_name": "HTMLModel",
      "state": {
       "layout": "IPY_MODEL_e2e5bf8c706a4b06a5d774876afc15ea",
       "style": "IPY_MODEL_1943766de3f642b68c8c02dd8d460b11",
       "value": "act: 100%"
      }
     },
     "e2ccdf098e254c86a2b1f566de398dcb": {
      "model_module": "@jupyter-widgets/controls",
      "model_module_version": "1.5.0",
      "model_name": "DescriptionStyleModel",
      "state": {
       "description_width": ""
      }
     },
     "e2e5bf8c706a4b06a5d774876afc15ea": {
      "model_module": "@jupyter-widgets/base",
      "model_module_version": "1.2.0",
      "model_name": "LayoutModel",
      "state": {}
     },
     "e2e8f0a61cc646f69578b220f6b0af39": {
      "model_module": "@jupyter-widgets/controls",
      "model_module_version": "1.5.0",
      "model_name": "HBoxModel",
      "state": {
       "children": [
        "IPY_MODEL_446d8bfe764942bfb391a88b57497197",
        "IPY_MODEL_8628696af087461ba31080594d6804d0",
        "IPY_MODEL_28396a4242fc43ea992ddb453e5d7545"
       ],
       "layout": "IPY_MODEL_86f15619b6b948d4b69bd0c4f0299251"
      }
     },
     "e2fdcbf281e44b9d94ff5314083cb861": {
      "model_module": "@jupyter-widgets/base",
      "model_module_version": "1.2.0",
      "model_name": "LayoutModel",
      "state": {}
     },
     "e37057bccb68402a871f5dd3e10227ef": {
      "model_module": "@jupyter-widgets/controls",
      "model_module_version": "1.5.0",
      "model_name": "HTMLModel",
      "state": {
       "layout": "IPY_MODEL_bfc7af863e944903bbdaf61c90278881",
       "style": "IPY_MODEL_ae5ea84f9ee8493a99915fc589551e5d",
       "value": "gen_sparse_query: 100%"
      }
     },
     "e3df6c98f88543df904af693b3b9b283": {
      "model_module": "@jupyter-widgets/controls",
      "model_module_version": "1.5.0",
      "model_name": "HBoxModel",
      "state": {
       "children": [
        "IPY_MODEL_928ee57d440444f6907046855dd3e849",
        "IPY_MODEL_3dcb40353b7246e98b588879ac73b34b",
        "IPY_MODEL_90c43c6a11d14211bc2f2fd83e0f336f"
       ],
       "layout": "IPY_MODEL_6948d07e5cfe4bba98f4cf5af19e712d"
      }
     },
     "e422ec2024844dd998c41950eed0178b": {
      "model_module": "@jupyter-widgets/base",
      "model_module_version": "1.2.0",
      "model_name": "LayoutModel",
      "state": {}
     },
     "e4c2f4b37aaf4a9d8f78928a3a28faa1": {
      "model_module": "@jupyter-widgets/base",
      "model_module_version": "1.2.0",
      "model_name": "LayoutModel",
      "state": {}
     },
     "e4dae8d2a2c14fdb94eee620be7ae970": {
      "model_module": "@jupyter-widgets/controls",
      "model_module_version": "1.5.0",
      "model_name": "HBoxModel",
      "state": {
       "children": [
        "IPY_MODEL_04f8787bec4e4027be4bbb81c48720ac",
        "IPY_MODEL_81fa1e73d7524ee585b30ccdeb255260",
        "IPY_MODEL_fff76d728aca47658d696ab91ff36dae"
       ],
       "layout": "IPY_MODEL_7760a0ae007943618eb8829b76ea46fe"
      }
     },
     "e52b87a35d464d0eaec032f72f80bdba": {
      "model_module": "@jupyter-widgets/base",
      "model_module_version": "1.2.0",
      "model_name": "LayoutModel",
      "state": {}
     },
     "e707dc356e084de1976da16f107b6c28": {
      "model_module": "@jupyter-widgets/controls",
      "model_module_version": "1.5.0",
      "model_name": "DescriptionStyleModel",
      "state": {
       "description_width": ""
      }
     },
     "e74614dea2024b9b9416a9ced79d2825": {
      "model_module": "@jupyter-widgets/controls",
      "model_module_version": "1.5.0",
      "model_name": "HBoxModel",
      "state": {
       "children": [
        "IPY_MODEL_ffc80aa5c26a4d7ba5d483284b32819b",
        "IPY_MODEL_aed52181581945e59ad197280d83e2af",
        "IPY_MODEL_7dc06d06af18412ab5133b62e8daa4ad"
       ],
       "layout": "IPY_MODEL_16056aeaf8b6455eb84581ab9be0a55e"
      }
     },
     "e757770fc36f4f50a332bd7d62b54ebb": {
      "model_module": "@jupyter-widgets/base",
      "model_module_version": "1.2.0",
      "model_name": "LayoutModel",
      "state": {}
     },
     "e76a6a7ee18247efba8fcb498e32d3d6": {
      "model_module": "@jupyter-widgets/controls",
      "model_module_version": "1.5.0",
      "model_name": "DescriptionStyleModel",
      "state": {
       "description_width": ""
      }
     },
     "e82152aa4ff84a1998e0ac217399f4ed": {
      "model_module": "@jupyter-widgets/controls",
      "model_module_version": "1.5.0",
      "model_name": "HTMLModel",
      "state": {
       "layout": "IPY_MODEL_3daf6a7cd02d4fffba2f8add654718d4",
       "style": "IPY_MODEL_a34e5b4bb21943bb94aaefd9f047cafe",
       "value": " 1011/1011 [00:05&lt;00:00, 158.84it/s]"
      }
     },
     "e9aa0f6e69234a29950bd0dc41db2c1c": {
      "model_module": "@jupyter-widgets/controls",
      "model_module_version": "1.5.0",
      "model_name": "ProgressStyleModel",
      "state": {
       "description_width": ""
      }
     },
     "e9d4262a99464504add8e6c37ee1f421": {
      "model_module": "@jupyter-widgets/controls",
      "model_module_version": "1.5.0",
      "model_name": "HTMLModel",
      "state": {
       "layout": "IPY_MODEL_2274ff992cf348a7a85e200faf2a05ca",
       "style": "IPY_MODEL_a3a0ac7564b1450cbbeb5b660655ead7",
       "value": " 232/232 [01:54&lt;00:00,  2.55it/s]"
      }
     },
     "ea56920551b14d93b700b6ac970e86be": {
      "model_module": "@jupyter-widgets/base",
      "model_module_version": "1.2.0",
      "model_name": "LayoutModel",
      "state": {}
     },
     "eb3cf1d1e9c34202820173d60720ef1a": {
      "model_module": "@jupyter-widgets/base",
      "model_module_version": "1.2.0",
      "model_name": "LayoutModel",
      "state": {}
     },
     "f01ad4e57984406fb8a0b39257987326": {
      "model_module": "@jupyter-widgets/controls",
      "model_module_version": "1.5.0",
      "model_name": "DescriptionStyleModel",
      "state": {
       "description_width": ""
      }
     },
     "f098d487992d406286da8524a750b5ee": {
      "model_module": "@jupyter-widgets/controls",
      "model_module_version": "1.5.0",
      "model_name": "ProgressStyleModel",
      "state": {
       "description_width": ""
      }
     },
     "f1d0bc9120c6490580d616b43bdb3bb3": {
      "model_module": "@jupyter-widgets/controls",
      "model_module_version": "1.5.0",
      "model_name": "FloatProgressModel",
      "state": {
       "bar_style": "danger",
       "layout": "IPY_MODEL_4b41c02fe5ae49af8e770a935ca6bbae",
       "max": 7405,
       "style": "IPY_MODEL_a53f2b16c7e84228b8a5a7c1a473dc6e"
      }
     },
     "f3087c893fa149faa453b24295be5d36": {
      "model_module": "@jupyter-widgets/base",
      "model_module_version": "1.2.0",
      "model_name": "LayoutModel",
      "state": {}
     },
     "f3fe304aa7cb42259e5fc950295efd5d": {
      "model_module": "@jupyter-widgets/base",
      "model_module_version": "1.2.0",
      "model_name": "LayoutModel",
      "state": {}
     },
     "f3ff3205cc03403f94b1a916dcf2f647": {
      "model_module": "@jupyter-widgets/controls",
      "model_module_version": "1.5.0",
      "model_name": "FloatProgressModel",
      "state": {
       "bar_style": "success",
       "layout": "IPY_MODEL_e422ec2024844dd998c41950eed0178b",
       "max": 232,
       "style": "IPY_MODEL_9b1e933d124c4242a86beff2379a3827",
       "value": 232
      }
     },
     "f492402b4449402fbc01171f0040f280": {
      "model_module": "@jupyter-widgets/controls",
      "model_module_version": "1.5.0",
      "model_name": "FloatProgressModel",
      "state": {
       "bar_style": "success",
       "layout": "IPY_MODEL_ea56920551b14d93b700b6ac970e86be",
       "max": 748,
       "style": "IPY_MODEL_1437036796874ac3bfc4abf396f9150f",
       "value": 748
      }
     },
     "f4cc1348bccd4bd1a01124413446b56f": {
      "model_module": "@jupyter-widgets/controls",
      "model_module_version": "1.5.0",
      "model_name": "HTMLModel",
      "state": {
       "layout": "IPY_MODEL_383cdec830e742718e2f610deb8e6a94",
       "style": "IPY_MODEL_72ebff0e8a3b48bca05ad42603b40752",
       "value": "exe: 100%"
      }
     },
     "f5fb680deb414283b6e03c7d47d448e2": {
      "model_module": "@jupyter-widgets/controls",
      "model_module_version": "1.5.0",
      "model_name": "HBoxModel",
      "state": {
       "children": [
        "IPY_MODEL_fb2450ace3e6443e86d43d8423127b11",
        "IPY_MODEL_890e794acd1c4f749ed66eeb2b8a8390",
        "IPY_MODEL_24c63216df684b68a2f4702fe141e10b"
       ],
       "layout": "IPY_MODEL_ca056158567646dda82d99ecbc3075f8"
      }
     },
     "f6ec228c1fc848d6bba73631101f18e3": {
      "model_module": "@jupyter-widgets/controls",
      "model_module_version": "1.5.0",
      "model_name": "DescriptionStyleModel",
      "state": {
       "description_width": ""
      }
     },
     "f6ede080edf84995968dcb98fdf69768": {
      "model_module": "@jupyter-widgets/base",
      "model_module_version": "1.2.0",
      "model_name": "LayoutModel",
      "state": {}
     },
     "f7376f436a7140c5a204767b872d6067": {
      "model_module": "@jupyter-widgets/controls",
      "model_module_version": "1.5.0",
      "model_name": "HTMLModel",
      "state": {
       "layout": "IPY_MODEL_e2fdcbf281e44b9d94ff5314083cb861",
       "style": "IPY_MODEL_c640dc006dc945d8b15665b52bce0a9c",
       "value": " 7405/7405 [00:10&lt;00:00, 736.39it/s]"
      }
     },
     "f88dd72ba0ff410b81afe74f14d9f214": {
      "model_module": "@jupyter-widgets/controls",
      "model_module_version": "1.5.0",
      "model_name": "HBoxModel",
      "state": {
       "children": [
        "IPY_MODEL_d9f55ebd710c43ddb643e2411ee4e72f",
        "IPY_MODEL_8edc9c0c94124797ba2373d48eb35b0f",
        "IPY_MODEL_e9d4262a99464504add8e6c37ee1f421"
       ],
       "layout": "IPY_MODEL_c4482a18f0904dbc979d408c10824c5f"
      }
     },
     "f8915b1eba8e4fd6acbbd42a211fa7a3": {
      "model_module": "@jupyter-widgets/controls",
      "model_module_version": "1.5.0",
      "model_name": "ProgressStyleModel",
      "state": {
       "description_width": ""
      }
     },
     "f8a1391206d74dc995b1692ca99c608a": {
      "model_module": "@jupyter-widgets/controls",
      "model_module_version": "1.5.0",
      "model_name": "ProgressStyleModel",
      "state": {
       "description_width": ""
      }
     },
     "f8a26bcf1f3944ec81278658dc470428": {
      "model_module": "@jupyter-widgets/base",
      "model_module_version": "1.2.0",
      "model_name": "LayoutModel",
      "state": {}
     },
     "fa2814b2024140b28a5189a42d2f0494": {
      "model_module": "@jupyter-widgets/base",
      "model_module_version": "1.2.0",
      "model_name": "LayoutModel",
      "state": {}
     },
     "fa6c5b258e6f423bb2d82876354f03be": {
      "model_module": "@jupyter-widgets/controls",
      "model_module_version": "1.5.0",
      "model_name": "FloatProgressModel",
      "state": {
       "bar_style": "success",
       "layout": "IPY_MODEL_bf2978b246d9431abce1d67d18faac68",
       "max": 24,
       "style": "IPY_MODEL_f8915b1eba8e4fd6acbbd42a211fa7a3",
       "value": 24
      }
     },
     "fa831568258c4b57b9e495b15060bbac": {
      "model_module": "@jupyter-widgets/controls",
      "model_module_version": "1.5.0",
      "model_name": "HBoxModel",
      "state": {
       "children": [
        "IPY_MODEL_cdc6bd711a4a4c3b9dfba719b782cbd5",
        "IPY_MODEL_8cf717ef41c74dffa0e3b223f31ea764",
        "IPY_MODEL_c621d5d1248a4e4bbde17f4c15524ac6"
       ],
       "layout": "IPY_MODEL_c1c7b273a5554115961473c728728bef"
      }
     },
     "faf055ca12c44003acfb1b59ff6b6905": {
      "model_module": "@jupyter-widgets/controls",
      "model_module_version": "1.5.0",
      "model_name": "HTMLModel",
      "state": {
       "layout": "IPY_MODEL_5c57b5d2b53a44d493ffbc8e0e3d09ee",
       "style": "IPY_MODEL_a6d0631f05824f8b864d4ba5d424592f",
       "value": "exe: 100%"
      }
     },
     "fb2450ace3e6443e86d43d8423127b11": {
      "model_module": "@jupyter-widgets/controls",
      "model_module_version": "1.5.0",
      "model_name": "HTMLModel",
      "state": {
       "layout": "IPY_MODEL_49c5d5a949414137a4c32b48b4977c59",
       "style": "IPY_MODEL_86113ddab83e4c04a07a2d05c79c9273",
       "value": "act: 100%"
      }
     },
     "fb2c3890e60b42b6a3bb63ad70c86016": {
      "model_module": "@jupyter-widgets/controls",
      "model_module_version": "1.5.0",
      "model_name": "FloatProgressModel",
      "state": {
       "bar_style": "success",
       "layout": "IPY_MODEL_b1dc3b3e1086471cafe7726d37a42f94",
       "max": 1011,
       "style": "IPY_MODEL_45a200ecb8cc4b7e896a1f1a01c3c3a8",
       "value": 1011
      }
     },
     "fb73d21d092f41f5b0f0d547f5510ef3": {
      "model_module": "@jupyter-widgets/base",
      "model_module_version": "1.2.0",
      "model_name": "LayoutModel",
      "state": {}
     },
     "fd008f8bf64a42e79ad8f988894b5b08": {
      "model_module": "@jupyter-widgets/controls",
      "model_module_version": "1.5.0",
      "model_name": "HBoxModel",
      "state": {
       "children": [
        "IPY_MODEL_72e4b95b9cca4ad48640a40846d3f6d0",
        "IPY_MODEL_d26ea86b0d7c42bcaa9647b7fd64e81b",
        "IPY_MODEL_39b9e15f3eb84e4288f55e4505a8411b"
       ],
       "layout": "IPY_MODEL_3d745efe5849414fb3ab65c4138ce391"
      }
     },
     "fd2e709066734e06b88e3faff353704d": {
      "model_module": "@jupyter-widgets/controls",
      "model_module_version": "1.5.0",
      "model_name": "HTMLModel",
      "state": {
       "layout": "IPY_MODEL_384cd6e9d3d341e9b24242ef06bf2a71",
       "style": "IPY_MODEL_e76a6a7ee18247efba8fcb498e32d3d6",
       "value": "gen_sparse_query: 100%"
      }
     },
     "fda95b4f5be8470b827ca44e81fe7dc4": {
      "model_module": "@jupyter-widgets/controls",
      "model_module_version": "1.5.0",
      "model_name": "HTMLModel",
      "state": {
       "layout": "IPY_MODEL_079cb5a08468478692039fe710c2ce21",
       "style": "IPY_MODEL_4cccbd225f0144239f83964ce505a2e3",
       "value": "exe: 100%"
      }
     },
     "fdbf3ee979374a1590e6ab160d2e6e6f": {
      "model_module": "@jupyter-widgets/controls",
      "model_module_version": "1.5.0",
      "model_name": "ProgressStyleModel",
      "state": {
       "description_width": ""
      }
     },
     "fdecb1f900a74031b8ed62a1f1b6f264": {
      "model_module": "@jupyter-widgets/controls",
      "model_module_version": "1.5.0",
      "model_name": "ProgressStyleModel",
      "state": {
       "description_width": ""
      }
     },
     "fe1ebc1f699c44eba9488a7837ef84c2": {
      "model_module": "@jupyter-widgets/controls",
      "model_module_version": "1.5.0",
      "model_name": "HBoxModel",
      "state": {
       "children": [
        "IPY_MODEL_e263ae6450ce4d5f95ceeed5af103c7b",
        "IPY_MODEL_24a02e189fc547bdb9a502fdf4ffd4ce",
        "IPY_MODEL_450c876abfce4e7c8c1208b3f040b266"
       ],
       "layout": "IPY_MODEL_7ad320714dc44eafb5132d0cd8396f1a"
      }
     },
     "fee7d18c75624704b0484bb7a930b357": {
      "model_module": "@jupyter-widgets/controls",
      "model_module_version": "1.5.0",
      "model_name": "DescriptionStyleModel",
      "state": {
       "description_width": ""
      }
     },
     "ffc80aa5c26a4d7ba5d483284b32819b": {
      "model_module": "@jupyter-widgets/controls",
      "model_module_version": "1.5.0",
      "model_name": "HTMLModel",
      "state": {
       "layout": "IPY_MODEL_1602ac218ea54f0f89f7b1f35f422beb",
       "style": "IPY_MODEL_002c54432358470fb390568beef5e481",
       "value": "exe: 100%"
      }
     },
     "fff76d728aca47658d696ab91ff36dae": {
      "model_module": "@jupyter-widgets/controls",
      "model_module_version": "1.5.0",
      "model_name": "HTMLModel",
      "state": {
       "layout": "IPY_MODEL_92867147801f4ec986a49fea14c2ebe5",
       "style": "IPY_MODEL_1e097104d4904c969bacdd5a57cd7259",
       "value": " 32/32 [00:15&lt;00:00,  2.44it/s]"
      }
     }
    },
    "version_major": 2,
    "version_minor": 0
   }
  }
 },
 "nbformat": 4,
 "nbformat_minor": 4
}
