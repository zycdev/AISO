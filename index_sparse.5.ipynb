{
 "cells": [
  {
   "cell_type": "markdown",
   "metadata": {},
   "source": [
    "## Create Index"
   ]
  },
  {
   "cell_type": "code",
   "execution_count": 1,
   "metadata": {},
   "outputs": [],
   "source": [
    "%load_ext autoreload\n",
    "%autoreload 2"
   ]
  },
  {
   "cell_type": "code",
   "execution_count": 2,
   "metadata": {
    "ExecuteTime": {
     "end_time": "2020-12-05T17:15:40.816501Z",
     "start_time": "2020-12-05T17:15:40.538251Z"
    },
    "code_folding": [],
    "hidden": true
   },
   "outputs": [
    {
     "data": {
      "text/plain": [
       "{'acknowledged': True,\n",
       " 'shards_acknowledged': True,\n",
       " 'index': 'enwiki-20171001-paragraph-5'}"
      ]
     },
     "execution_count": 2,
     "metadata": {},
     "output_type": "execute_result"
    }
   ],
   "source": [
    "from elasticsearch import Elasticsearch\n",
    "\n",
    "data_version = '5'\n",
    "\n",
    "es = Elasticsearch(['10.60.0.59:9200'], timeout=30)\n",
    "\n",
    "index_name = f'enwiki-20171001-paragraph-{data_version}'\n",
    "settings = {\n",
    "    \"settings\": {\n",
    "        \"analysis\": {\n",
    "            \"analyzer\": {\n",
    "                \"en_analyzer\": {\n",
    "                    \"type\": \"standard\",\n",
    "                    \"stopwords\": \"_english_\"\n",
    "                },\n",
    "                \"simple_bigram_analyzer\": {\n",
    "                    \"tokenizer\": \"standard\",\n",
    "                    \"filter\": [\"lowercase\", \"shingle\", \"asciifolding\"]\n",
    "                },\n",
    "                \"bigram_analyzer\": {\n",
    "                    \"tokenizer\": \"standard\",\n",
    "                    \"filter\": [\"lowercase\", \"stop\", \"shingle\", \"asciifolding\"]\n",
    "                }\n",
    "            }\n",
    "        }\n",
    "    },\n",
    "    \"mappings\": {\n",
    "        \"properties\": {\n",
    "            \"doc_id\": {\n",
    "                \"type\": \"keyword\"\n",
    "            },\n",
    "            \"url\": {\n",
    "                \"type\": \"keyword\"\n",
    "            },\n",
    "            \"title\": {\n",
    "                \"type\": \"text\",\n",
    "                \"similarity\": \"BM25\",\n",
    "                \"analyzer\": \"simple\",\n",
    "                #\"copy_to\": \"full_text\",\n",
    "                \"fields\": {\n",
    "                    \"exact\": {\n",
    "                        \"type\": \"keyword\"\n",
    "                    },\n",
    "                    \"bigram\": {\n",
    "                        \"type\": \"text\",\n",
    "                        \"similarity\": \"BM25\",\n",
    "                        \"analyzer\": \"simple_bigram_analyzer\",\n",
    "                    }\n",
    "                }\n",
    "            },\n",
    "            \"title_unescaped\": {\n",
    "                \"type\": \"text\",\n",
    "                \"similarity\": \"BM25\",\n",
    "                \"analyzer\": \"simple\",\n",
    "                #\"copy_to\": \"full_text\",\n",
    "                \"fields\": {\n",
    "                    \"exact\": {\n",
    "                        \"type\": \"keyword\"\n",
    "                    },\n",
    "                    \"bigram\": {\n",
    "                        \"type\": \"text\",\n",
    "                        \"similarity\": \"BM25\",\n",
    "                        \"analyzer\": \"simple_bigram_analyzer\",\n",
    "                    }\n",
    "                }\n",
    "            },\n",
    "            \"para_id\": {\n",
    "                \"type\": \"keyword\"\n",
    "            },\n",
    "            \"para_idx\": {\n",
    "                \"type\": \"integer\"\n",
    "            },\n",
    "            \"para_num\": {\n",
    "                \"type\": \"integer\"\n",
    "            },\n",
    "            \"text\": {\n",
    "                \"type\": \"text\",\n",
    "                \"similarity\": \"BM25\",\n",
    "                \"analyzer\": \"en_analyzer\",\n",
    "                #\"copy_to\": \"full_text\",\n",
    "                \"fields\": {\n",
    "                    \"bigram\": {\n",
    "                        \"type\": \"text\",\n",
    "                        \"analyzer\": \"bigram_analyzer\"\n",
    "                    }\n",
    "                }\n",
    "            },\n",
    "            #\"full_text\":  {\n",
    "            #    \"type\": \"text\",\n",
    "            #    \"similarity\": \"BM25\",\n",
    "            #    \"analyzer\": \"en_analyzer\"\n",
    "            #},\n",
    "            \"for_hotpot\": {\n",
    "                \"type\": \"boolean\"\n",
    "            },\n",
    "            \"hyperlinks\": {\n",
    "                \"type\": \"object\",\n",
    "                \"enabled\": False\n",
    "            }\n",
    "        }\n",
    "    }\n",
    "}\n",
    "\n",
    "if es.indices.exists(index_name):\n",
    "    es.indices.delete(index_name)\n",
    "es.indices.create(index=index_name, body=settings)"
   ]
  },
  {
   "cell_type": "markdown",
   "metadata": {},
   "source": [
    "## Load abstract paragraphs HotpotQA"
   ]
  },
  {
   "cell_type": "code",
   "execution_count": 3,
   "metadata": {
    "ExecuteTime": {
     "end_time": "2020-12-05T17:06:12.625841Z",
     "start_time": "2020-12-05T16:56:35.447998Z"
    },
    "hidden": true
   },
   "outputs": [
    {
     "data": {
      "application/vnd.jupyter.widget-view+json": {
       "model_id": "a14126adec524466a03dde4d26eec945",
       "version_major": 2,
       "version_minor": 0
      },
      "text/plain": [
       "HBox(children=(FloatProgress(value=0.0, max=15517.0), HTML(value='')))"
      ]
     },
     "metadata": {},
     "output_type": "display_data"
    },
    {
     "name": "stdout",
     "output_type": "stream",
     "text": [
      "\n",
      "#Paragraph (non-empty) in HotpotQA: 5,233,329\n"
     ]
    }
   ],
   "source": [
    "import bz2\n",
    "import json\n",
    "import os\n",
    "from tqdm.auto import tqdm\n",
    "\n",
    "abs_dir = 'data/HotpotQA/enwiki-20171001-pages-meta-current-withlinks-abstracts/'\n",
    "files = sorted([os.path.join(abs_dir, dirname, filename)\n",
    "                for dirname in os.listdir(abs_dir)\n",
    "                for filename in os.listdir(os.path.join(abs_dir, dirname))])\n",
    "abstracts = dict()  # id -> text_with_links\n",
    "for filename in tqdm(files):\n",
    "    if not os.path.isfile(filename):\n",
    "        continue\n",
    "    with bz2.open(filename, 'rb') as fin:\n",
    "        for line in fin:\n",
    "            page = json.loads(line)\n",
    "            if len(page['text_with_links']) == 0:\n",
    "                assert len(page['text']) == 0\n",
    "                print(f\"Empty abstract paragraph: {page['id']}\")\n",
    "                continue\n",
    "            if page['id'] in abstracts:\n",
    "                print(f\"duplicate id: {page['id']}\")\n",
    "            abstracts[page['id']] = page['text_with_links']\n",
    "print(f\"#Paragraph (non-empty) in HotpotQA: {len(abstracts):,d}\")"
   ]
  },
  {
   "cell_type": "markdown",
   "metadata": {},
   "source": [
    "## Aggregate Titles"
   ]
  },
  {
   "cell_type": "code",
   "execution_count": 4,
   "metadata": {
    "ExecuteTime": {
     "end_time": "2020-12-05T17:06:16.019904Z",
     "start_time": "2020-12-05T17:06:12.627979Z"
    },
    "hidden": true
   },
   "outputs": [
    {
     "data": {
      "application/vnd.jupyter.widget-view+json": {
       "model_id": "4b543ccce4504b7a9ca4d847d010c667",
       "version_major": 2,
       "version_minor": 0
      },
      "text/plain": [
       "HBox(children=(FloatProgress(value=0.0, max=15517.0), HTML(value='')))"
      ]
     },
     "metadata": {},
     "output_type": "display_data"
    },
    {
     "name": "stdout",
     "output_type": "stream",
     "text": [
      "Duplicate title: Harry Diamond\n",
      "\n",
      "#Title (valid) in wiki-20171001: 5,474,190 + 1\n"
     ]
    }
   ],
   "source": [
    "from utils.text_utils import norm_text\n",
    "\n",
    "titles = set()\n",
    "titles_file = f'data/corpus/titles-{data_version}.txt'\n",
    "article_dir = 'data/HotpotQA/enwiki-20171001-pages-meta-current-withlinks-processed/'\n",
    "files = sorted([os.path.join(article_dir, dirname, filename)\n",
    "                for dirname in os.listdir(article_dir)\n",
    "                for filename in os.listdir(os.path.join(article_dir, dirname))])\n",
    "if not os.path.exists(titles_file):\n",
    "    n_duplicated = 0\n",
    "    for filename in tqdm(files):\n",
    "        if not os.path.isfile(filename):\n",
    "            continue\n",
    "        with bz2.open(filename, 'rb') as fin:\n",
    "            for line in fin:\n",
    "                page = json.loads(line)\n",
    "                para_num = len(page['text']) - 1\n",
    "                assert len(page['charoffset']) == len(page['text'])\n",
    "                doc_id = page['id']\n",
    "                if para_num == 0:\n",
    "                    # print(f\"Only has a title: {doc_id} {title}\")\n",
    "                    continue\n",
    "\n",
    "                title = norm_text(page['title'])\n",
    "                if title in titles:\n",
    "                    n_duplicated += 1\n",
    "                    print(f'Duplicate title: {title}')\n",
    "                titles.add(title)\n",
    "\n",
    "    with open(titles_file, 'w') as fout:\n",
    "        for title in titles:\n",
    "            fout.write(f\"{title}\\n\")\n",
    "            fout.flush()\n",
    "else:\n",
    "    # Duplicate title: Harry Diamond\n",
    "    with open(titles_file, 'r') as fin:\n",
    "        for line in fin:\n",
    "            title = line.strip()\n",
    "            if title:\n",
    "                titles.add(title)\n",
    "\n",
    "print(f'#Title (valid) in wiki-20171001: {len(titles):,d} + {n_duplicated}')"
   ]
  },
  {
   "cell_type": "markdown",
   "metadata": {},
   "source": [
    "## Index Paragraphs"
   ]
  },
  {
   "cell_type": "code",
   "execution_count": 6,
   "metadata": {},
   "outputs": [],
   "source": [
    "import re\n",
    "from fuzzysearch import find_near_matches\n",
    "\n",
    "\n",
    "anchor_head = re.compile(r'<a\\s+href\\s*=\\s*\"([^<]*?)\"\\s*>', re.I)\n",
    "anchor_tail = re.compile(r'</\\s*a\\s*>', re.I)\n",
    "broken_head = re.compile(r'<?\\s*a?\\s+(h\\s*r\\s*e\\s*f|r\\s*e\\s*f|h\\s*e\\s*f|h\\s*r\\s*f|h\\s*r\\s*e)\\s*=?\\s*\"([^<]*?)\"\\s*>', re.I)\n",
    "broken_tail = re.compile(r'<\\s*/\\s*a\\s*[>»]|\\s+/\\s*a\\s*>|<\\s*/\\s*a\\s+', re.I)\n",
    "\n",
    "\n",
    "def find_closest_substr(src, tgt):\n",
    "    s = src.find(tgt)\n",
    "    if s >= 0:\n",
    "        return s, s + len(tgt), 0\n",
    "\n",
    "    max_l_dist = 5\n",
    "    while True:\n",
    "        matches = find_near_matches(tgt, src, max_l_dist=max_l_dist)\n",
    "        if len(matches) > 0:\n",
    "            min_l_dist = max_l_dist + 1\n",
    "            best_match = None\n",
    "            for m in matches:\n",
    "                if m.dist < min_l_dist:\n",
    "                    min_l_dist = m.dist\n",
    "                    best_match = m\n",
    "            return best_match.start, best_match.end, best_match.dist\n",
    "        else:\n",
    "            max_l_dist += 5\n",
    "\n",
    "\n",
    "def find_sentence_spans(paragraph, sentences):\n",
    "    sentence_spans = [[0, len(paragraph)] for _ in range(len(sentences))]\n",
    "    for i in range(len(sentences)):\n",
    "        prefix = ''.join(sentences[:i])\n",
    "        prefix = anchor_head.sub('', norm_text(prefix))\n",
    "        prefix = anchor_tail.sub('', prefix)\n",
    "        prefix = broken_head.sub('', prefix)\n",
    "        prefix = broken_tail.sub('', prefix)\n",
    "        prefix = norm_text(prefix)\n",
    "        suffix = ''.join(sentences[i:])\n",
    "        suffix = anchor_head.sub('', norm_text(suffix))\n",
    "        suffix = anchor_tail.sub('', suffix)\n",
    "        suffix = broken_head.sub('', suffix)\n",
    "        suffix = broken_tail.sub('', suffix)\n",
    "        suffix = norm_text(suffix)\n",
    "        finding_start = len(suffix) >= len(prefix)\n",
    "        sub_para = suffix if finding_start else prefix\n",
    "        if i == 0:\n",
    "            assert finding_start\n",
    "            s, e, d = find_closest_substr(paragraph, sub_para)\n",
    "            sentence_spans[0][0] = s\n",
    "            sentence_spans[-1][1] = e\n",
    "        else:\n",
    "            if finding_start:\n",
    "                offset = sentence_spans[i - 1][0]\n",
    "                search_space = paragraph[offset:sentence_spans[-1][1]]\n",
    "                s, e, d = find_closest_substr(search_space, sub_para)\n",
    "                sentence_spans[i][0] = offset + s\n",
    "                sentence_spans[i - 1][1] = offset + s\n",
    "                if offset + e != sentence_spans[-1][1]:\n",
    "                    print(f\"Unexpected fuzzy search:\\n{search_space}\\n{sub_para}\\n{search_space[s:e]}\\n\")\n",
    "            else:\n",
    "                offset = sentence_spans[0][0]\n",
    "                search_space = paragraph[offset:sentence_spans[-1][1]]\n",
    "                s, e, d = find_closest_substr(search_space, sub_para)\n",
    "                sentence_spans[i - 1][1] = offset + e\n",
    "                sentence_spans[i][0] = offset + e\n",
    "                if s != 0:\n",
    "                    print(f\"Unexpected fuzzy search:\\n{search_space}\\n{sub_para}\\n{search_space[s:e]}\\n\")\n",
    "\n",
    "    return sentence_spans"
   ]
  },
  {
   "cell_type": "code",
   "execution_count": 7,
   "metadata": {
    "ExecuteTime": {
     "end_time": "2020-12-06T05:28:44.047352Z",
     "start_time": "2020-12-05T17:18:53.633408Z"
    },
    "code_folding": [
     14
    ],
    "scrolled": true
   },
   "outputs": [
    {
     "data": {
      "application/vnd.jupyter.widget-view+json": {
       "model_id": "d5bb08aea49445b489b13da7213ed7d4",
       "version_major": 2,
       "version_minor": 0
      },
      "text/plain": [
       "HBox(children=(FloatProgress(value=0.0, max=15517.0), HTML(value='')))"
      ]
     },
     "metadata": {},
     "output_type": "display_data"
    },
    {
     "name": "stdout",
     "output_type": "stream",
     "text": [
      "Unfinished hyperlink in 8522_47: 『2=nd』->『Colorado 's 1st』\n",
      "Unfinished hyperlink in 27687_63: 『2=nd』->『Missouri 's 1st』\n",
      "Unfinished hyperlink in 51983_55: 『High Speed』->『High-speed rail in Australia#High-speed rail on the east coast of Australia』\n",
      "Unfinished hyperlink in 58294_36: 『U』->『U S Congress』\n",
      "Unfinished hyperlink in 72708_11: 『President Władysław Raczkiewicz』->『Władysław Raczkiewicz』\n",
      "Unfinished hyperlink in 79759_8: 『2=nd』->『California's 1st』\n",
      "Unfinished hyperlink in 79770_6: 『2=nd』->『California's 1st』\n",
      "Unfinished hyperlink in 82023_18: 『2=nd』->『California's 1st』\n",
      "Unfinished hyperlink in 82028_10: 『2=nd』->『California's 1st』\n",
      "Unfinished hyperlink in 82097_3: 『2=nd』->『California's 1st』\n",
      "Unfinished hyperlink in 82107_7: 『2=nd On November 4, 2008, Siskiyou County voted 60.1% for Proposition 8 which amended the California Constitution to ban same-sex marriages.』->『California's 1st』\n",
      "Unfinished hyperlink in 107591_12: 『2=nd According to Susanville's 2014 Comprehensive Annual Financial Report, the top employers in the city are:』->『California's 1st』\n",
      "Unfinished hyperlink in 107764_10: 『2=nd』->『California's 1st』\n",
      "Unfinished hyperlink in 107797_6: 『2=nd』->『California's 1st』\n",
      "Unfinished hyperlink in 107798_9: 『2=nd』->『California's 1st』\n",
      "Unfinished hyperlink in 107799_7: 『2=nd』->『California's 1st』\n",
      "Unfinished hyperlink in 107800_7: 『2=nd Lake Wildwood is represented on the Nevada County Board of Supervisors by Republican Hank Weston, a retired fire chief.』->『California's 1st』\n",
      "Unfinished hyperlink in 107801_8: 『2=nd Tourism, government services, resource extraction (timber) and commercial services are the basis of the local economy.』->『California's 1st』\n",
      "Unfinished hyperlink in 107802_6: 『2=nd Penn Valley hosts a rodeo event each year in late Spring and has attracted as many as 5,000 spectators during one of its events. The Penn Valley Rodeo is organized by Penn Valley Community Rodeo Association since 2005.』->『California's 1st』\n",
      "Unfinished hyperlink in 107858_6: 『2=nd』->『California's 1st』\n",
      "Unfinished hyperlink in 107859_5: 『2=nd』->『California's 1st』\n",
      "Unfinished hyperlink in 107860_5: 『2=nd』->『California's 1st』\n",
      "Unfinished hyperlink in 107861_6: 『2=nd』->『California's 1st』\n",
      "Unfinished hyperlink in 107862_6: 『2=nd』->『California's 1st』\n",
      "Unfinished hyperlink in 107863_6: 『2=nd』->『California's 1st』\n",
      "Unfinished hyperlink in 107867_5: 『2=nd』->『California's 1st』\n",
      "Unfinished hyperlink in 107868_8: 『2=nd』->『California's 1st』\n",
      "Unfinished hyperlink in 107869_6: 『2=nd』->『California's 1st』\n",
      "Unfinished hyperlink in 107870_6: 『2=nd』->『California's 1st』\n",
      "Unfinished hyperlink in 107871_6: 『2=nd』->『California's 1st』\n",
      "Unfinished hyperlink in 107872_6: 『2=nd』->『California's 1st』\n",
      "Unfinished hyperlink in 107873_8: 『2=nd』->『California's 1st』\n",
      "Unfinished hyperlink in 107874_5: 『2=nd』->『California's 1st』\n",
      "Unfinished hyperlink in 107875_7: 『2=nd』->『California's 1st』\n",
      "Unfinished hyperlink in 107876_6: 『2=nd』->『California's 1st』\n",
      "Unfinished hyperlink in 107877_5: 『2=nd』->『California's 1st』\n",
      "Unfinished hyperlink in 107878_6: 『2=nd』->『California's 1st』\n",
      "Unfinished hyperlink in 107879_6: 『2=nd』->『California's 1st』\n",
      "Unfinished hyperlink in 107880_5: 『2=nd』->『California's 1st』\n",
      "Unfinished hyperlink in 107883_6: 『2=nd』->『California's 1st』\n",
      "Unfinished hyperlink in 107884_6: 『2=nd』->『California's 1st』\n",
      "Unfinished hyperlink in 107885_6: 『2=nd』->『California's 1st』\n",
      "Unfinished hyperlink in 107886_5: 『2=nd』->『California's 1st』\n",
      "Unfinished hyperlink in 107887_4: 『2=nd About 2.5 mi north of Little Grass Valley Lake lies a small, natural lily pond called Fowler Lake. Its coordinates are , and its altitude is 5446 ft .』->『California's 1st』\n",
      "Unfinished hyperlink in 107888_6: 『2=nd』->『California's 1st』\n",
      "Unfinished hyperlink in 107889_5: 『2=nd』->『California's 1st』\n",
      "Unfinished hyperlink in 107890_5: 『2=nd』->『California's 1st』\n",
      "Unfinished hyperlink in 107891_6: 『2=nd』->『California's 1st』\n",
      "Unfinished hyperlink in 107892_10: 『2=nd』->『California's 1st』\n",
      "Unfinished hyperlink in 107893_5: 『2=nd』->『California's 1st』\n",
      "Unfinished hyperlink in 107894_8: 『2=nd News from Quincy』->『California's 1st』\n",
      "Unfinished hyperlink in 107895_5: 『2=nd』->『California's 1st』\n",
      "Unfinished hyperlink in 107896_5: 『2=nd』->『California's 1st』\n",
      "Unfinished hyperlink in 107897_5: 『2=nd』->『California's 1st』\n",
      "Unfinished hyperlink in 107898_6: 『2=nd』->『California's 1st』\n",
      "Unfinished hyperlink in 107899_5: 『2=nd』->『California's 1st』\n",
      "Unfinished hyperlink in 107900_6: 『2=nd』->『California's 1st』\n",
      "Unfinished hyperlink in 107901_6: 『2=nd』->『California's 1st』\n",
      "Unfinished hyperlink in 108187_8: 『2=nd』->『California's 1st』\n",
      "Unfinished hyperlink in 108191_8: 『2=nd』->『California's 1st』\n",
      "Unfinished hyperlink in 108192_3: 『2=nd』->『California's 1st』\n",
      "Unfinished hyperlink in 108193_7: 『2=nd』->『California's 1st』\n",
      "Unfinished hyperlink in 108194_6: 『2=nd』->『California's 1st』\n",
      "Unfinished hyperlink in 108195_13: 『2=nd』->『California's 1st』\n",
      "Unfinished hyperlink in 108196_12: 『2=nd The city council is composed of Mayor Brent Weaver, Vice Mayor Kristen Schreder, along with Francie Sullivan, Julie Winter, and Adam McElvain. The city manager is Barry Tippin.』->『California's 1st』\n",
      "Unfinished hyperlink in 108197_10: 『2=nd On August 19, 1992, a fire called the Fountain Fire started off Buzzard Roost Road. It destroyed approximately 600 structures in Round Mountain and the surrounding towns. The fire burned 64000 acre , and also burned most of Round Mountain's neighbor, Montgomery Creek. The towns were declared a disaster area. The town of Burney was threatened as well.』->『California's 1st』\n",
      "Unfinished hyperlink in 108198_10: 『2=nd』->『California's 1st』\n",
      "Unfinished hyperlink in 108201_6: 『2=nd』->『California's 1st』\n",
      "Unfinished hyperlink in 108202_8: 『2=nd』->『California's 1st』\n",
      "Unfinished hyperlink in 108203_26: 『2=nd』->『California's 1st』\n",
      "Unfinished hyperlink in 108204_6: 『2=nd』->『California's 1st』\n",
      "Unfinished hyperlink in 108205_7: 『2=nd』->『California's 1st』\n",
      "Unfinished hyperlink in 108206_12: 『2=nd』->『California's 1st』\n",
      "Unfinished hyperlink in 108207_6: 『2=nd』->『California's 1st』\n",
      "Unfinished hyperlink in 108208_5: 『2=nd』->『California's 1st』\n",
      "Unfinished hyperlink in 108209_6: 『2=nd』->『California's 1st』\n",
      "Unfinished hyperlink in 108210_6: 『2=nd』->『California's 1st』\n",
      "Unfinished hyperlink in 108211_6: 『2=nd』->『California's 1st』\n",
      "Unfinished hyperlink in 108213_7: 『2=nd』->『California's 1st』\n",
      "Unfinished hyperlink in 108214_6: 『2=nd』->『California's 1st』\n",
      "Unfinished hyperlink in 108215_12: 『2=nd』->『California's 1st』\n",
      "Unfinished hyperlink in 108216_6: 『2=nd』->『California's 1st』\n",
      "Unfinished hyperlink in 108219_19: 『2=nd In Siskiyou County Supervisoral District 3, in which Weed is the core community, voter registration is 39.6 percent Democrat, 39.1 percent Republican, 16.2 percent decline to state, with remainder split among other political parties such as Green and Libertarian as of 2006.』->『California's 1st』\n",
      "Unfinished hyperlink in 108220_10: 『2=nd』->『California's 1st』\n",
      "Unfinished hyperlink in 108276_6: 『2=nd』->『California's 1st』\n",
      "Unfinished hyperlink in 108277_3: 『2=nd』->『California's 1st』\n",
      "Unfinished hyperlink in 108278_6: 『2=nd』->『California's 1st』\n",
      "Unfinished hyperlink in 108282_6: 『2=nd Tehama is an incorporated city represented by an elected mayor and city council.』->『California's 1st』\n",
      "Unfinished hyperlink in 109162_34: 『2=nd』->『's 1st』\n",
      "Unfinished hyperlink in 118230_9: 『2=nd』->『California's 1st』\n",
      "Unfinished hyperlink in 118262_6: 『2=nd』->『California's 1st』\n",
      "Unfinished hyperlink in 125049_11: 『2=nd』->『New Jersey 's 1st』\n",
      "Unfinished hyperlink in 125175_13: 『2=nd』->『New Jersey 's 1st』\n",
      "Unfinished hyperlink in 125206_9: 『2=nd』->『New Jersey 's 1st』\n",
      "Unfinished hyperlink in 129801_20: 『Portsmouth』->『Portsmouth High School (Ohio)』\n",
      "Unfinished hyperlink in 134317_1: 『2=nd』->『Rhode Island 's 1st』\n",
      "Unfinished hyperlink in 137490_7: 『now open. The Crozet/Western Albemarle Library, now open 52 hours each week, is a permanent public space that encourages and nurtures intellectual freedom and curiosity, and supports JMRL’s mission to help its communities grow, learn and connect. The building is designed to provide a collection of over 75,000 books. In addition to being an anchor for an active, growing community, the library stands as a permanent testament to the County and citizenry's dedication to lifelong learning.』->『http://realcrozetva.com/2012/12/10/bricking-of-the-crozet-library/』\n",
      "Unfinished hyperlink in 148089_11: 『2=nd』->『California's 1st』\n",
      "Unfinished hyperlink in 173654_0: 『65 Fricke writes about his work: I feel that my work has evolved through \"Koyaanisqatsi\", \"Chronos\" and \"Baraka\". Both technically and philosophically I am ready to delve even deeper into my favorite theme: humanity's relationship to the eternal.』->『70 mm film』\n",
      "Unfinished hyperlink in 199278_9: 『bicameral』->『Bicameralism』\n",
      "Unfinished hyperlink in 206934_0: 『fifth』->『Busiest airports in the United Kingdom by total passenger traffic』\n",
      "Unfinished hyperlink in 221468_4: 『San』->『Certosa di San Martino』\n",
      "Unfinished hyperlink in 222396_0: 『Timmakka』->『Timmakka』\n",
      "Unfinished hyperlink in 249171_14: 『Arnold』->『Arnold Constable &amp; Company』\n",
      "Unfinished hyperlink in 251858_10: 『The』->『The Spirit of St. Louis (film)』\n",
      "Unfinished hyperlink in 263958_1: 『2=nd』->『California's 1st』\n",
      "Unfinished hyperlink in 269361_0: 『Hungarian-speaking』->『Székely Land』\n",
      "Unfinished hyperlink in 285868_9: 『WW』->『World War II』\n",
      "Unfinished hyperlink in 391317_0: 『2=nd』->『Indiana 's 1st』\n",
      "Unfinished hyperlink in 403617_0: 『2=nd』->『's 1st』\n",
      "Unfinished hyperlink in 407919_0: 『2=nd』->『's 1st』\n",
      "Unfinished hyperlink in 407926_0: 『2=nd』->『's 1st』\n",
      "Unfinished hyperlink in 407926_2: 『2=nd In his campaign in 2000, Flake had pledged to serve no more than three terms in Congress which would see him serve no later than January 2007. Shortly after being elected for a third time, Flake announced in early 2005 that he had changed his mind on pledging term limits and was planning to run for re-election in 2006. \"It was a mistake to limit my own terms,\" Flake said.』->『Arizona 's 1st』\n",
      "Unfinished hyperlink in 408552_0: 『2=nd』->『's 1st』\n",
      "Unfinished hyperlink in 408584_0: 『2=nd』->『Kansas 's 1st』\n",
      "Unfinished hyperlink in 409240_0: 『2=nd』->『's 1st』\n",
      "Unfinished hyperlink in 410119_0: 『2=nd』->『's 1st』\n",
      "Unfinished hyperlink in 411726_0: 『2=nd』->『's 1st』\n",
      "Unfinished hyperlink in 411889_0: 『2=nd』->『Illinois 's 1st』\n",
      "Unfinished hyperlink in 412985_1: 『2=nd』->『Washington 's 1st』\n",
      "Unfinished hyperlink in 414514_0: 『2=nd』->『's 1st』\n",
      "Unfinished hyperlink in 414528_0: 『2=nd』->『's 1st』\n",
      "Unfinished hyperlink in 416551_4: 『possible air attacks on the』->『Security for the 2012 Summer Olympics#Air defences』\n",
      "Unfinished hyperlink in 416858_6: 『also』->『Sabellianism』\n",
      "Unfinished hyperlink in 417439_0: 『2=nd』->『's 1st』\n",
      "Unfinished hyperlink in 417439_1: 『2=nd』->『's 1st』\n",
      "Unfinished hyperlink in 436926_2: 『Planet』->『Planet Rock (song)』\n",
      "Unfinished hyperlink in 440790_0: 『2=nd』->『Massachusetts 's 1st』\n",
      "Unfinished hyperlink in 440800_0: 『2=nd』->『's 1st』\n",
      "Unfinished hyperlink in 559737_9: 『Troy』->『Troy Newman (activist)』\n",
      "Unfinished hyperlink in 595346_0: 『2=nd』->『Utah 's 1st』\n",
      "Unfinished hyperlink in 598405_11: 『Kenneth McArthur』->『Kenneth McArthur ==Politics== The [[Tlokwe Local Municipality]] serves amongStadium』\n",
      "Unfinished hyperlink in 607122_0: 『2=nd』->『's 1st』\n",
      "Unfinished hyperlink in 607906_5: 『scorching』->『Samum (Islam)』\n",
      "Unfinished hyperlink in 628177_2: 『2=nd』->『's 1st』\n",
      "Unfinished hyperlink in 648232_1: 『Southern Association of Colleges and Secondary』->『Southern Association for Secondary Schools and Colleges』\n",
      "Unfinished hyperlink in 682892_0: 『2=nd』->『New Jersey 's 1st』\n",
      "Unfinished hyperlink in 699447_4: 『2=nd』->『's 1st』\n",
      "Unfinished hyperlink in 703451_0: 『2=nd』->『Ohio 's 1st』\n",
      "Unfinished hyperlink in 716881_5: 『Snowy Mountains』->『Snowy Hydro』\n",
      "Unfinished hyperlink in 813594_0: 『2=nd』->『's 1st』\n",
      "Unfinished hyperlink in 833011_43: 『Civil Defence』->『Protect and Survive』\n",
      "Unfinished hyperlink in 840827_6: 『2=nd』->『's 1st』\n",
      "Unfinished hyperlink in 865369_0: 『full』->『full-size car』\n",
      "Unfinished hyperlink in 867326_8: 『Sir』->『Sir William Brereton, 1st Baronet』\n",
      "Unfinished hyperlink in 899573_9: 『Software』->『Nankang Software Park』\n",
      "Unfinished hyperlink in 914735_11: 『Edward Swynfen』->『Edward Jervis Jervis, 2nd Viscount St Vincent』\n",
      "Unfinished hyperlink in 930482_2: 『New』->『New College, Oxford』\n",
      "Unfinished hyperlink in 953669_1: 『\"100 Greatest』->『Australian rugby league's 100 greatest players』\n",
      "Unfinished hyperlink in 956085_0: 『Dynamo』->『HC Dynamo Moscow』\n",
      "Unfinished hyperlink in 962140_0: 『2=nd』->『New York 's 1st』\n",
      "Unfinished hyperlink in 964012_2: 『2=nd |3=rd』->『's 1st』\n",
      "Unfinished hyperlink in 965110_0: 『2=nd』->『's 1st』\n",
      "Unfinished hyperlink in 972922_2: 『2=nd』->『's 1st』\n",
      "Unfinished hyperlink in 1010933_0: 『Repalle』->『Repalle』\n",
      "Unfinished hyperlink in 1088978_1: 『Clutha』->『Clutha River』\n",
      "Unfinished hyperlink in 1106253_0: 『Sai』->『Sai』\n",
      "Unfinished hyperlink in 1134236_14: 『2=nd』->『Kansas 's 1st』\n",
      "Unfinished hyperlink in 1190018_3: 『Democratic Republic』->『Democratic Republic of Congo』\n",
      "Unfinished hyperlink in 1227411_1: 『Lake』->『Lake Barrington, Illinois』\n",
      "Unfinished hyperlink in 1249862_0: 『2=nd』->『California's 1st』\n",
      "Unfinished hyperlink in 1311274_5: 『brother-<br>』->『brother-in-law』\n",
      "Unfinished hyperlink in 1420339_6: 『2=nd』->『's 1st』\n",
      "Unfinished hyperlink in 1431459_2: 『2=nd』->『Arkansas 's 1st』\n",
      "Unfinished hyperlink in 1487707_1: 『2=nd』->『's 1st』\n",
      "Unfinished hyperlink in 1521454_6: 『Oklahoma Land In 1906, Gurley moved to Tulsa, Oklahoma where he purchased 40 acres of land which was \"only to be sold to colored\". Black ownership was unheard of at that time.』->『Land run』\n",
      "Unfinished hyperlink in 1551616_24: 『Ministry of Interior (Israel)』->『Ministry of Interior (Israel) Ministry of the Interior』\n",
      "Unfinished hyperlink in 1607228_25: 『European Economic Community China joined the donor conference, hosted training of TAZARA personnel, sent senior technicians to overhaul Chinese locomotives and agreed to provide steel rail. The TAZARA generated operational profits in FY1986/87.』->『European Economic Community』\n",
      "Unfinished hyperlink in 1608583_8: 『2=nd Public schools in Cedarville are administered the Surprise Valley Joint Unified District and includes the Surprise Valley High School as well the Surprise Valley Elementary and Middle School.』->『California's 1st』\n",
      "Unfinished hyperlink in 1626892_11: 『Lublin Renaissance』->『Lublin Renaissance』\n",
      "Unfinished hyperlink in 1629461_0: 『mean free』->『Mean free path』\n",
      "Unfinished hyperlink in 1687482_2: 『episcopal』->『Bishop (Catholic Church)』\n",
      "Unfinished hyperlink in 1855800_4: 『Meatpacking A prolific videographer, Sullivan's revolutionary style is a combination of cinematic and in-camera editing techniques. His technique was so fluid that viewers would often see Sullivan walk across the screen and wonder who was pointing the camera.』->『Meatpacking District, Manhattan』\n",
      "Unfinished hyperlink in 1872579_2: 『Education and』->『Department for Education and Skills (United Kingdom)』\n",
      "Unfinished hyperlink in 1891948_10: 『Dravida Munnetra』->『Dravida Munnetra Kazhagam』\n",
      "Unfinished hyperlink in 1914598_1: 『Tom』->『Tom Jones (singer)』\n",
      "Unfinished hyperlink in 1923182_6: 『2=nd』->『California's 1st』\n",
      "Unfinished hyperlink in 1964031_8: 『2=nd』->『California's 1st』\n",
      "Unfinished hyperlink in 1972801_4: 『2=nd』->『California's 1st』\n",
      "Unfinished hyperlink in 1978864_4: 『2=nd』->『California's 1st』\n",
      "Unfinished hyperlink in 1978934_6: 『2=nd』->『California's 1st』\n",
      "Unfinished hyperlink in 1979185_4: 『2=nd』->『California's 1st』\n",
      "Unfinished hyperlink in 1990966_6: 『List of fields of doctoral studies in the United States』->『List of fields of doctoral studies in the United States#Business Management.2FAdministrative Services』\n",
      "Unfinished hyperlink in 2060776_2: 『2=nd』->『California's 1st』\n",
      "Unfinished hyperlink in 2080672_0: 『Translation of Myllypuro metro station in English</a]』->『http://translation.babylon.com/english/Myllypuro metro station/』\n",
      "Unfinished hyperlink in 2200088_0: 『Republican』->『Republican Party (United States)』\n",
      "Harry Diamond 2209045 https://en.wikipedia.org/wiki?curid=2209045\n",
      "Unfinished hyperlink in 2328233_13: 『Eastern College Athletic Conference - West』->『Eastern College Athletic Conference - West (ECAC West)』\n",
      "Unfinished hyperlink in 2371868_0: 『29』->『States and territories of India』\n",
      "Unfinished hyperlink in 2495543_0: 『2=nd』->『Nevada 's 1st』\n",
      "Unfinished hyperlink in 2495543_6: 『2=nd』->『's 1st』\n",
      "Unfinished hyperlink in 2515566_10: 『Senate Public Works』->『Senate Public Works Committee』\n",
      "Unfinished hyperlink in 2621796_43: 『Public Land, Irrigation』->『United States House Committee on Natural Resources』\n",
      "Unfinished hyperlink in 2638641_13: 『The』->『The Midnight Special (TV series)』\n",
      "Unfinished hyperlink in 2664135_8: 『19』->『19 n85』\n",
      "Unfinished hyperlink in 2668225_2: 『2=nd』->『Pennsylvania 's 1st』\n",
      "Unfinished hyperlink in 2668254_1: 『2=nd』->『Georgia 's 1st』\n",
      "Unfinished hyperlink in 2668336_3: 『2=nd』->『Massachusetts 's 1st』\n",
      "Unfinished hyperlink in 2668352_7: 『2=nd』->『Ohio 's 1st』\n",
      "Unfinished hyperlink in 2668367_7: 『2=nd』->『New York 's 1st』\n",
      "Unfinished hyperlink in 2668385_5: 『2=nd Rhode Island's electoral laws at the time required a candidate to receive votes from a majority of voters to win. In the 1806 election, only one candidate won a majority on the first ballot, and so a run-off election was required to choose the second seat.』->『Pennsylvania 's 1st』\n",
      "Unfinished hyperlink in 2668385_6: 『2=nd』->『Vermont 's 1st』\n",
      "Unfinished hyperlink in 2668387_6: 『2=nd』->『Pennsylvania 's 1st』\n",
      "Unfinished hyperlink in 2668393_5: 『2=nd』->『New York 's 1st』\n",
      "Unfinished hyperlink in 2668416_5: 『2=nd Rhode Island had an at-large district with two seats, each of which were elected separately.』->『Pennsylvania 's 1st』\n",
      "Unfinished hyperlink in 2668416_6: 『2=nd』->『Virginia 's 1st』\n",
      "Unfinished hyperlink in 2668420_4: 『2=nd』->『Massachusetts 's 1st』\n",
      "Unfinished hyperlink in 2668435_7: 『2=nd』->『's 1st』\n",
      "Unfinished hyperlink in 2668457_5: 『2=nd』->『South Carolina 's 1st』\n",
      "Unfinished hyperlink in 2683249_5: 『2=nd』->『's 1st』\n",
      "Unfinished hyperlink in 2700614_2: 『.』->『Robert de Stafford』\n",
      "Unfinished hyperlink in 2706657_1: 『Bal Narsingh Kunwarshree 5 prabin lamichhane』->『Bal Narsingh Kunwarshree 5 prabin lamichhane』\n",
      "Unfinished hyperlink in 2745804_0: 『AIC-CURE International』->『CURE International』\n",
      "Unfinished hyperlink in 2746377_0: 『St Thomas Aquinas Secondary School]] MUKUMBA SECONDARY MMUKUMBA PRIMARY Sharon Primary School [[Category:Lists of buildings and structures in Zimbabwe|Schools]] [[Category:Lists of organisations based in Zimbabwe|Schools]] [[Category:Lists of schools by country|Zimbabwe]]』->『Chikomba District]} * [[Chemhanza High School]] * [[Chisangano Secondary School]] * [[Damba Secondary School]] * [[Daramombe High School]] * [[Domboremavara Secondary School]] * [[Gumbonzvanda Secondary School]] * Holy Spirit Ruzane Secondary School * [[Kwenda Mission]] – boarding school * [[Madzivire Secondary School]] * [[Mahusvu Secondary School]] * [[Manyene (Holy Cross) Secondary School]] * [[Manyene (Holy Cross) Primary School]] * [[Marondamashanu Secondary School]] * [[Mhari High School]] * [[Mt St Mary's Mission School]] – [[Wedza District]] * [[Mudawarima Secondary School]] * [[Mufudzi Secondary School]] * [[Mushipe Secondary School]] * [[Mutoro Secondary School]] * [[Neshangwe High School]] * [[Rambanapasi Secondary School]] * [[Sadza Secondary School]] * [[St Anne's Goto High School]] * [[St Augustine's Chitida Secondary]] * [[St Margaret's Chigondo Secondary School]] * [[St Mathias Ruswa Secondary School]] * [[St Peter's Claver Gangare Primary School]] * [[St Thomas Aquinas Secondary School (Zimbabwe)』\n",
      "Unfinished hyperlink in 2814986_4: 『The』->『The Gambia』\n",
      "Unfinished hyperlink in 2959847_0: 『2=nd』->『's 1st』\n",
      "Unfinished hyperlink in 2983197_20: 『Luganda</a.』->『Luganda』\n",
      "Unfinished hyperlink in 3003804_7: 『2=nd』->『California's 1st』\n",
      "Unfinished hyperlink in 3053436_0: 『Brauer elementary』->『elementary group』\n",
      "Unfinished hyperlink in 3086228_4: 『Ercole II]] of [[Ferrara]] to court; here soon afterwards, in 1539, he died, not without suspicion of [[poison]] committed by Titian. His later works are comparatively careless and superficial; and generally he is better in male figures than in female-the latter being somewhat too sturdy-and the composition of his subject-pictures is scarcely on a level with their other merits. Pordenone appears to have been a vehement self-asserting man, to which his style as a painter corresponds. Three of his principal pupils were [[Bernardino Licinio]], named \"Il Sacchiense\", his son-in-law [[Pomponio Amalteo]], and [[Giovanni Maria Calderari]].』->『He was invited by Duke [[Ercole II d'Este, Duke of Ferrara』\n",
      "Unfinished hyperlink in 3114075_0: 『2=nd』->『New Hampshire 's 1st』\n",
      "Unfinished hyperlink in 3114075_7: 『2=nd |3=rd』->『New Hampshire 's 1st』\n",
      "Unfinished hyperlink in 3167778_7: 『RIAA Certification</.』->『RIAA Certification』\n",
      "Unfinished hyperlink in 3206371_2: 『\"Billboard』->『Billboard 200』\n",
      "Unfinished hyperlink in 3216269_0: 『The Company』->『The Company of Mary』\n",
      "Unfinished hyperlink in 3238282_2: 『Martin & Osa Johnson Safari』->『Martin and Osa Johnson#Martin and Osa Johnson Safari Museum』\n",
      "Unfinished hyperlink in 3572585_4: 『Mexican Mural』->『Mexican muralism』\n",
      "Unfinished hyperlink in 3732227_3: 『2=nd』->『's 1st』\n",
      "Unfinished hyperlink in 4034561_1: 『Republican』->『Republican Guard (Iraq)』\n",
      "Unfinished hyperlink in 4228818_0: 『2=nd』->『Louisiana 's 1st』\n",
      "Unfinished hyperlink in 4240155_1: 『America's 11 Most Endangered Historic』->『America's Most Endangered Places』\n",
      "Unfinished hyperlink in 4281596_4: 『2=nd』->『California's 1st』\n",
      "Unfinished hyperlink in 4347189_3: 『U.S. District Court for』->『United States District Court for the Northern District of California』\n",
      "Unfinished hyperlink in 4380729_30: 『social』->『social contract』\n",
      "Unfinished hyperlink in 4441957_8: 『RIAA Certification</.』->『RIAA Certification』\n",
      "Unfinished hyperlink in 4452237_0: 『Rolling』->『Rolling Stone (magazine)』\n",
      "Unfinished hyperlink in 4472212_1: 『2=nd In 2006, Connealy unsuccessfully sought elective office as Nebraska Public Service Commissioner for district 3. Connealy was defeated by Tim Schram 56%-44%.』->『's 1st』\n",
      "Unfinished hyperlink in 4483356_0: 『Sir James D』->『James Denham-Steuart』\n",
      "Unfinished hyperlink in 4515461_8: 『2=nd』->『California's 1st』\n",
      "Unfinished hyperlink in 4546010_1: 『Hadamard』->『Hadamard matrix』\n",
      "Unfinished hyperlink in 4547821_1: 『2=nd The town mayor is James Wallace, originally from Novato, CA.』->『California's 1st』\n",
      "Unfinished hyperlink in 4580408_17: 『red-orange』->『Chevrolet Trax』\n",
      "Unfinished hyperlink in 4678894_15: 『2=nd』->『's 1st』\n",
      "Unfinished hyperlink in 4694422_2: 『2=nd This region experiences warm (but not hot) and dry summers, with no average monthly temperatures above 71.6 °F.』->『California's 1st』\n",
      "Unfinished hyperlink in 4805137_2: 『2=nd』->『California's 1st』\n",
      "Unfinished hyperlink in 4819295_1: 『2=nd』->『's 1st』\n",
      "Unfinished hyperlink in 4893735_2: 『Actors』->『Actors Studio (TV series)』\n",
      "Unfinished hyperlink in 5068354_7: 『Doris』->『Doris Kearns Goodwin』\n",
      "Unfinished hyperlink in 5160544_2: 『Colonel Kim Starting in the 1980s and continuing to 2000, Reed served on numerous commissions, boards, and committees including the City Planning Commission and the San Jose Downtown Association.』->『Kim Campbell (pilot)』\n",
      "Unfinished hyperlink in 5181165_0: 『』->『mandu』\n",
      "Unfinished hyperlink in 5235706_5: 『2=nd』->『California's 1st』\n",
      "Unfinished hyperlink in 5291504_2: 『γ-AlO.』->『aluminium oxide』\n",
      "Unfinished hyperlink in 5295875_0: 『2=nd』->『's 1st』\n",
      "Unfinished hyperlink in 5415484_4: 『Arthur』->『Arthur Onslow』\n",
      "Unfinished hyperlink in 5564224_4: 『Mpande ka』->『Mpande』\n",
      "Unfinished hyperlink in 5567596_22: 『\"Komagata Maru\"』->『Komagata Maru incident』\n",
      "Unfinished hyperlink in 5802838_1: 『2=nd』->『California's 1st』\n",
      "Unfinished hyperlink in 5802881_2: 『2=nd』->『California's 1st』\n",
      "Unfinished hyperlink in 5802952_5: 『2=nd』->『California's 1st』\n",
      "Unfinished hyperlink in 5806973_2: 『Marine Corps Base』->『Marine Corps Base Camp Pendleton』\n",
      "Unfinished hyperlink in 5834541_4: 『conjugacy That is, .』->『Topological conjugacy』\n",
      "Unfinished hyperlink in 5951649_15: 『external』->『Validity (psychometrics)』\n",
      "Unfinished hyperlink in 5955984_39: 『federal poverty level]].』->『Duquesne City School District which got a 49% increase in state funding for 2011-12.&lt;ref&gt; &lt;/ref&gt; In 2010, the District reported that 1,316 students received free or reduced-price lunches, due to the family meeting the [[Poverty in the United States』\n",
      "Unfinished hyperlink in 6178742_0: 『2=nd』->『New Hampshire 's 1st』\n",
      "Unfinished hyperlink in 6328960_1: 『Ganeshwari This temple is said to be built in 1200 century by King Krishnadevray.』->『Vinayaki』\n",
      "Unfinished hyperlink in 6371083_1: 『Formjet PLC』->『Formjet』\n",
      "Unfinished hyperlink in 6685650_1: 『Royal Shakespeare』->『Royal Shakespeare Company』\n",
      "Unfinished hyperlink in 6701781_4: 『2=nd』->『's 1st』\n",
      "Unfinished hyperlink in 6758858_9: 『Székely Egyetemi és Foiskolai Hallgatók』->『Székely Egyetemi és Foiskolai Hallgatók Egyesülete』\n",
      "Unfinished hyperlink in 6795600_3: 『programming with』->『Programming by example』\n",
      "Unfinished hyperlink in 6835920_7: 『2=nd』->『California's 1st』\n",
      "Unfinished hyperlink in 7087900_1: 『Warm』->『Warm Leatherette#Grace Jones version』\n",
      "Title 『』!=『॰』\n",
      "Unfinished hyperlink in 7295637_3: 『2=nd』->『's 1st』\n",
      "Unfinished hyperlink in 7579081_7: 『Lakshminath kanth』->『Lakshminath kanth Bezbaruah's』\n",
      "Unfinished hyperlink in 7736052_4: 『National Medal of』->『National Medal of Technology』\n",
      "Unfinished hyperlink in 7977632_6: 『2=nd』->『California's 1st』\n",
      "Unfinished hyperlink in 7977850_0: 『2=nd』->『California's 1st』\n",
      "Unfinished hyperlink in 7979511_5: 『2=nd』->『California's 1st』\n",
      "Unfinished hyperlink in 9085193_4: 『2=nd』->『California's 1st』\n",
      "Unfinished hyperlink in 9099943_1: 『2=nd』->『California's 1st』\n",
      "Unfinished hyperlink in 9103376_5: 『2=nd』->『California's 1st』\n",
      "Unfinished hyperlink in 9544219_0: 『Ericsson』->『Ericsson』\n",
      "Unfinished hyperlink in 9589190_0: 『2=nd』->『's 1st』\n",
      "Unfinished hyperlink in 9724035_3: 『Nantahala』->『Nantahala National Forest』\n",
      "Unfinished hyperlink in 9931972_10: 『County』->『Cumberland County, New South Wales』\n",
      "Unfinished hyperlink in 10479517_30: 『U.S. Commission on Civil』->『United States Commission on Civil Rights』\n",
      "Unfinished hyperlink in 10502340_3: 『2=nd』->『Maryland 's 1st』\n",
      "Unfinished hyperlink in 10636471_3: 『2=nd |3=rd』->『New Mexico 's 1st』\n",
      "Unfinished hyperlink in 10848474_0: 『Dithering ton』->『Dithering ton』\n",
      "Unfinished hyperlink in 11239975_0: 『Prime Healthcare』->『Prime Healthcare Services, Inc.』\n",
      "Unfinished hyperlink in 11351576_4: 『2=nd』->『California's 1st』\n",
      "Unfinished hyperlink in 11753392_0: 『2=nd』->『's 1st』\n",
      "Unfinished hyperlink in 12293505_0: 『Persiba bantul』->『Persiba bantul』\n",
      "Unfinished hyperlink in 12351670_1: 『branchiostegal』->『ichthyology terms』\n",
      "Unfinished hyperlink in 12693819_0: 『reverse』->『atavism』\n",
      "Unfinished hyperlink in 12716025_0: 『2=nd』->『California's 1st』\n",
      "Unfinished hyperlink in 13008077_1: 『Mathematical Institute of the Hungarian』->『Alfréd Rényi Institute of Mathematics』\n",
      "Unfinished hyperlink in 13320230_1: 『2=nd』->『California's 1st』\n",
      "Unfinished hyperlink in 13523158_1: 『José』->『José Antonio Aguirre (politician)』\n",
      "Unfinished hyperlink in 13625725_4: 『2=nd』->『California's 1st』\n",
      "Unfinished hyperlink in 14055428_11: 『Bill Gardner]] tied it up for the Black Hawks midway through the period. The North Stars retook the lead on a goal by [[Tony McKegney]] just over two minutes later, but [[Denis Savard]] tied it up at 6-6 as he scored 47 seconds later, sending the game to overtime. In the first overtime, the teams were held off the score sheet, with the Hawks outshooting Minnesota 8-7 in a very evenly played period. Early in the second overtime, [[Darryl Sutter]] scored the game winning goal for the Black Hawks, as they won the game 7-6, and took a 3-1 series lead.』->『Craig Hartsburg] and [[Randy Velischek]] scored two late period goals, tying the game at 4-4. Minnesota took their first lead of the game early in the third period on a goal by [[Gordie Roberts]], however, [[Bill Gardner (ice hockey)』\n",
      "Unfinished hyperlink in 14135456_1: 『blocked』->『block (basketball)』\n",
      "Unfinished hyperlink in 14187724_0: 『2=nd』->『Virginia 's 1st』\n",
      "Unfinished hyperlink in 14932074_8: 『2=nd』->『California's 1st』\n",
      "Unfinished hyperlink in 15005346_0: 『2=nd』->『's 1st』\n",
      "Unfinished hyperlink in 15230658_52: 『Apia International』->『2016 Apia International Sydney』\n",
      "Unfinished hyperlink in 15587087_67: 『Sisters of the Blessed Sacrament』->『Sisters of the Blessed Sacrament』\n",
      "Unfinished hyperlink in 15642191_1: 『2=nd』->『's 1st』\n",
      "Unfinished hyperlink in 15785649_1: 『Sir』->『Sir James Douglas, 1st Baronet』\n",
      "Unfinished hyperlink in 15933450_0: 『Democratic M. Teresa née Paiva Weed was born on November 5, 1959 at the Newport Naval Hospital, in Newport, Rhode Island. She is the daughter of Arthur J. and Marie Paiva. Both parents were active in community charities and politics.』->『Democratic Party (United States)』\n",
      "Unfinished hyperlink in 16153537_3: 『2=nd』->『California's 1st』\n",
      "Unfinished hyperlink in 16298942_4: 『2=nd』->『California's 1st』\n",
      "Unfinished hyperlink in 16299004_4: 『2=nd』->『California's 1st』\n",
      "Unfinished hyperlink in 16299053_0: 『2=nd』->『California's 1st』\n",
      "Unfinished hyperlink in 16299093_0: 『2=nd』->『California's 1st』\n",
      "Unfinished hyperlink in 16353840_0: 『2=nd』->『's 1st』\n",
      "Unfinished hyperlink in 16405307_0: 『Revolutionary People's Struggle』->『Revolutionary People's Struggle ELA』\n",
      "Unfinished hyperlink in 16598780_1: 『Rosetta』->『Rosetta (spacecraft)』\n",
      "Unfinished hyperlink in 16623483_0: 『Delay- and disruption-tolerant networks』->『Delay-tolerant networking』\n",
      "Unfinished hyperlink in 16772012_4: 『2=nd』->『California's 1st』\n",
      "Unfinished hyperlink in 16799707_0: 『2=nd』->『's 1st』\n",
      "Unfinished hyperlink in 16877318_0: 『Petition from the parishioners of』->『West Calder Slave Trade Petition』\n",
      "Unfinished hyperlink in 16986065_5: 『2=nd』->『California's 1st』\n",
      "Unfinished hyperlink in 17631664_9: 『2=nd』->『California's 1st』\n",
      "Unfinished hyperlink in 17749087_3: 『Secretary of』->『Secretary of Foreign Affairs (Mexico)』\n",
      "Unfinished hyperlink in 17785651_51: 『Feynman』->『Feynman amplitudes』\n",
      "Unfinished hyperlink in 18357800_2: 『2=nd』->『's 1st』\n",
      "Unfinished hyperlink in 18879309_5: 『2=nd』->『California's 1st』\n",
      "Unfinished hyperlink in 18965689_0: 『\"The』->『The Beggar's Petition』\n",
      "Unfinished hyperlink in 19287276_1: 『anticommutator]]s {\"u\", {\"v\", \"w\"}}. In particular, any [[Lie algebra]] defines a Lie triple system and any [[Jordan algebra]] defines a Jordan triple system. They are important in the theories of [[symmetric space]]s, particularly [[Hermitian symmetric space]]s and their generalizations ([[symmetric R-space]]s and their noncompact duals). A triple system is said to be a Lie triple system if the trilinear form, denoted [...], satisfies the following identities:』->『\"u\", \"v\"], \"w\"] and triple [[Commutator』\n",
      "Unfinished hyperlink in 19350660_6: 『2=nd The primary industries of Likely and its surroundings are currently ranching and tourism. A long-running joke among residents is that the Gross National Product of this part of Modoc County is your choice of: rocks, junipers, or sagebrush. Local, State, Federal, and Tribal governments are the largest employers in Modoc. Timber and peat moss industries collapsed in the 1980s due to increased costs and loss of railroad infrastructure.』->『California's 1st』\n",
      "Unfinished hyperlink in 19627978_2: 『Paul』->『Paul Bunyan (operetta)』\n",
      "Unfinished hyperlink in 19658140_1: 『US』->『United States Army Aviation and Missile Command』\n",
      "Unfinished hyperlink in 19753121_40: 『\"Billboard\"』->『Billboard Hot 100』\n",
      "Unfinished hyperlink in 19921135_0: 『Akershus』->『Akershus festning』\n",
      "Unfinished hyperlink in 20813639_0: 『Jimmy Ruffin</a.』->『Jimmy Ruffin』\n",
      "Unfinished hyperlink in 21079677_0: 『2=nd Fundraising totals for Olver and Gunn are as of October 13, 2010. Totals for Engel are as of September 30. Source: Federal Election Commission』->『's 1st』\n",
      "Unfinished hyperlink in 21328348_8: 『Monterey Pine』->『Monterey Pine pines』\n",
      "Unfinished hyperlink in 21465268_1: 『Middletown,』->『Middletown, Pennsylvania』\n",
      "Unfinished hyperlink in 21482236_0: 『Southern Westchester』->『Southern Westchester』\n",
      "Unfinished hyperlink in 21505323_4: 『UEFA』->『2009-10 UEFA Champions League』\n",
      "Unfinished hyperlink in 21904168_0: 『tropical wet』->『tropical monsoon climate』\n",
      "Unfinished hyperlink in 22788906_24: 『PLM Live@edu』->『Live@edu』\n",
      "Unfinished hyperlink in 22824297_1: 『Loyola』->『Loyola Ramblers men's basketball』\n",
      "Unfinished hyperlink in 22984112_5: 『2=nd Media related to at Wikimedia Commons』->『California's 1st』\n",
      "Unfinished hyperlink in 22984992_6: 『2=nd』->『California's 1st』\n",
      "Unfinished hyperlink in 23050382_4: 『2=nd』->『California's 1st』\n",
      "Unfinished hyperlink in 23052450_4: 『2=nd』->『California's 1st』\n",
      "Unfinished hyperlink in 23053068_5: 『2=nd』->『California's 1st』\n",
      "Unfinished hyperlink in 23053269_5: 『2=nd』->『California's 1st』\n",
      "Unfinished hyperlink in 23053345_4: 『2=nd』->『California's 1st』\n",
      "Unfinished hyperlink in 23053410_4: 『2=nd』->『California's 1st』\n",
      "Unfinished hyperlink in 23053491_4: 『2=nd』->『California's 1st』\n",
      "Unfinished hyperlink in 23053964_4: 『2=nd』->『California's 1st』\n",
      "Unfinished hyperlink in 23231958_4: 『2=nd』->『California's 1st』\n",
      "Unfinished hyperlink in 23232187_4: 『2=nd』->『California's 1st』\n",
      "Unfinished hyperlink in 23233258_5: 『2=nd』->『California's 1st』\n",
      "Unfinished hyperlink in 23233329_5: 『2=nd』->『California's 1st』\n",
      "Unfinished hyperlink in 23470390_3: 『knowledge』->『knowledge engineering』\n",
      "Unfinished hyperlink in 23567962_1: 『Plain』->『Plain Dealing, Louisiana』\n",
      "Unfinished hyperlink in 23607116_0: 『1st |2=nd』->『1st Cavalry Corps』\n",
      "Unfinished hyperlink in 23618986_0: 『1st Infantry Artillery Trench Artillery Cavalry Engineers 4–13 August 13–23 August 23–29 August 29 August – 6 September 6–13 September 13 September – 12 December 12 December 1914 – 12 January 1915 12–20 January 20 January – 2 March 2 March – 5 April 5–11 April 11–29 April 29 April – 11 May 11–15 May 15 May – 3 September 3 September – 2 October 2 October 1915 – 12 February 1916 12–21 February 21 February – 8 March 8 March – 14 April 14 April – 24 July 24 July – 3 September 3 September – 5 October 5–9 October 9–16 October 16 October – 30 November 30 November – 14 December 14 December 1916 – 6 January 1917 6 January – 27 February 21 February – 6 March 6 March – 8 April 8–19 April 19 April – 7 July 7–30 July 30 July – 4 August 4–22 August 22 August – 6 October 6–16 October 16 October – 21 November 21 November – 7 December 7 December 1917-17 January 1918 17 January – 20 March 20–31 March』->『1st Military Region』\n",
      "Unfinished hyperlink in 23991263_1: 『British』->『Ministry of Defence (United Kingdom)』\n",
      "Unfinished hyperlink in 24234987_5: 『2=nd』->『California's 1st』\n",
      "Unfinished hyperlink in 24415404_4: 『2=nd』->『California's 1st』\n",
      "Unfinished hyperlink in 24427117_4: 『2=nd』->『California's 1st』\n",
      "Unfinished hyperlink in 24427169_4: 『2=nd』->『California's 1st』\n",
      "Unfinished hyperlink in 24585352_0: 『ran past the home signal at Eastbourne at』->『Signal passed at danger』\n",
      "Unfinished hyperlink in 24731562_0: 『He Who』->『Moloch』\n",
      "Unfinished hyperlink in 24943511_2: 『CMG』->『CMG (company)』\n",
      "Unfinished hyperlink in 25200603_4: 『Association of the British Pharmaceutical Industry』->『Association of the British Pharmaceutical Industry』\n",
      "Unfinished hyperlink in 25394213_0: 『Bucharest』->『National University of Music Bucharest』\n",
      "Unfinished hyperlink in 25442860_15: 『Crotto House</.』->『http://humphrysfamilytree.com/Blennerhassett/crotto.html』\n",
      "Unfinished hyperlink in 25529736_9: 『No. 18 (Netherlands East Indies)』->『No. 18 (Netherlands East Indies) Squadron RAAF』\n",
      "Unfinished hyperlink in 26764267_0: 『2=nd』->『Michigan 's 1st』\n",
      "Unfinished hyperlink in 27087682_10: 『Jimmie』->『Jimmie Haskell』\n",
      "Unfinished hyperlink in 27240416_3: 『Bell Telephone』->『Bell Labs』\n",
      "Unfinished hyperlink in 27658059_0: 『2=nd』->『South Carolina 's 1st』\n",
      "Unfinished hyperlink in 27859809_4: 『RIAA Certification</.』->『RIAA Certification』\n",
      "Unfinished hyperlink in 27859809_5: 『RIAA Certification</.』->『RIAA Certification』\n",
      "Unfinished hyperlink in 28109314_3: 『Free and Accepted』->『Freemasonry』\n",
      "Unfinished hyperlink in 28573959_0: 『2=nd』->『Arkansas 's 1st』\n",
      "Unfinished hyperlink in 28609430_0: 『GABA』->『GABAA receptor』\n",
      "Unfinished hyperlink in 28879010_1: 『 PE2』->『Meridian LRT Station』\n",
      "Unfinished hyperlink in 29133104_0: 『2=nd』->『New Mexico 's 1st』\n",
      "Unfinished hyperlink in 29217491_0: 『2=nd Causey was born and raised in Jonesboro, attending school at South Elementary, Annie Camp Junior High, and Jonesboro High School. His grandfather started a small business, still owned by the family, with a $50 loan. His mother, Gussi Causey, is a counselor at Jonesboro High School.』->『Arkansas 's 1st』\n",
      "Unfinished hyperlink in 29397523_0: 『Russian University』->『Peoples' Friendship University of Russia』\n",
      "Unfinished hyperlink in 30171835_1: 『«/a> symbols. The Mahpach is sung on a high note until the final syllable, which is lower.』->『Bracket#Uses of &quot;&lt;&quot; and &quot;&gt;&quot;』\n",
      "Unfinished hyperlink in 30237421_5: 『Benjamin J. Greenb』->『Benjamin J. Greenb erg』\n",
      "Unfinished hyperlink in 30482934_1: 『parish』->『The Saints, Suffolk』\n",
      "Unfinished hyperlink in 30706451_19: 『3D Studio Max』->『3D Studio Max』\n",
      "Unfinished hyperlink in 30725545_0: 『federally』->『Federally recognized tribes』\n",
      "Unfinished hyperlink in 30871134_2: 『Grant』->『Grant Hill (basketball)』\n",
      "Unfinished hyperlink in 30874451_13: 『ЗСУ-23-4 \"Шилка\" - Army.lv«/a></ref>』->『http://www.army.lv/?s=703&amp;id=65&amp;v=1#info』\n",
      "Unfinished hyperlink in 31102038_2: 『Psychology</a. NON-DEGREE PROGRAMS GRADUATE PROGRAMS The university has several research centers. U.P. BAGUIO'S UNIVERSITY EXTENSION SERVICE UNITS』->『Psychology』\n",
      "Unfinished hyperlink in 31472518_0: 『2=nd』->『Wisconsin 's 1st』\n",
      "Unfinished hyperlink in 31512612_7: 『RIAA Certification</.』->『RIAA Certification』\n",
      "Unfinished hyperlink in 32073641_4: 『2=nd』->『California's 1st』\n",
      "Unfinished hyperlink in 32073684_3: 『2=nd』->『California's 1st』\n",
      "Unfinished hyperlink in 32194301_2: 『Boston Museum of』->『Museum of Fine Arts, Boston』\n",
      "Unfinished hyperlink in 32270487_1: 『Simon,』->『Simon Harcourt, 1st Earl Harcourt』\n",
      "Unfinished hyperlink in 32315829_4: 『2=nd』->『California's 1st』\n",
      "Unfinished hyperlink in 32315869_4: 『2=nd』->『California's 1st』\n",
      "Unfinished hyperlink in 32317246_4: 『2=nd Fire protection for Verdi, CA is provided by the Verdi Volunteer Fire Department.』->『California's 1st』\n",
      "Unfinished hyperlink in 32317302_4: 『2=nd』->『California's 1st』\n",
      "Unfinished hyperlink in 32427138_1: 『Jalapa,』->『1967 Central American and Caribbean Championships in Athletics』\n",
      "Unfinished hyperlink in 32498845_3: 『music』->『music criticism』\n",
      "Unfinished hyperlink in 32686035_0: 『John』->『John McDougall (California politician)』\n",
      "Unfinished hyperlink in 32686035_1: 『State of』->『Pitt River Expedition#State of California.27s Pitt River Expedition .281859.29』\n",
      "Unfinished hyperlink in 32842014_4: 『Triple』->『Professional wrestling match types#Basic non-elimination matches』\n",
      "Unfinished hyperlink in 32868799_3: 『E♭』->『E (musical note)』\n",
      "Unfinished hyperlink in 33011651_2: 『2=nd』->『Pennsylvania 's 1st』\n",
      "Unfinished hyperlink in 33011688_3: 『2=nd』->『Pennsylvania 's 1st』\n",
      "Unfinished hyperlink in 33014234_1: 『2=nd』->『Pennsylvania 's 1st』\n",
      "Unfinished hyperlink in 33014238_1: 『2=nd』->『Pennsylvania 's 1st』\n",
      "Unfinished hyperlink in 33014248_2: 『2=nd』->『Pennsylvania 's 1st』\n",
      "Unfinished hyperlink in 33021969_1: 『2=nd』->『Pennsylvania 's 1st』\n",
      "Unfinished hyperlink in 33073497_2: 『. Children's Home Society for battered women and children, and Covenant Hospice., where fine art is auctioned off and proceeds go directly to help those in need.』->『http://www.chsfl.org/Home』\n",
      "Unfinished hyperlink in 33183099_0: 『Madras and Southern』->『Madras and Southern Mahratta Railway』\n",
      "Unfinished hyperlink in 33194443_5: 『HDMS』->『HDMS Sehested (P547)』\n",
      "Unfinished hyperlink in 33242214_2: 『2=nd ... Starting today, I am taking on a new challenge: I am running for a seat in the United States Congress from Washington State in 2012. I am running to serve as a common-sense, effective voice for suburban families like yours and mine, and to help fix the outrageous mess in Washington, DC. I would be proud to be the next Democratic Representative from Washington State in Congress.』->『Washington 's 1st』\n",
      "Unfinished hyperlink in 33319261_16: 『Santa Cruz』->『World Disc Games』\n",
      "Unfinished hyperlink in 33796234_0: 『football, but transferred after his family settled in [[Haltom City, Texas]].』->『high school football』\n",
      "Unfinished hyperlink in 33865106_0: 『Catholic Diocese of』->『Roman Catholic Diocese of Kurnool』\n",
      "Unfinished hyperlink in 33887457_0: 『World's』->『World's Columbian Exposition』\n",
      "Unfinished hyperlink in 34960360_4: 『acoustic song』->『acoustic song』\n",
      "Unfinished hyperlink in 35074861_1: 『Hull Kingston』->『Hull Kingston Rovers』\n",
      "Unfinished hyperlink in 35103698_0: 『2=nd』->『Kentucky 's 1st』\n",
      "Unfinished hyperlink in 35276027_0: 『A-』->『A- Trak』\n",
      "Unfinished hyperlink in 35686385_12: 『General』->『Joseph Gallieni』\n",
      "Unfinished hyperlink in 36101491_4: 『discrete』->『Noisy-channel coding theorem』\n",
      "Unfinished hyperlink in 36602167_5: 『music』->『music criticism』\n",
      "Unfinished hyperlink in 36641135_10: 『2=nd』->『Wisconsin 's 1st』\n",
      "Unfinished hyperlink in 36703077_0: 『music』->『music criticism』\n",
      "Unfinished hyperlink in 36808594_13: 『2015』->『2015 United Nations Climate Change Conference』\n",
      "Unfinished hyperlink in 37246374_0: 『Mexican』->『Political divisions of Mexico』\n",
      "Unfinished hyperlink in 37272048_1: 『music』->『music criticism』\n",
      "Unfinished hyperlink in 37677865_0: 『Perry』->『Perry Park, Kentucky』\n",
      "Unfinished hyperlink in 37789289_0: 『2=nd Milledge took his seat on November 22, 1792』->『Georgia 's 1st』\n",
      "Unfinished hyperlink in 37790878_0: 『2=nd』->『Pennsylvania 's 1st』\n",
      "Unfinished hyperlink in 37826476_0: 『2=nd』->『New York 's 1st』\n",
      "Unfinished hyperlink in 37856251_0: 『2=nd Wickes won the seat for the 9th Congress and Riker for the remainder of the 8th Congress, taking his seat on November 5, 1804.』->『New York 's 1st』\n",
      "Unfinished hyperlink in 37894763_0: 『2=nd Porter took his seat December 8, 1806』->『Pennsylvania 's 1st』\n",
      "Unfinished hyperlink in 37894957_0: 『2=nd Say took his seat on November 16, 1808.』->『Pennsylvania 's 1st』\n",
      "Unfinished hyperlink in 37915947_0: 『2=nd Seybert took his seat November 27, 1809, at the start of the second session of the 11th Congress』->『Pennsylvania 's 1st』\n",
      "Unfinished hyperlink in 37916315_0: 『2=nd Call took his seat on December 23, 1824, serving until the end of the 18th Congress on March 13, 1825.』->『Indiana 's 1st』\n",
      "Unfinished hyperlink in 37988168_0: 『2=nd Fletcher took his seat on December 2, at the start of the second session of the 14th Congress.』->『Kentucky 's 1st』\n",
      "Unfinished hyperlink in 37990061_0: 『2=nd Harrison took his seat on December 2, 1816』->『Ohio 's 1st』\n",
      "Unfinished hyperlink in 38047160_0: 『2=nd Jackson took his seat on November 13, 1820』->『Virginia 's 1st』\n",
      "Unfinished hyperlink in 38102887_0: 『2=nd Forrest took his seat December 2, 1822』->『Pennsylvania 's 1st』\n",
      "Unfinished hyperlink in 38193926_0: 『2=nd There were also 57 votes for someone with the surname of Martin, first name and party affiliation unknown.』->『Pennsylvania 's 1st』\n",
      "Unfinished hyperlink in 38242543_0: 『2=nd Two elections were held due to a majority not being achieved on the first ballot. Skinner took office on January 27, 1797』->『Massachusetts 's 1st』\n",
      "Unfinished hyperlink in 38381071_0: 『2=nd Shaw took his seat on November 8, 1808』->『Vermont 's 1st』\n",
      "Unfinished hyperlink in 38608644_0: 『9th Escadrille of the First』->『9 Squadron (Belgium)』\n",
      "Harry Diamond 38754454 https://en.wikipedia.org/wiki?curid=38754454\n",
      "Unfinished hyperlink in 38767813_0: 『2=nd』->『Massachusetts 's 1st』\n",
      "Unfinished hyperlink in 38818424_0: 『2=nd Gorham took his seat on November 27, 1820.』->『Massachusetts 's 1st』\n",
      "Unfinished hyperlink in 38876011_0: 『2=nd Drayton took his seat on December 5, 1825』->『South Carolina 's 1st』\n",
      "Unfinished hyperlink in 38902978_0: 『2=nd』->『Florida 's 1st』\n",
      "Unfinished hyperlink in 39132276_0: 『2=nd Gorham took his seat on December 3, 1827.』->『Massachusetts 's 1st』\n",
      "Unfinished hyperlink in 39161012_3: 『music』->『music criticism』\n",
      "Unfinished hyperlink in 39477919_2: 『2=nd』->『Alabama 's 1st』\n",
      "Unfinished hyperlink in 40147167_0: 『Michael』->『Mike Cassidy (entrepreneur)』\n",
      "Unfinished hyperlink in 40799967_10: 『2=nd』->『Wisconsin 's 1st』\n",
      "Unfinished hyperlink in 40812967_2: 『2=nd』->『Hawaii 's 1st』\n",
      "Unfinished hyperlink in 41732472_2: 『2=nd Levene withdrew from the Minnesota race because of lack of 6th district voter interest and failed to obtain the 1,000 valid signatures in Michigan. After failing to obtain the required signatures in Michigan, his application to run for the New Hampshire's 1st district was denied by the N.H. Secretary of State. He was included on the Georgia and Hawaii primary Republican ballots.』->『Hawaii 's 1st』\n",
      "Unfinished hyperlink in 41969647_2: 『2=nd Manahan is married.』->『Hawaii 's 1st』\n",
      "Unfinished hyperlink in 42326592_0: 『Reddy』->『G. Janardhana Reddy』\n",
      "Unfinished hyperlink in 42647059_5: 『National Historical Commission of the Philippines] for being the \"Unang Pagawaan ng Sapatos sa Marikina\" or the First Shoe Workshop in Marikina.』->『National Historical Commission of the Philippines] for being the \"Unang Pagawaan ng Sapatos sa Marikina\" or the First Shoe Workshop in Marikina. It is also recognized as a Cultural Property of the Philippines by the [National Commission on Culture and the Arts』\n",
      "Unfinished hyperlink in 43273574_1: 『Indira Gandhi』->『Indira Gandhi Park (Rourkela)』\n",
      "Unfinished hyperlink in 43334163_1: 『Years of Solitude'] (1998); [[Disconnected']] (2000), All albums exclusively distributed by [[Garni Records]] (BMI). In 1998, founded Sevada Productions where Art executed multimedia and advertising projects for artists, various types of companies and creative firms.』->『Years of Solitude'] (1998); [[Disconnected']] (2000), All albums exclusively distributed by [[Garni Records]] (BMI). In 1998, founded Sevada Productions where Art executed multimedia and advertising projects for artists, various types of companies and creative firms. In 2005 [[Sevada]] started the filming of the [[Sevada Short Films Trilogy]] titled [[Mikosh]] starring Ofelia Zakaryan, later followed by [[As a Beginning]] and [[The Rope']] starring [[Michael Poghosian]] and [[Sergey Danielyan]]. In 2008 was invited to shoot a film called [[Three Colors in Black &amp; White]] as part of a full-length film project shot by 12 [[Armenian Directors]] dedicated to the capital city of [[Armenia]], [[Yerevan]]. Currently working on a feature film project about [[neurolinguistics]] titled [[God Syndrome]] and [[The Genex]] a political thriller dedicated to the [[Armenian Genocide]]. Sevada's other ventures include CEO at EdgeArt Entertainment Inc., a media conglomerate specializing in film production and distribution under [[Dustworx]] Pictures in [[Los Angeles]]; [[software development]] under [[EpixArts]]; electronic book publishing [[eBooks]] under [[Menua ]] Publishing Ltd.; [[music production]] and distribution under [[YouTempo]] Music; casting services under [[Gallagher &amp; Associates]]; [[AmeraTrans]] transportation; Gazan Digital [[Entertainment Magazine]]; [[3DUMake]] technologies for [3d』\n",
      "Unfinished hyperlink in 43875354_8: 『Louis』->『Louis Bottinelly』\n",
      "Unfinished hyperlink in 44051505_9: 『pedal』->『pedal steel guitar』\n",
      "Unfinished hyperlink in 44080500_3: 『UNICEF Goodwill』->『List of UNICEF Goodwill Ambassadors#Gambia』\n",
      "Unfinished hyperlink in 44262741_4: 『 PE1』->『Cove LRT Station』\n",
      "Unfinished hyperlink in 44707614_4: 『Catherine』->『Catherine Heszer』\n",
      "Unfinished hyperlink in 46287138_0: 『Cooper』->『Cooper Baronets』\n",
      "Unfinished hyperlink in 47120182_0: 『2=nd』->『Arizona 's 1st』\n",
      "Unfinished hyperlink in 47352525_24: 『Humphrey Mackworth]] of [[Betton Strange]], the military governor of the town. Mackworth was one of Paget's parishioners and had a history of involvement in ecclesiastical politics stretching back to the 1620s, when he had opposed Peter Studley, the [[Laudian]] vicar of St Chad's and refused to kneel for communion. Although the Shropshire scheme gave every appearance on paper of being well thought-out, it seems that for most of the county it never took real effect. Only the Fourth or Whitchurch Classis (also called the Bradford North Classis, after the [[Hundred (county division)|hundred]] it occupied) became fully operational, ordaining 63 ministers over the twelve years of its existence. Shrewsbury under Mackworth soon began to follow a very different path and Paget seems to have been a close ally.』->『The lay elders were headed by the mayor of Shrewsbury and included Richard Pigot, the headmaster of [[Shrewsbury School]], whom Paget must have known already, as Pigot was head of [[Northwich]] School when Nathan Paget was a student.&lt;ref name=odnb-nathan/&gt; The key figure among the elders was, however, [[Humphrey Mackworth (Parliamentarian)』\n",
      "Unfinished hyperlink in 47638510_1: 『Billboard]]\" Magazine. The awards are based on sales data by [[Nielsen SoundScan]] and radio information by [[Nielsen Broadcast Data Systems]]. Macklemore & Ryan Lewis have wone two awards out of twelve nominations. The [[Brit Awards]] are the [[British Phonographic Industry]]'s pop music awards. Macklemore & Ryan Lewis have received one nomination. The [[Grammy Awards]] are awarded annually by the [[National Academy of Recording Arts and Sciences]] of the United States. Macklemore & Ryan Lewis have won four awards out of seven nominations.』->『Australian Recording Industry Association (ARIA). Macklemore &amp; Ryan Lewis have received one nomination. ==[[BET Awards]]== The [[BET Awards]] were established in 2001 by the [[Black Entertainment Television]] (BET) network to celebrate African Americans and other minorities in music, acting, sports, and other fields of entertainment. The awards are presented annually and broadcasts live on BET. Macklemore &amp; Ryan Lewis have won one award out of three nominations. ==[[BET Hip Hop Awards]]== The [[BET Hip Hop Awards]] are hosted annually by the [[Black Entertainment Television]] network for Hip-Hop performers, producers and music video directors. Macklemore &amp; Ryan Lewis have received two nominations. ==[[Billboard Music Award]]== The [[Billboard Music Awards]] are sponsored by \"[[Billboard (magazine)』\n",
      "Unfinished hyperlink in 48251466_0: 『Chervonoe Ukraine』->『Chervonoe Ukraine』\n",
      "Unfinished hyperlink in 48324762_5: 『D.』->『D Major』\n",
      "Unfinished hyperlink in 48451077_1: 『Transparent Exopolymer』->『Exopolymer』\n",
      "Unfinished hyperlink in 49364236_3: 『Chak 15』->『Chak 15 DNB』\n",
      "Unfinished hyperlink in 50030179_0: 『computational』->『computational complexity theory』\n",
      "Unfinished hyperlink in 50553690_3: 『war』->『Mexican–American War』\n",
      "Unfinished hyperlink in 50733495_0: 『Head-』->『Head-up display』\n",
      "Unfinished hyperlink in 50934825_0: 『thumb|324x324px| Building Giants』->『』\n",
      "Unfinished hyperlink in 51322352_1: 『restoration of St George's church in Georgeham. The church contains a \"Pickwell chapel\" which dates from 1762 and is separated from the body of the church by an ornate screen.』->『Victorian restoration』\n",
      "Unfinished hyperlink in 51348047_1: 『Mare Island』->『Mare Island Navy Yard』\n",
      "Unfinished hyperlink in 51780747_42: 『Charles Bailey]], [[David Robinson (basketball)|David Robinson]]. 1990, Topeka, Kansas: Sam Ragnone, Attorney - Flint, Michigan - at Topeka, Kansas Coach Sam Ragnone; [[Joel Ragland]], Lamar Edwards, Darrin Fitzgerald, Tom Hawkins, Terry Duerod, Eric Turner, Ray Keiser, [[Greg Kelser]], Lorenzo Orr, Zack Hicks, Rony Thompkins, Ernest Williams. 1991, Topeka, Kansas: Lafayette Hustlers - Lafayette, Indiana』->『Raymond Lettstom, K.E. Whittaker, [[Walter Golden]], Willie Linder, [[Charles Bailey (basketball)』\n",
      "Unfinished hyperlink in 52161207_3: 『dimerization/ polymerization [[ETV6]], a step required for it to inhibit transcription. The protein's [[C-terminus]] contains the C-terminus of the TrkC. The fusion protein lacks transcription regulating activity but has dysregulated, i.e., continuously active tyrosine kinase activity. In consequence of the latter effect, the fusing protein continuously stimulates pro-growth and pro-survival pathways and thereby the malignant growth of its parent cells.』->『Dimer (chemistry)』\n",
      "Unfinished hyperlink in 52767286_1: 『Higher Education』->『Higher Education Commission』\n",
      "Unfinished hyperlink in 53323454_4: 『IAS-』->『Akademio Internacia de la Sciencoj San Marino』\n",
      "Unfinished hyperlink in 53687987_54: 『Gallipoli, near the approaches to Constantinople. Their great victory was at Gallipoli. Troop movements were extremely difficult because of the heavy inadequate and uncompleted railway system.』->『Battle of Gallipoli』\n",
      "Unfinished hyperlink in 53895456_3: 『signaling』->『cell signaling』\n",
      "Unfinished hyperlink in 54158618_0: 『Princess Louise's Kensington Regiment, The Middlesex Regiment』->『Middlesex Regiment』\n",
      "Unfinished hyperlink in 54851453_1: 『Butrint Foundation, www.Butrintfoundation.org』->『Butrint Foundation, www.Butrintfoundation.org』\n",
      "Unfinished hyperlink in 55049083_0: 『Railroad Club] ], But did not succeed, to play 4 consecutive seasons with the Shebin .』->『Railroad Club] ], But did not succeed, to play 4 consecutive seasons with the Shebin . ==Shebin== Throughout the four seasons he played with Ghazal Shebin, his talent emerged and became very sought after by the Arab Contractors, but the officials refused to leave the player and keep him away from the ball for a full year, having felt a great chance of being in the Premier League at a young age. When Al-Ahly took over the first team of Ghazal Shebin, he managed to convince the player to return to the club and participate with the first team in the third division games. The player has already contributed significantly after two seasons to qualify for the second division to play 4 seasons with Ghazal Shebin . [Sami Sami』\n",
      "Unfinished hyperlink in 55111671_5: 『Carnegie Rochester Conference Series』->『Journal of Monetary Economics』\n",
      "Unfinished hyperlink in 55327213_3: 『ILD]]), [[Roy Wilkins]] ([[NAACP]]), [[Paul Frederick Brissenden]], [[Jerome Frank]], [[Karl Llewelyn]], [[Charles Erskine Scott Wood]], [[Floyd Dell]], Yetta Land, [[Shad Polier]], Thomas Emerson, [[Alger Hiss]], [[Nathan Witt]], [[Lee Pressman]], [[Abe Fortas]], and [[Joseph Kovner]]. Of King, Greene said: She made you feel that unless you took the case or wrote the brief, the guy would be deported and maybe killed in his home country. Once you grudgingly committed yourself, you got interested in the legal problems themselves and they kept you going and doing the best you could. Im a lazy guy myself, but I really worked on cases Carol got me into. With [[Joseph Kovner]], he edited issues of the International Juridical Association \"Bulletin\". Through the IJA, he came to know prominent Communist union officials, including [[Ben Gold]] and [[Irving Potash]]. He helped them prepare for legal cases, and then he wrote about those cases in the IJA \"Bulletin\". Of the \"Bulletin\", Greene commented said that the editor tried \"to understand the day-by-day and month-by-month movments in freedom's reide and to convey this understanding to others.\" In 1937, with other IJA members, Greene helped write an [[amici curiae]] on behalf picketers, whom the U.S. Supreme Court had bared during \"Senn v. Tile Layers Protective Union\". In 1938, unlike many other IJA members, Greene refused to help fund a habeas appeal for \"[[Johnson v. Zerbst]], 304 U.S. 458\".』->『Joseph Brodsky (lawyer) ([[International Labor Defense』\n",
      "\n",
      "Total 18231343 paragraphs indexed in ES\n"
     ]
    }
   ],
   "source": [
    "from collections import defaultdict\n",
    "from html import unescape\n",
    "import time\n",
    "from urllib.parse import unquote\n",
    "from elasticsearch.helpers import bulk\n",
    "\n",
    "\n",
    "def act_batch(batch):\n",
    "    time_start = time.time()\n",
    "    bulk(es, batch)\n",
    "    time_end = time.time()\n",
    "    #print(f'Indexed {len(action_batch)} items, time cost: {time_end - time_start}s')\n",
    "\n",
    "\n",
    "batch_size = 1000\n",
    "\n",
    "para_num_bins = defaultdict(list)\n",
    "link_num_bins = defaultdict(list)\n",
    "token_num_bins = defaultdict(list)\n",
    "hotpot_map = dict()\n",
    "\n",
    "wiki_out = open(f'data/corpus/enwiki-20171001-paragraph-{data_version}.tsv', 'w')  # include some title paragraphs for compatibility with HotpotQA\n",
    "wiki_out.write(\"id\\ttext\\ttitle\\thyperlinks\\n\")\n",
    "wiki_out.flush()\n",
    "hotpot_out = open(f'data/corpus/hotpot-paragraph-{data_version}.tsv', 'w')  # only non-empty abstract paragraphs for HotpotQA\n",
    "hotpot_out.write(\"id\\ttext\\ttitle\\thyperlinks\\tsentence_spans\\n\")\n",
    "hotpot_out.flush()\n",
    "\n",
    "total_num_para = 0\n",
    "actions = []\n",
    "for filename in tqdm(files):\n",
    "    if not os.path.isfile(filename):\n",
    "        continue\n",
    "    with bz2.open(filename, 'rb') as fin:\n",
    "        for line in fin:  # for each document\n",
    "            page = json.loads(line)\n",
    "            if len(page['text']) <= 1:\n",
    "                continue\n",
    "\n",
    "            doc_id = page['id']\n",
    "            title = norm_text(page['title'])\n",
    "\n",
    "            # Check title\n",
    "            if norm_text(''.join(page['text'][0])) != title:\n",
    "                print(f\"Title 『{norm_text(''.join(page['text'][0]))}』!=『{title}』\")\n",
    "            if title == 'Harry Diamond':\n",
    "                print(f\"{title} {doc_id} {page['url']}\")\n",
    "\n",
    "            abs_strs = abstracts[doc_id] if doc_id in abstracts else None\n",
    "            found_abs = abs_strs is None\n",
    "\n",
    "            # Merge some raw paragraphs and pre-pocess text\n",
    "            paragraphs = []\n",
    "            p_idx = 1\n",
    "            while p_idx < len(page['text']):  # for each paragraph\n",
    "                para_id = f'{doc_id}_{len(paragraphs)}'\n",
    "                for_hotpot = False\n",
    "\n",
    "                # Initialize the paragraph with the current paragraph\n",
    "                sentence_strs = page['text'][p_idx].copy()\n",
    "                num_raw_token = len(page['charoffset'][p_idx])\n",
    "                if not found_abs and sentence_strs == abs_strs:\n",
    "                    for_hotpot = True\n",
    "                    found_abs = True\n",
    "                p_idx += 1\n",
    "                # Append subsequent broken/short paragraphs to the paragraph\n",
    "                while (p_idx < len(page['text']) and\n",
    "                       sum(map(len, page['charoffset'][p_idx])) <= max(10, 100 - num_raw_token)):\n",
    "                    # if sum(map(len, page['charoffset'][p_idx])) >= 10:\n",
    "                    #     print(f\"{para_id}:\"\n",
    "                    #           f\"『⋯ {''.join(sentence_strs)[-92:]}』{num_raw_token}+\\n\"\n",
    "                    #           f\"\\t『{''.join(page['text'][p_idx])}』\")\n",
    "                    np_sentence_strs = page['text'][p_idx][:]\n",
    "                    if not found_abs and np_sentence_strs == abs_strs:\n",
    "                        for_hotpot = True\n",
    "                        found_abs = True\n",
    "                    if len(np_sentence_strs) > 0:\n",
    "                        np_sentence_strs[0] = ' ' + np_sentence_strs[0]\n",
    "                        sentence_strs.extend(np_sentence_strs)\n",
    "                        num_raw_token += sum(map(len, page['charoffset'][p_idx]))\n",
    "                    p_idx += 1\n",
    "                para_str = ''.join(sentence_strs)\n",
    "\n",
    "                # Pre-process the semi-structral text of the paragraph\n",
    "                para_str = norm_text(para_str)\n",
    "                para_str = anchor_head.sub(r'┃┊┇┊┃<a href=\"\\1\">┃┊┇┊┃', para_str)\n",
    "                para_str = anchor_tail.sub(r'┃┊┇┊┃</a>┃┊┇┊┃', para_str)\n",
    "                para_str = broken_head.sub(r'┃┊┇┊┃<a href=\"\\2\">┃┊┇┊┃', para_str)\n",
    "                para_str = broken_tail.sub(r'┃┊┇┊┃</a>┃┊┇┊┃', para_str)\n",
    "\n",
    "                # Remove html tags and extract hyperlinkers\n",
    "                target = None\n",
    "                anchor_segs = None\n",
    "                para_segs = []\n",
    "                para_hyperlinks = defaultdict(list)\n",
    "                for seg in re.split(r'┃┊┇┊┃', para_str):\n",
    "                    # seg = seg.strip()\n",
    "                    if not seg:\n",
    "                        continue\n",
    "\n",
    "                    match = anchor_head.match(seg)\n",
    "                    if match:  # anchor head\n",
    "                        target = norm_text(unquote(match.group(1)))  # xxx\n",
    "                        anchor_segs = []\n",
    "                        #if target not in titles:\n",
    "                        #    target = None\n",
    "                        #    anchor_segs = None\n",
    "                    elif anchor_tail.match(seg):  # anchor tail\n",
    "                        if None in (target, anchor_segs):\n",
    "                            if target is not None or anchor_segs is not None:\n",
    "                                print(f\"Incomplete <a>:『{anchor_segs}』->『{target}』 {para_str}\")\n",
    "                            continue\n",
    "                        anchor_text = ''.join(anchor_segs)\n",
    "                        anchor_text_end = len(''.join(para_segs))\n",
    "                        para_hyperlinks[target].append({\n",
    "                            \"anchor_text\": anchor_text,\n",
    "                            \"span\": [anchor_text_end - len(anchor_text), anchor_text_end]\n",
    "                        })\n",
    "                        assert ''.join(para_segs)[anchor_text_end - len(anchor_text):anchor_text_end] == anchor_text\n",
    "                        target = None\n",
    "                        anchor_segs = None\n",
    "                    else:  # anchor middle\n",
    "                        if anchor_segs is not None:\n",
    "                            anchor_segs.append(seg)\n",
    "                        para_segs.append(seg)\n",
    "                if target is not None or anchor_segs is not None:\n",
    "                    print(f\"Unfinished hyperlink in {para_id}: \"\n",
    "                          f\"『{None if anchor_segs is None else ''.join(anchor_segs)}』->『{target}』\")\n",
    "                    if anchor_segs is not None and target is not None:\n",
    "                        anchor_text = ''.join(anchor_segs)\n",
    "                        anchor_text_end = len(''.join(para_segs))\n",
    "                        para_hyperlinks[target].append({\n",
    "                            \"anchor_text\": anchor_text,\n",
    "                            \"span\": [anchor_text_end - len(anchor_text), anchor_text_end]\n",
    "                        })\n",
    "                        assert ''.join(para_segs)[anchor_text_end - len(anchor_text):anchor_text_end] == anchor_text\n",
    "                    target = None\n",
    "                    anchor_segs = None\n",
    "                para_text = ''.join(para_segs)  # norm_text()\n",
    "\n",
    "                # Insert the new paragraph\n",
    "                if para_text:\n",
    "                    para_idx = len(paragraphs)\n",
    "                    paragraphs.append({\n",
    "                        \"doc_id\": doc_id,\n",
    "                        \"url\": page['url'],\n",
    "                        \"title\": title,\n",
    "                        \"title_unescaped\": unescape(title),\n",
    "                        \"para_id\": para_id,\n",
    "                        \"para_idx\": para_idx,\n",
    "                        \"para_num\": -1,\n",
    "                        \"text\": para_text,\n",
    "                        \"hyperlinks\": para_hyperlinks,\n",
    "                        \"for_hotpot\": for_hotpot\n",
    "                    })\n",
    "                    if for_hotpot:\n",
    "                        assert abs_strs is not None\n",
    "                        hotpot_map[doc_id] = {\"para_idx\": para_idx, \"sentence_spans\": find_sentence_spans(para_text, abs_strs)}\n",
    "            para_num = len(paragraphs)\n",
    "            if para_num == 0:\n",
    "                found_abs = True\n",
    "\n",
    "            if not found_abs and page['text'][0] == abs_strs:  # hotpot paragraph is the title\n",
    "                # add a extra paragraph with idx -1, only used for HotpotQA\n",
    "                paragraphs.append({\n",
    "                    \"doc_id\": doc_id,\n",
    "                    \"url\": page['url'],\n",
    "                    \"title\": title,\n",
    "                    \"title_unescaped\": unescape(title),\n",
    "                    \"para_id\": f\"{doc_id}_-1\",\n",
    "                    \"para_idx\": -1,\n",
    "                    \"para_num\": -1,\n",
    "                    \"text\": title,\n",
    "                    \"hyperlinks\": {},\n",
    "                    \"for_hotpot\": True\n",
    "                })\n",
    "                # To map the sentences of HotpotQA\n",
    "                hotpot_map[doc_id] = {\"para_idx\": -1, \"sentence_spans\": find_sentence_spans(title, abs_strs)}\n",
    "                found_abs = True\n",
    "            # Make sure find the abstract paragraph of HotpotQA for support fact prediction\n",
    "            if not found_abs:\n",
    "                # Treat the first paragraph as the abstract\n",
    "                print(f\"Can't find the abstract of {doc_id}: 『{''.join(abs_strs)}』\")\n",
    "                # [find_closest_substr(paragraphs[0]['text'], norm_text(sent))[:2] for sent in abs_strs]\n",
    "                hotpot_map[doc_id] = {\"para_idx\": 0, \"sentence_spans\": find_sentence_spans(paragraphs[0]['text'], abs_strs)}\n",
    "                found_abs = True\n",
    "\n",
    "            # Count, index and write\n",
    "            para_num_bins[para_num].append(doc_id)\n",
    "            if doc_id in hotpot_map:\n",
    "                abs_para_idx = hotpot_map[doc_id]['para_idx']\n",
    "                abs_sent_spans = hotpot_map[doc_id]['sentence_spans']\n",
    "                abs_para = paragraphs[abs_para_idx]\n",
    "                assert '\\t' not in abs_para['text'] and '\\t' not in abs_para['title']\n",
    "                hotpot_out.write(f\"{abs_para['para_id']}\\t{abs_para['text']}\\t{abs_para['title']}\\t{json.dumps(abs_para['hyperlinks'])}\\t{abs_sent_spans}\\n\")\n",
    "                hotpot_out.flush()\n",
    "            for para in paragraphs:\n",
    "                link_num_bins[len(para['hyperlinks'])].append(para_id)\n",
    "                token_num_bins[len(para['text'].split())].append(para_id)\n",
    "                para['para_num'] = para_num\n",
    "                #if para['para_idx'] >= 0:  # not the title paragraph\n",
    "                wiki_out.write(f\"{para['para_id']}\\t{para['text']}\\t{para['title']}\\t{json.dumps(para['hyperlinks'])}\\n\")\n",
    "                wiki_out.flush()\n",
    "                actions.append({\n",
    "                    \"_index\": index_name,\n",
    "                    \"_id\": para['para_id'],\n",
    "                    \"_source\": para\n",
    "                })\n",
    "                if len(actions) == batch_size:\n",
    "                        act_batch(actions)\n",
    "                        total_num_para += len(actions)\n",
    "                        actions = []\n",
    "\n",
    "wiki_out.close()\n",
    "hotpot_out.close()\n",
    "\n",
    "if len(actions) > 0:\n",
    "    act_batch(actions)\n",
    "    total_num_para += len(actions)\n",
    "    actions = []\n",
    "\n",
    "print(f'Total {total_num_para} paragraphs indexed in ES')"
   ]
  },
  {
   "cell_type": "markdown",
   "metadata": {
    "heading_collapsed": "true"
   },
   "source": [
    "## Count Corpus"
   ]
  },
  {
   "cell_type": "code",
   "execution_count": 8,
   "metadata": {},
   "outputs": [
    {
     "name": "stdout",
     "output_type": "stream",
     "text": [
      "#document: 5,457,134 + 17,057\n"
     ]
    },
    {
     "data": {
      "image/png": "[encoded data removed]",
      "text/plain": [
       "<Figure size 432x288 with 1 Axes>"
      ]
     },
     "metadata": {
      "needs_background": "light"
     },
     "output_type": "display_data"
    },
    {
     "name": "stdout",
     "output_type": "stream",
     "text": [
      "Max 350: 35797415\n",
      "Avg 3.320143320651463\n"
     ]
    },
    {
     "data": {
      "image/png": "[encoded data removed]",
      "text/plain": [
       "<Figure size 432x288 with 1 Axes>"
      ]
     },
     "metadata": {
      "needs_background": "light"
     },
     "output_type": "display_data"
    }
   ],
   "source": [
    "%matplotlib inline\n",
    "import matplotlib.pyplot as plt\n",
    "\n",
    "doc_num = sum(map(len, para_num_bins.values())) - len(para_num_bins[0])\n",
    "print(f\"#document: {doc_num:,d} + {len(para_num_bins[0]):,d}\")  # 5,457,131 + 17,060\n",
    "\n",
    "x = range(max(para_num_bins.keys()) + 1)\n",
    "y = [len(para_num_bins[k]) if k in para_num_bins else 0 for k in x]\n",
    "plt.title('#paragraph per document')\n",
    "plt.yscale('log')\n",
    "plt.bar(x, y)\n",
    "# for a, b in zip(x, y):\n",
    "#     plt.text(a, b + 0.05, '%d' % b if b > 0 else '', ha='center', va='bottom',fontsize=7)\n",
    "plt.show()\n",
    "print(f\"Max {x[-1]}: {', '.join(para_num_bins[x[-1]])}\")  # 35797415\n",
    "print(f\"Avg {sum(k * len(v) for k, v in para_num_bins.items()) / doc_num}\")  # 3.32014422963275\n",
    "# print(f\"#0-paragraph: {len(para_num_bins[0])}\")\n",
    "\n",
    "x1 = x[:20]\n",
    "y1 = y[:20]\n",
    "plt.title('#paragraph per document')\n",
    "# plt.yscale('log')\n",
    "plt.bar(x1, y1)\n",
    "for a, b in zip(x1, y1):\n",
    "    plt.text(a, b + 0.05, '%d' % b if b > 0 else '', ha='center', va='bottom',fontsize=7)\n",
    "plt.show()"
   ]
  },
  {
   "cell_type": "code",
   "execution_count": 9,
   "metadata": {},
   "outputs": [
    {
     "name": "stdout",
     "output_type": "stream",
     "text": [
      "#paragraph: 18,231,343\n"
     ]
    },
    {
     "data": {
      "image/png": "[encoded data removed]",
      "text/plain": [
       "<Figure size 432x288 with 1 Axes>"
      ]
     },
     "metadata": {
      "needs_background": "light"
     },
     "output_type": "display_data"
    },
    {
     "name": "stdout",
     "output_type": "stream",
     "text": [
      "Max 5832: 13931641_0\n",
      "Avg 4.94174565197967\n",
      "#0-hyperlink: 2,436,087 (13.36%)\n"
     ]
    },
    {
     "data": {
      "image/png": "[encoded data removed]",
      "text/plain": [
       "<Figure size 432x288 with 1 Axes>"
      ]
     },
     "metadata": {
      "needs_background": "light"
     },
     "output_type": "display_data"
    }
   ],
   "source": [
    "total_para_num = sum(map(len, link_num_bins.values()))\n",
    "assert total_para_num == es.count(index=index_name, body={\"query\": {\"match_all\": {}}})['count']\n",
    "print(f\"#paragraph: {total_para_num:,d}\")  # 18,231,338\n",
    "\n",
    "x = range(max(link_num_bins.keys()) + 1)\n",
    "y = [len(link_num_bins[k]) if k in link_num_bins else 0 for k in x]\n",
    "plt.title('#hyperlink per paragraph')\n",
    "plt.yscale('log')\n",
    "plt.bar(x, y)\n",
    "# for a, b in zip(x, y):\n",
    "#     plt.text(a, b + 0.05, '%d' % b if b > 0 else '', ha='center', va='bottom',fontsize=7)\n",
    "plt.show()\n",
    "print(f\"Max {x[-1]}: {', '.join(link_num_bins[x[-1]])}\")  # 13931641_0\n",
    "print(f\"Avg {sum(k * len(v) for k, v in link_num_bins.items()) / total_para_num}\")  # 4.941746129658723\n",
    "print(f\"#0-hyperlink: {len(link_num_bins[0]):,d} ({len(link_num_bins[0]) / total_para_num:.2%})\")  # 2,436,087 (13.36%)\n",
    "\n",
    "x1 = x[:20]\n",
    "y1 = y[:20]\n",
    "plt.title('#hyperlink per paragraph')\n",
    "# plt.yscale('log')\n",
    "plt.bar(x1, y1)\n",
    "for a, b in zip(x1, y1):\n",
    "    plt.text(a, b + 0.05, '%d' % b if b > 0 else '', ha='center', va='bottom',fontsize=7)\n",
    "plt.show()"
   ]
  },
  {
   "cell_type": "code",
   "execution_count": 10,
   "metadata": {},
   "outputs": [
    {
     "name": "stdout",
     "output_type": "stream",
     "text": [
      "# >=500: 699 (0.003834%)\n"
     ]
    },
    {
     "data": {
      "image/png": "[encoded data removed]",
      "text/plain": [
       "<Figure size 432x288 with 1 Axes>"
      ]
     },
     "metadata": {
      "needs_background": "light"
     },
     "output_type": "display_data"
    },
    {
     "name": "stdout",
     "output_type": "stream",
     "text": [
      "Max 12801: 13931641_0\n",
      "Avg 105.61552700752765\n"
     ]
    },
    {
     "data": {
      "image/png": "[encoded data removed]",
      "text/plain": [
       "<Figure size 432x288 with 1 Axes>"
      ]
     },
     "metadata": {
      "needs_background": "light"
     },
     "output_type": "display_data"
    }
   ],
   "source": [
    "token_nums = []\n",
    "num_500 = 0\n",
    "for k, v in token_num_bins.items():\n",
    "    if k >= 500:\n",
    "        num_500 += 1\n",
    "    else:\n",
    "        token_nums.extend([k] * len(v))\n",
    "print(f\"# >=500: {num_500:,d} ({num_500 / total_para_num:.6%})\")  # 708 (0.003883%)\n",
    "\n",
    "plt.title('#token per paragraph')\n",
    "counts, bins, patch = plt.hist(token_nums, bins=20, log=True)\n",
    "width = bins[1] - bins[0]\n",
    "for a, b in zip(bins, counts):\n",
    "    plt.text(a + width / 2, b + 0.05, '%.0f' % b if b > 0 else '', ha='center', va='bottom',fontsize=7)\n",
    "plt.show()\n",
    "print(f\"Max {max(token_num_bins.keys())}: {', '.join(token_num_bins[max(token_num_bins.keys())])}\")  # 12837: 13931641_0\n",
    "print(f\"Avg {sum(k * len(v) for k, v in token_num_bins.items()) / total_para_num}\")  # 108.52766236904829\n",
    "\n",
    "plt.title('CDF of #token per paragraph')\n",
    "plt.hist(token_nums, bins=50, cumulative=True, density=True, histtype='step')\n",
    "plt.show()"
   ]
  }
 ],
 "metadata": {
  "kernelspec": {
   "display_name": "Python 3",
   "language": "python",
   "name": "python3"
  },
  "language_info": {
   "codemirror_mode": {
    "name": "ipython",
    "version": 3
   },
   "file_extension": ".py",
   "mimetype": "text/x-python",
   "name": "python",
   "nbconvert_exporter": "python",
   "pygments_lexer": "ipython3",
   "version": "3.6.12"
  },
  "toc": {
   "base_numbering": 1,
   "nav_menu": {},
   "number_sections": true,
   "sideBar": true,
   "skip_h1_title": false,
   "title_cell": "Table of Contents",
   "title_sidebar": "Contents",
   "toc_cell": false,
   "toc_position": {
    "height": "calc(100% - 180px)",
    "left": "10px",
    "top": "150px",
    "width": "217.594px"
   },
   "toc_section_display": true,
   "toc_window_display": true
  },
  "toc-autonumbering": false,
  "toc-showmarkdowntxt": false,
  "varInspector": {
   "cols": {
    "lenName": 16,
    "lenType": 16,
    "lenVar": 40
   },
   "kernels_config": {
    "python": {
     "delete_cmd_postfix": "",
     "delete_cmd_prefix": "del ",
     "library": "var_list.py",
     "varRefreshCmd": "print(var_dic_list())"
    },
    "r": {
     "delete_cmd_postfix": ") ",
     "delete_cmd_prefix": "rm(",
     "library": "var_list.r",
     "varRefreshCmd": "cat(var_dic_list()) "
    }
   },
   "types_to_exclude": [
    "module",
    "function",
    "builtin_function_or_method",
    "instance",
    "_Feature"
   ],
   "window_display": false
  },
  "widgets": {
   "application/vnd.jupyter.widget-state+json": {
    "state": {
     "04272e0914744f57add53aea93e379f0": {
      "model_module": "@jupyter-widgets/base",
      "model_module_version": "1.2.0",
      "model_name": "LayoutModel",
      "state": {}
     },
     "0684110329e8493c9d3938cd70b97d86": {
      "model_module": "@jupyter-widgets/controls",
      "model_module_version": "1.5.0",
      "model_name": "HBoxModel",
      "state": {
       "children": [
        "IPY_MODEL_788ca098fe7740dfa035b5fdafac8cee",
        "IPY_MODEL_dd2ebf95e8ed4e2393bd6ccc475b3c85"
       ],
       "layout": "IPY_MODEL_90fef5c9b2ce481abf3ebe40ecd68e00"
      }
     },
     "11c41a2cd4dd4ccbb6718801ac7fce82": {
      "model_module": "@jupyter-widgets/base",
      "model_module_version": "1.2.0",
      "model_name": "LayoutModel",
      "state": {}
     },
     "259df48e76a842bcba41836b11741f08": {
      "model_module": "@jupyter-widgets/controls",
      "model_module_version": "1.5.0",
      "model_name": "ProgressStyleModel",
      "state": {
       "description_width": "initial"
      }
     },
     "35b7318c1e5d42afa0945b98936c5a6a": {
      "model_module": "@jupyter-widgets/base",
      "model_module_version": "1.2.0",
      "model_name": "LayoutModel",
      "state": {}
     },
     "38ee2fbfdc3d40bab84d80ef51cda09a": {
      "model_module": "@jupyter-widgets/base",
      "model_module_version": "1.2.0",
      "model_name": "LayoutModel",
      "state": {}
     },
     "4b543ccce4504b7a9ca4d847d010c667": {
      "model_module": "@jupyter-widgets/controls",
      "model_module_version": "1.5.0",
      "model_name": "HBoxModel",
      "state": {
       "children": [
        "IPY_MODEL_a9dc336244064b899caac4ebae0e3273",
        "IPY_MODEL_ff8fb3c08ba94579887a7a205351df2f"
       ],
       "layout": "IPY_MODEL_93f538e849d24513ba8a96fe1ca520a7"
      }
     },
     "6c4979997c1749de9e278c341f3c274c": {
      "model_module": "@jupyter-widgets/controls",
      "model_module_version": "1.5.0",
      "model_name": "ProgressStyleModel",
      "state": {
       "description_width": "initial"
      }
     },
     "788ca098fe7740dfa035b5fdafac8cee": {
      "model_module": "@jupyter-widgets/controls",
      "model_module_version": "1.5.0",
      "model_name": "FloatProgressModel",
      "state": {
       "bar_style": "danger",
       "description": "  0%",
       "layout": "IPY_MODEL_38ee2fbfdc3d40bab84d80ef51cda09a",
       "max": 15517,
       "style": "IPY_MODEL_f6ac45199c3a419bbb77ca9957afa878"
      }
     },
     "7b1389d5d0cb4f00b402a21c318ae6f6": {
      "model_module": "@jupyter-widgets/controls",
      "model_module_version": "1.5.0",
      "model_name": "ProgressStyleModel",
      "state": {
       "description_width": "initial"
      }
     },
     "7de3171aeee54273ba7fdc28001ff802": {
      "model_module": "@jupyter-widgets/base",
      "model_module_version": "1.2.0",
      "model_name": "LayoutModel",
      "state": {}
     },
     "7fde2e94571c40fe840a7f4895730588": {
      "model_module": "@jupyter-widgets/controls",
      "model_module_version": "1.5.0",
      "model_name": "DescriptionStyleModel",
      "state": {
       "description_width": ""
      }
     },
     "879cde283df24998ab97a04b9988d1ed": {
      "model_module": "@jupyter-widgets/controls",
      "model_module_version": "1.5.0",
      "model_name": "HTMLModel",
      "state": {
       "layout": "IPY_MODEL_f632405a3c084b099224f3ebb9752b32",
       "style": "IPY_MODEL_dbbd8c1d65fd4c17a25e0d423d5d8d24",
       "value": " 15517/15517 [20:41&lt;00:00, 12.50it/s]"
      }
     },
     "8c242914311c40048011490ba311822b": {
      "model_module": "@jupyter-widgets/base",
      "model_module_version": "1.2.0",
      "model_name": "LayoutModel",
      "state": {}
     },
     "90fef5c9b2ce481abf3ebe40ecd68e00": {
      "model_module": "@jupyter-widgets/base",
      "model_module_version": "1.2.0",
      "model_name": "LayoutModel",
      "state": {}
     },
     "93f538e849d24513ba8a96fe1ca520a7": {
      "model_module": "@jupyter-widgets/base",
      "model_module_version": "1.2.0",
      "model_name": "LayoutModel",
      "state": {}
     },
     "9a7a250a96064fb2a294aa0c10c27bb7": {
      "model_module": "@jupyter-widgets/controls",
      "model_module_version": "1.5.0",
      "model_name": "HTMLModel",
      "state": {
       "layout": "IPY_MODEL_11c41a2cd4dd4ccbb6718801ac7fce82",
       "style": "IPY_MODEL_abc2490444aa4e2cb1cb74d13b54646a",
       "value": " 15517/15517 [15:35:53&lt;00:00,  3.62s/it]"
      }
     },
     "a14126adec524466a03dde4d26eec945": {
      "model_module": "@jupyter-widgets/controls",
      "model_module_version": "1.5.0",
      "model_name": "HBoxModel",
      "state": {
       "children": [
        "IPY_MODEL_f8966dc48021402cb8575fb22fe224ae",
        "IPY_MODEL_879cde283df24998ab97a04b9988d1ed"
       ],
       "layout": "IPY_MODEL_35b7318c1e5d42afa0945b98936c5a6a"
      }
     },
     "a9dc336244064b899caac4ebae0e3273": {
      "model_module": "@jupyter-widgets/controls",
      "model_module_version": "1.5.0",
      "model_name": "FloatProgressModel",
      "state": {
       "bar_style": "success",
       "description": "100%",
       "layout": "IPY_MODEL_fed255d73bd345379718861e5d67ed4a",
       "max": 15517,
       "style": "IPY_MODEL_7b1389d5d0cb4f00b402a21c318ae6f6",
       "value": 15517
      }
     },
     "abc2490444aa4e2cb1cb74d13b54646a": {
      "model_module": "@jupyter-widgets/controls",
      "model_module_version": "1.5.0",
      "model_name": "DescriptionStyleModel",
      "state": {
       "description_width": ""
      }
     },
     "c46f1d6c5f7c403cb40419ca37339ade": {
      "model_module": "@jupyter-widgets/base",
      "model_module_version": "1.2.0",
      "model_name": "LayoutModel",
      "state": {}
     },
     "c777c5b0274041989132b067623f5a8c": {
      "model_module": "@jupyter-widgets/controls",
      "model_module_version": "1.5.0",
      "model_name": "DescriptionStyleModel",
      "state": {
       "description_width": ""
      }
     },
     "c799dc60f9354b8eb66b296fdd210806": {
      "model_module": "@jupyter-widgets/controls",
      "model_module_version": "1.5.0",
      "model_name": "FloatProgressModel",
      "state": {
       "bar_style": "success",
       "description": "100%",
       "layout": "IPY_MODEL_04272e0914744f57add53aea93e379f0",
       "max": 15517,
       "style": "IPY_MODEL_259df48e76a842bcba41836b11741f08",
       "value": 15517
      }
     },
     "d5bb08aea49445b489b13da7213ed7d4": {
      "model_module": "@jupyter-widgets/controls",
      "model_module_version": "1.5.0",
      "model_name": "HBoxModel",
      "state": {
       "children": [
        "IPY_MODEL_c799dc60f9354b8eb66b296fdd210806",
        "IPY_MODEL_9a7a250a96064fb2a294aa0c10c27bb7"
       ],
       "layout": "IPY_MODEL_e313ff3209e94a4085899dedb9f11996"
      }
     },
     "dbbd8c1d65fd4c17a25e0d423d5d8d24": {
      "model_module": "@jupyter-widgets/controls",
      "model_module_version": "1.5.0",
      "model_name": "DescriptionStyleModel",
      "state": {
       "description_width": ""
      }
     },
     "dd2ebf95e8ed4e2393bd6ccc475b3c85": {
      "model_module": "@jupyter-widgets/controls",
      "model_module_version": "1.5.0",
      "model_name": "HTMLModel",
      "state": {
       "layout": "IPY_MODEL_c46f1d6c5f7c403cb40419ca37339ade",
       "style": "IPY_MODEL_c777c5b0274041989132b067623f5a8c",
       "value": " 0/15517 [00:33&lt;?, ?it/s]"
      }
     },
     "e313ff3209e94a4085899dedb9f11996": {
      "model_module": "@jupyter-widgets/base",
      "model_module_version": "1.2.0",
      "model_name": "LayoutModel",
      "state": {}
     },
     "f632405a3c084b099224f3ebb9752b32": {
      "model_module": "@jupyter-widgets/base",
      "model_module_version": "1.2.0",
      "model_name": "LayoutModel",
      "state": {}
     },
     "f6ac45199c3a419bbb77ca9957afa878": {
      "model_module": "@jupyter-widgets/controls",
      "model_module_version": "1.5.0",
      "model_name": "ProgressStyleModel",
      "state": {
       "description_width": "initial"
      }
     },
     "f8966dc48021402cb8575fb22fe224ae": {
      "model_module": "@jupyter-widgets/controls",
      "model_module_version": "1.5.0",
      "model_name": "FloatProgressModel",
      "state": {
       "bar_style": "success",
       "description": "100%",
       "layout": "IPY_MODEL_8c242914311c40048011490ba311822b",
       "max": 15517,
       "style": "IPY_MODEL_6c4979997c1749de9e278c341f3c274c",
       "value": 15517
      }
     },
     "fed255d73bd345379718861e5d67ed4a": {
      "model_module": "@jupyter-widgets/base",
      "model_module_version": "1.2.0",
      "model_name": "LayoutModel",
      "state": {}
     },
     "ff8fb3c08ba94579887a7a205351df2f": {
      "model_module": "@jupyter-widgets/controls",
      "model_module_version": "1.5.0",
      "model_name": "HTMLModel",
      "state": {
       "layout": "IPY_MODEL_7de3171aeee54273ba7fdc28001ff802",
       "style": "IPY_MODEL_7fde2e94571c40fe840a7f4895730588",
       "value": " 15517/15517 [1:41:03&lt;00:00,  2.56it/s]"
      }
     }
    },
    "version_major": 2,
    "version_minor": 0
   }
  }
 },
 "nbformat": 4,
 "nbformat_minor": 4
}
