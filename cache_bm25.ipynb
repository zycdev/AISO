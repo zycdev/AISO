{
 "cells": [
  {
   "cell_type": "code",
   "execution_count": 1,
   "metadata": {},
   "outputs": [],
   "source": [
    "%load_ext autoreload\n",
    "%autoreload 2"
   ]
  },
  {
   "cell_type": "code",
   "execution_count": 2,
   "metadata": {},
   "outputs": [],
   "source": [
    "from retriever import SparseRetriever\n",
    "\n",
    "sparse_retriever = SparseRetriever('enwiki-20171001-paragraph-5', ['10.60.0.59:9200'], timeout=60)"
   ]
  },
  {
   "cell_type": "code",
   "execution_count": 3,
   "metadata": {},
   "outputs": [],
   "source": [
    "import redis\n",
    "\n",
    "redis_client = redis.Redis(host='10.60.1.79', port=6379, db=3, password='redis4zyc', decode_responses=True)"
   ]
  },
  {
   "cell_type": "code",
   "execution_count": 7,
   "metadata": {},
   "outputs": [
    {
     "data": {
      "application/vnd.jupyter.widget-view+json": {
       "model_id": "e65730f500604e2aab69d4aeea7fdbe3",
       "version_major": 2,
       "version_minor": 0
      },
      "text/plain": [
       "HBox(children=(FloatProgress(value=0.0, max=90447.0), HTML(value='')))"
      ]
     },
     "metadata": {},
     "output_type": "display_data"
    },
    {
     "name": "stdout",
     "output_type": "stream",
     "text": [
      "\n"
     ]
    },
    {
     "data": {
      "application/vnd.jupyter.widget-view+json": {
       "model_id": "2a1d8cc13ad84a948e62b71d37d9d152",
       "version_major": 2,
       "version_minor": 0
      },
      "text/plain": [
       "HBox(children=(FloatProgress(value=0.0, max=7405.0), HTML(value='')))"
      ]
     },
     "metadata": {},
     "output_type": "display_data"
    },
    {
     "name": "stdout",
     "output_type": "stream",
     "text": [
      "\n"
     ]
    },
    {
     "data": {
      "application/vnd.jupyter.widget-view+json": {
       "model_id": "ed9865b5ae584e1a9358401c9ad7c58e",
       "version_major": 2,
       "version_minor": 0
      },
      "text/plain": [
       "HBox(children=(FloatProgress(value=0.0, max=7405.0), HTML(value='')))"
      ]
     },
     "metadata": {},
     "output_type": "display_data"
    },
    {
     "name": "stdout",
     "output_type": "stream",
     "text": [
      "\n"
     ]
    }
   ],
   "source": [
    "from tqdm.auto import tqdm\n",
    "from utils.data_utils import load_samples\n",
    "\n",
    "RET_SIZE = 1000\n",
    "hotpot_filter = {\"term\": {\"for_hotpot\": True}}\n",
    "\n",
    "def batch_search(batch_q):\n",
    "    batch_hits = [[hit['_id'] for hit in hits]\n",
    "                  for hits in sparse_retriever.msearch(batch_q, RET_SIZE, filter_dic=hotpot_filter, n_retrieval=RET_SIZE * 2)]\n",
    "    for query, hits in zip(batch_q, batch_hits):\n",
    "        redis_client.delete(query)\n",
    "        assert isinstance(hits, list), hits\n",
    "        if len(hits) < RET_SIZE:\n",
    "            redis_client.rpush(query, *(hits + ['EOL']))\n",
    "        else:\n",
    "            redis_client.rpush(query, *hits)\n",
    "\n",
    "batch_size = 24\n",
    "batch = []\n",
    "for split in ['train', 'dev', 'test']:\n",
    "    data_file = f'data/hotpot-{split}.tsv'\n",
    "    for q_idx, (q_id, qas) in enumerate(tqdm(load_samples(data_file))):\n",
    "        question = qas[0]\n",
    "        if not redis_client.exists(question) or (redis_client.llen(question) < RET_SIZE and redis_client.lindex(question, -1) != 'EOL'):\n",
    "            batch.append(question)\n",
    "        if len(batch) == batch_size:\n",
    "            batch_search(batch)\n",
    "            batch = []\n",
    "if len(batch) > 0:\n",
    "    batch_search(batch)\n",
    "    batch = []"
   ]
  },
  {
   "cell_type": "raw",
   "metadata": {},
   "source": [
    "from tqdm.auto import tqdm\n",
    "from utils.data_utils import load_samples\n",
    "from utils.utils import chunk\n",
    "\n",
    "RET_SIZE = 1000\n",
    "batch_size = 24\n",
    "hotpot_filter = {\"term\": {\"for_hotpot\": True}}\n",
    "for split in ['test', 'dev', 'train']:\n",
    "    data_file = f'data/hotpot-{split}.tsv'\n",
    "    questions = [qas[0] for q_id, qas in load_samples(data_file)]\n",
    "    total = 0\n",
    "    for batch_q in tqdm(chunk(questions, batch_size), total=(len(questions) + 23) // batch_size):\n",
    "        batch_hits = [[hit['_id'] for hit in hits]\n",
    "                      for hits in sparse_retriever.msearch(batch_q, RET_SIZE, filter_dic=hotpot_filter, n_retrieval=RET_SIZE * 2)]\n",
    "        total += len(batch_q)\n",
    "        for question, hits in zip(batch_q, batch_hits):\n",
    "            # if redis_client.exists(question):\n",
    "            #     redis_client.delete(question)\n",
    "            if redis_client.llen(question) < RET_SIZE:\n",
    "                redis_client.delete(question)\n",
    "                redis_client.rpush(question, *hits)\n",
    "            # else:\n",
    "            #     print(redis_client.llen(question))\n",
    "            #     hits = redis_client.lrange(question, 0, -1)\n",
    "    assert total == len(questions)\n",
    "    # for q_idx, (q_id, qas) in enumerate(tqdm(load_samples(data_file))):\n",
    "    #     question = qas[0]\n",
    "    #     if redis_client.llen(question) < RET_SIZE:\n",
    "    #         hits = [hit['_id'] for hit in \n",
    "    #                 sparse_retriever.search(question, RET_SIZE, filter_dic=hotpot_filter, n_retrieval=RET_SIZE * 2)]\n",
    "    #         redis_client.rpush(question, *hits)\n",
    "    #     else:\n",
    "    #         print(redis_client.llen(question))\n",
    "    #         hits = redis_client.lrange(question, 0, -1)"
   ]
  }
 ],
 "metadata": {
  "kernelspec": {
   "display_name": "Python 3",
   "language": "python",
   "name": "python3"
  },
  "language_info": {
   "codemirror_mode": {
    "name": "ipython",
    "version": 3
   },
   "file_extension": ".py",
   "mimetype": "text/x-python",
   "name": "python",
   "nbconvert_exporter": "python",
   "pygments_lexer": "ipython3",
   "version": "3.6.12"
  },
  "toc": {
   "base_numbering": 1,
   "nav_menu": {},
   "number_sections": true,
   "sideBar": true,
   "skip_h1_title": false,
   "title_cell": "Table of Contents",
   "title_sidebar": "Contents",
   "toc_cell": false,
   "toc_position": {},
   "toc_section_display": true,
   "toc_window_display": false
  },
  "widgets": {
   "application/vnd.jupyter.widget-state+json": {
    "state": {
     "081596ba200a48e7ae1a1678d8c0d121": {
      "model_module": "@jupyter-widgets/base",
      "model_module_version": "1.2.0",
      "model_name": "LayoutModel",
      "state": {}
     },
     "0a52cbc5c9a84c07b80ee32f6a65f3b8": {
      "model_module": "@jupyter-widgets/base",
      "model_module_version": "1.2.0",
      "model_name": "LayoutModel",
      "state": {}
     },
     "0cf91ae41873450aa1d4fd959e6b14d0": {
      "model_module": "@jupyter-widgets/controls",
      "model_module_version": "1.5.0",
      "model_name": "DescriptionStyleModel",
      "state": {
       "description_width": ""
      }
     },
     "0e6068a4d9124a8fb6e48e04fcc6b8fc": {
      "model_module": "@jupyter-widgets/base",
      "model_module_version": "1.2.0",
      "model_name": "LayoutModel",
      "state": {}
     },
     "10fd3d6ec4ca4ba0b4e655bd5a8f4040": {
      "model_module": "@jupyter-widgets/base",
      "model_module_version": "1.2.0",
      "model_name": "LayoutModel",
      "state": {}
     },
     "1714e7eb3c604d7db9108e7439dabd89": {
      "model_module": "@jupyter-widgets/base",
      "model_module_version": "1.2.0",
      "model_name": "LayoutModel",
      "state": {}
     },
     "19c9dc3c3e064c489c49fd66af49dcb0": {
      "model_module": "@jupyter-widgets/controls",
      "model_module_version": "1.5.0",
      "model_name": "ProgressStyleModel",
      "state": {
       "description_width": "initial"
      }
     },
     "2365583797814f56a5d87046ae19b6b0": {
      "model_module": "@jupyter-widgets/base",
      "model_module_version": "1.2.0",
      "model_name": "LayoutModel",
      "state": {}
     },
     "2a1d8cc13ad84a948e62b71d37d9d152": {
      "model_module": "@jupyter-widgets/controls",
      "model_module_version": "1.5.0",
      "model_name": "HBoxModel",
      "state": {
       "children": [
        "IPY_MODEL_4d2bbdd56c8945abba47d0836fb93d42",
        "IPY_MODEL_c33da03dcfa949b28fff7b16435d66d0"
       ],
       "layout": "IPY_MODEL_a4c94ae0ccfb46bd9641dca0402f3cb7"
      }
     },
     "3242fc23a19b44b6bdfee89c879b92a7": {
      "model_module": "@jupyter-widgets/controls",
      "model_module_version": "1.5.0",
      "model_name": "DescriptionStyleModel",
      "state": {
       "description_width": ""
      }
     },
     "3c867aae861f4856a85771fe424ca9f1": {
      "model_module": "@jupyter-widgets/controls",
      "model_module_version": "1.5.0",
      "model_name": "DescriptionStyleModel",
      "state": {
       "description_width": ""
      }
     },
     "46f7c233b9d841f0939cbbee9018dcc7": {
      "model_module": "@jupyter-widgets/controls",
      "model_module_version": "1.5.0",
      "model_name": "ProgressStyleModel",
      "state": {
       "description_width": "initial"
      }
     },
     "4767be6499bc497db9a205347bb459d6": {
      "model_module": "@jupyter-widgets/controls",
      "model_module_version": "1.5.0",
      "model_name": "FloatProgressModel",
      "state": {
       "bar_style": "danger",
       "description": " 19%",
       "layout": "IPY_MODEL_0e6068a4d9124a8fb6e48e04fcc6b8fc",
       "max": 90447,
       "style": "IPY_MODEL_c8db4cd1648a4e548c63bb69c50ed384",
       "value": 17183
      }
     },
     "4d2bbdd56c8945abba47d0836fb93d42": {
      "model_module": "@jupyter-widgets/controls",
      "model_module_version": "1.5.0",
      "model_name": "FloatProgressModel",
      "state": {
       "bar_style": "success",
       "description": "100%",
       "layout": "IPY_MODEL_0a52cbc5c9a84c07b80ee32f6a65f3b8",
       "max": 7405,
       "style": "IPY_MODEL_e4b1f0526a854a56b65f1da7bdbacc76",
       "value": 7405
      }
     },
     "5483743f4735456894a67d56ec4add9b": {
      "model_module": "@jupyter-widgets/base",
      "model_module_version": "1.2.0",
      "model_name": "LayoutModel",
      "state": {}
     },
     "59d5123f3c414eb490e25e0d4d5583d0": {
      "model_module": "@jupyter-widgets/controls",
      "model_module_version": "1.5.0",
      "model_name": "FloatProgressModel",
      "state": {
       "bar_style": "success",
       "description": "100%",
       "layout": "IPY_MODEL_7d401f5c251c424386f2bba1e04f889d",
       "max": 90447,
       "style": "IPY_MODEL_19c9dc3c3e064c489c49fd66af49dcb0",
       "value": 90447
      }
     },
     "5e1d3abdd9784cfca9aa76806f3fd10e": {
      "model_module": "@jupyter-widgets/controls",
      "model_module_version": "1.5.0",
      "model_name": "DescriptionStyleModel",
      "state": {
       "description_width": ""
      }
     },
     "608a2980aa5c4350b70684e5ddc26074": {
      "model_module": "@jupyter-widgets/base",
      "model_module_version": "1.2.0",
      "model_name": "LayoutModel",
      "state": {}
     },
     "650e11b6fe1b41aebb212f54af195da8": {
      "model_module": "@jupyter-widgets/controls",
      "model_module_version": "1.5.0",
      "model_name": "DescriptionStyleModel",
      "state": {
       "description_width": ""
      }
     },
     "7b55a401f7624713962b6ba942333391": {
      "model_module": "@jupyter-widgets/controls",
      "model_module_version": "1.5.0",
      "model_name": "HBoxModel",
      "state": {
       "children": [
        "IPY_MODEL_dc869d3eed754ed987555ff72d9b14cd",
        "IPY_MODEL_996630e1169347d18634eb7144e5ee39"
       ],
       "layout": "IPY_MODEL_7ef1fde34c4f468697a47d8367e1bc1b"
      }
     },
     "7d401f5c251c424386f2bba1e04f889d": {
      "model_module": "@jupyter-widgets/base",
      "model_module_version": "1.2.0",
      "model_name": "LayoutModel",
      "state": {}
     },
     "7ef1fde34c4f468697a47d8367e1bc1b": {
      "model_module": "@jupyter-widgets/base",
      "model_module_version": "1.2.0",
      "model_name": "LayoutModel",
      "state": {}
     },
     "8ffcea5d50874b3fbc14b72d609b7d99": {
      "model_module": "@jupyter-widgets/controls",
      "model_module_version": "1.5.0",
      "model_name": "HBoxModel",
      "state": {
       "children": [
        "IPY_MODEL_e6e327af5b4743aeaae9e0325a11edc3",
        "IPY_MODEL_b0ffa76f005543e7aa0691249998311f"
       ],
       "layout": "IPY_MODEL_d21faa821a0d4f8cb113bef1b775bd44"
      }
     },
     "96a1ce1668124803acdb249256aacc0b": {
      "model_module": "@jupyter-widgets/base",
      "model_module_version": "1.2.0",
      "model_name": "LayoutModel",
      "state": {}
     },
     "9729c828a1c04f5d8c60dff44ba43dd2": {
      "model_module": "@jupyter-widgets/controls",
      "model_module_version": "1.5.0",
      "model_name": "HTMLModel",
      "state": {
       "layout": "IPY_MODEL_f0f23d362c1c43b9b401fc1f43c0fc8c",
       "style": "IPY_MODEL_e711eee82c154c6489438c8066dfe350",
       "value": " 7405/7405 [48:33&lt;00:00,  2.54it/s]"
      }
     },
     "9844e2435b7148a19bfafbb812ec3500": {
      "model_module": "@jupyter-widgets/controls",
      "model_module_version": "1.5.0",
      "model_name": "FloatProgressModel",
      "state": {
       "bar_style": "success",
       "description": "100%",
       "layout": "IPY_MODEL_608a2980aa5c4350b70684e5ddc26074",
       "max": 7405,
       "style": "IPY_MODEL_b104c56c8c904c89bc5b39778053f222",
       "value": 7405
      }
     },
     "996630e1169347d18634eb7144e5ee39": {
      "model_module": "@jupyter-widgets/controls",
      "model_module_version": "1.5.0",
      "model_name": "HTMLModel",
      "state": {
       "layout": "IPY_MODEL_ab1509f535b4426e9d5ef9b0e5716d4a",
       "style": "IPY_MODEL_3242fc23a19b44b6bdfee89c879b92a7",
       "value": " 95/7405 [04:29&lt;5:45:56,  2.84s/it]"
      }
     },
     "a4c94ae0ccfb46bd9641dca0402f3cb7": {
      "model_module": "@jupyter-widgets/base",
      "model_module_version": "1.2.0",
      "model_name": "LayoutModel",
      "state": {}
     },
     "ab1509f535b4426e9d5ef9b0e5716d4a": {
      "model_module": "@jupyter-widgets/base",
      "model_module_version": "1.2.0",
      "model_name": "LayoutModel",
      "state": {}
     },
     "b0ffa76f005543e7aa0691249998311f": {
      "model_module": "@jupyter-widgets/controls",
      "model_module_version": "1.5.0",
      "model_name": "HTMLModel",
      "state": {
       "layout": "IPY_MODEL_081596ba200a48e7ae1a1678d8c0d121",
       "style": "IPY_MODEL_0cf91ae41873450aa1d4fd959e6b14d0",
       "value": " 23/7405 [01:00&lt;5:21:13,  2.61s/it]"
      }
     },
     "b104c56c8c904c89bc5b39778053f222": {
      "model_module": "@jupyter-widgets/controls",
      "model_module_version": "1.5.0",
      "model_name": "ProgressStyleModel",
      "state": {
       "description_width": "initial"
      }
     },
     "b66da320265348b089bf4e21225d715a": {
      "model_module": "@jupyter-widgets/base",
      "model_module_version": "1.2.0",
      "model_name": "LayoutModel",
      "state": {}
     },
     "c33da03dcfa949b28fff7b16435d66d0": {
      "model_module": "@jupyter-widgets/controls",
      "model_module_version": "1.5.0",
      "model_name": "HTMLModel",
      "state": {
       "layout": "IPY_MODEL_10fd3d6ec4ca4ba0b4e655bd5a8f4040",
       "style": "IPY_MODEL_3c867aae861f4856a85771fe424ca9f1",
       "value": " 7405/7405 [48:52&lt;00:00,  2.52it/s]"
      }
     },
     "c744beebdd77495393cf1a469ba6daea": {
      "model_module": "@jupyter-widgets/base",
      "model_module_version": "1.2.0",
      "model_name": "LayoutModel",
      "state": {}
     },
     "c8db4cd1648a4e548c63bb69c50ed384": {
      "model_module": "@jupyter-widgets/controls",
      "model_module_version": "1.5.0",
      "model_name": "ProgressStyleModel",
      "state": {
       "description_width": "initial"
      }
     },
     "ce08fd6ebeb94ed4800d02362b6879f0": {
      "model_module": "@jupyter-widgets/base",
      "model_module_version": "1.2.0",
      "model_name": "LayoutModel",
      "state": {}
     },
     "d0a4801cffb14c7087faebf603a224b2": {
      "model_module": "@jupyter-widgets/controls",
      "model_module_version": "1.5.0",
      "model_name": "HTMLModel",
      "state": {
       "layout": "IPY_MODEL_c744beebdd77495393cf1a469ba6daea",
       "style": "IPY_MODEL_650e11b6fe1b41aebb212f54af195da8",
       "value": " 17183/90447 [4:46:37&lt;20:22:06,  1.00s/it]"
      }
     },
     "d21faa821a0d4f8cb113bef1b775bd44": {
      "model_module": "@jupyter-widgets/base",
      "model_module_version": "1.2.0",
      "model_name": "LayoutModel",
      "state": {}
     },
     "d2563ae6f1734193b3ddd2e75f9f587e": {
      "model_module": "@jupyter-widgets/controls",
      "model_module_version": "1.5.0",
      "model_name": "HTMLModel",
      "state": {
       "layout": "IPY_MODEL_5483743f4735456894a67d56ec4add9b",
       "style": "IPY_MODEL_5e1d3abdd9784cfca9aa76806f3fd10e",
       "value": " 90447/90447 [9:27:02&lt;00:00,  2.66it/s]"
      }
     },
     "d839bab1fd0d4558a0a55496f8492457": {
      "model_module": "@jupyter-widgets/controls",
      "model_module_version": "1.5.0",
      "model_name": "ProgressStyleModel",
      "state": {
       "description_width": "initial"
      }
     },
     "dc869d3eed754ed987555ff72d9b14cd": {
      "model_module": "@jupyter-widgets/controls",
      "model_module_version": "1.5.0",
      "model_name": "FloatProgressModel",
      "state": {
       "bar_style": "danger",
       "description": "  1%",
       "layout": "IPY_MODEL_2365583797814f56a5d87046ae19b6b0",
       "max": 7405,
       "style": "IPY_MODEL_d839bab1fd0d4558a0a55496f8492457",
       "value": 95
      }
     },
     "e4b1f0526a854a56b65f1da7bdbacc76": {
      "model_module": "@jupyter-widgets/controls",
      "model_module_version": "1.5.0",
      "model_name": "ProgressStyleModel",
      "state": {
       "description_width": "initial"
      }
     },
     "e65730f500604e2aab69d4aeea7fdbe3": {
      "model_module": "@jupyter-widgets/controls",
      "model_module_version": "1.5.0",
      "model_name": "HBoxModel",
      "state": {
       "children": [
        "IPY_MODEL_59d5123f3c414eb490e25e0d4d5583d0",
        "IPY_MODEL_d2563ae6f1734193b3ddd2e75f9f587e"
       ],
       "layout": "IPY_MODEL_96a1ce1668124803acdb249256aacc0b"
      }
     },
     "e6e327af5b4743aeaae9e0325a11edc3": {
      "model_module": "@jupyter-widgets/controls",
      "model_module_version": "1.5.0",
      "model_name": "FloatProgressModel",
      "state": {
       "bar_style": "danger",
       "description": "  0%",
       "layout": "IPY_MODEL_b66da320265348b089bf4e21225d715a",
       "max": 7405,
       "style": "IPY_MODEL_46f7c233b9d841f0939cbbee9018dcc7",
       "value": 23
      }
     },
     "e711eee82c154c6489438c8066dfe350": {
      "model_module": "@jupyter-widgets/controls",
      "model_module_version": "1.5.0",
      "model_name": "DescriptionStyleModel",
      "state": {
       "description_width": ""
      }
     },
     "ed9865b5ae584e1a9358401c9ad7c58e": {
      "model_module": "@jupyter-widgets/controls",
      "model_module_version": "1.5.0",
      "model_name": "HBoxModel",
      "state": {
       "children": [
        "IPY_MODEL_9844e2435b7148a19bfafbb812ec3500",
        "IPY_MODEL_9729c828a1c04f5d8c60dff44ba43dd2"
       ],
       "layout": "IPY_MODEL_1714e7eb3c604d7db9108e7439dabd89"
      }
     },
     "f0f23d362c1c43b9b401fc1f43c0fc8c": {
      "model_module": "@jupyter-widgets/base",
      "model_module_version": "1.2.0",
      "model_name": "LayoutModel",
      "state": {}
     },
     "f644892e12cd459ebcf22f56a9f8fc27": {
      "model_module": "@jupyter-widgets/controls",
      "model_module_version": "1.5.0",
      "model_name": "HBoxModel",
      "state": {
       "children": [
        "IPY_MODEL_4767be6499bc497db9a205347bb459d6",
        "IPY_MODEL_d0a4801cffb14c7087faebf603a224b2"
       ],
       "layout": "IPY_MODEL_ce08fd6ebeb94ed4800d02362b6879f0"
      }
     }
    },
    "version_major": 2,
    "version_minor": 0
   }
  }
 },
 "nbformat": 4,
 "nbformat_minor": 4
}
